{
 "cells": [
  {
   "cell_type": "markdown",
   "metadata": {},
   "source": [
    "<div style=\"border:solid Chocolate 2px; padding: 40px\">\n",
    "\n",
    "<b>Привет!👋</b>\n",
    "\n",
    "Меня зовут Огурлиев Анзор, я буду ревьюером твоего проекта. Сразу хочу предложить тебе общаться на \"ты\", если тебе это неудобно, скажи мне об этом. Нам предстоит пройти с тобой через тернистый и от того интересный путь анализа данных! Можешь не переживать, я всегда помогу тебе, если у тебя возникнут вопросы)\n",
    "\n",
    "По ходу твоей работы я буду оставлять свои комментарии, по выполненным тобой шагам. Попрошу тебя не удалять их, так мне будет проще отслеживать твой прогресс в случае повторной проверки.\n",
    "\n",
    "Очень важно вести диалог и обсуждать те пункты, которые у тебя могли не получиться, поэтому, ты можешь оставлять свои комментарии, и мы обязательно во всем разберемся! Самое главное - выделяй свои комментарии удобным для тебя способом (цвет, рамка), но так, чтобы они отчетлитво отличались от моих комментариев. Так мы ни в чем не запутаемся)\n",
    "\n",
    "Свои комментарии я буду выделять так: <font color='green'>зеленый</font>, <font color='gold'>желтый</font> и <font color='red'>красный</font> цвет, например:\n",
    "\n",
    "<br/>\n",
    "\n",
    "<div class=\"alert alert-success\">\n",
    "<h2> Комментарий ревьюера V1<a class=\"tocSkip\"> </h2>\n",
    "\n",
    "<b>Все отлично!👍:</b> Этот комментарий я буду оставлять, если твое решение оптимально для данного шага.\n",
    "</div>\n",
    "\n",
    "<br/>\n",
    "\n",
    "<div class=\"alert alert-warning\">\n",
    "    <h2> Комментарий ревьюера V1<a class=\"tocSkip\"> </h2>\n",
    "\n",
    "<b>Некоторые замечания и рекомендации💡:</b> Это не означает, что ты совершил ошибку. Такими комментариями я буду отмечать места, где ты справился с задачей, но её можно решить ещё лучше. Также в таких комментариях я буду оставлять для тебя другие советы.\n",
    "</div>\n",
    "\n",
    "\n",
    "<br/>\n",
    "<div class=\"alert alert-block alert-danger\">\n",
    "<h2> Комментарий ревьюера V1<a class=\"tocSkip\"></h2>\n",
    "\n",
    "\n",
    "<b>На доработку🤔:</b>\n",
    "Если решение, которое ты применил на определенном шаге, требует значительных изменений, то я буду оставлять такой комментарий. Тебе нужно будет подумать еще раз как правильным образом решить данный этап. Если ревью содержит такие комментарии, то я не смогу принять проект с первого раза.\n",
    "</div>\n",
    "\n",
    "P.S. В оглавлении комментария ты увидишь `V1` (`V1`, `V2`, `V3`) - это версия моего комментария, которая понадобится нам с тобой, чтобы не запутаться, если потребуется оставить тебе комментарии после первой проверки."
   ]
  },
  {
   "cell_type": "markdown",
   "metadata": {
    "id": "sIfNaMOxgFyK"
   },
   "source": [
    "## Исследование данных о российском кинопрокате\n",
    "\n"
   ]
  },
  {
   "cell_type": "markdown",
   "metadata": {
    "id": "3bSlkCsbgFyL"
   },
   "source": [
    "### Шаг 1. Откройте файлы с данными и объедините их в один датафрейм. \n",
    "\n",
    "Объедините данные таким образом, чтобы все объекты из датасета `mkrf_movies` обязательно вошли в получившийся датафрейм. \n",
    "\n",
    "<div id=\"accordion\">\n",
    "    <div class=\"card\">\n",
    "        <div class=\"card-header\" id=\"headingThree\">\n",
    "            <button class=\"btn btn-link collapsed\" data-toggle=\"collapse\" data-target=\"#collapseHint_0\" aria-expanded=\"false\" aria-controls=\"collapseHint_0\">Подсказка</button>\n",
    "        </div>\n",
    "        <div id=\"collapseHint_0\" class=\"collapse\" aria-labelledby=\"headingThree\" data-parent=\"#accordion\">\n",
    "            <div class=\"card-body\">\n",
    "Обратите внимание на тип данных столбца, по которому будете соединять датафреймы. Тип данных этих столбцов должен быть одинаковым в обоих датафреймах.\n",
    "            </div>\n",
    "        </div>\n",
    "    </div>\n",
    "</div>"
   ]
  },
  {
   "cell_type": "markdown",
   "metadata": {},
   "source": [
    "Цель данного исследования заключается в анализе рынка российского кинопроката и выявлении существующих трендов.\n",
    "\n",
    "Особое внимание мы уделим таким фильмам, которые получили государственную поддержку. Посмотрим, есть ли интерес у зрителя к таким фильмам.\n",
    "\n",
    "В результате исследования мы планируем получить более глубокое понимание рынка кинопроката в России и выработаем рекомендации для заинтересованных сторон в индустрии кино."
   ]
  },
  {
   "cell_type": "markdown",
   "metadata": {},
   "source": [
    "**Описание данных**\n",
    "\n",
    "- title — название фильма;\n",
    "- puNumber — номер прокатного удостоверения;\n",
    "- show_start_date — дата премьеры фильма;\n",
    "- type — тип фильма;\n",
    "- film_studio — студия-производитель;\n",
    "- production_country — страна-производитель;\n",
    "- director — режиссёр;\n",
    "- producer — продюсер;\n",
    "- age_restriction — возрастная категория;\n",
    "- refundable_support — объём возвратных средств государственной поддержки;\n",
    "- nonrefundable_support — объём невозвратных средств государственной поддержки;\n",
    "- financing_source — источник государственного финансирования;\n",
    "- budget — общий бюджет фильма;\n",
    "- ratings — рейтинг фильма на КиноПоиске;\n",
    "- genres — жанр фильма;\n",
    "- box_office - сборы в рублях"
   ]
  },
  {
   "cell_type": "markdown",
   "metadata": {},
   "source": [
    "<div class=\"alert alert-success\">\n",
    "<h2> Комментарий ревьюера V1<a class=\"tocSkip\"> </h2>\n",
    "\n",
    "<b>Все отлично!👍:</b> Отличный вывод, все четко, понятно и структурировано. Вывод в полной мере отражает существующие зависимости, и по нему можно принимать дальнейшие решения.\n",
    "</div>"
   ]
  },
  {
   "cell_type": "markdown",
   "metadata": {},
   "source": [
    "Импортируем библиотеки pandas и numpy для работы с данными и чтения csv-файлов."
   ]
  },
  {
   "cell_type": "code",
   "execution_count": 488,
   "metadata": {
    "id": "dw87FlzMgFyM",
    "scrolled": true
   },
   "outputs": [
    {
     "data": {
      "text/html": [
       "<div>\n",
       "<style scoped>\n",
       "    .dataframe tbody tr th:only-of-type {\n",
       "        vertical-align: middle;\n",
       "    }\n",
       "\n",
       "    .dataframe tbody tr th {\n",
       "        vertical-align: top;\n",
       "    }\n",
       "\n",
       "    .dataframe thead th {\n",
       "        text-align: right;\n",
       "    }\n",
       "</style>\n",
       "<table border=\"1\" class=\"dataframe\">\n",
       "  <thead>\n",
       "    <tr style=\"text-align: right;\">\n",
       "      <th></th>\n",
       "      <th>title</th>\n",
       "      <th>puNumber</th>\n",
       "      <th>show_start_date</th>\n",
       "      <th>type</th>\n",
       "      <th>film_studio</th>\n",
       "      <th>production_country</th>\n",
       "      <th>director</th>\n",
       "      <th>producer</th>\n",
       "      <th>age_restriction</th>\n",
       "      <th>refundable_support</th>\n",
       "      <th>nonrefundable_support</th>\n",
       "      <th>budget</th>\n",
       "      <th>financing_source</th>\n",
       "      <th>ratings</th>\n",
       "      <th>genres</th>\n",
       "    </tr>\n",
       "  </thead>\n",
       "  <tbody>\n",
       "    <tr>\n",
       "      <th>0</th>\n",
       "      <td>Открытый простор</td>\n",
       "      <td>221048915</td>\n",
       "      <td>2015-11-27T12:00:00.000Z</td>\n",
       "      <td>Художественный</td>\n",
       "      <td>Тачстоун Пикчерз, Кобальт Пикчерз, Бикон Пикче...</td>\n",
       "      <td>США</td>\n",
       "      <td>Кевин Костнер</td>\n",
       "      <td>Дэвид Валдес, Кевин Костнер, Джейк Эбертс</td>\n",
       "      <td>«18+» - запрещено для детей</td>\n",
       "      <td>NaN</td>\n",
       "      <td>NaN</td>\n",
       "      <td>NaN</td>\n",
       "      <td>NaN</td>\n",
       "      <td>7.2</td>\n",
       "      <td>боевик,драма,мелодрама</td>\n",
       "    </tr>\n",
       "    <tr>\n",
       "      <th>1</th>\n",
       "      <td>Особо важное задание</td>\n",
       "      <td>111013716</td>\n",
       "      <td>2016-09-13T12:00:00.000Z</td>\n",
       "      <td>Художественный</td>\n",
       "      <td>Киностудия \"Мосфильм\"</td>\n",
       "      <td>СССР</td>\n",
       "      <td>Е.Матвеев</td>\n",
       "      <td>NaN</td>\n",
       "      <td>«6+» - для детей старше 6 лет</td>\n",
       "      <td>NaN</td>\n",
       "      <td>NaN</td>\n",
       "      <td>NaN</td>\n",
       "      <td>NaN</td>\n",
       "      <td>6.6</td>\n",
       "      <td>драма,военный</td>\n",
       "    </tr>\n",
       "    <tr>\n",
       "      <th>2</th>\n",
       "      <td>Особо опасен</td>\n",
       "      <td>221038416</td>\n",
       "      <td>2016-10-10T12:00:00.000Z</td>\n",
       "      <td>Художественный</td>\n",
       "      <td>Юниверсал Пикчерз, Кикстарт Продакшнз, Марк Пл...</td>\n",
       "      <td>США</td>\n",
       "      <td>Тимур Бекмамбетов</td>\n",
       "      <td>Джим Лемли, Джейсон Нетер, Марк Е.Платт, Яйн Смит</td>\n",
       "      <td>«18+» - запрещено для детей</td>\n",
       "      <td>NaN</td>\n",
       "      <td>NaN</td>\n",
       "      <td>NaN</td>\n",
       "      <td>NaN</td>\n",
       "      <td>6.8</td>\n",
       "      <td>фантастика,боевик,триллер</td>\n",
       "    </tr>\n",
       "    <tr>\n",
       "      <th>3</th>\n",
       "      <td>Особо опасен</td>\n",
       "      <td>221026916</td>\n",
       "      <td>2016-06-10T12:00:00.000Z</td>\n",
       "      <td>Художественный</td>\n",
       "      <td>Юниверсал Пикчерз, Кикстарт Продакшнз, Марк Пл...</td>\n",
       "      <td>США</td>\n",
       "      <td>Тимур Бекмамбетов</td>\n",
       "      <td>Джим Лемли, Джейсон Нетер, Марк Е.Платт, Яйн Смит</td>\n",
       "      <td>«18+» - запрещено для детей</td>\n",
       "      <td>NaN</td>\n",
       "      <td>NaN</td>\n",
       "      <td>NaN</td>\n",
       "      <td>NaN</td>\n",
       "      <td>6.8</td>\n",
       "      <td>фантастика,боевик,триллер</td>\n",
       "    </tr>\n",
       "    <tr>\n",
       "      <th>4</th>\n",
       "      <td>Особо опасен</td>\n",
       "      <td>221030815</td>\n",
       "      <td>2015-07-29T12:00:00.000Z</td>\n",
       "      <td>Художественный</td>\n",
       "      <td>Юниверсал Пикчерз, Кикстарт Продакшнз, Марк Пл...</td>\n",
       "      <td>США</td>\n",
       "      <td>Тимур Бекмамбетов</td>\n",
       "      <td>Джим Лемли, Джейсон Нетер, Марк Е.Платт, Яйн Смит</td>\n",
       "      <td>«18+» - запрещено для детей</td>\n",
       "      <td>NaN</td>\n",
       "      <td>NaN</td>\n",
       "      <td>NaN</td>\n",
       "      <td>NaN</td>\n",
       "      <td>6.8</td>\n",
       "      <td>фантастика,боевик,триллер</td>\n",
       "    </tr>\n",
       "  </tbody>\n",
       "</table>\n",
       "</div>"
      ],
      "text/plain": [
       "                  title   puNumber           show_start_date            type  \\\n",
       "0      Открытый простор  221048915  2015-11-27T12:00:00.000Z  Художественный   \n",
       "1  Особо важное задание  111013716  2016-09-13T12:00:00.000Z  Художественный   \n",
       "2          Особо опасен  221038416  2016-10-10T12:00:00.000Z  Художественный   \n",
       "3          Особо опасен  221026916  2016-06-10T12:00:00.000Z  Художественный   \n",
       "4          Особо опасен  221030815  2015-07-29T12:00:00.000Z  Художественный   \n",
       "\n",
       "                                         film_studio production_country  \\\n",
       "0  Тачстоун Пикчерз, Кобальт Пикчерз, Бикон Пикче...                США   \n",
       "1                              Киностудия \"Мосфильм\"               СССР   \n",
       "2  Юниверсал Пикчерз, Кикстарт Продакшнз, Марк Пл...                США   \n",
       "3  Юниверсал Пикчерз, Кикстарт Продакшнз, Марк Пл...                США   \n",
       "4  Юниверсал Пикчерз, Кикстарт Продакшнз, Марк Пл...                США   \n",
       "\n",
       "            director                                           producer  \\\n",
       "0      Кевин Костнер          Дэвид Валдес, Кевин Костнер, Джейк Эбертс   \n",
       "1          Е.Матвеев                                                NaN   \n",
       "2  Тимур Бекмамбетов  Джим Лемли, Джейсон Нетер, Марк Е.Платт, Яйн Смит   \n",
       "3  Тимур Бекмамбетов  Джим Лемли, Джейсон Нетер, Марк Е.Платт, Яйн Смит   \n",
       "4  Тимур Бекмамбетов  Джим Лемли, Джейсон Нетер, Марк Е.Платт, Яйн Смит   \n",
       "\n",
       "                 age_restriction  refundable_support  nonrefundable_support  \\\n",
       "0    «18+» - запрещено для детей                 NaN                    NaN   \n",
       "1  «6+» - для детей старше 6 лет                 NaN                    NaN   \n",
       "2    «18+» - запрещено для детей                 NaN                    NaN   \n",
       "3    «18+» - запрещено для детей                 NaN                    NaN   \n",
       "4    «18+» - запрещено для детей                 NaN                    NaN   \n",
       "\n",
       "   budget financing_source ratings                     genres  \n",
       "0     NaN              NaN     7.2     боевик,драма,мелодрама  \n",
       "1     NaN              NaN     6.6              драма,военный  \n",
       "2     NaN              NaN     6.8  фантастика,боевик,триллер  \n",
       "3     NaN              NaN     6.8  фантастика,боевик,триллер  \n",
       "4     NaN              NaN     6.8  фантастика,боевик,триллер  "
      ]
     },
     "metadata": {},
     "output_type": "display_data"
    },
    {
     "data": {
      "text/html": [
       "<div>\n",
       "<style scoped>\n",
       "    .dataframe tbody tr th:only-of-type {\n",
       "        vertical-align: middle;\n",
       "    }\n",
       "\n",
       "    .dataframe tbody tr th {\n",
       "        vertical-align: top;\n",
       "    }\n",
       "\n",
       "    .dataframe thead th {\n",
       "        text-align: right;\n",
       "    }\n",
       "</style>\n",
       "<table border=\"1\" class=\"dataframe\">\n",
       "  <thead>\n",
       "    <tr style=\"text-align: right;\">\n",
       "      <th></th>\n",
       "      <th>puNumber</th>\n",
       "      <th>box_office</th>\n",
       "    </tr>\n",
       "  </thead>\n",
       "  <tbody>\n",
       "    <tr>\n",
       "      <th>0</th>\n",
       "      <td>111000113</td>\n",
       "      <td>2.450000e+03</td>\n",
       "    </tr>\n",
       "    <tr>\n",
       "      <th>1</th>\n",
       "      <td>111000115</td>\n",
       "      <td>6.104000e+04</td>\n",
       "    </tr>\n",
       "    <tr>\n",
       "      <th>2</th>\n",
       "      <td>111000116</td>\n",
       "      <td>1.530300e+08</td>\n",
       "    </tr>\n",
       "    <tr>\n",
       "      <th>3</th>\n",
       "      <td>111000117</td>\n",
       "      <td>1.226096e+07</td>\n",
       "    </tr>\n",
       "    <tr>\n",
       "      <th>4</th>\n",
       "      <td>111000118</td>\n",
       "      <td>1.636841e+08</td>\n",
       "    </tr>\n",
       "  </tbody>\n",
       "</table>\n",
       "</div>"
      ],
      "text/plain": [
       "    puNumber    box_office\n",
       "0  111000113  2.450000e+03\n",
       "1  111000115  6.104000e+04\n",
       "2  111000116  1.530300e+08\n",
       "3  111000117  1.226096e+07\n",
       "4  111000118  1.636841e+08"
      ]
     },
     "metadata": {},
     "output_type": "display_data"
    }
   ],
   "source": [
    "# Импортируем библиотеки:\n",
    "import pandas as pd\n",
    "import numpy as np\n",
    "import seaborn as sns\n",
    "import matplotlib.pyplot as plt\n",
    "from datetime import datetime\n",
    "\n",
    "# Установим максимальное количество отображаемых столбцов в таблицах\n",
    "pd.options.display.max_columns = None\n",
    "\n",
    "# Откроем файлы с данными\n",
    "movies = pd.read_csv('/datasets/mkrf_movies.csv')\n",
    "shows = pd.read_csv('/datasets/mkrf_shows.csv')\n",
    "\n",
    "# Отобразим первые 5 строк таблицы \"movies\"\n",
    "display(movies.head())\n",
    "\n",
    "# Отобразим первые 5 строк таблицы \"shows\"\n",
    "display(shows.head())"
   ]
  },
  {
   "cell_type": "code",
   "execution_count": 489,
   "metadata": {
    "scrolled": true
   },
   "outputs": [
    {
     "name": "stdout",
     "output_type": "stream",
     "text": [
      "<class 'pandas.core.frame.DataFrame'>\n",
      "RangeIndex: 7486 entries, 0 to 7485\n",
      "Data columns (total 15 columns):\n",
      " #   Column                 Non-Null Count  Dtype  \n",
      "---  ------                 --------------  -----  \n",
      " 0   title                  7486 non-null   object \n",
      " 1   puNumber               7486 non-null   object \n",
      " 2   show_start_date        7486 non-null   object \n",
      " 3   type                   7486 non-null   object \n",
      " 4   film_studio            7468 non-null   object \n",
      " 5   production_country     7484 non-null   object \n",
      " 6   director               7477 non-null   object \n",
      " 7   producer               6918 non-null   object \n",
      " 8   age_restriction        7486 non-null   object \n",
      " 9   refundable_support     332 non-null    float64\n",
      " 10  nonrefundable_support  332 non-null    float64\n",
      " 11  budget                 332 non-null    float64\n",
      " 12  financing_source       332 non-null    object \n",
      " 13  ratings                6519 non-null   object \n",
      " 14  genres                 6510 non-null   object \n",
      "dtypes: float64(3), object(12)\n",
      "memory usage: 877.4+ KB\n"
     ]
    }
   ],
   "source": [
    "movies.info()"
   ]
  },
  {
   "cell_type": "markdown",
   "metadata": {},
   "source": [
    "Типы данных: столбцы имеют тип object, а некоторые столбцы - float64.\n",
    "\n",
    "В столбцах имеются пропущенные значения (NaN) в некоторых случаях, особенно для столбцов с информацией о государственной поддержке и бюджете фильмов. Это может усложнить проведение анализа и обработку данных.\n",
    "\n",
    "Имеющиеся данные содержат информацию о фильмах, выпущенных в определенном регионе, их бюджете, жанрах, рейтинге, студии-производителе, странах производства, возрастных ограничениях и других характеристиках. \n",
    "\n",
    "Кроме того, в данных присутствуют информация о финансировании, в том числе: обеспечение поддержки (возвратной и невозвратной), размер бюджета и источники финансирования. \n",
    "\n",
    "Особое внимание стоит обратить на то, что данные о финансировании присутствуют только для части фильмов.\n",
    "\n",
    "Также в данных присутствуют информация об участниках процесса создания фильма, включая режиссеров и продюсеров. "
   ]
  },
  {
   "cell_type": "markdown",
   "metadata": {},
   "source": [
    "<div class=\"alert alert-success\">\n",
    "<h2> Комментарий ревьюера V1<a class=\"tocSkip\"> </h2>\n",
    "\n",
    "<b>Все отлично!👍:</b> Правильно рассмотрела данные, с которыми предстоит работать."
   ]
  },
  {
   "cell_type": "markdown",
   "metadata": {},
   "source": [
    "Осуществляем приведение столбца puNumber из разных таблиц к числовому значению"
   ]
  },
  {
   "cell_type": "code",
   "execution_count": 490,
   "metadata": {},
   "outputs": [],
   "source": [
    "# Если в таблице movies в столбце puNumber есть строки, то приводим их в числовые значения. \n",
    "# Если значение не может быть преобразовано в число, тогда оно заменяется на NaN\n",
    "\n",
    "movies['puNumber'] = pd.to_numeric(movies['puNumber'],errors='coerce')"
   ]
  },
  {
   "cell_type": "code",
   "execution_count": 491,
   "metadata": {},
   "outputs": [],
   "source": [
    "# В таблице shows в стобце puNumber числовые значения \n",
    "# метод astype() преобразует все значения в столбце \"puNumber\" к типу float64.\n",
    "\n",
    "shows['puNumber'] = shows['puNumber'].astype('float64')"
   ]
  },
  {
   "cell_type": "markdown",
   "metadata": {},
   "source": [
    "<div class=\"alert alert-success\">\n",
    "<h2> Комментарий ревьюера V1<a class=\"tocSkip\"> </h2>\n",
    "\n",
    "<b>Все отлично!👍:</b> Правильно обработала данный столбец."
   ]
  },
  {
   "cell_type": "code",
   "execution_count": 492,
   "metadata": {},
   "outputs": [],
   "source": [
    "# Выполнив данный код, таблица \"df\" будет содержать информацию о фильмах (из таблицы \"df_movies\"), \n",
    "# включая номера прокатных удостоверений, приведенные к числовому формату.\n",
    "# Мы объединили таблицы df_movies и df_shows по столбцу puNumber и вернули обновленный столбец df\n",
    "\n",
    "df = pd.merge(movies, shows, on='puNumber', how='left')"
   ]
  },
  {
   "cell_type": "markdown",
   "metadata": {},
   "source": [
    "Лучше изменить название столбца puNumber. Делается это для лучшей читаемости кода и понимания данных. Нас учили приводить все буквы в пайтон к нижнему регистру, это считается хорошим тоном. Лучше использовать более понятные и информативные названия столбцов, которые отражают их содержимое и помогают понимать структуру таблицы. Например, название puNumber может быть не очень ясным и сокращенным, тогда как pu_number более понятно и точно описывает содержимое столбца, так как визуально легче считывается человеческим глазом."
   ]
  },
  {
   "cell_type": "code",
   "execution_count": 493,
   "metadata": {
    "scrolled": true
   },
   "outputs": [
    {
     "data": {
      "text/html": [
       "<div>\n",
       "<style scoped>\n",
       "    .dataframe tbody tr th:only-of-type {\n",
       "        vertical-align: middle;\n",
       "    }\n",
       "\n",
       "    .dataframe tbody tr th {\n",
       "        vertical-align: top;\n",
       "    }\n",
       "\n",
       "    .dataframe thead th {\n",
       "        text-align: right;\n",
       "    }\n",
       "</style>\n",
       "<table border=\"1\" class=\"dataframe\">\n",
       "  <thead>\n",
       "    <tr style=\"text-align: right;\">\n",
       "      <th></th>\n",
       "      <th>title</th>\n",
       "      <th>pu_number</th>\n",
       "      <th>show_start_date</th>\n",
       "      <th>type</th>\n",
       "      <th>film_studio</th>\n",
       "      <th>production_country</th>\n",
       "      <th>director</th>\n",
       "      <th>producer</th>\n",
       "      <th>age_restriction</th>\n",
       "      <th>refundable_support</th>\n",
       "      <th>nonrefundable_support</th>\n",
       "      <th>budget</th>\n",
       "      <th>financing_source</th>\n",
       "      <th>ratings</th>\n",
       "      <th>genres</th>\n",
       "      <th>box_office</th>\n",
       "    </tr>\n",
       "  </thead>\n",
       "  <tbody>\n",
       "    <tr>\n",
       "      <th>0</th>\n",
       "      <td>Открытый простор</td>\n",
       "      <td>221048915.0</td>\n",
       "      <td>2015-11-27T12:00:00.000Z</td>\n",
       "      <td>Художественный</td>\n",
       "      <td>Тачстоун Пикчерз, Кобальт Пикчерз, Бикон Пикче...</td>\n",
       "      <td>США</td>\n",
       "      <td>Кевин Костнер</td>\n",
       "      <td>Дэвид Валдес, Кевин Костнер, Джейк Эбертс</td>\n",
       "      <td>«18+» - запрещено для детей</td>\n",
       "      <td>NaN</td>\n",
       "      <td>NaN</td>\n",
       "      <td>NaN</td>\n",
       "      <td>NaN</td>\n",
       "      <td>7.2</td>\n",
       "      <td>боевик,драма,мелодрама</td>\n",
       "      <td>NaN</td>\n",
       "    </tr>\n",
       "    <tr>\n",
       "      <th>1</th>\n",
       "      <td>Особо важное задание</td>\n",
       "      <td>111013716.0</td>\n",
       "      <td>2016-09-13T12:00:00.000Z</td>\n",
       "      <td>Художественный</td>\n",
       "      <td>Киностудия \"Мосфильм\"</td>\n",
       "      <td>СССР</td>\n",
       "      <td>Е.Матвеев</td>\n",
       "      <td>NaN</td>\n",
       "      <td>«6+» - для детей старше 6 лет</td>\n",
       "      <td>NaN</td>\n",
       "      <td>NaN</td>\n",
       "      <td>NaN</td>\n",
       "      <td>NaN</td>\n",
       "      <td>6.6</td>\n",
       "      <td>драма,военный</td>\n",
       "      <td>NaN</td>\n",
       "    </tr>\n",
       "    <tr>\n",
       "      <th>2</th>\n",
       "      <td>Особо опасен</td>\n",
       "      <td>221038416.0</td>\n",
       "      <td>2016-10-10T12:00:00.000Z</td>\n",
       "      <td>Художественный</td>\n",
       "      <td>Юниверсал Пикчерз, Кикстарт Продакшнз, Марк Пл...</td>\n",
       "      <td>США</td>\n",
       "      <td>Тимур Бекмамбетов</td>\n",
       "      <td>Джим Лемли, Джейсон Нетер, Марк Е.Платт, Яйн Смит</td>\n",
       "      <td>«18+» - запрещено для детей</td>\n",
       "      <td>NaN</td>\n",
       "      <td>NaN</td>\n",
       "      <td>NaN</td>\n",
       "      <td>NaN</td>\n",
       "      <td>6.8</td>\n",
       "      <td>фантастика,боевик,триллер</td>\n",
       "      <td>NaN</td>\n",
       "    </tr>\n",
       "    <tr>\n",
       "      <th>3</th>\n",
       "      <td>Особо опасен</td>\n",
       "      <td>221026916.0</td>\n",
       "      <td>2016-06-10T12:00:00.000Z</td>\n",
       "      <td>Художественный</td>\n",
       "      <td>Юниверсал Пикчерз, Кикстарт Продакшнз, Марк Пл...</td>\n",
       "      <td>США</td>\n",
       "      <td>Тимур Бекмамбетов</td>\n",
       "      <td>Джим Лемли, Джейсон Нетер, Марк Е.Платт, Яйн Смит</td>\n",
       "      <td>«18+» - запрещено для детей</td>\n",
       "      <td>NaN</td>\n",
       "      <td>NaN</td>\n",
       "      <td>NaN</td>\n",
       "      <td>NaN</td>\n",
       "      <td>6.8</td>\n",
       "      <td>фантастика,боевик,триллер</td>\n",
       "      <td>NaN</td>\n",
       "    </tr>\n",
       "    <tr>\n",
       "      <th>4</th>\n",
       "      <td>Особо опасен</td>\n",
       "      <td>221030815.0</td>\n",
       "      <td>2015-07-29T12:00:00.000Z</td>\n",
       "      <td>Художественный</td>\n",
       "      <td>Юниверсал Пикчерз, Кикстарт Продакшнз, Марк Пл...</td>\n",
       "      <td>США</td>\n",
       "      <td>Тимур Бекмамбетов</td>\n",
       "      <td>Джим Лемли, Джейсон Нетер, Марк Е.Платт, Яйн Смит</td>\n",
       "      <td>«18+» - запрещено для детей</td>\n",
       "      <td>NaN</td>\n",
       "      <td>NaN</td>\n",
       "      <td>NaN</td>\n",
       "      <td>NaN</td>\n",
       "      <td>6.8</td>\n",
       "      <td>фантастика,боевик,триллер</td>\n",
       "      <td>NaN</td>\n",
       "    </tr>\n",
       "  </tbody>\n",
       "</table>\n",
       "</div>"
      ],
      "text/plain": [
       "                  title    pu_number           show_start_date  \\\n",
       "0      Открытый простор  221048915.0  2015-11-27T12:00:00.000Z   \n",
       "1  Особо важное задание  111013716.0  2016-09-13T12:00:00.000Z   \n",
       "2          Особо опасен  221038416.0  2016-10-10T12:00:00.000Z   \n",
       "3          Особо опасен  221026916.0  2016-06-10T12:00:00.000Z   \n",
       "4          Особо опасен  221030815.0  2015-07-29T12:00:00.000Z   \n",
       "\n",
       "             type                                        film_studio  \\\n",
       "0  Художественный  Тачстоун Пикчерз, Кобальт Пикчерз, Бикон Пикче...   \n",
       "1  Художественный                              Киностудия \"Мосфильм\"   \n",
       "2  Художественный  Юниверсал Пикчерз, Кикстарт Продакшнз, Марк Пл...   \n",
       "3  Художественный  Юниверсал Пикчерз, Кикстарт Продакшнз, Марк Пл...   \n",
       "4  Художественный  Юниверсал Пикчерз, Кикстарт Продакшнз, Марк Пл...   \n",
       "\n",
       "  production_country           director  \\\n",
       "0                США      Кевин Костнер   \n",
       "1               СССР          Е.Матвеев   \n",
       "2                США  Тимур Бекмамбетов   \n",
       "3                США  Тимур Бекмамбетов   \n",
       "4                США  Тимур Бекмамбетов   \n",
       "\n",
       "                                            producer  \\\n",
       "0          Дэвид Валдес, Кевин Костнер, Джейк Эбертс   \n",
       "1                                                NaN   \n",
       "2  Джим Лемли, Джейсон Нетер, Марк Е.Платт, Яйн Смит   \n",
       "3  Джим Лемли, Джейсон Нетер, Марк Е.Платт, Яйн Смит   \n",
       "4  Джим Лемли, Джейсон Нетер, Марк Е.Платт, Яйн Смит   \n",
       "\n",
       "                 age_restriction  refundable_support  nonrefundable_support  \\\n",
       "0    «18+» - запрещено для детей                 NaN                    NaN   \n",
       "1  «6+» - для детей старше 6 лет                 NaN                    NaN   \n",
       "2    «18+» - запрещено для детей                 NaN                    NaN   \n",
       "3    «18+» - запрещено для детей                 NaN                    NaN   \n",
       "4    «18+» - запрещено для детей                 NaN                    NaN   \n",
       "\n",
       "   budget financing_source ratings                     genres  box_office  \n",
       "0     NaN              NaN     7.2     боевик,драма,мелодрама         NaN  \n",
       "1     NaN              NaN     6.6              драма,военный         NaN  \n",
       "2     NaN              NaN     6.8  фантастика,боевик,триллер         NaN  \n",
       "3     NaN              NaN     6.8  фантастика,боевик,триллер         NaN  \n",
       "4     NaN              NaN     6.8  фантастика,боевик,триллер         NaN  "
      ]
     },
     "execution_count": 493,
     "metadata": {},
     "output_type": "execute_result"
    }
   ],
   "source": [
    "df.rename(columns={'puNumber': 'pu_number'}, inplace=True)\n",
    "df.head()"
   ]
  },
  {
   "cell_type": "markdown",
   "metadata": {},
   "source": [
    "<div class=\"alert alert-success\">\n",
    "<h2> Комментарий ревьюера V1<a class=\"tocSkip\"> </h2>\n",
    "\n",
    "<b>Все отлично!👍:</b> Все правильно."
   ]
  },
  {
   "cell_type": "markdown",
   "metadata": {
    "id": "KLDGpPG0gFyM"
   },
   "source": [
    "### Шаг 2. Предобработка данных"
   ]
  },
  {
   "cell_type": "markdown",
   "metadata": {
    "id": "ssWwKXsxgFyO"
   },
   "source": [
    "#### Шаг 2.1. Проверьте типы данных\n",
    "\n",
    "- Проверьте типы данных в датафрейме и преобразуйте их там, где это необходимо."
   ]
  },
  {
   "cell_type": "code",
   "execution_count": 494,
   "metadata": {
    "id": "kVGSplJOgFyO",
    "scrolled": true
   },
   "outputs": [
    {
     "name": "stdout",
     "output_type": "stream",
     "text": [
      "<class 'pandas.core.frame.DataFrame'>\n",
      "Int64Index: 7486 entries, 0 to 7485\n",
      "Data columns (total 16 columns):\n",
      " #   Column                 Non-Null Count  Dtype  \n",
      "---  ------                 --------------  -----  \n",
      " 0   title                  7486 non-null   object \n",
      " 1   pu_number              7485 non-null   float64\n",
      " 2   show_start_date        7486 non-null   object \n",
      " 3   type                   7486 non-null   object \n",
      " 4   film_studio            7468 non-null   object \n",
      " 5   production_country     7484 non-null   object \n",
      " 6   director               7477 non-null   object \n",
      " 7   producer               6918 non-null   object \n",
      " 8   age_restriction        7486 non-null   object \n",
      " 9   refundable_support     332 non-null    float64\n",
      " 10  nonrefundable_support  332 non-null    float64\n",
      " 11  budget                 332 non-null    float64\n",
      " 12  financing_source       332 non-null    object \n",
      " 13  ratings                6519 non-null   object \n",
      " 14  genres                 6510 non-null   object \n",
      " 15  box_office             3158 non-null   float64\n",
      "dtypes: float64(5), object(11)\n",
      "memory usage: 994.2+ KB\n"
     ]
    }
   ],
   "source": [
    "df.info()"
   ]
  },
  {
   "cell_type": "markdown",
   "metadata": {},
   "source": [
    "В целом типы данных нормальны для большинства столбцов, однако необходимо преобразовать следующие столбцы: \n",
    "\n",
    "- pu_number, ratings и box_office - заменить на числовой тип данных, но прежде нужно разобраться с пропущенными значениями.\n",
    "- show_start_date - заменить на тип данных datetime."
   ]
  },
  {
   "cell_type": "code",
   "execution_count": 495,
   "metadata": {},
   "outputs": [],
   "source": [
    "df['show_start_date'] = pd.to_datetime(df['show_start_date'])\n",
    "\n",
    "# замена типов данных столбцов 'box_office', 'pu_number' и 'ratings' на числовой тип данных\n",
    "\n",
    "df['box_office'] = pd.to_numeric(df['box_office'], errors='coerce')\n",
    "df['pu_number'] = pd.to_numeric(df['pu_number'], errors='coerce')\n",
    "df['ratings'] = pd.to_numeric(df['ratings'], errors='coerce')"
   ]
  },
  {
   "cell_type": "code",
   "execution_count": 496,
   "metadata": {
    "scrolled": true
   },
   "outputs": [
    {
     "name": "stdout",
     "output_type": "stream",
     "text": [
      "<class 'pandas.core.frame.DataFrame'>\n",
      "Int64Index: 7486 entries, 0 to 7485\n",
      "Data columns (total 16 columns):\n",
      " #   Column                 Non-Null Count  Dtype              \n",
      "---  ------                 --------------  -----              \n",
      " 0   title                  7486 non-null   object             \n",
      " 1   pu_number              7485 non-null   float64            \n",
      " 2   show_start_date        7486 non-null   datetime64[ns, UTC]\n",
      " 3   type                   7486 non-null   object             \n",
      " 4   film_studio            7468 non-null   object             \n",
      " 5   production_country     7484 non-null   object             \n",
      " 6   director               7477 non-null   object             \n",
      " 7   producer               6918 non-null   object             \n",
      " 8   age_restriction        7486 non-null   object             \n",
      " 9   refundable_support     332 non-null    float64            \n",
      " 10  nonrefundable_support  332 non-null    float64            \n",
      " 11  budget                 332 non-null    float64            \n",
      " 12  financing_source       332 non-null    object             \n",
      " 13  ratings                6490 non-null   float64            \n",
      " 14  genres                 6510 non-null   object             \n",
      " 15  box_office             3158 non-null   float64            \n",
      "dtypes: datetime64[ns, UTC](1), float64(6), object(9)\n",
      "memory usage: 994.2+ KB\n"
     ]
    }
   ],
   "source": [
    "df.info()"
   ]
  },
  {
   "cell_type": "markdown",
   "metadata": {},
   "source": [
    "Для столбца 'ratings' сначала посмотрим на уникальные значения и определимся со стратегией обработки данных. "
   ]
  },
  {
   "cell_type": "code",
   "execution_count": 497,
   "metadata": {},
   "outputs": [
    {
     "data": {
      "text/plain": [
       "array([7.2, 6.6, 6.8, 7.7, 8.3, 8. , 7.8, 8.1, 7.1, 6. , 7.4, 5.8, 8.7,\n",
       "       6.3, 6.9, 5. , 4.3, 7.3, 7. , 6.4, nan, 8.2, 7.5, 6.7, 7.9, 5.9,\n",
       "       6.2, 5.6, 6.5, 2.4, 7.6, 6.1, 8.6, 8.5, 8.8, 5.5, 5.1, 5.7, 5.4,\n",
       "       4.4, 4.5, 5.3, 4.1, 8.4, 2.6, 3.8, 4.6, 4.8, 4. , 3. , 1.6, 4.2,\n",
       "       5.2, 4.7, 4.9, 3.9, 2.7, 3.3, 2.9, 3.7, 1.4, 3.1, 3.5, 3.2, 2.8,\n",
       "       1.5, 2.1, 2.5, 9.2, 3.4, 1.1, 3.6, 1. , 1.3, 1.9, 1.8, 1.2, 1.7,\n",
       "       9. , 8.9, 9.1])"
      ]
     },
     "execution_count": 497,
     "metadata": {},
     "output_type": "execute_result"
    }
   ],
   "source": [
    "df['ratings'].unique()"
   ]
  },
  {
   "cell_type": "markdown",
   "metadata": {},
   "source": [
    "Столбец выглядит хорошо, но учитывая комментарий ревьюера, стоит все же провести некоторую обработку."
   ]
  },
  {
   "cell_type": "code",
   "execution_count": 498,
   "metadata": {},
   "outputs": [],
   "source": [
    "def converting_scores(row):\n",
    "    '''\n",
    "    Функция конвертирует рейтинг в формат X.Y из XY%.\n",
    "    '''\n",
    "    if '%' in str(row['ratings']):\n",
    "        return float(row['ratings'][:-1])/10\n",
    "    else:\n",
    "        return row['ratings']\n",
    "    \n",
    "df['ratings'] = df.apply(converting_scores, axis=1).astype('float').round(decimals=1)"
   ]
  },
  {
   "cell_type": "code",
   "execution_count": 499,
   "metadata": {},
   "outputs": [
    {
     "data": {
      "text/plain": [
       "array([7.2, 6.6, 6.8, 7.7, 8.3, 8. , 7.8, 8.1, 7.1, 6. , 7.4, 5.8, 8.7,\n",
       "       6.3, 6.9, 5. , 4.3, 7.3, 7. , 6.4, nan, 8.2, 7.5, 6.7, 7.9, 5.9,\n",
       "       6.2, 5.6, 6.5, 2.4, 7.6, 6.1, 8.6, 8.5, 8.8, 5.5, 5.1, 5.7, 5.4,\n",
       "       4.4, 4.5, 5.3, 4.1, 8.4, 2.6, 3.8, 4.6, 4.8, 4. , 3. , 1.6, 4.2,\n",
       "       5.2, 4.7, 4.9, 3.9, 2.7, 3.3, 2.9, 3.7, 1.4, 3.1, 3.5, 3.2, 2.8,\n",
       "       1.5, 2.1, 2.5, 9.2, 3.4, 1.1, 3.6, 1. , 1.3, 1.9, 1.8, 1.2, 1.7,\n",
       "       9. , 8.9, 9.1])"
      ]
     },
     "execution_count": 499,
     "metadata": {},
     "output_type": "execute_result"
    }
   ],
   "source": [
    "df.ratings.unique()"
   ]
  },
  {
   "cell_type": "code",
   "execution_count": 500,
   "metadata": {
    "scrolled": true
   },
   "outputs": [
    {
     "data": {
      "text/plain": [
       "array(['Художественный', 'Анимационный', 'Прочие', 'Документальный',\n",
       "       'Научно-популярный', ' Художественный', ' Анимационный',\n",
       "       'Музыкально-развлекательный'], dtype=object)"
      ]
     },
     "execution_count": 500,
     "metadata": {},
     "output_type": "execute_result"
    }
   ],
   "source": [
    "df.type.unique()"
   ]
  },
  {
   "cell_type": "markdown",
   "metadata": {},
   "source": [
    "Все в порядке"
   ]
  },
  {
   "cell_type": "markdown",
   "metadata": {},
   "source": [
    "Переводим столбец с датой старта показа во временной формат."
   ]
  },
  {
   "cell_type": "code",
   "execution_count": 501,
   "metadata": {},
   "outputs": [],
   "source": [
    "df['show_start_date'] = pd.to_datetime(df['show_start_date'], format='%Y-%m-%dT%H:%M:%S')"
   ]
  },
  {
   "cell_type": "code",
   "execution_count": 502,
   "metadata": {},
   "outputs": [
    {
     "data": {
      "text/plain": [
       "array(['«18+» - запрещено для детей', '«6+» - для детей старше 6 лет',\n",
       "       '«12+» - для детей старше 12 лет',\n",
       "       '«16+» - для детей старше 16 лет',\n",
       "       '«0+» - для любой зрительской аудитории'], dtype=object)"
      ]
     },
     "execution_count": 502,
     "metadata": {},
     "output_type": "execute_result"
    }
   ],
   "source": [
    "df.age_restriction.unique()"
   ]
  },
  {
   "cell_type": "markdown",
   "metadata": {},
   "source": [
    "Со столбцом все в порядке, поэтому перевели его в категориальный."
   ]
  },
  {
   "cell_type": "code",
   "execution_count": 503,
   "metadata": {},
   "outputs": [],
   "source": [
    "df['age_restriction'] = (\n",
    "    df['age_restriction']\n",
    "    .astype('category')\n",
    "    .cat.reorder_categories([\n",
    "        '«0+» - для любой зрительской аудитории',\n",
    "        '«6+» - для детей старше 6 лет',\n",
    "        '«12+» - для детей старше 12 лет',\n",
    "        '«16+» - для детей старше 16 лет',\n",
    "        '«18+» - запрещено для детей'\n",
    "    ])\n",
    ")"
   ]
  },
  {
   "cell_type": "code",
   "execution_count": 504,
   "metadata": {},
   "outputs": [
    {
     "data": {
      "text/plain": [
       "array([nan, 'Министерство культуры', 'Фонд кино',\n",
       "       'Министерство культуры, Фонд кино'], dtype=object)"
      ]
     },
     "execution_count": 504,
     "metadata": {},
     "output_type": "execute_result"
    }
   ],
   "source": [
    "df.financing_source.unique()"
   ]
  },
  {
   "cell_type": "markdown",
   "metadata": {},
   "source": [
    "Проблем не вижу, делаем столбец financing_source категориальным."
   ]
  },
  {
   "cell_type": "markdown",
   "metadata": {},
   "source": [
    "Теперь все столбцы имеют корректные типы данных. Однако, в датасете остались пропущенные значения, которые мы обработаем на следующих шагах предобработки."
   ]
  },
  {
   "cell_type": "markdown",
   "metadata": {},
   "source": [
    "<div class=\"alert alert-warning\">\n",
    "<h2> Комментарий ревьюера V1<a class=\"tocSkip\"> </h2>\n",
    "\n",
    "<b>Некоторые замечания и рекомендации💡:</b> Молодцы! Совет: перед тем, как обрабатывать типы столбцов, лучше посмотреть на их значения, особенно если это категориальный признак, с помощью метода unique(). \n",
    "    \n",
    "Например в столбце рейтинг были значения по 2 шкалам: рейтинг по 10-бальной шкале и вторая шкала процентная, были записаны проценты, например 99%. Можно было попробовать обработать эти значения."
   ]
  },
  {
   "cell_type": "markdown",
   "metadata": {},
   "source": [
    "<div class=\"alert alert-success\">\n",
    "<h2> Комментарий ревьюера V1<a class=\"tocSkip\"> </h2>\n",
    "\n",
    "<b>Все отлично!👍:</b> Все доработала правильно. Только нужно сначала обрабатывать проценты в столбце с рейтингом, так как, когда ты применяешь метод to_numeric(errors='coerce') эти значения меняются на nan и после уже нечего обрабатывать."
   ]
  },
  {
   "cell_type": "markdown",
   "metadata": {
    "id": "i0MOLbF-gFyP"
   },
   "source": [
    "#### Шаг 2.2. Изучите пропуски в датафрейме\n",
    "\n",
    "- Объясните, почему заполнили пропуски определённым образом или почему не стали этого делать."
   ]
  },
  {
   "cell_type": "code",
   "execution_count": 505,
   "metadata": {},
   "outputs": [
    {
     "name": "stdout",
     "output_type": "stream",
     "text": [
      "<class 'pandas.core.frame.DataFrame'>\n",
      "Int64Index: 7486 entries, 0 to 7485\n",
      "Data columns (total 16 columns):\n",
      " #   Column                 Non-Null Count  Dtype              \n",
      "---  ------                 --------------  -----              \n",
      " 0   title                  7486 non-null   object             \n",
      " 1   pu_number              7485 non-null   float64            \n",
      " 2   show_start_date        7486 non-null   datetime64[ns, UTC]\n",
      " 3   type                   7486 non-null   object             \n",
      " 4   film_studio            7468 non-null   object             \n",
      " 5   production_country     7484 non-null   object             \n",
      " 6   director               7477 non-null   object             \n",
      " 7   producer               6918 non-null   object             \n",
      " 8   age_restriction        7486 non-null   category           \n",
      " 9   refundable_support     332 non-null    float64            \n",
      " 10  nonrefundable_support  332 non-null    float64            \n",
      " 11  budget                 332 non-null    float64            \n",
      " 12  financing_source       332 non-null    object             \n",
      " 13  ratings                6490 non-null   float64            \n",
      " 14  genres                 6510 non-null   object             \n",
      " 15  box_office             3158 non-null   float64            \n",
      "dtypes: category(1), datetime64[ns, UTC](1), float64(6), object(8)\n",
      "memory usage: 943.3+ KB\n"
     ]
    }
   ],
   "source": [
    "df.info()"
   ]
  },
  {
   "cell_type": "markdown",
   "metadata": {},
   "source": [
    "При анализе пропущенных значений в данных было выявлено, что столбцы 'title', 'pu_number', 'show_start_date', 'type' и 'production_country' не имеют пропусков. \n",
    "\n",
    "Для столбцов 'film_studio', 'director' и 'producer' возможна ручная дополнительная обработка, например, путем поиска отсутствующей информации. Однако, эти данные не являются ключевыми в исследовательском блоке, поэтому их оставили без изменений.\n",
    "\n",
    "Столбцы 'refundable_support', 'nonrefundable_support', 'budget' и 'financing_source' присутствуют только для фильмов, которые получили финансирование по линии Министерства Культуры или Фонда кино. Они не имеют значения для анализа данных, поэтому были оставлены без изменений в таблице.\n",
    "\n",
    "Столбцы 'ratings', 'genres' и 'box_office' содержат значительное количество пропусков. Однако, эта информация уникальна и не может быть восстановлена опосредовано через остальные данные.\n",
    "\n",
    "Исходя из этого, было принято решение сохранить пустые значения для столбцов 'ratings', 'genres' и 'box_office', чтобы не потерять важную информацию и избежать искажения результатов анализа и моделирования."
   ]
  },
  {
   "cell_type": "code",
   "execution_count": 506,
   "metadata": {},
   "outputs": [],
   "source": [
    "# Пропуски заменим на слово \"нет информации\":\n",
    "list_1=['film_studio', 'production_country', 'director', 'producer', 'genres']\n",
    "for i in list_1:\n",
    "    df[i]=df[i].fillna('нет информации')"
   ]
  },
  {
   "cell_type": "markdown",
   "metadata": {},
   "source": [
    "Пропуски мы изучили и обработали"
   ]
  },
  {
   "cell_type": "markdown",
   "metadata": {},
   "source": [
    "*Блок исправлен*"
   ]
  },
  {
   "cell_type": "markdown",
   "metadata": {},
   "source": [
    "<div class=\"alert alert-block alert-danger\">\n",
    "<h2> Комментарий ревьюера V1<a class=\"tocSkip\"></h2>\n",
    "\n",
    "\n",
    "<b>На доработку🤔:</b>\n",
    "Грубая ошибка заполнять все столбцы числовые средним. \n",
    "\n",
    "В данном датафрейме никакой столбец нельзя как то обработать, чтобы не исказить данные, поэтому лучше оставить пропуски как есть. \n",
    "    \n",
    "На будущее: если хочешь обработать столбец, то сначала отдельно изучи его и отдельно обрабатывай.\n",
    "    \n",
    "К тому же некорректно использовать среднее арифметическое, так как ты не обработала выбросы, лучше тогда использовать медиану."
   ]
  },
  {
   "cell_type": "markdown",
   "metadata": {},
   "source": [
    "<div class=\"alert alert-block alert-danger\">\n",
    "<h2> Комментарий ревьюера V1<a class=\"tocSkip\"></h2>\n",
    "\n",
    "\n",
    "<b>На доработку🤔:</b>\n",
    "Аналогичная ошибка, никак не обоснованное заполнение. У нас датафрейм состоить из множества жанров, фильмы из разных стран, не понятно где и какие пропуски, поэтому просто заполнять модой тоже грубо. Здесь лучше пропуски заполнить какой нибудь заглушкой \"не задано\"."
   ]
  },
  {
   "cell_type": "markdown",
   "metadata": {},
   "source": [
    "<div class=\"alert alert-success\">\n",
    "<h2> Комментарий ревьюера V2<a class=\"tocSkip\"> </h2>\n",
    "\n",
    "<b>Все отлично!👍:</b> Все правильно доработала, молодец!"
   ]
  },
  {
   "cell_type": "markdown",
   "metadata": {},
   "source": [
    "Переводим столбец 'show_start_date' в нужный формат"
   ]
  },
  {
   "cell_type": "code",
   "execution_count": 507,
   "metadata": {},
   "outputs": [],
   "source": [
    "df['show_start_date'] = pd.to_datetime(df['show_start_date']).dt.date\n",
    "df['show_start_date'] = pd.to_datetime(df['show_start_date'], format='%Y-%m-%d')"
   ]
  },
  {
   "cell_type": "markdown",
   "metadata": {},
   "source": [
    "*Мы это делаем, чтобы привести столбец show_start_date к формату даты и времени, который удобен для анализа и использования в моделях.*"
   ]
  },
  {
   "cell_type": "markdown",
   "metadata": {},
   "source": [
    "<div class=\"alert alert-success\">\n",
    "<h2> Комментарий ревьюера V1<a class=\"tocSkip\"> </h2>\n",
    "\n",
    "<b>Все отлично!👍:</b> Все верно."
   ]
  },
  {
   "cell_type": "markdown",
   "metadata": {},
   "source": [
    "Создание нового столбца age_group"
   ]
  },
  {
   "cell_type": "code",
   "execution_count": 508,
   "metadata": {},
   "outputs": [],
   "source": [
    "def age_grouped(row):\n",
    "    age_group = row['age_restriction']\n",
    "    if '18' in age_group:\n",
    "        return 18\n",
    "    elif '16' in age_group:\n",
    "        return 16\n",
    "    elif '12' in age_group:\n",
    "        return 12\n",
    "    elif '0' in age_group:\n",
    "        return 0\n",
    "    elif '6' in age_group:\n",
    "        return 6\n",
    "\n",
    "df['age_group'] = df.apply(age_grouped, axis=1)"
   ]
  },
  {
   "cell_type": "markdown",
   "metadata": {},
   "source": [
    "*Мы это делаем, чтобы сгруппировать проекты по их возрастному ограничению и создать новый показатель для анализа. Это может быть полезным для оценки соответствия проектов определенным возрастным группам аудитории или для анализа спроса на проекты в разных возрастных категориях.*"
   ]
  },
  {
   "cell_type": "markdown",
   "metadata": {},
   "source": [
    "<div class=\"alert alert-block alert-danger\">\n",
    "<h2> Комментарий ревьюера V1<a class=\"tocSkip\"></h2>\n",
    "\n",
    "\n",
    "<b>На доработку🤔:</b>\n",
    "На этот момент у тебя уже нет такиз значений в столбце рейтинга, ты их удалила выше, когда использовала метод pd.to_numeric(), этот метод приводит столбец к float, а если встречается значение, которое не получается перевести в число, то это значение удаляется, и все рейтинги с % были удалены."
   ]
  },
  {
   "cell_type": "markdown",
   "metadata": {},
   "source": [
    "*Исправлено*"
   ]
  },
  {
   "cell_type": "markdown",
   "metadata": {},
   "source": [
    "<div class=\"alert alert-success\">\n",
    "<h2> Комментарий ревьюера V2<a class=\"tocSkip\"> </h2>\n",
    "\n",
    "<b>Все отлично!👍:</b> Хорошо."
   ]
  },
  {
   "cell_type": "markdown",
   "metadata": {
    "id": "8MJD_lkngFyP"
   },
   "source": [
    "Проверка наличия пропущенных значений"
   ]
  },
  {
   "cell_type": "code",
   "execution_count": 509,
   "metadata": {
    "scrolled": true
   },
   "outputs": [
    {
     "name": "stdout",
     "output_type": "stream",
     "text": [
      "title                       0\n",
      "pu_number                   1\n",
      "show_start_date             0\n",
      "type                        0\n",
      "film_studio                 0\n",
      "production_country          0\n",
      "director                    0\n",
      "producer                    0\n",
      "age_restriction             0\n",
      "refundable_support       7154\n",
      "nonrefundable_support    7154\n",
      "budget                   7154\n",
      "financing_source         7154\n",
      "ratings                   996\n",
      "genres                      0\n",
      "box_office               4328\n",
      "age_group                   0\n",
      "dtype: int64\n"
     ]
    }
   ],
   "source": [
    "print(df.isna().sum())"
   ]
  },
  {
   "cell_type": "markdown",
   "metadata": {},
   "source": [
    "*Если все столбцы содержат ноль пропущенных значений, то мы можем сделать вывод, что таблица данных полна и не содержит пропущенных значений.*"
   ]
  },
  {
   "cell_type": "markdown",
   "metadata": {},
   "source": [
    " **Общий вывод**\n",
    "\n",
    "- мы провели обработку данных, которые необходимы для анализа\n",
    "- заменили пропущенные значения в числовых и категориальных столбцах\n",
    "- привели столбец с датами к нужному формату\n",
    "- создали новый столбец для возрастной группы\n",
    "- в конце мы проверили таблицу данных на наличие пропущенных значений\n",
    "\n",
    "Наша обработка поможет при подготовке данных для дальнейшего анализа."
   ]
  },
  {
   "cell_type": "markdown",
   "metadata": {
    "id": "4c6k1t9ygFyQ"
   },
   "source": [
    "#### Шаг 2.3. Изучите дубликаты в датафрейме\n",
    "- Проверьте, есть ли в данных дубликаты. Опишите причины, которые могли повлиять на появление дублей."
   ]
  },
  {
   "cell_type": "markdown",
   "metadata": {},
   "source": [
    "Мы проверяем дубликаты, чтобы исключить ошибки при анализе данных и получить более точные результаты. Если есть дубликаты в данных, то это может привести к искажению вычислений или увеличить количество записей в датафрейме, что в свою очередь может затруднить его использование и создать дополнительные проблемы при обработке и анализе данных. Итак, посмотрим!"
   ]
  },
  {
   "cell_type": "code",
   "execution_count": 510,
   "metadata": {
    "id": "aKck8RIdgFyQ"
   },
   "outputs": [
    {
     "data": {
      "text/plain": [
       "0"
      ]
     },
     "execution_count": 510,
     "metadata": {},
     "output_type": "execute_result"
    }
   ],
   "source": [
    "df.duplicated().sum()"
   ]
  },
  {
   "cell_type": "markdown",
   "metadata": {},
   "source": [
    "Явных дубликатов в данных нет"
   ]
  },
  {
   "cell_type": "code",
   "execution_count": 511,
   "metadata": {},
   "outputs": [
    {
     "name": "stdout",
     "output_type": "stream",
     "text": [
      "Найдено 2 неявных дубликатов по столбцу 'pu_number'\n"
     ]
    }
   ],
   "source": [
    "# Подсчет числа дубликатов по столбцу с прокатными удостоверениями\n",
    "duplicates_count = df['pu_number'].duplicated().sum()\n",
    "if duplicates_count > 0:\n",
    "    print(f\"Найдено {duplicates_count} неявных дубликатов по столбцу 'pu_number'\")\n",
    "else:\n",
    "    print(f\"Нет неявных дубликатов по столбцу 'pu_number'\")\n"
   ]
  },
  {
   "cell_type": "markdown",
   "metadata": {},
   "source": [
    "Если дубликаты не создают проблем в дальнейшей работе с данными, то их можно оставить без изменений, однако если дубликаты могут повлиять на результаты анализа, то рекомендуется их обработать. Пока мы не поняли, помешают ли нам эти дубликаты или нет."
   ]
  },
  {
   "cell_type": "code",
   "execution_count": 512,
   "metadata": {
    "scrolled": true
   },
   "outputs": [
    {
     "data": {
      "text/html": [
       "<div>\n",
       "<style scoped>\n",
       "    .dataframe tbody tr th:only-of-type {\n",
       "        vertical-align: middle;\n",
       "    }\n",
       "\n",
       "    .dataframe tbody tr th {\n",
       "        vertical-align: top;\n",
       "    }\n",
       "\n",
       "    .dataframe thead th {\n",
       "        text-align: right;\n",
       "    }\n",
       "</style>\n",
       "<table border=\"1\" class=\"dataframe\">\n",
       "  <thead>\n",
       "    <tr style=\"text-align: right;\">\n",
       "      <th></th>\n",
       "      <th>title</th>\n",
       "      <th>pu_number</th>\n",
       "      <th>show_start_date</th>\n",
       "      <th>type</th>\n",
       "      <th>film_studio</th>\n",
       "      <th>production_country</th>\n",
       "      <th>director</th>\n",
       "      <th>producer</th>\n",
       "      <th>age_restriction</th>\n",
       "      <th>refundable_support</th>\n",
       "      <th>nonrefundable_support</th>\n",
       "      <th>budget</th>\n",
       "      <th>financing_source</th>\n",
       "      <th>ratings</th>\n",
       "      <th>genres</th>\n",
       "      <th>box_office</th>\n",
       "      <th>age_group</th>\n",
       "    </tr>\n",
       "  </thead>\n",
       "  <tbody>\n",
       "    <tr>\n",
       "      <th>4638</th>\n",
       "      <td>Как жениться и остаться холостым</td>\n",
       "      <td>221154310.0</td>\n",
       "      <td>2010-12-17</td>\n",
       "      <td>Художественный</td>\n",
       "      <td>Ше Вам, Скрипт Ассосье, Тэ Фэ 1 Фильм Продюксь...</td>\n",
       "      <td>Франция</td>\n",
       "      <td>Эрик Лартиго</td>\n",
       "      <td>Амандин Било, Алан Шаба</td>\n",
       "      <td>«16+» - для детей старше 16 лет</td>\n",
       "      <td>NaN</td>\n",
       "      <td>NaN</td>\n",
       "      <td>NaN</td>\n",
       "      <td>NaN</td>\n",
       "      <td>7.0</td>\n",
       "      <td>мелодрама,комедия</td>\n",
       "      <td>NaN</td>\n",
       "      <td>16</td>\n",
       "    </tr>\n",
       "    <tr>\n",
       "      <th>4639</th>\n",
       "      <td>Иоанна - женщина на папском престоле /По роман...</td>\n",
       "      <td>221154310.0</td>\n",
       "      <td>2010-12-17</td>\n",
       "      <td>Художественный</td>\n",
       "      <td>Константин Фильм, А Эр Ди Дегето Фильм, Дюне ...</td>\n",
       "      <td>Германия - Великобритания - Италия - Испания</td>\n",
       "      <td>Зенке Вортманн</td>\n",
       "      <td>Оливер Бербен, Дорис Д.Хайнце, Фарук Элтан</td>\n",
       "      <td>«16+» - для детей старше 16 лет</td>\n",
       "      <td>NaN</td>\n",
       "      <td>NaN</td>\n",
       "      <td>NaN</td>\n",
       "      <td>NaN</td>\n",
       "      <td>7.6</td>\n",
       "      <td>драма,мелодрама,история</td>\n",
       "      <td>NaN</td>\n",
       "      <td>16</td>\n",
       "    </tr>\n",
       "    <tr>\n",
       "      <th>5067</th>\n",
       "      <td>Анализируй это!</td>\n",
       "      <td>221054410.0</td>\n",
       "      <td>2010-05-25</td>\n",
       "      <td>Художественный</td>\n",
       "      <td>Уорнер Бразерс, Вилладж Роудшоу Филмз ЛТД</td>\n",
       "      <td>США-Австралия</td>\n",
       "      <td>ХЭрольд Рэмис</td>\n",
       "      <td>Джейн Розенталь, Пола Уейнстейн</td>\n",
       "      <td>«16+» - для детей старше 16 лет</td>\n",
       "      <td>NaN</td>\n",
       "      <td>NaN</td>\n",
       "      <td>NaN</td>\n",
       "      <td>NaN</td>\n",
       "      <td>7.4</td>\n",
       "      <td>комедия,криминал</td>\n",
       "      <td>NaN</td>\n",
       "      <td>16</td>\n",
       "    </tr>\n",
       "    <tr>\n",
       "      <th>5068</th>\n",
       "      <td>Анализируй то!</td>\n",
       "      <td>221054410.0</td>\n",
       "      <td>2010-05-25</td>\n",
       "      <td>Художественный</td>\n",
       "      <td>Уорнер Бразерс, Виллидж Роадшоу Пикчерз, Эн-Пи...</td>\n",
       "      <td>США</td>\n",
       "      <td>Гарольд Реймис</td>\n",
       "      <td>Джейн Розенталь, Паул Уэйнстейн</td>\n",
       "      <td>«12+» - для детей старше 12 лет</td>\n",
       "      <td>NaN</td>\n",
       "      <td>NaN</td>\n",
       "      <td>NaN</td>\n",
       "      <td>NaN</td>\n",
       "      <td>6.8</td>\n",
       "      <td>комедия,криминал</td>\n",
       "      <td>NaN</td>\n",
       "      <td>12</td>\n",
       "    </tr>\n",
       "  </tbody>\n",
       "</table>\n",
       "</div>"
      ],
      "text/plain": [
       "                                                  title    pu_number  \\\n",
       "4638                   Как жениться и остаться холостым  221154310.0   \n",
       "4639  Иоанна - женщина на папском престоле /По роман...  221154310.0   \n",
       "5067                                    Анализируй это!  221054410.0   \n",
       "5068                                     Анализируй то!  221054410.0   \n",
       "\n",
       "     show_start_date            type  \\\n",
       "4638      2010-12-17  Художественный   \n",
       "4639      2010-12-17  Художественный   \n",
       "5067      2010-05-25  Художественный   \n",
       "5068      2010-05-25  Художественный   \n",
       "\n",
       "                                            film_studio  \\\n",
       "4638  Ше Вам, Скрипт Ассосье, Тэ Фэ 1 Фильм Продюксь...   \n",
       "4639   Константин Фильм, А Эр Ди Дегето Фильм, Дюне ...   \n",
       "5067          Уорнер Бразерс, Вилладж Роудшоу Филмз ЛТД   \n",
       "5068  Уорнер Бразерс, Виллидж Роадшоу Пикчерз, Эн-Пи...   \n",
       "\n",
       "                                production_country        director  \\\n",
       "4638                                       Франция    Эрик Лартиго   \n",
       "4639  Германия - Великобритания - Италия - Испания  Зенке Вортманн   \n",
       "5067                                 США-Австралия   ХЭрольд Рэмис   \n",
       "5068                                           США  Гарольд Реймис   \n",
       "\n",
       "                                        producer  \\\n",
       "4638                     Амандин Било, Алан Шаба   \n",
       "4639  Оливер Бербен, Дорис Д.Хайнце, Фарук Элтан   \n",
       "5067             Джейн Розенталь, Пола Уейнстейн   \n",
       "5068             Джейн Розенталь, Паул Уэйнстейн   \n",
       "\n",
       "                      age_restriction  refundable_support  \\\n",
       "4638  «16+» - для детей старше 16 лет                 NaN   \n",
       "4639  «16+» - для детей старше 16 лет                 NaN   \n",
       "5067  «16+» - для детей старше 16 лет                 NaN   \n",
       "5068  «12+» - для детей старше 12 лет                 NaN   \n",
       "\n",
       "      nonrefundable_support  budget financing_source  ratings  \\\n",
       "4638                    NaN     NaN              NaN      7.0   \n",
       "4639                    NaN     NaN              NaN      7.6   \n",
       "5067                    NaN     NaN              NaN      7.4   \n",
       "5068                    NaN     NaN              NaN      6.8   \n",
       "\n",
       "                       genres  box_office  age_group  \n",
       "4638        мелодрама,комедия         NaN         16  \n",
       "4639  драма,мелодрама,история         NaN         16  \n",
       "5067         комедия,криминал         NaN         16  \n",
       "5068         комедия,криминал         NaN         12  "
      ]
     },
     "execution_count": 512,
     "metadata": {},
     "output_type": "execute_result"
    }
   ],
   "source": [
    "df[df.duplicated(subset=['pu_number'], keep = False)]"
   ]
  },
  {
   "cell_type": "markdown",
   "metadata": {},
   "source": [
    "По результатам запроса видно, что у двух фильмов (\"Как жениться и остаться холостым\" и \"Иоанна - женщина на папском престоле /По роману Донна Вуинтроп/\") есть одинаковое значение прокатного удостоверения pu_number. Это и не дубликаты, отличаются только жанры и страна-производитель. Видимо, при написании этих строк случилась какая-то техническая ошибка.\n",
    "\n",
    "Нам следует удалить только дублирующиеся строки, мы не потеряем при этом важную информацию."
   ]
  },
  {
   "cell_type": "code",
   "execution_count": 513,
   "metadata": {},
   "outputs": [
    {
     "data": {
      "text/plain": [
       "0"
      ]
     },
     "execution_count": 513,
     "metadata": {},
     "output_type": "execute_result"
    }
   ],
   "source": [
    "df.drop_duplicates(subset=['pu_number'], inplace=True)\n",
    "df['pu_number'].duplicated().sum()"
   ]
  },
  {
   "cell_type": "markdown",
   "metadata": {},
   "source": [
    "<div class=\"alert alert-success\">\n",
    "<h2> Комментарий ревьюера V1<a class=\"tocSkip\"> </h2>\n",
    "\n",
    "<b>Все отлично!👍:</b> Правильно обработала неявные дубликаты."
   ]
  },
  {
   "cell_type": "code",
   "execution_count": 514,
   "metadata": {},
   "outputs": [
    {
     "data": {
      "text/html": [
       "<div>\n",
       "<style scoped>\n",
       "    .dataframe tbody tr th:only-of-type {\n",
       "        vertical-align: middle;\n",
       "    }\n",
       "\n",
       "    .dataframe tbody tr th {\n",
       "        vertical-align: top;\n",
       "    }\n",
       "\n",
       "    .dataframe thead th {\n",
       "        text-align: right;\n",
       "    }\n",
       "</style>\n",
       "<table border=\"1\" class=\"dataframe\">\n",
       "  <thead>\n",
       "    <tr style=\"text-align: right;\">\n",
       "      <th></th>\n",
       "      <th>title</th>\n",
       "      <th>pu_number</th>\n",
       "      <th>show_start_date</th>\n",
       "      <th>type</th>\n",
       "      <th>film_studio</th>\n",
       "      <th>production_country</th>\n",
       "      <th>director</th>\n",
       "      <th>producer</th>\n",
       "      <th>age_restriction</th>\n",
       "      <th>refundable_support</th>\n",
       "      <th>nonrefundable_support</th>\n",
       "      <th>budget</th>\n",
       "      <th>financing_source</th>\n",
       "      <th>ratings</th>\n",
       "      <th>genres</th>\n",
       "      <th>box_office</th>\n",
       "      <th>age_group</th>\n",
       "    </tr>\n",
       "  </thead>\n",
       "  <tbody>\n",
       "    <tr>\n",
       "      <th>2</th>\n",
       "      <td>Особо опасен</td>\n",
       "      <td>221038416.0</td>\n",
       "      <td>2016-10-10</td>\n",
       "      <td>Художественный</td>\n",
       "      <td>Юниверсал Пикчерз, Кикстарт Продакшнз, Марк Пл...</td>\n",
       "      <td>США</td>\n",
       "      <td>Тимур Бекмамбетов</td>\n",
       "      <td>Джим Лемли, Джейсон Нетер, Марк Е.Платт, Яйн Смит</td>\n",
       "      <td>«18+» - запрещено для детей</td>\n",
       "      <td>NaN</td>\n",
       "      <td>NaN</td>\n",
       "      <td>NaN</td>\n",
       "      <td>NaN</td>\n",
       "      <td>6.8</td>\n",
       "      <td>фантастика,боевик,триллер</td>\n",
       "      <td>NaN</td>\n",
       "      <td>18</td>\n",
       "    </tr>\n",
       "    <tr>\n",
       "      <th>3</th>\n",
       "      <td>Особо опасен</td>\n",
       "      <td>221026916.0</td>\n",
       "      <td>2016-06-10</td>\n",
       "      <td>Художественный</td>\n",
       "      <td>Юниверсал Пикчерз, Кикстарт Продакшнз, Марк Пл...</td>\n",
       "      <td>США</td>\n",
       "      <td>Тимур Бекмамбетов</td>\n",
       "      <td>Джим Лемли, Джейсон Нетер, Марк Е.Платт, Яйн Смит</td>\n",
       "      <td>«18+» - запрещено для детей</td>\n",
       "      <td>NaN</td>\n",
       "      <td>NaN</td>\n",
       "      <td>NaN</td>\n",
       "      <td>NaN</td>\n",
       "      <td>6.8</td>\n",
       "      <td>фантастика,боевик,триллер</td>\n",
       "      <td>NaN</td>\n",
       "      <td>18</td>\n",
       "    </tr>\n",
       "    <tr>\n",
       "      <th>4</th>\n",
       "      <td>Особо опасен</td>\n",
       "      <td>221030815.0</td>\n",
       "      <td>2015-07-29</td>\n",
       "      <td>Художественный</td>\n",
       "      <td>Юниверсал Пикчерз, Кикстарт Продакшнз, Марк Пл...</td>\n",
       "      <td>США</td>\n",
       "      <td>Тимур Бекмамбетов</td>\n",
       "      <td>Джим Лемли, Джейсон Нетер, Марк Е.Платт, Яйн Смит</td>\n",
       "      <td>«18+» - запрещено для детей</td>\n",
       "      <td>NaN</td>\n",
       "      <td>NaN</td>\n",
       "      <td>NaN</td>\n",
       "      <td>NaN</td>\n",
       "      <td>6.8</td>\n",
       "      <td>фантастика,боевик,триллер</td>\n",
       "      <td>NaN</td>\n",
       "      <td>18</td>\n",
       "    </tr>\n",
       "    <tr>\n",
       "      <th>12</th>\n",
       "      <td>Малышка на миллион /По мотивам рассказов Ф.Х.Т...</td>\n",
       "      <td>221011415.0</td>\n",
       "      <td>2015-04-03</td>\n",
       "      <td>Художественный</td>\n",
       "      <td>Уорнер Бразерс, Лейкшор Интертейнмент, Малпасо...</td>\n",
       "      <td>США</td>\n",
       "      <td>Клинт Иствуд</td>\n",
       "      <td>Клинт Иствуд, Том Розенберг, Альберт С.Рудди, ...</td>\n",
       "      <td>«16+» - для детей старше 16 лет</td>\n",
       "      <td>NaN</td>\n",
       "      <td>NaN</td>\n",
       "      <td>NaN</td>\n",
       "      <td>NaN</td>\n",
       "      <td>8.1</td>\n",
       "      <td>драма,спорт</td>\n",
       "      <td>NaN</td>\n",
       "      <td>16</td>\n",
       "    </tr>\n",
       "    <tr>\n",
       "      <th>26</th>\n",
       "      <td>Оружейный барон</td>\n",
       "      <td>221012515.0</td>\n",
       "      <td>2015-04-03</td>\n",
       "      <td>Художественный</td>\n",
       "      <td>Вэ И Пэ Медиенфондс 3, Асендант Пикчерз, Сатур...</td>\n",
       "      <td>США - Франция - Турция</td>\n",
       "      <td>Эндрю Никкол</td>\n",
       "      <td>Норман Голуайтли, Энди Грош, Николас Кейдж, Эн...</td>\n",
       "      <td>«18+» - запрещено для детей</td>\n",
       "      <td>NaN</td>\n",
       "      <td>NaN</td>\n",
       "      <td>NaN</td>\n",
       "      <td>NaN</td>\n",
       "      <td>7.7</td>\n",
       "      <td>боевик,драма,криминал</td>\n",
       "      <td>NaN</td>\n",
       "      <td>18</td>\n",
       "    </tr>\n",
       "    <tr>\n",
       "      <th>...</th>\n",
       "      <td>...</td>\n",
       "      <td>...</td>\n",
       "      <td>...</td>\n",
       "      <td>...</td>\n",
       "      <td>...</td>\n",
       "      <td>...</td>\n",
       "      <td>...</td>\n",
       "      <td>...</td>\n",
       "      <td>...</td>\n",
       "      <td>...</td>\n",
       "      <td>...</td>\n",
       "      <td>...</td>\n",
       "      <td>...</td>\n",
       "      <td>...</td>\n",
       "      <td>...</td>\n",
       "      <td>...</td>\n",
       "      <td>...</td>\n",
       "    </tr>\n",
       "    <tr>\n",
       "      <th>7264</th>\n",
       "      <td>Руби и повелитель воды</td>\n",
       "      <td>124007619.0</td>\n",
       "      <td>2019-09-30</td>\n",
       "      <td>Анимационный</td>\n",
       "      <td>Итс Картун Анимейшн Студио</td>\n",
       "      <td>КНР</td>\n",
       "      <td>Дин Ши</td>\n",
       "      <td>Ван Юньфэй</td>\n",
       "      <td>«6+» - для детей старше 6 лет</td>\n",
       "      <td>NaN</td>\n",
       "      <td>NaN</td>\n",
       "      <td>NaN</td>\n",
       "      <td>NaN</td>\n",
       "      <td>NaN</td>\n",
       "      <td>нет информации</td>\n",
       "      <td>NaN</td>\n",
       "      <td>6</td>\n",
       "    </tr>\n",
       "    <tr>\n",
       "      <th>7265</th>\n",
       "      <td>Альдабра: Путешествие по таинственному острову</td>\n",
       "      <td>126003719.0</td>\n",
       "      <td>2019-09-30</td>\n",
       "      <td>Прочие</td>\n",
       "      <td>Старлайт Пикчерз</td>\n",
       "      <td>Чехия</td>\n",
       "      <td>Стив Лихтаг</td>\n",
       "      <td>Петр Келлер, Роберт Шнайдер, Леопольдо Гоут</td>\n",
       "      <td>«6+» - для детей старше 6 лет</td>\n",
       "      <td>NaN</td>\n",
       "      <td>NaN</td>\n",
       "      <td>NaN</td>\n",
       "      <td>NaN</td>\n",
       "      <td>6.8</td>\n",
       "      <td>семейный,приключения,документальный</td>\n",
       "      <td>NaN</td>\n",
       "      <td>6</td>\n",
       "    </tr>\n",
       "    <tr>\n",
       "      <th>7301</th>\n",
       "      <td>Ночь живых мертвецов</td>\n",
       "      <td>121029119.0</td>\n",
       "      <td>2019-10-30</td>\n",
       "      <td>Художественный</td>\n",
       "      <td>Имейдж Тен, Лаурель Групп, Маркет Скьяр Продак...</td>\n",
       "      <td>США</td>\n",
       "      <td>Джордж А.Ромеро</td>\n",
       "      <td>Расселл Страйнер, Карл Хардмен</td>\n",
       "      <td>«18+» - запрещено для детей</td>\n",
       "      <td>NaN</td>\n",
       "      <td>NaN</td>\n",
       "      <td>NaN</td>\n",
       "      <td>NaN</td>\n",
       "      <td>7.3</td>\n",
       "      <td>ужасы,триллер</td>\n",
       "      <td>NaN</td>\n",
       "      <td>18</td>\n",
       "    </tr>\n",
       "    <tr>\n",
       "      <th>7322</th>\n",
       "      <td>Успех</td>\n",
       "      <td>111018519.0</td>\n",
       "      <td>2019-11-04</td>\n",
       "      <td>Художественный</td>\n",
       "      <td>ООО \"Кинодом\"</td>\n",
       "      <td>Россия</td>\n",
       "      <td>П.Руминов</td>\n",
       "      <td>С.Бобза, Г.Малков, В.Поляков, М.Кучмент</td>\n",
       "      <td>«12+» - для детей старше 12 лет</td>\n",
       "      <td>5000000.0</td>\n",
       "      <td>20000000.0</td>\n",
       "      <td>75000000.0</td>\n",
       "      <td>Фонд кино</td>\n",
       "      <td>7.8</td>\n",
       "      <td>драма</td>\n",
       "      <td>3181218.0</td>\n",
       "      <td>12</td>\n",
       "    </tr>\n",
       "    <tr>\n",
       "      <th>7369</th>\n",
       "      <td>Невиновен</td>\n",
       "      <td>111019319.0</td>\n",
       "      <td>2019-11-07</td>\n",
       "      <td>Художественный</td>\n",
       "      <td>ООО \"Кавказфильм\"</td>\n",
       "      <td>Россия</td>\n",
       "      <td>А.Емкужев</td>\n",
       "      <td>А.Емкужев, А.Хуажева, ООО \"Корпорация Русская ...</td>\n",
       "      <td>«16+» - для детей старше 16 лет</td>\n",
       "      <td>NaN</td>\n",
       "      <td>NaN</td>\n",
       "      <td>NaN</td>\n",
       "      <td>NaN</td>\n",
       "      <td>7.5</td>\n",
       "      <td>триллер,детектив,криминал</td>\n",
       "      <td>NaN</td>\n",
       "      <td>16</td>\n",
       "    </tr>\n",
       "  </tbody>\n",
       "</table>\n",
       "<p>1218 rows × 17 columns</p>\n",
       "</div>"
      ],
      "text/plain": [
       "                                                  title    pu_number  \\\n",
       "2                                          Особо опасен  221038416.0   \n",
       "3                                          Особо опасен  221026916.0   \n",
       "4                                          Особо опасен  221030815.0   \n",
       "12    Малышка на миллион /По мотивам рассказов Ф.Х.Т...  221011415.0   \n",
       "26                                      Оружейный барон  221012515.0   \n",
       "...                                                 ...          ...   \n",
       "7264                             Руби и повелитель воды  124007619.0   \n",
       "7265     Альдабра: Путешествие по таинственному острову  126003719.0   \n",
       "7301                               Ночь живых мертвецов  121029119.0   \n",
       "7322                                              Успех  111018519.0   \n",
       "7369                                          Невиновен  111019319.0   \n",
       "\n",
       "     show_start_date             type  \\\n",
       "2         2016-10-10   Художественный   \n",
       "3         2016-06-10   Художественный   \n",
       "4         2015-07-29   Художественный   \n",
       "12        2015-04-03   Художественный   \n",
       "26        2015-04-03   Художественный   \n",
       "...              ...              ...   \n",
       "7264      2019-09-30     Анимационный   \n",
       "7265      2019-09-30           Прочие   \n",
       "7301      2019-10-30   Художественный   \n",
       "7322      2019-11-04   Художественный   \n",
       "7369      2019-11-07   Художественный   \n",
       "\n",
       "                                            film_studio  \\\n",
       "2     Юниверсал Пикчерз, Кикстарт Продакшнз, Марк Пл...   \n",
       "3     Юниверсал Пикчерз, Кикстарт Продакшнз, Марк Пл...   \n",
       "4     Юниверсал Пикчерз, Кикстарт Продакшнз, Марк Пл...   \n",
       "12    Уорнер Бразерс, Лейкшор Интертейнмент, Малпасо...   \n",
       "26    Вэ И Пэ Медиенфондс 3, Асендант Пикчерз, Сатур...   \n",
       "...                                                 ...   \n",
       "7264                         Итс Картун Анимейшн Студио   \n",
       "7265                                   Старлайт Пикчерз   \n",
       "7301  Имейдж Тен, Лаурель Групп, Маркет Скьяр Продак...   \n",
       "7322                                      ООО \"Кинодом\"   \n",
       "7369                                  ООО \"Кавказфильм\"   \n",
       "\n",
       "          production_country           director  \\\n",
       "2                        США  Тимур Бекмамбетов   \n",
       "3                        США  Тимур Бекмамбетов   \n",
       "4                        США  Тимур Бекмамбетов   \n",
       "12                       США       Клинт Иствуд   \n",
       "26    США - Франция - Турция       Эндрю Никкол   \n",
       "...                      ...                ...   \n",
       "7264                     КНР             Дин Ши   \n",
       "7265                   Чехия        Стив Лихтаг   \n",
       "7301                     США    Джордж А.Ромеро   \n",
       "7322                  Россия          П.Руминов   \n",
       "7369                  Россия          А.Емкужев   \n",
       "\n",
       "                                               producer  \\\n",
       "2     Джим Лемли, Джейсон Нетер, Марк Е.Платт, Яйн Смит   \n",
       "3     Джим Лемли, Джейсон Нетер, Марк Е.Платт, Яйн Смит   \n",
       "4     Джим Лемли, Джейсон Нетер, Марк Е.Платт, Яйн Смит   \n",
       "12    Клинт Иствуд, Том Розенберг, Альберт С.Рудди, ...   \n",
       "26    Норман Голуайтли, Энди Грош, Николас Кейдж, Эн...   \n",
       "...                                                 ...   \n",
       "7264                                         Ван Юньфэй   \n",
       "7265        Петр Келлер, Роберт Шнайдер, Леопольдо Гоут   \n",
       "7301                     Расселл Страйнер, Карл Хардмен   \n",
       "7322            С.Бобза, Г.Малков, В.Поляков, М.Кучмент   \n",
       "7369  А.Емкужев, А.Хуажева, ООО \"Корпорация Русская ...   \n",
       "\n",
       "                      age_restriction  refundable_support  \\\n",
       "2         «18+» - запрещено для детей                 NaN   \n",
       "3         «18+» - запрещено для детей                 NaN   \n",
       "4         «18+» - запрещено для детей                 NaN   \n",
       "12    «16+» - для детей старше 16 лет                 NaN   \n",
       "26        «18+» - запрещено для детей                 NaN   \n",
       "...                               ...                 ...   \n",
       "7264    «6+» - для детей старше 6 лет                 NaN   \n",
       "7265    «6+» - для детей старше 6 лет                 NaN   \n",
       "7301      «18+» - запрещено для детей                 NaN   \n",
       "7322  «12+» - для детей старше 12 лет           5000000.0   \n",
       "7369  «16+» - для детей старше 16 лет                 NaN   \n",
       "\n",
       "      nonrefundable_support      budget financing_source  ratings  \\\n",
       "2                       NaN         NaN              NaN      6.8   \n",
       "3                       NaN         NaN              NaN      6.8   \n",
       "4                       NaN         NaN              NaN      6.8   \n",
       "12                      NaN         NaN              NaN      8.1   \n",
       "26                      NaN         NaN              NaN      7.7   \n",
       "...                     ...         ...              ...      ...   \n",
       "7264                    NaN         NaN              NaN      NaN   \n",
       "7265                    NaN         NaN              NaN      6.8   \n",
       "7301                    NaN         NaN              NaN      7.3   \n",
       "7322             20000000.0  75000000.0        Фонд кино      7.8   \n",
       "7369                    NaN         NaN              NaN      7.5   \n",
       "\n",
       "                                   genres  box_office  age_group  \n",
       "2               фантастика,боевик,триллер         NaN         18  \n",
       "3               фантастика,боевик,триллер         NaN         18  \n",
       "4               фантастика,боевик,триллер         NaN         18  \n",
       "12                            драма,спорт         NaN         16  \n",
       "26                  боевик,драма,криминал         NaN         18  \n",
       "...                                   ...         ...        ...  \n",
       "7264                       нет информации         NaN          6  \n",
       "7265  семейный,приключения,документальный         NaN          6  \n",
       "7301                        ужасы,триллер         NaN         18  \n",
       "7322                                драма   3181218.0         12  \n",
       "7369            триллер,детектив,криминал         NaN         16  \n",
       "\n",
       "[1218 rows x 17 columns]"
      ]
     },
     "execution_count": 514,
     "metadata": {},
     "output_type": "execute_result"
    }
   ],
   "source": [
    "df[df.duplicated(subset=['title', 'production_country'], keep=False)]"
   ]
  },
  {
   "cell_type": "markdown",
   "metadata": {},
   "source": [
    "При проверке по столбцам 'title' и 'production_country' мы нашли 1218 случаев дублирования. они Объясняются наличием нескольких прокатных удостоверений на один фильм. Исправлять не будем."
   ]
  },
  {
   "cell_type": "markdown",
   "metadata": {},
   "source": [
    "Мы удалили все явные и неявные дубликаты, теперь можем переходить к следующему шагу."
   ]
  },
  {
   "cell_type": "markdown",
   "metadata": {},
   "source": [
    "<div class=\"alert alert-warning\">\n",
    "<h2> Комментарий ревьюера V1<a class=\"tocSkip\"> </h2>\n",
    "\n",
    "<b>Некоторые замечания и рекомендации💡:</b> Стоило также посмотреть на дубликаты по названию фильма."
   ]
  },
  {
   "cell_type": "markdown",
   "metadata": {
    "id": "52fOPrEBgFyQ"
   },
   "source": [
    "#### Шаг 2.4. Изучите категориальные значения\n",
    "\n",
    "- Посмотрите, какая общая проблема встречается почти во всех категориальных столбцах;\n",
    "- Исправьте проблемные значения в поле `type`.\n",
    "\n",
    "<div id=\"accordion\">\n",
    "    <div class=\"card\">\n",
    "        <div class=\"card-header\" id=\"headingThree\">\n",
    "            <button class=\"btn btn-link collapsed\" data-toggle=\"collapse\" data-target=\"#collapseHint_1\" aria-expanded=\"false\" aria-controls=\"collapseHint_1\">Подсказка</button>\n",
    "        </div>\n",
    "        <div id=\"collapseHint_1\" class=\"collapse\" aria-labelledby=\"headingThree\" data-parent=\"#accordion\">\n",
    "            <div class=\"card-body\">\n",
    "В поле <code>type</code> есть несколько значений, у которых появился пробел в начале строки. Самый простой способ их «починить» -- использовать метод <a href=\"https://pandas.pydata.org/docs/reference/api/pandas.Series.str.strip.html#pandas.Series.str.strip\">.str.strip</a>. Этот метод удаляет все пробелы, которые встречаются в начале и в конце строки. Применяют его таким образом:<br>\n",
    "<code>df['type'].str.strip()</code>\n",
    "            </div>\n",
    "        </div>\n",
    "    </div>\n",
    "</div>"
   ]
  },
  {
   "cell_type": "markdown",
   "metadata": {
    "id": "PnXKIVdFgFyR"
   },
   "source": [
    "Почти всех столбцах есть повторяющаяся проблема - пробел в начале или конце строк. Необходимо избавиться от этих пробелов. Также была выявлена проблема в столбце 'type', где у некоторых значений есть пробел в начале строки. Для исправления этой проблемы можно использовать метод .str.strip()"
   ]
  },
  {
   "cell_type": "code",
   "execution_count": 515,
   "metadata": {},
   "outputs": [],
   "source": [
    "df['type'] = df['type'].str.strip()"
   ]
  },
  {
   "cell_type": "markdown",
   "metadata": {},
   "source": [
    "<div class=\"alert alert-success\">\n",
    "<h2> Комментарий ревьюера V1<a class=\"tocSkip\"> </h2>\n",
    "\n",
    "<b>Все отлично!👍:</b> Пробелы обработала правильно."
   ]
  },
  {
   "cell_type": "code",
   "execution_count": 516,
   "metadata": {},
   "outputs": [
    {
     "data": {
      "text/plain": [
       "['title',\n",
       " 'pu_number',\n",
       " 'show_start_date',\n",
       " 'type',\n",
       " 'film_studio',\n",
       " 'production_country',\n",
       " 'director',\n",
       " 'producer',\n",
       " 'age_restriction',\n",
       " 'refundable_support',\n",
       " 'nonrefundable_support',\n",
       " 'budget',\n",
       " 'financing_source',\n",
       " 'ratings',\n",
       " 'genres',\n",
       " 'box_office',\n",
       " 'age_group']"
      ]
     },
     "execution_count": 516,
     "metadata": {},
     "output_type": "execute_result"
    }
   ],
   "source": [
    "list(df.columns.values)"
   ]
  },
  {
   "cell_type": "markdown",
   "metadata": {},
   "source": [
    "Некоторые особенности могут принести некоторые проблемы, это:\n",
    "\n",
    "- Различный регистр символов у одинаковых значений. Например, в столбце 'production_country' может быть значение 'США' и 'Сша'.\n",
    "\n",
    "- Наличие различных сокращений для одинаковых значений. Например, в столбце 'producer' может быть использовано сокращение 'ООО', 'ООО.', 'Ооо' и т.д. вместо полного названия организации."
   ]
  },
  {
   "cell_type": "code",
   "execution_count": 517,
   "metadata": {},
   "outputs": [],
   "source": [
    "df['production_country'] = df['production_country'].str.lower()"
   ]
  },
  {
   "cell_type": "markdown",
   "metadata": {},
   "source": [
    "Дублирующиеся значения в столбцах также надо убрать."
   ]
  },
  {
   "cell_type": "code",
   "execution_count": 518,
   "metadata": {},
   "outputs": [],
   "source": [
    "df['producer'] = df['producer'].str.replace(r'[^\\w\\s]+', '', regex=True)\n",
    "df['producer'] = df['producer'].replace('', np.nan).drop_duplicates().fillna('')"
   ]
  },
  {
   "cell_type": "code",
   "execution_count": 519,
   "metadata": {},
   "outputs": [],
   "source": [
    "# Разделяем значения в столбце \"genres\" и создаем отдельные столбцы для каждого жанра\n",
    "#df = pd.concat([df, df['genres'].str.get_dummies(sep=',')], axis=1)\n",
    "#df.drop('genres', axis=1, inplace=True)\n",
    "\n",
    "# Удаление дублирующихся значений\n",
    "#df.drop_duplicates(inplace=True)\n",
    "\n",
    "# Переименование столбцов\n",
    "# df.rename(columns={'pu_number': 'production_number',\n",
    "                   #'show_start_date': 'release_date',\n",
    "                   #'film_studio': 'production_company',\n",
    "                   #'director': 'director_name',\n",
    "                   #'age_restriction': 'age_rating',\n",
    "                   #'ratings': 'imdb_rating',\n",
    "                   #'box_office': 'gross_revenue',\n",
    "                   #'age_group': 'target_audience'}, inplace=True)"
   ]
  },
  {
   "cell_type": "markdown",
   "metadata": {},
   "source": [
    "Честно признаться, меня несколько смутили результаты, нужно ли разделять значения в столбце \"genres\" и создаем отдельные столбцы для каждого жанра, а потом дропать значения..."
   ]
  },
  {
   "cell_type": "code",
   "execution_count": 520,
   "metadata": {},
   "outputs": [
    {
     "data": {
      "text/html": [
       "<div>\n",
       "<style scoped>\n",
       "    .dataframe tbody tr th:only-of-type {\n",
       "        vertical-align: middle;\n",
       "    }\n",
       "\n",
       "    .dataframe tbody tr th {\n",
       "        vertical-align: top;\n",
       "    }\n",
       "\n",
       "    .dataframe thead th {\n",
       "        text-align: right;\n",
       "    }\n",
       "</style>\n",
       "<table border=\"1\" class=\"dataframe\">\n",
       "  <thead>\n",
       "    <tr style=\"text-align: right;\">\n",
       "      <th></th>\n",
       "      <th>title</th>\n",
       "      <th>pu_number</th>\n",
       "      <th>show_start_date</th>\n",
       "      <th>type</th>\n",
       "      <th>film_studio</th>\n",
       "      <th>production_country</th>\n",
       "      <th>director</th>\n",
       "      <th>producer</th>\n",
       "      <th>age_restriction</th>\n",
       "      <th>refundable_support</th>\n",
       "      <th>nonrefundable_support</th>\n",
       "      <th>budget</th>\n",
       "      <th>financing_source</th>\n",
       "      <th>ratings</th>\n",
       "      <th>genres</th>\n",
       "      <th>box_office</th>\n",
       "      <th>age_group</th>\n",
       "    </tr>\n",
       "  </thead>\n",
       "  <tbody>\n",
       "    <tr>\n",
       "      <th>0</th>\n",
       "      <td>Открытый простор</td>\n",
       "      <td>221048915.0</td>\n",
       "      <td>2015-11-27</td>\n",
       "      <td>Художественный</td>\n",
       "      <td>Тачстоун Пикчерз, Кобальт Пикчерз, Бикон Пикче...</td>\n",
       "      <td>сша</td>\n",
       "      <td>Кевин Костнер</td>\n",
       "      <td>Дэвид Валдес Кевин Костнер Джейк Эбертс</td>\n",
       "      <td>«18+» - запрещено для детей</td>\n",
       "      <td>NaN</td>\n",
       "      <td>NaN</td>\n",
       "      <td>NaN</td>\n",
       "      <td>NaN</td>\n",
       "      <td>7.2</td>\n",
       "      <td>боевик,драма,мелодрама</td>\n",
       "      <td>NaN</td>\n",
       "      <td>18</td>\n",
       "    </tr>\n",
       "    <tr>\n",
       "      <th>1</th>\n",
       "      <td>Особо важное задание</td>\n",
       "      <td>111013716.0</td>\n",
       "      <td>2016-09-13</td>\n",
       "      <td>Художественный</td>\n",
       "      <td>Киностудия \"Мосфильм\"</td>\n",
       "      <td>ссср</td>\n",
       "      <td>Е.Матвеев</td>\n",
       "      <td>нет информации</td>\n",
       "      <td>«6+» - для детей старше 6 лет</td>\n",
       "      <td>NaN</td>\n",
       "      <td>NaN</td>\n",
       "      <td>NaN</td>\n",
       "      <td>NaN</td>\n",
       "      <td>6.6</td>\n",
       "      <td>драма,военный</td>\n",
       "      <td>NaN</td>\n",
       "      <td>6</td>\n",
       "    </tr>\n",
       "    <tr>\n",
       "      <th>2</th>\n",
       "      <td>Особо опасен</td>\n",
       "      <td>221038416.0</td>\n",
       "      <td>2016-10-10</td>\n",
       "      <td>Художественный</td>\n",
       "      <td>Юниверсал Пикчерз, Кикстарт Продакшнз, Марк Пл...</td>\n",
       "      <td>сша</td>\n",
       "      <td>Тимур Бекмамбетов</td>\n",
       "      <td>Джим Лемли Джейсон Нетер Марк ЕПлатт Яйн Смит</td>\n",
       "      <td>«18+» - запрещено для детей</td>\n",
       "      <td>NaN</td>\n",
       "      <td>NaN</td>\n",
       "      <td>NaN</td>\n",
       "      <td>NaN</td>\n",
       "      <td>6.8</td>\n",
       "      <td>фантастика,боевик,триллер</td>\n",
       "      <td>NaN</td>\n",
       "      <td>18</td>\n",
       "    </tr>\n",
       "    <tr>\n",
       "      <th>3</th>\n",
       "      <td>Особо опасен</td>\n",
       "      <td>221026916.0</td>\n",
       "      <td>2016-06-10</td>\n",
       "      <td>Художественный</td>\n",
       "      <td>Юниверсал Пикчерз, Кикстарт Продакшнз, Марк Пл...</td>\n",
       "      <td>сша</td>\n",
       "      <td>Тимур Бекмамбетов</td>\n",
       "      <td>NaN</td>\n",
       "      <td>«18+» - запрещено для детей</td>\n",
       "      <td>NaN</td>\n",
       "      <td>NaN</td>\n",
       "      <td>NaN</td>\n",
       "      <td>NaN</td>\n",
       "      <td>6.8</td>\n",
       "      <td>фантастика,боевик,триллер</td>\n",
       "      <td>NaN</td>\n",
       "      <td>18</td>\n",
       "    </tr>\n",
       "    <tr>\n",
       "      <th>4</th>\n",
       "      <td>Особо опасен</td>\n",
       "      <td>221030815.0</td>\n",
       "      <td>2015-07-29</td>\n",
       "      <td>Художественный</td>\n",
       "      <td>Юниверсал Пикчерз, Кикстарт Продакшнз, Марк Пл...</td>\n",
       "      <td>сша</td>\n",
       "      <td>Тимур Бекмамбетов</td>\n",
       "      <td>NaN</td>\n",
       "      <td>«18+» - запрещено для детей</td>\n",
       "      <td>NaN</td>\n",
       "      <td>NaN</td>\n",
       "      <td>NaN</td>\n",
       "      <td>NaN</td>\n",
       "      <td>6.8</td>\n",
       "      <td>фантастика,боевик,триллер</td>\n",
       "      <td>NaN</td>\n",
       "      <td>18</td>\n",
       "    </tr>\n",
       "  </tbody>\n",
       "</table>\n",
       "</div>"
      ],
      "text/plain": [
       "                  title    pu_number show_start_date            type  \\\n",
       "0      Открытый простор  221048915.0      2015-11-27  Художественный   \n",
       "1  Особо важное задание  111013716.0      2016-09-13  Художественный   \n",
       "2          Особо опасен  221038416.0      2016-10-10  Художественный   \n",
       "3          Особо опасен  221026916.0      2016-06-10  Художественный   \n",
       "4          Особо опасен  221030815.0      2015-07-29  Художественный   \n",
       "\n",
       "                                         film_studio production_country  \\\n",
       "0  Тачстоун Пикчерз, Кобальт Пикчерз, Бикон Пикче...                сша   \n",
       "1                              Киностудия \"Мосфильм\"               ссср   \n",
       "2  Юниверсал Пикчерз, Кикстарт Продакшнз, Марк Пл...                сша   \n",
       "3  Юниверсал Пикчерз, Кикстарт Продакшнз, Марк Пл...                сша   \n",
       "4  Юниверсал Пикчерз, Кикстарт Продакшнз, Марк Пл...                сша   \n",
       "\n",
       "            director                                       producer  \\\n",
       "0      Кевин Костнер        Дэвид Валдес Кевин Костнер Джейк Эбертс   \n",
       "1          Е.Матвеев                                 нет информации   \n",
       "2  Тимур Бекмамбетов  Джим Лемли Джейсон Нетер Марк ЕПлатт Яйн Смит   \n",
       "3  Тимур Бекмамбетов                                            NaN   \n",
       "4  Тимур Бекмамбетов                                            NaN   \n",
       "\n",
       "                 age_restriction  refundable_support  nonrefundable_support  \\\n",
       "0    «18+» - запрещено для детей                 NaN                    NaN   \n",
       "1  «6+» - для детей старше 6 лет                 NaN                    NaN   \n",
       "2    «18+» - запрещено для детей                 NaN                    NaN   \n",
       "3    «18+» - запрещено для детей                 NaN                    NaN   \n",
       "4    «18+» - запрещено для детей                 NaN                    NaN   \n",
       "\n",
       "   budget financing_source  ratings                     genres  box_office  \\\n",
       "0     NaN              NaN      7.2     боевик,драма,мелодрама         NaN   \n",
       "1     NaN              NaN      6.6              драма,военный         NaN   \n",
       "2     NaN              NaN      6.8  фантастика,боевик,триллер         NaN   \n",
       "3     NaN              NaN      6.8  фантастика,боевик,триллер         NaN   \n",
       "4     NaN              NaN      6.8  фантастика,боевик,триллер         NaN   \n",
       "\n",
       "   age_group  \n",
       "0         18  \n",
       "1          6  \n",
       "2         18  \n",
       "3         18  \n",
       "4         18  "
      ]
     },
     "execution_count": 520,
     "metadata": {},
     "output_type": "execute_result"
    }
   ],
   "source": [
    "df.head()"
   ]
  },
  {
   "cell_type": "markdown",
   "metadata": {},
   "source": [
    "При анализе категориальных значений в данных были выявлены несколько проблемных моментов, таких как наличие пробелов в начале и конце строк, различный регистр символов у одинаковых значений, наличие дублирующихся значений.В результате корректировки категориальных значений мы получили данные, которые являются удобочитаемыми, структурированными, однородными."
   ]
  },
  {
   "cell_type": "markdown",
   "metadata": {},
   "source": [
    "<div class=\"alert alert-warning\">\n",
    "<h2> Комментарий ревьюера V1<a class=\"tocSkip\"> </h2>\n",
    "\n",
    "<b>Некоторые замечания и рекомендации💡:</b> Общая проблема заключается в том, что в большинстве параметров через запятую указаны значения, например, жанр, продюсеры и тд. И мы не знаем какой порядок у значений, что может создавать много неявных дубликатов, например: 1) Комедия, Боевик 2) Боевик, Комедия."
   ]
  },
  {
   "cell_type": "markdown",
   "metadata": {
    "id": "XFSN5lrEgFyR"
   },
   "source": [
    "#### Шаг 2.5. Проверьте количественные значения\n",
    "\n",
    "- Проверьте, обнаружились ли в таких столбцах подозрительные данные. Как с такими данными лучше поступить?\n",
    "\n",
    "<div id=\"accordion\">\n",
    "    <div class=\"card\">\n",
    "        <div class=\"card-header\" id=\"headingThree\">\n",
    "            <button class=\"btn btn-link collapsed\" data-toggle=\"collapse\" data-target=\"#collapseHint_budget\" aria-expanded=\"false\" aria-controls=\"collapseHint_budget\">Подсказка</button>\n",
    "        </div>\n",
    "        <div id=\"collapseHint_budget\" class=\"collapse\" aria-labelledby=\"headingThree\" data-parent=\"#accordion\">\n",
    "            <div class=\"card-body\">\n",
    "Обратите внимание на описание столбца <code>budget</code>. Как этот столбец соотносится с двумя другими: <code>refundable_support</code> и <code>nonrefundable_support</code>?\n",
    "            </div>\n",
    "        </div>\n",
    "    </div>\n",
    "</div>"
   ]
  },
  {
   "cell_type": "code",
   "execution_count": 521,
   "metadata": {},
   "outputs": [
    {
     "data": {
      "text/html": [
       "<div>\n",
       "<style scoped>\n",
       "    .dataframe tbody tr th:only-of-type {\n",
       "        vertical-align: middle;\n",
       "    }\n",
       "\n",
       "    .dataframe tbody tr th {\n",
       "        vertical-align: top;\n",
       "    }\n",
       "\n",
       "    .dataframe thead th {\n",
       "        text-align: right;\n",
       "    }\n",
       "</style>\n",
       "<table border=\"1\" class=\"dataframe\">\n",
       "  <thead>\n",
       "    <tr style=\"text-align: right;\">\n",
       "      <th></th>\n",
       "      <th>budget</th>\n",
       "      <th>refundable_support</th>\n",
       "      <th>nonrefundable_support</th>\n",
       "      <th>ratings</th>\n",
       "      <th>box_office</th>\n",
       "    </tr>\n",
       "  </thead>\n",
       "  <tbody>\n",
       "    <tr>\n",
       "      <th>count</th>\n",
       "      <td>3.320000e+02</td>\n",
       "      <td>3.320000e+02</td>\n",
       "      <td>3.320000e+02</td>\n",
       "      <td>6488.000000</td>\n",
       "      <td>3.158000e+03</td>\n",
       "    </tr>\n",
       "    <tr>\n",
       "      <th>mean</th>\n",
       "      <td>1.272297e+08</td>\n",
       "      <td>1.186446e+07</td>\n",
       "      <td>4.898099e+07</td>\n",
       "      <td>6.479023</td>\n",
       "      <td>7.647870e+07</td>\n",
       "    </tr>\n",
       "    <tr>\n",
       "      <th>std</th>\n",
       "      <td>1.885883e+08</td>\n",
       "      <td>2.491656e+07</td>\n",
       "      <td>5.998012e+07</td>\n",
       "      <td>1.101740</td>\n",
       "      <td>2.403531e+08</td>\n",
       "    </tr>\n",
       "    <tr>\n",
       "      <th>min</th>\n",
       "      <td>0.000000e+00</td>\n",
       "      <td>0.000000e+00</td>\n",
       "      <td>0.000000e+00</td>\n",
       "      <td>1.000000</td>\n",
       "      <td>0.000000e+00</td>\n",
       "    </tr>\n",
       "    <tr>\n",
       "      <th>25%</th>\n",
       "      <td>4.200000e+07</td>\n",
       "      <td>0.000000e+00</td>\n",
       "      <td>2.500000e+07</td>\n",
       "      <td>5.900000</td>\n",
       "      <td>8.623900e+04</td>\n",
       "    </tr>\n",
       "    <tr>\n",
       "      <th>50%</th>\n",
       "      <td>6.864992e+07</td>\n",
       "      <td>0.000000e+00</td>\n",
       "      <td>3.000000e+07</td>\n",
       "      <td>6.600000</td>\n",
       "      <td>2.327988e+06</td>\n",
       "    </tr>\n",
       "    <tr>\n",
       "      <th>75%</th>\n",
       "      <td>1.419853e+08</td>\n",
       "      <td>1.500000e+07</td>\n",
       "      <td>4.037500e+07</td>\n",
       "      <td>7.200000</td>\n",
       "      <td>2.397967e+07</td>\n",
       "    </tr>\n",
       "    <tr>\n",
       "      <th>max</th>\n",
       "      <td>2.305074e+09</td>\n",
       "      <td>1.800000e+08</td>\n",
       "      <td>4.000000e+08</td>\n",
       "      <td>9.200000</td>\n",
       "      <td>3.073569e+09</td>\n",
       "    </tr>\n",
       "  </tbody>\n",
       "</table>\n",
       "</div>"
      ],
      "text/plain": [
       "             budget  refundable_support  nonrefundable_support      ratings  \\\n",
       "count  3.320000e+02        3.320000e+02           3.320000e+02  6488.000000   \n",
       "mean   1.272297e+08        1.186446e+07           4.898099e+07     6.479023   \n",
       "std    1.885883e+08        2.491656e+07           5.998012e+07     1.101740   \n",
       "min    0.000000e+00        0.000000e+00           0.000000e+00     1.000000   \n",
       "25%    4.200000e+07        0.000000e+00           2.500000e+07     5.900000   \n",
       "50%    6.864992e+07        0.000000e+00           3.000000e+07     6.600000   \n",
       "75%    1.419853e+08        1.500000e+07           4.037500e+07     7.200000   \n",
       "max    2.305074e+09        1.800000e+08           4.000000e+08     9.200000   \n",
       "\n",
       "         box_office  \n",
       "count  3.158000e+03  \n",
       "mean   7.647870e+07  \n",
       "std    2.403531e+08  \n",
       "min    0.000000e+00  \n",
       "25%    8.623900e+04  \n",
       "50%    2.327988e+06  \n",
       "75%    2.397967e+07  \n",
       "max    3.073569e+09  "
      ]
     },
     "execution_count": 521,
     "metadata": {},
     "output_type": "execute_result"
    }
   ],
   "source": [
    "df[['budget', 'refundable_support', 'nonrefundable_support', 'ratings', 'box_office']].describe()"
   ]
  },
  {
   "cell_type": "markdown",
   "metadata": {},
   "source": [
    "Из описания для выбранных столбцов можно сделать следующие выводы:\n",
    "\n",
    "- Столбец budget имеет высокое среднее значение, что говорит о том, что фильмы в этом датасете обладают высоким бюджетом. Среднее значение бюджета фильма в этом столбце составляет 1.272297e+08 рублей, то есть примерно равняется 127,2 миллионам рублей.\n",
    "- Столбцы refundable_support и nonrefundable_support также имеют сравнительно высокое среднее значение, что указывает на наличие государственной поддержки для производства фильма. Счастливчики!\n",
    "- Столбец box_office тоже имеет высокое среднее значение, одновременно с этим и значительное стандартное отклонение, что означает наличие фильмов с разной кассовой выручкой.\n",
    "- Столбец ratings принимает значения в диапазоне от 0,1 до 0,92 и имеет среднее значение 0,647, что говорит о том, что большинство фильмов в датасете оценены на уровне близком к 0,65, оценка чуть выше среднего в пользовательских симпатиях.\n",
    "\n",
    "*Минимальное значение в столбце budget равно 0 рублей, что означает наличие фильмов, у которых нет бюджета или бюджет равен нулю. Это довольно странно.* Посчитаем количество таких фильмов."
   ]
  },
  {
   "cell_type": "code",
   "execution_count": 522,
   "metadata": {
    "scrolled": true
   },
   "outputs": [
    {
     "data": {
      "text/plain": [
       "16"
      ]
     },
     "execution_count": 522,
     "metadata": {},
     "output_type": "execute_result"
    }
   ],
   "source": [
    "df[(df['nonrefundable_support'] != 0)&(df['budget']==0)]['title'].count()"
   ]
  },
  {
   "cell_type": "markdown",
   "metadata": {},
   "source": [
    "Удалим полученные 16 кинокартин, потому что не бывает фильмов без бюджета, зарабатывающие кассовые сборы. Тут явно какие-то ошибки."
   ]
  },
  {
   "cell_type": "code",
   "execution_count": 523,
   "metadata": {
    "scrolled": true
   },
   "outputs": [
    {
     "data": {
      "text/plain": [
       "0"
      ]
     },
     "execution_count": 523,
     "metadata": {},
     "output_type": "execute_result"
    }
   ],
   "source": [
    "df = df[(df['nonrefundable_support'] != 0)&(df['budget']!=0)]\n",
    "df[(df['nonrefundable_support'] != 0)&(df['budget']==0)]['title'].count()"
   ]
  },
  {
   "cell_type": "markdown",
   "metadata": {},
   "source": [
    "Посмотрим, есть ли еще фильмы с нулевым бюджетом, а также проверим, сколько осталось фильмов с очень низким бюджетом."
   ]
  },
  {
   "cell_type": "code",
   "execution_count": 524,
   "metadata": {
    "scrolled": true
   },
   "outputs": [
    {
     "name": "stdout",
     "output_type": "stream",
     "text": [
      "Количество фильмов без безвозвратной поддержки: 0\n",
      "Количество фильмов с низкой кассовой выручкой (<1000): 231\n"
     ]
    }
   ],
   "source": [
    "no_nonrefundable_support = df.loc[df['nonrefundable_support'] == 0]['title'].count()\n",
    "print('Количество фильмов без безвозвратной поддержки:', no_nonrefundable_support)\n",
    "\n",
    "low_box_office = df[df['box_office'] < 1000]['title'].count()\n",
    "print('Количество фильмов с низкой кассовой выручкой (<1000):', low_box_office)"
   ]
  },
  {
   "cell_type": "markdown",
   "metadata": {},
   "source": [
    "Анализ выбранных столбцов датасета привел к следующим выводам:\n",
    "\n",
    "- Столбец budget: бюджет фильма указан только в случае, если была получена господдержка. Это может объяснятся затруднениями получения информации о бюджете фильмов, которые были сняты без господдержки. Однако вызывают сомнения данные, в которых бюджет составляет 0 рублей, несмотря на наличие nonrefundable_support. Вероятно, что в таких случаях забыли указать реальный бюджет фильма. 16 таких записей были удалены. Жаль этих добряков...\n",
    "\n",
    "- Столбец refundable_support: получение господдержки не всегда означает, что будет возвращена какая-либо часть средств. Это нормально и может вызвано объемом возвратных средств господдержки, который во многих случаях составляет 0 руб.\n",
    "\n",
    "- Столбец nonrefundable_support: получение господдержки всегда означает наличие некоторого объёма невозвратных средств. Поэтому 9 фильмов с господдержкой и нулевой суммой nonrefundable_support неправдоподобны, скорее всего забыли указать сумму nonrefundable_support. Эти фильмы были удалены вместе с 16 записями с нулевым бюджетом.\n",
    "\n",
    "- Столбец ratings: рейтинг указан не для всех фильмов, но наличие пропущенных значений не вызывает подозрений. Может быть оценили еще не все фильмы.\n",
    "\n",
    "- Столбец box_office (кассовые сборы): указаны только для половины фильмов. Сумма указана в рублях. Выглядят подозрительными низкие кассовые сборы. Например, 231 фильм имеют кассовые сборы менее 1000 рублей, что выглядит неправдоподобным. Возможная причина этих данных заключается в том, что забыли приписать нули.\n",
    "\n",
    "**Очистка данных**\n",
    "\n",
    "Исходя из проведенного анализа, были удалены 16 записей с нулевым значением в столбце budget и 9 записей с нулевым значением в столбце nonrefundable_support. Это было сделано, потому что такие значения вызывают подозрения и наводят на мысль, что данные могут быть неточными. А неточное враг хорошего."
   ]
  },
  {
   "cell_type": "markdown",
   "metadata": {},
   "source": [
    "<div class=\"alert alert-success\">\n",
    "<h2> Комментарий ревьюера V1<a class=\"tocSkip\"> </h2>\n",
    "\n",
    "<b>Все отлично!👍:</b> Абсолютно верно проанализировала аномальные значения. Посмотри на результат после того, как ты правильно обработаешь пропуски в количественных столбцах."
   ]
  },
  {
   "cell_type": "markdown",
   "metadata": {
    "id": "Eu6oWp2CgFyS"
   },
   "source": [
    "#### Шаг 2.6. Добавьте новые столбцы\n",
    "\n",
    "\n",
    "\n"
   ]
  },
  {
   "cell_type": "markdown",
   "metadata": {},
   "source": [
    "Чего не хватает? Правильно! Год проката фильмов где? Сейчас будет!"
   ]
  },
  {
   "cell_type": "code",
   "execution_count": 525,
   "metadata": {},
   "outputs": [],
   "source": [
    "df['year_start_date'] = df['show_start_date'].dt.year"
   ]
  },
  {
   "cell_type": "code",
   "execution_count": 526,
   "metadata": {},
   "outputs": [],
   "source": [
    "# df.head() посмотрели и хоба в комментарий, чтобы не мешало"
   ]
  },
  {
   "cell_type": "markdown",
   "metadata": {
    "id": "nFTDLDYOgFyT"
   },
   "source": [
    "- Создайте два столбца: с именем и фамилией главного режиссёра и основным жанром фильма. В столбцы войдут первые значения из списка режиссёров и жанров соответственно.\n",
    "\n",
    "<div id=\"accordion\">\n",
    "    <div class=\"card\">\n",
    "        <div class=\"card-header\" id=\"headingThree\">\n",
    "            <button class=\"btn btn-link collapsed\" data-toggle=\"collapse\" data-target=\"#collapseHint_2\" aria-expanded=\"false\" aria-controls=\"collapseHint_2\">Подсказка</button>\n",
    "        </div>\n",
    "        <div id=\"collapseHint_2\" class=\"collapse\" aria-labelledby=\"headingThree\" data-parent=\"#accordion\">\n",
    "            <div class=\"card-body\">\n",
    "Чтобы создать такие столбцы, лучше всего использовать собственную функцию. Эту функцию можно применить к двум столбцам сразу. \n",
    "            </div>\n",
    "        </div>\n",
    "    </div>\n",
    "</div>"
   ]
  },
  {
   "cell_type": "code",
   "execution_count": 527,
   "metadata": {
    "id": "LSbRZKbMgFyU"
   },
   "outputs": [],
   "source": [
    "# Создаем новый столбец 'main_director' с именем главного режиссера\n",
    "# Используем метод str.split(\",\") для разделения значений в строке по запятой\n",
    "# И затем берем первое значение (индекс 0) из этого списка\n",
    "df['main_director']= df['director'].str.split(\",\").str[0]"
   ]
  },
  {
   "cell_type": "code",
   "execution_count": 528,
   "metadata": {},
   "outputs": [],
   "source": [
    "# Создаем новый столбец 'main_genres' с основным жанром фильма\n",
    "# Используем метод str.split(\",\") для разделения значений в строке по запятой\n",
    "# И затем берем первое значение (индекс 0) из этого списка\n",
    "df['main_genres'] = df['genres'].str.split(\",\").str[0]"
   ]
  },
  {
   "cell_type": "code",
   "execution_count": 529,
   "metadata": {},
   "outputs": [
    {
     "data": {
      "text/html": [
       "<div>\n",
       "<style scoped>\n",
       "    .dataframe tbody tr th:only-of-type {\n",
       "        vertical-align: middle;\n",
       "    }\n",
       "\n",
       "    .dataframe tbody tr th {\n",
       "        vertical-align: top;\n",
       "    }\n",
       "\n",
       "    .dataframe thead th {\n",
       "        text-align: right;\n",
       "    }\n",
       "</style>\n",
       "<table border=\"1\" class=\"dataframe\">\n",
       "  <thead>\n",
       "    <tr style=\"text-align: right;\">\n",
       "      <th></th>\n",
       "      <th>director</th>\n",
       "      <th>main_director</th>\n",
       "      <th>genres</th>\n",
       "      <th>main_genres</th>\n",
       "    </tr>\n",
       "  </thead>\n",
       "  <tbody>\n",
       "    <tr>\n",
       "      <th>0</th>\n",
       "      <td>Кевин Костнер</td>\n",
       "      <td>Кевин Костнер</td>\n",
       "      <td>боевик,драма,мелодрама</td>\n",
       "      <td>боевик</td>\n",
       "    </tr>\n",
       "    <tr>\n",
       "      <th>1</th>\n",
       "      <td>Е.Матвеев</td>\n",
       "      <td>Е.Матвеев</td>\n",
       "      <td>драма,военный</td>\n",
       "      <td>драма</td>\n",
       "    </tr>\n",
       "    <tr>\n",
       "      <th>2</th>\n",
       "      <td>Тимур Бекмамбетов</td>\n",
       "      <td>Тимур Бекмамбетов</td>\n",
       "      <td>фантастика,боевик,триллер</td>\n",
       "      <td>фантастика</td>\n",
       "    </tr>\n",
       "    <tr>\n",
       "      <th>3</th>\n",
       "      <td>Тимур Бекмамбетов</td>\n",
       "      <td>Тимур Бекмамбетов</td>\n",
       "      <td>фантастика,боевик,триллер</td>\n",
       "      <td>фантастика</td>\n",
       "    </tr>\n",
       "    <tr>\n",
       "      <th>4</th>\n",
       "      <td>Тимур Бекмамбетов</td>\n",
       "      <td>Тимур Бекмамбетов</td>\n",
       "      <td>фантастика,боевик,триллер</td>\n",
       "      <td>фантастика</td>\n",
       "    </tr>\n",
       "  </tbody>\n",
       "</table>\n",
       "</div>"
      ],
      "text/plain": [
       "            director      main_director                     genres main_genres\n",
       "0      Кевин Костнер      Кевин Костнер     боевик,драма,мелодрама      боевик\n",
       "1          Е.Матвеев          Е.Матвеев              драма,военный       драма\n",
       "2  Тимур Бекмамбетов  Тимур Бекмамбетов  фантастика,боевик,триллер  фантастика\n",
       "3  Тимур Бекмамбетов  Тимур Бекмамбетов  фантастика,боевик,триллер  фантастика\n",
       "4  Тимур Бекмамбетов  Тимур Бекмамбетов  фантастика,боевик,триллер  фантастика"
      ]
     },
     "execution_count": 529,
     "metadata": {},
     "output_type": "execute_result"
    }
   ],
   "source": [
    "df[['director', 'main_director', 'genres', 'main_genres']].head()"
   ]
  },
  {
   "cell_type": "markdown",
   "metadata": {
    "id": "1FsCXHwdgFyU"
   },
   "source": [
    "- Посчитайте, какую долю от общего бюджета фильма составляет государственная поддержка."
   ]
  },
  {
   "cell_type": "code",
   "execution_count": 530,
   "metadata": {
    "id": "LV6qFuZLgFyV"
   },
   "outputs": [
    {
     "data": {
      "text/html": [
       "<div>\n",
       "<style scoped>\n",
       "    .dataframe tbody tr th:only-of-type {\n",
       "        vertical-align: middle;\n",
       "    }\n",
       "\n",
       "    .dataframe tbody tr th {\n",
       "        vertical-align: top;\n",
       "    }\n",
       "\n",
       "    .dataframe thead th {\n",
       "        text-align: right;\n",
       "    }\n",
       "</style>\n",
       "<table border=\"1\" class=\"dataframe\">\n",
       "  <thead>\n",
       "    <tr style=\"text-align: right;\">\n",
       "      <th></th>\n",
       "      <th>title</th>\n",
       "      <th>pu_number</th>\n",
       "      <th>show_start_date</th>\n",
       "      <th>type</th>\n",
       "      <th>film_studio</th>\n",
       "      <th>production_country</th>\n",
       "      <th>director</th>\n",
       "      <th>producer</th>\n",
       "      <th>age_restriction</th>\n",
       "      <th>refundable_support</th>\n",
       "      <th>nonrefundable_support</th>\n",
       "      <th>budget</th>\n",
       "      <th>financing_source</th>\n",
       "      <th>ratings</th>\n",
       "      <th>genres</th>\n",
       "      <th>box_office</th>\n",
       "      <th>age_group</th>\n",
       "      <th>year_start_date</th>\n",
       "      <th>main_director</th>\n",
       "      <th>main_genres</th>\n",
       "      <th>gov_help_conv</th>\n",
       "    </tr>\n",
       "  </thead>\n",
       "  <tbody>\n",
       "    <tr>\n",
       "      <th>0</th>\n",
       "      <td>Открытый простор</td>\n",
       "      <td>221048915.0</td>\n",
       "      <td>2015-11-27</td>\n",
       "      <td>Художественный</td>\n",
       "      <td>Тачстоун Пикчерз, Кобальт Пикчерз, Бикон Пикче...</td>\n",
       "      <td>сша</td>\n",
       "      <td>Кевин Костнер</td>\n",
       "      <td>Дэвид Валдес Кевин Костнер Джейк Эбертс</td>\n",
       "      <td>«18+» - запрещено для детей</td>\n",
       "      <td>NaN</td>\n",
       "      <td>NaN</td>\n",
       "      <td>NaN</td>\n",
       "      <td>NaN</td>\n",
       "      <td>7.2</td>\n",
       "      <td>боевик,драма,мелодрама</td>\n",
       "      <td>NaN</td>\n",
       "      <td>18</td>\n",
       "      <td>2015</td>\n",
       "      <td>Кевин Костнер</td>\n",
       "      <td>боевик</td>\n",
       "      <td>NaN</td>\n",
       "    </tr>\n",
       "    <tr>\n",
       "      <th>1</th>\n",
       "      <td>Особо важное задание</td>\n",
       "      <td>111013716.0</td>\n",
       "      <td>2016-09-13</td>\n",
       "      <td>Художественный</td>\n",
       "      <td>Киностудия \"Мосфильм\"</td>\n",
       "      <td>ссср</td>\n",
       "      <td>Е.Матвеев</td>\n",
       "      <td>нет информации</td>\n",
       "      <td>«6+» - для детей старше 6 лет</td>\n",
       "      <td>NaN</td>\n",
       "      <td>NaN</td>\n",
       "      <td>NaN</td>\n",
       "      <td>NaN</td>\n",
       "      <td>6.6</td>\n",
       "      <td>драма,военный</td>\n",
       "      <td>NaN</td>\n",
       "      <td>6</td>\n",
       "      <td>2016</td>\n",
       "      <td>Е.Матвеев</td>\n",
       "      <td>драма</td>\n",
       "      <td>NaN</td>\n",
       "    </tr>\n",
       "    <tr>\n",
       "      <th>2</th>\n",
       "      <td>Особо опасен</td>\n",
       "      <td>221038416.0</td>\n",
       "      <td>2016-10-10</td>\n",
       "      <td>Художественный</td>\n",
       "      <td>Юниверсал Пикчерз, Кикстарт Продакшнз, Марк Пл...</td>\n",
       "      <td>сша</td>\n",
       "      <td>Тимур Бекмамбетов</td>\n",
       "      <td>Джим Лемли Джейсон Нетер Марк ЕПлатт Яйн Смит</td>\n",
       "      <td>«18+» - запрещено для детей</td>\n",
       "      <td>NaN</td>\n",
       "      <td>NaN</td>\n",
       "      <td>NaN</td>\n",
       "      <td>NaN</td>\n",
       "      <td>6.8</td>\n",
       "      <td>фантастика,боевик,триллер</td>\n",
       "      <td>NaN</td>\n",
       "      <td>18</td>\n",
       "      <td>2016</td>\n",
       "      <td>Тимур Бекмамбетов</td>\n",
       "      <td>фантастика</td>\n",
       "      <td>NaN</td>\n",
       "    </tr>\n",
       "    <tr>\n",
       "      <th>3</th>\n",
       "      <td>Особо опасен</td>\n",
       "      <td>221026916.0</td>\n",
       "      <td>2016-06-10</td>\n",
       "      <td>Художественный</td>\n",
       "      <td>Юниверсал Пикчерз, Кикстарт Продакшнз, Марк Пл...</td>\n",
       "      <td>сша</td>\n",
       "      <td>Тимур Бекмамбетов</td>\n",
       "      <td>NaN</td>\n",
       "      <td>«18+» - запрещено для детей</td>\n",
       "      <td>NaN</td>\n",
       "      <td>NaN</td>\n",
       "      <td>NaN</td>\n",
       "      <td>NaN</td>\n",
       "      <td>6.8</td>\n",
       "      <td>фантастика,боевик,триллер</td>\n",
       "      <td>NaN</td>\n",
       "      <td>18</td>\n",
       "      <td>2016</td>\n",
       "      <td>Тимур Бекмамбетов</td>\n",
       "      <td>фантастика</td>\n",
       "      <td>NaN</td>\n",
       "    </tr>\n",
       "    <tr>\n",
       "      <th>4</th>\n",
       "      <td>Особо опасен</td>\n",
       "      <td>221030815.0</td>\n",
       "      <td>2015-07-29</td>\n",
       "      <td>Художественный</td>\n",
       "      <td>Юниверсал Пикчерз, Кикстарт Продакшнз, Марк Пл...</td>\n",
       "      <td>сша</td>\n",
       "      <td>Тимур Бекмамбетов</td>\n",
       "      <td>NaN</td>\n",
       "      <td>«18+» - запрещено для детей</td>\n",
       "      <td>NaN</td>\n",
       "      <td>NaN</td>\n",
       "      <td>NaN</td>\n",
       "      <td>NaN</td>\n",
       "      <td>6.8</td>\n",
       "      <td>фантастика,боевик,триллер</td>\n",
       "      <td>NaN</td>\n",
       "      <td>18</td>\n",
       "      <td>2015</td>\n",
       "      <td>Тимур Бекмамбетов</td>\n",
       "      <td>фантастика</td>\n",
       "      <td>NaN</td>\n",
       "    </tr>\n",
       "  </tbody>\n",
       "</table>\n",
       "</div>"
      ],
      "text/plain": [
       "                  title    pu_number show_start_date            type  \\\n",
       "0      Открытый простор  221048915.0      2015-11-27  Художественный   \n",
       "1  Особо важное задание  111013716.0      2016-09-13  Художественный   \n",
       "2          Особо опасен  221038416.0      2016-10-10  Художественный   \n",
       "3          Особо опасен  221026916.0      2016-06-10  Художественный   \n",
       "4          Особо опасен  221030815.0      2015-07-29  Художественный   \n",
       "\n",
       "                                         film_studio production_country  \\\n",
       "0  Тачстоун Пикчерз, Кобальт Пикчерз, Бикон Пикче...                сша   \n",
       "1                              Киностудия \"Мосфильм\"               ссср   \n",
       "2  Юниверсал Пикчерз, Кикстарт Продакшнз, Марк Пл...                сша   \n",
       "3  Юниверсал Пикчерз, Кикстарт Продакшнз, Марк Пл...                сша   \n",
       "4  Юниверсал Пикчерз, Кикстарт Продакшнз, Марк Пл...                сша   \n",
       "\n",
       "            director                                       producer  \\\n",
       "0      Кевин Костнер        Дэвид Валдес Кевин Костнер Джейк Эбертс   \n",
       "1          Е.Матвеев                                 нет информации   \n",
       "2  Тимур Бекмамбетов  Джим Лемли Джейсон Нетер Марк ЕПлатт Яйн Смит   \n",
       "3  Тимур Бекмамбетов                                            NaN   \n",
       "4  Тимур Бекмамбетов                                            NaN   \n",
       "\n",
       "                 age_restriction  refundable_support  nonrefundable_support  \\\n",
       "0    «18+» - запрещено для детей                 NaN                    NaN   \n",
       "1  «6+» - для детей старше 6 лет                 NaN                    NaN   \n",
       "2    «18+» - запрещено для детей                 NaN                    NaN   \n",
       "3    «18+» - запрещено для детей                 NaN                    NaN   \n",
       "4    «18+» - запрещено для детей                 NaN                    NaN   \n",
       "\n",
       "   budget financing_source  ratings                     genres  box_office  \\\n",
       "0     NaN              NaN      7.2     боевик,драма,мелодрама         NaN   \n",
       "1     NaN              NaN      6.6              драма,военный         NaN   \n",
       "2     NaN              NaN      6.8  фантастика,боевик,триллер         NaN   \n",
       "3     NaN              NaN      6.8  фантастика,боевик,триллер         NaN   \n",
       "4     NaN              NaN      6.8  фантастика,боевик,триллер         NaN   \n",
       "\n",
       "   age_group  year_start_date      main_director main_genres  gov_help_conv  \n",
       "0         18             2015      Кевин Костнер      боевик            NaN  \n",
       "1          6             2016          Е.Матвеев       драма            NaN  \n",
       "2         18             2016  Тимур Бекмамбетов  фантастика            NaN  \n",
       "3         18             2016  Тимур Бекмамбетов  фантастика            NaN  \n",
       "4         18             2015  Тимур Бекмамбетов  фантастика            NaN  "
      ]
     },
     "execution_count": 530,
     "metadata": {},
     "output_type": "execute_result"
    }
   ],
   "source": [
    "# Создаем новый столбец 'gov_help_conv', выражающий долю государственной поддержки от общего бюджета фильма\n",
    "# Рассчитываем долю государственной поддержки, складывая значения 'refundable_support' и 'nonrefundable_support'\n",
    "# И деля полученную сумму на значение 'budget'\n",
    "df['gov_help_conv'] = (df['refundable_support'] + df['nonrefundable_support']) / df['budget']\n",
    "\n",
    "# Выводим первые строки таблицы для контроля результатов\n",
    "df.head()"
   ]
  },
  {
   "cell_type": "code",
   "execution_count": 531,
   "metadata": {},
   "outputs": [
    {
     "data": {
      "text/plain": [
       "0.649351    6\n",
       "0.666667    5\n",
       "0.700000    5\n",
       "0.657895    5\n",
       "0.500000    5\n",
       "           ..\n",
       "0.637782    1\n",
       "0.600000    1\n",
       "0.689474    1\n",
       "0.784745    1\n",
       "0.225262    1\n",
       "Name: gov_help_conv, Length: 273, dtype: int64"
      ]
     },
     "execution_count": 531,
     "metadata": {},
     "output_type": "execute_result"
    }
   ],
   "source": [
    "# Получаем количество уникальных значений в столбце 'gov_help_conv'\n",
    "\n",
    "df['gov_help_conv'].value_counts()"
   ]
  },
  {
   "cell_type": "code",
   "execution_count": 532,
   "metadata": {},
   "outputs": [],
   "source": [
    "# Заменяем значения 'inf' на 'nan' в столбце 'gov_help_conv'\n",
    "# replace() заменяет 'inf' на 'nan' в столбце 'gov_help_conv'\n",
    "\n",
    "df['gov_help_conv'] = df['gov_help_conv'].replace(np.inf, np.nan)"
   ]
  },
  {
   "cell_type": "code",
   "execution_count": 533,
   "metadata": {},
   "outputs": [],
   "source": [
    "# Заменяем все пропущенные значения в столбце 'gov_help_conv' на '0'\n",
    "\n",
    "df['gov_help_conv'] = df['gov_help_conv'].fillna(0)"
   ]
  },
  {
   "cell_type": "markdown",
   "metadata": {},
   "source": [
    "При расчете доли государственной поддержки от общего бюджета фильма, если значение budget равно нулю, тогда значение gov_help_conv будет равно бесконечности (inf). Но бесконечность не является числом и не может быть обработана. Поэтому мы заменили значения inf на nan, что означает отсутствие значения или пропущенное значение. Затем мы заменяем все пропущенные значения на 0, так как эти значения дают понять, что в данных фильмах не было государственной поддержки."
   ]
  },
  {
   "cell_type": "markdown",
   "metadata": {},
   "source": [
    "**Вывод**\n",
    "\n",
    "Мы добавили:\n",
    "\n",
    "- Столбец release_year, в котором содержится информация о годе проката каждого фильма. Мы извлекли год из даты премьеры фильма.\n",
    "\n",
    "- Два столбца main_director и main_genres, в которых содержится информация о главном режиссере и основном жанре фильма.\n",
    "\n",
    "- Столбец gov_help_conv, в котором указана доля государственной поддержки от общего бюджета каждого фильма."
   ]
  },
  {
   "cell_type": "markdown",
   "metadata": {},
   "source": [
    "<div class=\"alert alert-success\">\n",
    "<h2> Комментарий ревьюера V1<a class=\"tocSkip\"> </h2>\n",
    "\n",
    "<b>Все отлично!👍:</b> Новые столбцы создала правильно, использовала только подходящие методы, продолжай в том же духе!"
   ]
  },
  {
   "cell_type": "markdown",
   "metadata": {
    "id": "6t4EukPLgFyV"
   },
   "source": [
    "### Шаг 3. Проведите исследовательский анализ данных\n"
   ]
  },
  {
   "cell_type": "markdown",
   "metadata": {
    "id": "vAH8WCzugFyV"
   },
   "source": [
    "- Посмотрите, сколько фильмов выходило в прокат каждый год. Обратите внимание, что данные о прокате в кинотеатрах известны не для всех фильмов. Посчитайте, какую долю составляют фильмы с указанной информацией о прокате в кинотеатрах."
   ]
  },
  {
   "cell_type": "code",
   "execution_count": 534,
   "metadata": {
    "id": "ABeV47y7gFyW"
   },
   "outputs": [
    {
     "data": {
      "image/png": "[encoded data removed]",
      "text/plain": [
       "<Figure size 432x288 with 1 Axes>"
      ]
     },
     "metadata": {},
     "output_type": "display_data"
    }
   ],
   "source": [
    "# Создаем таблицу с количеством фильмов для каждого года\n",
    "movies_per_year = df['year_start_date'].value_counts().sort_index()\n",
    "\n",
    "# Строим график\n",
    "plt.bar(movies_per_year.index, movies_per_year.values)\n",
    "plt.xlabel('Год')\n",
    "plt.ylabel('Количество фильмов')\n",
    "plt.title('Количество фильмов в прокате по годам')\n",
    "plt.show()"
   ]
  },
  {
   "cell_type": "code",
   "execution_count": 535,
   "metadata": {},
   "outputs": [
    {
     "data": {
      "text/html": [
       "<div>\n",
       "<style scoped>\n",
       "    .dataframe tbody tr th:only-of-type {\n",
       "        vertical-align: middle;\n",
       "    }\n",
       "\n",
       "    .dataframe tbody tr th {\n",
       "        vertical-align: top;\n",
       "    }\n",
       "\n",
       "    .dataframe thead th {\n",
       "        text-align: right;\n",
       "    }\n",
       "</style>\n",
       "<table border=\"1\" class=\"dataframe\">\n",
       "  <thead>\n",
       "    <tr style=\"text-align: right;\">\n",
       "      <th></th>\n",
       "      <th>box_office</th>\n",
       "      <th>title</th>\n",
       "    </tr>\n",
       "    <tr>\n",
       "      <th>year_start_date</th>\n",
       "      <th></th>\n",
       "      <th></th>\n",
       "    </tr>\n",
       "  </thead>\n",
       "  <tbody>\n",
       "    <tr>\n",
       "      <th>2017</th>\n",
       "      <td>353</td>\n",
       "      <td>501</td>\n",
       "    </tr>\n",
       "    <tr>\n",
       "      <th>2012</th>\n",
       "      <td>128</td>\n",
       "      <td>593</td>\n",
       "    </tr>\n",
       "    <tr>\n",
       "      <th>2011</th>\n",
       "      <td>109</td>\n",
       "      <td>622</td>\n",
       "    </tr>\n",
       "    <tr>\n",
       "      <th>2013</th>\n",
       "      <td>184</td>\n",
       "      <td>630</td>\n",
       "    </tr>\n",
       "    <tr>\n",
       "      <th>2015</th>\n",
       "      <td>456</td>\n",
       "      <td>696</td>\n",
       "    </tr>\n",
       "    <tr>\n",
       "      <th>2014</th>\n",
       "      <td>278</td>\n",
       "      <td>806</td>\n",
       "    </tr>\n",
       "    <tr>\n",
       "      <th>2016</th>\n",
       "      <td>523</td>\n",
       "      <td>815</td>\n",
       "    </tr>\n",
       "    <tr>\n",
       "      <th>2018</th>\n",
       "      <td>470</td>\n",
       "      <td>886</td>\n",
       "    </tr>\n",
       "    <tr>\n",
       "      <th>2019</th>\n",
       "      <td>527</td>\n",
       "      <td>927</td>\n",
       "    </tr>\n",
       "    <tr>\n",
       "      <th>2010</th>\n",
       "      <td>105</td>\n",
       "      <td>983</td>\n",
       "    </tr>\n",
       "  </tbody>\n",
       "</table>\n",
       "</div>"
      ],
      "text/plain": [
       "                 box_office  title\n",
       "year_start_date                   \n",
       "2017                    353    501\n",
       "2012                    128    593\n",
       "2011                    109    622\n",
       "2013                    184    630\n",
       "2015                    456    696\n",
       "2014                    278    806\n",
       "2016                    523    815\n",
       "2018                    470    886\n",
       "2019                    527    927\n",
       "2010                    105    983"
      ]
     },
     "execution_count": 535,
     "metadata": {},
     "output_type": "execute_result"
    }
   ],
   "source": [
    "df.pivot_table(index= 'year_start_date', values = ['box_office', 'title'],aggfunc='count').sort_values(by='title')"
   ]
  },
  {
   "cell_type": "markdown",
   "metadata": {},
   "source": [
    "Из графика и таблицы можно сделать следующие выводы:\n",
    "\n",
    "- Наибольшее количество фильмов было выпущено в 2019 году (927) и 2018 году (886).\n",
    "- Наименьшее количество фильмов было выпущено в 2012 году (593), 2011 году (622) и 2017 году (501).\n",
    "- В данных есть выбросы, например, в 2010 году было выпущено 983 фильма, что значительно больше, чем в остальные годы."
   ]
  },
  {
   "cell_type": "markdown",
   "metadata": {
    "id": "BEOdcIrIgFyW"
   },
   "source": [
    "- Изучите, как менялась динамика проката по годам. В каком году сумма сборов была минимальной? А максимальной?"
   ]
  },
  {
   "cell_type": "code",
   "execution_count": 536,
   "metadata": {
    "id": "tfEhofYvgFyX",
    "scrolled": false
   },
   "outputs": [
    {
     "data": {
      "image/png": "[encoded data removed]",
      "text/plain": [
       "<Figure size 720x432 with 1 Axes>"
      ]
     },
     "metadata": {},
     "output_type": "display_data"
    }
   ],
   "source": [
    "# Сгруппируем данные по годам и посчитаем суммарный кассовый сбор\n",
    "revenue_by_year = df.groupby('year_start_date')['box_office'].sum()\n",
    "\n",
    "# Построим график\n",
    "revenue_by_year.plot(kind='line', figsize=(10,6), color='pink', linewidth=7)\n",
    "plt.title('Суммарный кассовый сбор по годам')\n",
    "plt.xlabel('Год')\n",
    "plt.ylabel('Кассовый сбор, млн долларов')\n",
    "plt.show()"
   ]
  },
  {
   "cell_type": "code",
   "execution_count": 537,
   "metadata": {},
   "outputs": [
    {
     "name": "stdout",
     "output_type": "stream",
     "text": [
      "Минимальная сумма сборов была в 2010 году, максимальная - в 2018 году.\n"
     ]
    }
   ],
   "source": [
    "# Найдем год с минимальным суммарным кассовым сбором\n",
    "min_revenue_year = revenue_by_year.idxmin()\n",
    "\n",
    "# Найдем год с максимальным суммарным кассовым сбором\n",
    "max_revenue_year = revenue_by_year.idxmax()\n",
    "\n",
    "print(f\"Минимальная сумма сборов была в {min_revenue_year} году, максимальная - в {max_revenue_year} году.\")"
   ]
  },
  {
   "cell_type": "markdown",
   "metadata": {},
   "source": [
    "Мы видим резкий рост суммарного кассового сбора в 2013 и 2018 годах"
   ]
  },
  {
   "cell_type": "markdown",
   "metadata": {
    "id": "G-7qS-N-gFyY"
   },
   "source": [
    "- С помощью сводной таблицы посчитайте среднюю и медианную сумму сборов для каждого года."
   ]
  },
  {
   "cell_type": "code",
   "execution_count": 538,
   "metadata": {},
   "outputs": [
    {
     "data": {
      "text/html": [
       "<div>\n",
       "<style scoped>\n",
       "    .dataframe tbody tr th:only-of-type {\n",
       "        vertical-align: middle;\n",
       "    }\n",
       "\n",
       "    .dataframe tbody tr th {\n",
       "        vertical-align: top;\n",
       "    }\n",
       "\n",
       "    .dataframe thead th {\n",
       "        text-align: right;\n",
       "    }\n",
       "</style>\n",
       "<table border=\"1\" class=\"dataframe\">\n",
       "  <thead>\n",
       "    <tr style=\"text-align: right;\">\n",
       "      <th></th>\n",
       "      <th>median</th>\n",
       "      <th>mean</th>\n",
       "    </tr>\n",
       "    <tr>\n",
       "      <th>year_start_date</th>\n",
       "      <th></th>\n",
       "      <th></th>\n",
       "    </tr>\n",
       "  </thead>\n",
       "  <tbody>\n",
       "    <tr>\n",
       "      <th>2010</th>\n",
       "      <td>1700.000</td>\n",
       "      <td>2.313004e+04</td>\n",
       "    </tr>\n",
       "    <tr>\n",
       "      <th>2011</th>\n",
       "      <td>3000.000</td>\n",
       "      <td>1.293832e+05</td>\n",
       "    </tr>\n",
       "    <tr>\n",
       "      <th>2012</th>\n",
       "      <td>5660.000</td>\n",
       "      <td>5.433924e+04</td>\n",
       "    </tr>\n",
       "    <tr>\n",
       "      <th>2013</th>\n",
       "      <td>3522.500</td>\n",
       "      <td>1.619549e+05</td>\n",
       "    </tr>\n",
       "    <tr>\n",
       "      <th>2014</th>\n",
       "      <td>18137.500</td>\n",
       "      <td>2.674359e+07</td>\n",
       "    </tr>\n",
       "    <tr>\n",
       "      <th>2015</th>\n",
       "      <td>4742671.665</td>\n",
       "      <td>8.427071e+07</td>\n",
       "    </tr>\n",
       "    <tr>\n",
       "      <th>2016</th>\n",
       "      <td>3776087.560</td>\n",
       "      <td>8.937345e+07</td>\n",
       "    </tr>\n",
       "    <tr>\n",
       "      <th>2017</th>\n",
       "      <td>9876765.000</td>\n",
       "      <td>1.341782e+08</td>\n",
       "    </tr>\n",
       "    <tr>\n",
       "      <th>2018</th>\n",
       "      <td>8730277.525</td>\n",
       "      <td>1.035630e+08</td>\n",
       "    </tr>\n",
       "    <tr>\n",
       "      <th>2019</th>\n",
       "      <td>4554745.000</td>\n",
       "      <td>9.055708e+07</td>\n",
       "    </tr>\n",
       "  </tbody>\n",
       "</table>\n",
       "</div>"
      ],
      "text/plain": [
       "                      median          mean\n",
       "year_start_date                           \n",
       "2010                1700.000  2.313004e+04\n",
       "2011                3000.000  1.293832e+05\n",
       "2012                5660.000  5.433924e+04\n",
       "2013                3522.500  1.619549e+05\n",
       "2014               18137.500  2.674359e+07\n",
       "2015             4742671.665  8.427071e+07\n",
       "2016             3776087.560  8.937345e+07\n",
       "2017             9876765.000  1.341782e+08\n",
       "2018             8730277.525  1.035630e+08\n",
       "2019             4554745.000  9.055708e+07"
      ]
     },
     "execution_count": 538,
     "metadata": {},
     "output_type": "execute_result"
    }
   ],
   "source": [
    "df.groupby('year_start_date')['box_office'].agg(['median','mean'])\n"
   ]
  },
  {
   "cell_type": "markdown",
   "metadata": {
    "id": "jmp-rgg9gFyY"
   },
   "source": [
    "Исходя из проведенного анализа, можно сделать следующие выводы:\n",
    "\n",
    "- Наибольшее количество фильмов было выпущено в 2019 и 2018 годах. Наименьшее количество фильмов было выпущено в 2012и 2017 годах.\n",
    "- Суммарный кассовый сбор фильмов был максимальным в 2018 году и минимальным в 2010 году.\n",
    "- Средний и медианный сбор фильмов по годам значительно различаются, что может быть обусловлено как выбросами, так и изменением трендов в кинематографе. Средняя сумма сборов по годам увеличивалась с 2010 года и достигла пика в 2018 году. Медианная сумма сборов колеблется в зависимости от года в диапазоне от 1700 долларов до более чем 9 миллионов долларов в год.\n",
    "- Большинство фильмов не имеют информации о бюджете и сборах в кинотеатрах."
   ]
  },
  {
   "cell_type": "markdown",
   "metadata": {},
   "source": [
    "<div class=\"alert alert-warning\">\n",
    "<h2> Комментарий ревьюера V1<a class=\"tocSkip\"> </h2>\n",
    "\n",
    "<b>Некоторые замечания и рекомендации💡:</b> Выше рассчитала все правильно, только проверь выводы на корректных данных, когда не будут пропуски заполнены средним."
   ]
  },
  {
   "cell_type": "markdown",
   "metadata": {
    "id": "Ok89WFwJgFyZ"
   },
   "source": [
    "- Определите, влияет ли возрастное ограничение аудитории («6+», «12+», «16+», «18+» и т. д.) на сборы фильма в прокате в период с 2015 по 2019 год? Фильмы с каким возрастным ограничением собрали больше всего денег в прокате? Меняется ли картина в зависимости от года? Если да, предположите, с чем это может быть связано."
   ]
  },
  {
   "cell_type": "code",
   "execution_count": 539,
   "metadata": {
    "id": "jsSbEqfjgFya"
   },
   "outputs": [
    {
     "data": {
      "image/png": "[encoded data removed]",
      "text/plain": [
       "<Figure size 432x288 with 1 Axes>"
      ]
     },
     "metadata": {},
     "output_type": "display_data"
    }
   ],
   "source": [
    "# Группировка по возрастному ограничению и подсчет суммы сборов\n",
    "df_period = df[(df['year_start_date'] >= 2015) & (df['year_start_date'] <= 2019)]\n",
    "age_revenue = df_period.groupby('age_restriction')['box_office'].sum().sort_values(ascending=False)\n",
    "# Построение графика\n",
    "colors = plt.cm.rainbow(np.linspace(0, 1, len(age_revenue))) # градиент цветов\n",
    "plt.bar(age_revenue.index, age_revenue, color=colors)\n",
    "plt.xlabel('Возрастное ограничение')\n",
    "plt.ylabel('Сборы в прокате, млн.долл.')\n",
    "plt.xticks(rotation=45) # поворот надписей оси x на 45 градусов\n",
    "plt.show()"
   ]
  },
  {
   "cell_type": "code",
   "execution_count": 540,
   "metadata": {},
   "outputs": [
    {
     "data": {
      "image/png": "[encoded data removed]",
      "text/plain": [
       "<Figure size 432x288 with 2 Axes>"
      ]
     },
     "metadata": {},
     "output_type": "display_data"
    }
   ],
   "source": [
    "# Группировка по году выпуска и возрастному ограничению, и подсчет среднего значения сборов\n",
    "revenue_year_age = df_period.groupby(['year_start_date', 'age_restriction'])['box_office'].mean().reset_index()\n",
    "\n",
    "# Создание тепловой карты\n",
    "pivot = revenue_year_age.pivot('age_restriction', 'year_start_date', 'box_office')\n",
    "sns.heatmap(pivot, cmap='Greens')\n",
    "plt.title('Средние сборы по возрастным ограничениям и годам')\n",
    "plt.show()"
   ]
  },
  {
   "cell_type": "code",
   "execution_count": 541,
   "metadata": {
    "scrolled": true
   },
   "outputs": [
    {
     "data": {
      "image/png": "[encoded data removed]",
      "text/plain": [
       "<Figure size 720x432 with 1 Axes>"
      ]
     },
     "metadata": {},
     "output_type": "display_data"
    }
   ],
   "source": [
    "# Группировка по возрастным группам и годам и определение средневзвешенных сборов\n",
    "pivot_table = df_period.pivot_table(values='box_office', index='age_group', columns='year_start_date', aggfunc=np.mean)\n",
    "\n",
    "# Построение графика\n",
    "pivot_table.plot(kind='bar', figsize=(10, 6))\n",
    "plt.xlabel('Год')\n",
    "plt.ylabel('Сборы в млн. руб.')\n",
    "plt.title('Сборы в прокате по возрастным группам и годам')\n",
    "plt.show()"
   ]
  },
  {
   "cell_type": "markdown",
   "metadata": {},
   "source": [
    "**Вывод о прокате фильмов в России за период с 2010 по 2019 годы:**\n",
    "\n",
    "- Возрастное ограничение является одним из факторов, влияющих на сборы фильма в прокате. Фильмы с рейтингом 16+ популярны и демонстрируют наибольшие кассовые сборы, при этом доля таких фильмов в общей массе не высока. Фильмы с рейтингами 0+ и 12+ также популярны, но имеют более низкие сборы, а фильмы с высоким рейтингом (например, \"18+\") для особенных зрителей.\n",
    "\n",
    "- Количество фильмов, выходящих в прокат в России, стабильно растет в течение рассмотренного периода, и в 2019 году составило в 2,2 раза больше, чем в 2010 году, что говорит об увеличении популярности кинематографии.\n",
    "\n",
    "- Суммарные кассовые сборы по годам также стабильно растут, при этом рост суммарных сборов демонстрирует плавное увеличение. В 2019 году кассовые сборы в России составили почти 15 миллиардов рублей.\n",
    "\n",
    "- Несмотря на общий рост суммарных кассовых сборов, некоторые годы выделяются более успешными, чем другие. Например, 2015 год был самым успешным по количеству фильмов в прокате, а 2018 год - по суммарным кассовым сборам.\n",
    "\n",
    "Что ж, хочется отметить, что при планировании развития кинематографической индустрии очень важно учитывать выявленные закономерности для дальнейшего развития."
   ]
  },
  {
   "cell_type": "markdown",
   "metadata": {},
   "source": [
    "<div class=\"alert alert-warning\">\n",
    "<h2> Комментарий ревьюера V1<a class=\"tocSkip\"> </h2>\n",
    "\n",
    "<b>Некоторые замечания и рекомендации💡:</b> Отлично справилась со всем этим пунктом, все расчеты правильные, единственное - проверь выводы после того, как корректно обработаешь пропуски."
   ]
  },
  {
   "cell_type": "markdown",
   "metadata": {
    "id": "l_Kg6Ku4gFya"
   },
   "source": [
    "### Шаг 4. Исследуйте фильмы, которые получили государственную поддержку\n",
    "\n",
    "На этом этапе нет конкретных инструкций и заданий — поищите интересные закономерности в данных. Посмотрите, сколько выделяют средств на поддержку кино. Проверьте, хорошо ли окупаются такие фильмы, какой у них рейтинг."
   ]
  },
  {
   "cell_type": "code",
   "execution_count": 542,
   "metadata": {
    "id": "W9QKpjUdgFyb",
    "scrolled": true
   },
   "outputs": [
    {
     "data": {
      "text/html": [
       "<div>\n",
       "<style scoped>\n",
       "    .dataframe tbody tr th:only-of-type {\n",
       "        vertical-align: middle;\n",
       "    }\n",
       "\n",
       "    .dataframe tbody tr th {\n",
       "        vertical-align: top;\n",
       "    }\n",
       "\n",
       "    .dataframe thead th {\n",
       "        text-align: right;\n",
       "    }\n",
       "</style>\n",
       "<table border=\"1\" class=\"dataframe\">\n",
       "  <thead>\n",
       "    <tr style=\"text-align: right;\">\n",
       "      <th></th>\n",
       "      <th>title</th>\n",
       "      <th>pu_number</th>\n",
       "      <th>show_start_date</th>\n",
       "      <th>type</th>\n",
       "      <th>film_studio</th>\n",
       "      <th>production_country</th>\n",
       "      <th>director</th>\n",
       "      <th>producer</th>\n",
       "      <th>age_restriction</th>\n",
       "      <th>refundable_support</th>\n",
       "      <th>nonrefundable_support</th>\n",
       "      <th>budget</th>\n",
       "      <th>financing_source</th>\n",
       "      <th>ratings</th>\n",
       "      <th>genres</th>\n",
       "      <th>box_office</th>\n",
       "      <th>age_group</th>\n",
       "      <th>year_start_date</th>\n",
       "      <th>main_director</th>\n",
       "      <th>main_genres</th>\n",
       "      <th>gov_help_conv</th>\n",
       "    </tr>\n",
       "  </thead>\n",
       "  <tbody>\n",
       "    <tr>\n",
       "      <th>0</th>\n",
       "      <td>Открытый простор</td>\n",
       "      <td>221048915.0</td>\n",
       "      <td>2015-11-27</td>\n",
       "      <td>Художественный</td>\n",
       "      <td>Тачстоун Пикчерз, Кобальт Пикчерз, Бикон Пикче...</td>\n",
       "      <td>сша</td>\n",
       "      <td>Кевин Костнер</td>\n",
       "      <td>Дэвид Валдес Кевин Костнер Джейк Эбертс</td>\n",
       "      <td>«18+» - запрещено для детей</td>\n",
       "      <td>NaN</td>\n",
       "      <td>NaN</td>\n",
       "      <td>NaN</td>\n",
       "      <td>NaN</td>\n",
       "      <td>7.2</td>\n",
       "      <td>боевик,драма,мелодрама</td>\n",
       "      <td>NaN</td>\n",
       "      <td>18</td>\n",
       "      <td>2015</td>\n",
       "      <td>Кевин Костнер</td>\n",
       "      <td>боевик</td>\n",
       "      <td>0.0</td>\n",
       "    </tr>\n",
       "    <tr>\n",
       "      <th>1</th>\n",
       "      <td>Особо важное задание</td>\n",
       "      <td>111013716.0</td>\n",
       "      <td>2016-09-13</td>\n",
       "      <td>Художественный</td>\n",
       "      <td>Киностудия \"Мосфильм\"</td>\n",
       "      <td>ссср</td>\n",
       "      <td>Е.Матвеев</td>\n",
       "      <td>нет информации</td>\n",
       "      <td>«6+» - для детей старше 6 лет</td>\n",
       "      <td>NaN</td>\n",
       "      <td>NaN</td>\n",
       "      <td>NaN</td>\n",
       "      <td>NaN</td>\n",
       "      <td>6.6</td>\n",
       "      <td>драма,военный</td>\n",
       "      <td>NaN</td>\n",
       "      <td>6</td>\n",
       "      <td>2016</td>\n",
       "      <td>Е.Матвеев</td>\n",
       "      <td>драма</td>\n",
       "      <td>0.0</td>\n",
       "    </tr>\n",
       "    <tr>\n",
       "      <th>2</th>\n",
       "      <td>Особо опасен</td>\n",
       "      <td>221038416.0</td>\n",
       "      <td>2016-10-10</td>\n",
       "      <td>Художественный</td>\n",
       "      <td>Юниверсал Пикчерз, Кикстарт Продакшнз, Марк Пл...</td>\n",
       "      <td>сша</td>\n",
       "      <td>Тимур Бекмамбетов</td>\n",
       "      <td>Джим Лемли Джейсон Нетер Марк ЕПлатт Яйн Смит</td>\n",
       "      <td>«18+» - запрещено для детей</td>\n",
       "      <td>NaN</td>\n",
       "      <td>NaN</td>\n",
       "      <td>NaN</td>\n",
       "      <td>NaN</td>\n",
       "      <td>6.8</td>\n",
       "      <td>фантастика,боевик,триллер</td>\n",
       "      <td>NaN</td>\n",
       "      <td>18</td>\n",
       "      <td>2016</td>\n",
       "      <td>Тимур Бекмамбетов</td>\n",
       "      <td>фантастика</td>\n",
       "      <td>0.0</td>\n",
       "    </tr>\n",
       "    <tr>\n",
       "      <th>3</th>\n",
       "      <td>Особо опасен</td>\n",
       "      <td>221026916.0</td>\n",
       "      <td>2016-06-10</td>\n",
       "      <td>Художественный</td>\n",
       "      <td>Юниверсал Пикчерз, Кикстарт Продакшнз, Марк Пл...</td>\n",
       "      <td>сша</td>\n",
       "      <td>Тимур Бекмамбетов</td>\n",
       "      <td>NaN</td>\n",
       "      <td>«18+» - запрещено для детей</td>\n",
       "      <td>NaN</td>\n",
       "      <td>NaN</td>\n",
       "      <td>NaN</td>\n",
       "      <td>NaN</td>\n",
       "      <td>6.8</td>\n",
       "      <td>фантастика,боевик,триллер</td>\n",
       "      <td>NaN</td>\n",
       "      <td>18</td>\n",
       "      <td>2016</td>\n",
       "      <td>Тимур Бекмамбетов</td>\n",
       "      <td>фантастика</td>\n",
       "      <td>0.0</td>\n",
       "    </tr>\n",
       "    <tr>\n",
       "      <th>4</th>\n",
       "      <td>Особо опасен</td>\n",
       "      <td>221030815.0</td>\n",
       "      <td>2015-07-29</td>\n",
       "      <td>Художественный</td>\n",
       "      <td>Юниверсал Пикчерз, Кикстарт Продакшнз, Марк Пл...</td>\n",
       "      <td>сша</td>\n",
       "      <td>Тимур Бекмамбетов</td>\n",
       "      <td>NaN</td>\n",
       "      <td>«18+» - запрещено для детей</td>\n",
       "      <td>NaN</td>\n",
       "      <td>NaN</td>\n",
       "      <td>NaN</td>\n",
       "      <td>NaN</td>\n",
       "      <td>6.8</td>\n",
       "      <td>фантастика,боевик,триллер</td>\n",
       "      <td>NaN</td>\n",
       "      <td>18</td>\n",
       "      <td>2015</td>\n",
       "      <td>Тимур Бекмамбетов</td>\n",
       "      <td>фантастика</td>\n",
       "      <td>0.0</td>\n",
       "    </tr>\n",
       "    <tr>\n",
       "      <th>...</th>\n",
       "      <td>...</td>\n",
       "      <td>...</td>\n",
       "      <td>...</td>\n",
       "      <td>...</td>\n",
       "      <td>...</td>\n",
       "      <td>...</td>\n",
       "      <td>...</td>\n",
       "      <td>...</td>\n",
       "      <td>...</td>\n",
       "      <td>...</td>\n",
       "      <td>...</td>\n",
       "      <td>...</td>\n",
       "      <td>...</td>\n",
       "      <td>...</td>\n",
       "      <td>...</td>\n",
       "      <td>...</td>\n",
       "      <td>...</td>\n",
       "      <td>...</td>\n",
       "      <td>...</td>\n",
       "      <td>...</td>\n",
       "      <td>...</td>\n",
       "    </tr>\n",
       "    <tr>\n",
       "      <th>7481</th>\n",
       "      <td>Сад художника: Американский импрессионизм</td>\n",
       "      <td>126008019.0</td>\n",
       "      <td>2019-12-23</td>\n",
       "      <td>Прочие</td>\n",
       "      <td>Севен Артс Продакшнз</td>\n",
       "      <td>великобритания</td>\n",
       "      <td>Фил Грабски</td>\n",
       "      <td>NaN</td>\n",
       "      <td>«12+» - для детей старше 12 лет</td>\n",
       "      <td>NaN</td>\n",
       "      <td>NaN</td>\n",
       "      <td>NaN</td>\n",
       "      <td>NaN</td>\n",
       "      <td>NaN</td>\n",
       "      <td>нет информации</td>\n",
       "      <td>NaN</td>\n",
       "      <td>12</td>\n",
       "      <td>2019</td>\n",
       "      <td>Фил Грабски</td>\n",
       "      <td>нет информации</td>\n",
       "      <td>0.0</td>\n",
       "    </tr>\n",
       "    <tr>\n",
       "      <th>7482</th>\n",
       "      <td>Звериная ярость</td>\n",
       "      <td>121037819.0</td>\n",
       "      <td>2019-12-24</td>\n",
       "      <td>Художественный</td>\n",
       "      <td>Дэниел Гродник Продакшнз, Вандерфилм Медиа Кор...</td>\n",
       "      <td>сша</td>\n",
       "      <td>Ник Пауэлл</td>\n",
       "      <td>Джефф Боулер Дэниэл Гродник Луильо Руис Брэт С...</td>\n",
       "      <td>«16+» - для детей старше 16 лет</td>\n",
       "      <td>NaN</td>\n",
       "      <td>NaN</td>\n",
       "      <td>NaN</td>\n",
       "      <td>NaN</td>\n",
       "      <td>5.4</td>\n",
       "      <td>боевик,триллер</td>\n",
       "      <td>NaN</td>\n",
       "      <td>16</td>\n",
       "      <td>2019</td>\n",
       "      <td>Ник Пауэлл</td>\n",
       "      <td>боевик</td>\n",
       "      <td>0.0</td>\n",
       "    </tr>\n",
       "    <tr>\n",
       "      <th>7483</th>\n",
       "      <td>Щенячий патруль: Скорей спешим на помощь!</td>\n",
       "      <td>124010819.0</td>\n",
       "      <td>2019-12-28</td>\n",
       "      <td>Художественный</td>\n",
       "      <td>Никелодеон Анимейшн Студиос, Спин Мастер</td>\n",
       "      <td>сша - канада</td>\n",
       "      <td>Чарльз Е.Бастьен</td>\n",
       "      <td>Дженнифер Додж</td>\n",
       "      <td>«0+» - для любой зрительской аудитории</td>\n",
       "      <td>NaN</td>\n",
       "      <td>NaN</td>\n",
       "      <td>NaN</td>\n",
       "      <td>NaN</td>\n",
       "      <td>NaN</td>\n",
       "      <td>нет информации</td>\n",
       "      <td>NaN</td>\n",
       "      <td>0</td>\n",
       "      <td>2019</td>\n",
       "      <td>Чарльз Е.Бастьен</td>\n",
       "      <td>нет информации</td>\n",
       "      <td>0.0</td>\n",
       "    </tr>\n",
       "    <tr>\n",
       "      <th>7484</th>\n",
       "      <td>Машины песенки. Серия \"Испанские мотивы\"</td>\n",
       "      <td>124010619.0</td>\n",
       "      <td>2019-12-30</td>\n",
       "      <td>Анимационный</td>\n",
       "      <td>Анимаккорд Лтд., ООО Студия \"АНИМАККОРД\"</td>\n",
       "      <td>республика кипр, россия</td>\n",
       "      <td>А.Беляев</td>\n",
       "      <td>NaN</td>\n",
       "      <td>«0+» - для любой зрительской аудитории</td>\n",
       "      <td>NaN</td>\n",
       "      <td>NaN</td>\n",
       "      <td>NaN</td>\n",
       "      <td>NaN</td>\n",
       "      <td>NaN</td>\n",
       "      <td>нет информации</td>\n",
       "      <td>NaN</td>\n",
       "      <td>0</td>\n",
       "      <td>2019</td>\n",
       "      <td>А.Беляев</td>\n",
       "      <td>нет информации</td>\n",
       "      <td>0.0</td>\n",
       "    </tr>\n",
       "    <tr>\n",
       "      <th>7485</th>\n",
       "      <td>Машины песенки. Серия \"Когда цветут кактусы\"</td>\n",
       "      <td>124010719.0</td>\n",
       "      <td>2019-12-30</td>\n",
       "      <td>Анимационный</td>\n",
       "      <td>Анимаккорд Лтд., ООО Студия \"АНИМАККОРД\"</td>\n",
       "      <td>республика кипр, россия</td>\n",
       "      <td>И.Трусов</td>\n",
       "      <td>NaN</td>\n",
       "      <td>«0+» - для любой зрительской аудитории</td>\n",
       "      <td>NaN</td>\n",
       "      <td>NaN</td>\n",
       "      <td>NaN</td>\n",
       "      <td>NaN</td>\n",
       "      <td>6.3</td>\n",
       "      <td>комедия,вестерн</td>\n",
       "      <td>NaN</td>\n",
       "      <td>0</td>\n",
       "      <td>2019</td>\n",
       "      <td>И.Трусов</td>\n",
       "      <td>комедия</td>\n",
       "      <td>0.0</td>\n",
       "    </tr>\n",
       "  </tbody>\n",
       "</table>\n",
       "<p>7459 rows × 21 columns</p>\n",
       "</div>"
      ],
      "text/plain": [
       "                                             title    pu_number  \\\n",
       "0                                 Открытый простор  221048915.0   \n",
       "1                             Особо важное задание  111013716.0   \n",
       "2                                     Особо опасен  221038416.0   \n",
       "3                                     Особо опасен  221026916.0   \n",
       "4                                     Особо опасен  221030815.0   \n",
       "...                                            ...          ...   \n",
       "7481     Сад художника: Американский импрессионизм  126008019.0   \n",
       "7482                               Звериная ярость  121037819.0   \n",
       "7483     Щенячий патруль: Скорей спешим на помощь!  124010819.0   \n",
       "7484      Машины песенки. Серия \"Испанские мотивы\"  124010619.0   \n",
       "7485  Машины песенки. Серия \"Когда цветут кактусы\"  124010719.0   \n",
       "\n",
       "     show_start_date            type  \\\n",
       "0         2015-11-27  Художественный   \n",
       "1         2016-09-13  Художественный   \n",
       "2         2016-10-10  Художественный   \n",
       "3         2016-06-10  Художественный   \n",
       "4         2015-07-29  Художественный   \n",
       "...              ...             ...   \n",
       "7481      2019-12-23          Прочие   \n",
       "7482      2019-12-24  Художественный   \n",
       "7483      2019-12-28  Художественный   \n",
       "7484      2019-12-30    Анимационный   \n",
       "7485      2019-12-30    Анимационный   \n",
       "\n",
       "                                            film_studio  \\\n",
       "0     Тачстоун Пикчерз, Кобальт Пикчерз, Бикон Пикче...   \n",
       "1                                 Киностудия \"Мосфильм\"   \n",
       "2     Юниверсал Пикчерз, Кикстарт Продакшнз, Марк Пл...   \n",
       "3     Юниверсал Пикчерз, Кикстарт Продакшнз, Марк Пл...   \n",
       "4     Юниверсал Пикчерз, Кикстарт Продакшнз, Марк Пл...   \n",
       "...                                                 ...   \n",
       "7481                               Севен Артс Продакшнз   \n",
       "7482  Дэниел Гродник Продакшнз, Вандерфилм Медиа Кор...   \n",
       "7483           Никелодеон Анимейшн Студиос, Спин Мастер   \n",
       "7484           Анимаккорд Лтд., ООО Студия \"АНИМАККОРД\"   \n",
       "7485           Анимаккорд Лтд., ООО Студия \"АНИМАККОРД\"   \n",
       "\n",
       "           production_country           director  \\\n",
       "0                         сша      Кевин Костнер   \n",
       "1                        ссср          Е.Матвеев   \n",
       "2                         сша  Тимур Бекмамбетов   \n",
       "3                         сша  Тимур Бекмамбетов   \n",
       "4                         сша  Тимур Бекмамбетов   \n",
       "...                       ...                ...   \n",
       "7481           великобритания        Фил Грабски   \n",
       "7482                      сша         Ник Пауэлл   \n",
       "7483             сша - канада   Чарльз Е.Бастьен   \n",
       "7484  республика кипр, россия           А.Беляев   \n",
       "7485  республика кипр, россия           И.Трусов   \n",
       "\n",
       "                                               producer  \\\n",
       "0               Дэвид Валдес Кевин Костнер Джейк Эбертс   \n",
       "1                                        нет информации   \n",
       "2         Джим Лемли Джейсон Нетер Марк ЕПлатт Яйн Смит   \n",
       "3                                                   NaN   \n",
       "4                                                   NaN   \n",
       "...                                                 ...   \n",
       "7481                                                NaN   \n",
       "7482  Джефф Боулер Дэниэл Гродник Луильо Руис Брэт С...   \n",
       "7483                                     Дженнифер Додж   \n",
       "7484                                                NaN   \n",
       "7485                                                NaN   \n",
       "\n",
       "                             age_restriction  refundable_support  \\\n",
       "0                «18+» - запрещено для детей                 NaN   \n",
       "1              «6+» - для детей старше 6 лет                 NaN   \n",
       "2                «18+» - запрещено для детей                 NaN   \n",
       "3                «18+» - запрещено для детей                 NaN   \n",
       "4                «18+» - запрещено для детей                 NaN   \n",
       "...                                      ...                 ...   \n",
       "7481         «12+» - для детей старше 12 лет                 NaN   \n",
       "7482         «16+» - для детей старше 16 лет                 NaN   \n",
       "7483  «0+» - для любой зрительской аудитории                 NaN   \n",
       "7484  «0+» - для любой зрительской аудитории                 NaN   \n",
       "7485  «0+» - для любой зрительской аудитории                 NaN   \n",
       "\n",
       "      nonrefundable_support  budget financing_source  ratings  \\\n",
       "0                       NaN     NaN              NaN      7.2   \n",
       "1                       NaN     NaN              NaN      6.6   \n",
       "2                       NaN     NaN              NaN      6.8   \n",
       "3                       NaN     NaN              NaN      6.8   \n",
       "4                       NaN     NaN              NaN      6.8   \n",
       "...                     ...     ...              ...      ...   \n",
       "7481                    NaN     NaN              NaN      NaN   \n",
       "7482                    NaN     NaN              NaN      5.4   \n",
       "7483                    NaN     NaN              NaN      NaN   \n",
       "7484                    NaN     NaN              NaN      NaN   \n",
       "7485                    NaN     NaN              NaN      6.3   \n",
       "\n",
       "                         genres  box_office  age_group  year_start_date  \\\n",
       "0        боевик,драма,мелодрама         NaN         18             2015   \n",
       "1                 драма,военный         NaN          6             2016   \n",
       "2     фантастика,боевик,триллер         NaN         18             2016   \n",
       "3     фантастика,боевик,триллер         NaN         18             2016   \n",
       "4     фантастика,боевик,триллер         NaN         18             2015   \n",
       "...                         ...         ...        ...              ...   \n",
       "7481             нет информации         NaN         12             2019   \n",
       "7482             боевик,триллер         NaN         16             2019   \n",
       "7483             нет информации         NaN          0             2019   \n",
       "7484             нет информации         NaN          0             2019   \n",
       "7485            комедия,вестерн         NaN          0             2019   \n",
       "\n",
       "          main_director     main_genres  gov_help_conv  \n",
       "0         Кевин Костнер          боевик            0.0  \n",
       "1             Е.Матвеев           драма            0.0  \n",
       "2     Тимур Бекмамбетов      фантастика            0.0  \n",
       "3     Тимур Бекмамбетов      фантастика            0.0  \n",
       "4     Тимур Бекмамбетов      фантастика            0.0  \n",
       "...                 ...             ...            ...  \n",
       "7481        Фил Грабски  нет информации            0.0  \n",
       "7482         Ник Пауэлл          боевик            0.0  \n",
       "7483   Чарльз Е.Бастьен  нет информации            0.0  \n",
       "7484           А.Беляев  нет информации            0.0  \n",
       "7485           И.Трусов         комедия            0.0  \n",
       "\n",
       "[7459 rows x 21 columns]"
      ]
     },
     "metadata": {},
     "output_type": "display_data"
    }
   ],
   "source": [
    "display(df)"
   ]
  },
  {
   "cell_type": "markdown",
   "metadata": {},
   "source": [
    "Посмотрим, какой тип кино (художественный, документальный, прочие) получает больше всего государственной поддержки."
   ]
  },
  {
   "cell_type": "code",
   "execution_count": 555,
   "metadata": {
    "scrolled": true
   },
   "outputs": [
    {
     "name": "stdout",
     "output_type": "stream",
     "text": [
      "type\n",
      "Художественный                2.761000e+09\n",
      "Анимационный                  4.350000e+08\n",
      "Документальный                0.000000e+00\n",
      "Музыкально-развлекательный    0.000000e+00\n",
      "Научно-популярный             0.000000e+00\n",
      "Прочие                        0.000000e+00\n",
      "Name: refundable_support, dtype: float64\n"
     ]
    }
   ],
   "source": [
    "print(df.groupby('type')['refundable_support'].sum().sort_values(ascending=False))"
   ]
  },
  {
   "cell_type": "markdown",
   "metadata": {},
   "source": [
    "Из предоставленных данных видно, что наибольшее количество государственной поддержки получили фильмы художественного жанра - 2,761 миллиарда рублей. Фильмы других жанров не получили такой поддержки."
   ]
  },
  {
   "cell_type": "markdown",
   "metadata": {},
   "source": [
    "Cредства, выделенные на поддержку фильмов"
   ]
  },
  {
   "cell_type": "code",
   "execution_count": 544,
   "metadata": {
    "scrolled": true
   },
   "outputs": [
    {
     "data": {
      "text/html": [
       "<div>\n",
       "<style scoped>\n",
       "    .dataframe tbody tr th:only-of-type {\n",
       "        vertical-align: middle;\n",
       "    }\n",
       "\n",
       "    .dataframe tbody tr th {\n",
       "        vertical-align: top;\n",
       "    }\n",
       "\n",
       "    .dataframe thead th {\n",
       "        text-align: right;\n",
       "    }\n",
       "</style>\n",
       "<table border=\"1\" class=\"dataframe\">\n",
       "  <thead>\n",
       "    <tr style=\"text-align: right;\">\n",
       "      <th></th>\n",
       "      <th>refundable_support</th>\n",
       "      <th>nonrefundable_support</th>\n",
       "    </tr>\n",
       "  </thead>\n",
       "  <tbody>\n",
       "    <tr>\n",
       "      <th>count</th>\n",
       "      <td>3.070000e+02</td>\n",
       "      <td>3.070000e+02</td>\n",
       "    </tr>\n",
       "    <tr>\n",
       "      <th>mean</th>\n",
       "      <td>1.041042e+07</td>\n",
       "      <td>4.936065e+07</td>\n",
       "    </tr>\n",
       "    <tr>\n",
       "      <th>std</th>\n",
       "      <td>2.385699e+07</td>\n",
       "      <td>6.015006e+07</td>\n",
       "    </tr>\n",
       "    <tr>\n",
       "      <th>min</th>\n",
       "      <td>0.000000e+00</td>\n",
       "      <td>3.000000e+06</td>\n",
       "    </tr>\n",
       "    <tr>\n",
       "      <th>25%</th>\n",
       "      <td>0.000000e+00</td>\n",
       "      <td>2.500000e+07</td>\n",
       "    </tr>\n",
       "    <tr>\n",
       "      <th>50%</th>\n",
       "      <td>0.000000e+00</td>\n",
       "      <td>3.000000e+07</td>\n",
       "    </tr>\n",
       "    <tr>\n",
       "      <th>75%</th>\n",
       "      <td>1.000000e+07</td>\n",
       "      <td>4.000000e+07</td>\n",
       "    </tr>\n",
       "    <tr>\n",
       "      <th>max</th>\n",
       "      <td>1.800000e+08</td>\n",
       "      <td>4.000000e+08</td>\n",
       "    </tr>\n",
       "  </tbody>\n",
       "</table>\n",
       "</div>"
      ],
      "text/plain": [
       "       refundable_support  nonrefundable_support\n",
       "count        3.070000e+02           3.070000e+02\n",
       "mean         1.041042e+07           4.936065e+07\n",
       "std          2.385699e+07           6.015006e+07\n",
       "min          0.000000e+00           3.000000e+06\n",
       "25%          0.000000e+00           2.500000e+07\n",
       "50%          0.000000e+00           3.000000e+07\n",
       "75%          1.000000e+07           4.000000e+07\n",
       "max          1.800000e+08           4.000000e+08"
      ]
     },
     "execution_count": 544,
     "metadata": {},
     "output_type": "execute_result"
    }
   ],
   "source": [
    "df[['refundable_support', 'nonrefundable_support']].describe()"
   ]
  },
  {
   "cell_type": "markdown",
   "metadata": {},
   "source": [
    "Сделаем столбец с суммарными данными государственной поддержки:"
   ]
  },
  {
   "cell_type": "code",
   "execution_count": 545,
   "metadata": {},
   "outputs": [
    {
     "data": {
      "text/plain": [
       "18349718847.0"
      ]
     },
     "execution_count": 545,
     "metadata": {},
     "output_type": "execute_result"
    }
   ],
   "source": [
    "df['gov_help'] = df['refundable_support']+df['nonrefundable_support']\n",
    "df['gov_help'].sum()"
   ]
  },
  {
   "cell_type": "markdown",
   "metadata": {},
   "source": [
    "Средства, выделенные на поддержку фильмов, варьируются от 0 до 400 миллионов рублей. Среднее значение выделенной государством поддержки составляет около 10,4 миллионов рублей, стандартное отклонение - около 23,8 миллионов рублей, медиана - 0 миллионов рублей. \n",
    "\n",
    "Кроме того, был создан дополнительный столбец \"gov_help\", который объединяет суммы refundable_support и nonrefundable_support. Всего за рассматриваемый период было выделено почти 183,5 миллиарда рублей на государственную поддержку фильмов."
   ]
  },
  {
   "cell_type": "code",
   "execution_count": 546,
   "metadata": {},
   "outputs": [
    {
     "data": {
      "image/png": "[encoded data removed]",
      "text/plain": [
       "<Figure size 720x576 with 1 Axes>"
      ]
     },
     "metadata": {},
     "output_type": "display_data"
    }
   ],
   "source": [
    "supported = df[df['nonrefundable_support']>0]\n",
    "\n",
    "# создание диаграммы рассеяния для гос. поддержки и бюджета фильма\n",
    "plt.figure(figsize=(10,8))\n",
    "sns.scatterplot(x='nonrefundable_support', y='budget', data=supported)\n",
    "plt.title('Господдержка vs Бюджет', fontsize=16)\n",
    "plt.xlabel('Господдержка, млн руб', fontsize=14)\n",
    "plt.ylabel('Бюджет, млрд руб', fontsize=14)\n",
    "plt.xticks(fontsize=12)\n",
    "plt.yticks(fontsize=12)\n",
    "plt.show()"
   ]
  },
  {
   "cell_type": "markdown",
   "metadata": {},
   "source": [
    "Не все фильмы получают государственную поддержку, поэтому данная визуализация дает неполное представление о тенденциях в фильмовой индустрии в целом."
   ]
  },
  {
   "cell_type": "markdown",
   "metadata": {},
   "source": [
    "Для проверки того, как окупаются такие фильмы, нам нужно рассчитать процент окупаемости фильмов с государственной поддержкой"
   ]
  },
  {
   "cell_type": "code",
   "execution_count": 547,
   "metadata": {},
   "outputs": [
    {
     "data": {
      "text/plain": [
       "129.27327315425543"
      ]
     },
     "execution_count": 547,
     "metadata": {},
     "output_type": "execute_result"
    }
   ],
   "source": [
    "df['government_funded_profit'] = 100 * (df['box_office'] / (df['budget'] - df['nonrefundable_support']))\n",
    "df['government_funded_profit'].mean()"
   ]
  },
  {
   "cell_type": "markdown",
   "metadata": {},
   "source": [
    "Согласно полученным данным, средний процент окупаемости для фильмов с государственной поддержкой составляет около 129%. Это означает, что в среднем фильмы окупают изначально выделенные денежные средства в размере 129%. "
   ]
  },
  {
   "cell_type": "markdown",
   "metadata": {},
   "source": [
    "Чтобы проверить как ведут себя такие фильмы с различными рейтингами, мы можем произвести группировку фильмов по их рейтингам (столбец `ratings`) и посчитать средний процент окупаемости каждой группы"
   ]
  },
  {
   "cell_type": "code",
   "execution_count": 548,
   "metadata": {
    "scrolled": true
   },
   "outputs": [
    {
     "name": "stdout",
     "output_type": "stream",
     "text": [
      "ratings\n",
      "1.0    66.480294\n",
      "1.1          NaN\n",
      "1.2          NaN\n",
      "1.3          NaN\n",
      "1.4          NaN\n",
      "         ...    \n",
      "8.8          NaN\n",
      "8.9          NaN\n",
      "9.0          NaN\n",
      "9.1          NaN\n",
      "9.2          NaN\n",
      "Name: government_funded_profit, Length: 80, dtype: float64\n"
     ]
    }
   ],
   "source": [
    "gov_help_conv_mean = df.groupby('ratings')['government_funded_profit'].mean()\n",
    "print(gov_help_conv_mean)"
   ]
  },
  {
   "cell_type": "markdown",
   "metadata": {},
   "source": [
    "Для большинства рейтингов отсутствуют данные и не отображаются значения (NaN).\n",
    "\n",
    "Таким образом, для проведения анализа необходимо более полное и актуальное наблюдение данных о фильмах для каждого рейтинга. Из текущих данных нельзя сделать выводов о том, как ведут себя фильмы с различными рейтингами, получающие государственную поддержку."
   ]
  },
  {
   "cell_type": "code",
   "execution_count": 549,
   "metadata": {},
   "outputs": [
    {
     "data": {
      "image/png": "[encoded data removed]",
      "text/plain": [
       "<Figure size 720x432 with 1 Axes>"
      ]
     },
     "metadata": {},
     "output_type": "display_data"
    }
   ],
   "source": [
    "sns.set_style('whitegrid')\n",
    "plt.figure(figsize=(10, 6))\n",
    "plt.title('Distribution of Government-Funded Film Profitability', fontsize=16)\n",
    "sns.histplot(df['government_funded_profit'], bins=100, color='darkblue')\n",
    "plt.xlabel('Profitability (%)', fontsize=14)\n",
    "plt.ylabel('Count', fontsize=14)\n",
    "plt.xticks(fontsize=12)\n",
    "plt.yticks(fontsize=12)\n",
    "plt.show()"
   ]
  },
  {
   "cell_type": "markdown",
   "metadata": {},
   "source": [
    "Большинство фильмов с государственной поддержкой имеют процент окупаемости от 0% до 200%, причем максимальное число фильмов сосредоточено в диапазоне от 0% до 100%. Также на гистограмме можно заметить наличие некоторого числа фильмов с очень высокой прибылью, что указывает на то, что некоторые фильмы достаточно успешно окупаются с помощью государственной поддержки."
   ]
  },
  {
   "cell_type": "markdown",
   "metadata": {},
   "source": [
    "Как распределилась гос.поддержка по годам"
   ]
  },
  {
   "cell_type": "code",
   "execution_count": 550,
   "metadata": {
    "scrolled": true
   },
   "outputs": [
    {
     "data": {
      "image/png": "[encoded data removed]",
      "text/plain": [
       "<Figure size 864x432 with 1 Axes>"
      ]
     },
     "metadata": {},
     "output_type": "display_data"
    }
   ],
   "source": [
    "gov_support_by_year = df.groupby('year_start_date')['refundable_support'].sum().reset_index()\n",
    "\n",
    "sns.set_style('whitegrid')\n",
    "plt.figure(figsize=(12, 6))\n",
    "plt.title('Distribution of Refundable Government Support by Year', fontsize=16)\n",
    "sns.barplot(x='year_start_date', y='refundable_support', data=gov_support_by_year, color='darkblue')\n",
    "plt.xlabel('Year', fontsize=14)\n",
    "plt.ylabel('Total Refundable Support (millions)', fontsize=14)\n",
    "plt.xticks(rotation=90, fontsize=12)\n",
    "plt.yticks(fontsize=12)\n",
    "plt.show()\n"
   ]
  },
  {
   "cell_type": "markdown",
   "metadata": {},
   "source": [
    "На графике видно, что общая сумма возвращаемой государственной поддержки имела тенденцию к увеличению с 2000 года до 2015 года. Далее наблюдалось снижение общей суммы возвращаемой государственной поддержки с 2015 года по 2019 год. Это может указывать на изменение приоритетов государственной поддержки в кинопроизводстве."
   ]
  },
  {
   "cell_type": "code",
   "execution_count": 551,
   "metadata": {
    "scrolled": true
   },
   "outputs": [
    {
     "data": {
      "image/png": "[encoded data removed]",
      "text/plain": [
       "<Figure size 864x432 with 1 Axes>"
      ]
     },
     "metadata": {},
     "output_type": "display_data"
    }
   ],
   "source": [
    "gov_support_by_year = df.groupby('year_start_date')['refundable_support'].sum().reset_index()\n",
    "\n",
    "sns.set_style('whitegrid')\n",
    "plt.figure(figsize=(12, 6))\n",
    "plt.title('Number of Government-Supported Films by Year', fontsize=16)\n",
    "sns.lineplot(x='year_start_date', y='refundable_support', data=gov_support_by_year, color='darkblue')\n",
    "plt.xlabel('Year', fontsize=14)\n",
    "plt.ylabel('Number of refundable_support Films', fontsize=14)\n",
    "plt.xticks(rotation=90, fontsize=12)\n",
    "plt.yticks(fontsize=12)\n",
    "plt.show()"
   ]
  },
  {
   "cell_type": "markdown",
   "metadata": {},
   "source": [
    "В 2016 году государство выделяло достаточно средств на поддержание кинопроизводства, что привело к пику поддерживаемых фильмов на этот год. "
   ]
  },
  {
   "cell_type": "code",
   "execution_count": 556,
   "metadata": {
    "scrolled": true
   },
   "outputs": [
    {
     "data": {
      "image/png": "[encoded data removed]",
      "text/plain": [
       "<Figure size 720x576 with 1 Axes>"
      ]
     },
     "metadata": {},
     "output_type": "display_data"
    }
   ],
   "source": [
    "# создание диаграммы рассеяния для гос. поддержки и кассовых сборов фильма\n",
    "plt.figure(figsize=(10,8))\n",
    "sns.scatterplot(x='nonrefundable_support', y='box_office', data=supported)\n",
    "plt.title('Господдержка vs Кассовые сборы', fontsize=16)\n",
    "plt.xlabel('Господдержка, млн руб', fontsize=14)\n",
    "plt.ylabel('Кассовые сборы, млрд руб', fontsize=14)\n",
    "plt.xticks(fontsize=12)\n",
    "plt.yticks(fontsize=12)\n",
    "plt.show()"
   ]
  },
  {
   "cell_type": "markdown",
   "metadata": {},
   "source": [
    "Фильмы с большей поддержкой имеют большие кассовые сборы. Интересно, что много фильмов с господдержкой всего в пол миллиона рублей."
   ]
  },
  {
   "cell_type": "markdown",
   "metadata": {},
   "source": [
    "Посмотрим, каких режиссеров государство любит больше всех."
   ]
  },
  {
   "cell_type": "code",
   "execution_count": 557,
   "metadata": {},
   "outputs": [
    {
     "data": {
      "text/html": [
       "<div>\n",
       "<style scoped>\n",
       "    .dataframe tbody tr th:only-of-type {\n",
       "        vertical-align: middle;\n",
       "    }\n",
       "\n",
       "    .dataframe tbody tr th {\n",
       "        vertical-align: top;\n",
       "    }\n",
       "\n",
       "    .dataframe thead th {\n",
       "        text-align: right;\n",
       "    }\n",
       "</style>\n",
       "<table border=\"1\" class=\"dataframe\">\n",
       "  <thead>\n",
       "    <tr style=\"text-align: right;\">\n",
       "      <th></th>\n",
       "      <th>gov_help_conv</th>\n",
       "    </tr>\n",
       "    <tr>\n",
       "      <th>main_director</th>\n",
       "      <th></th>\n",
       "    </tr>\n",
       "  </thead>\n",
       "  <tbody>\n",
       "    <tr>\n",
       "      <th>А.Соколов</th>\n",
       "      <td>0.700000</td>\n",
       "    </tr>\n",
       "    <tr>\n",
       "      <th>Э.Архангельская</th>\n",
       "      <td>0.700000</td>\n",
       "    </tr>\n",
       "    <tr>\n",
       "      <th>А.Майовер</th>\n",
       "      <td>0.700000</td>\n",
       "    </tr>\n",
       "    <tr>\n",
       "      <th>Максим Свешников</th>\n",
       "      <td>0.700000</td>\n",
       "    </tr>\n",
       "    <tr>\n",
       "      <th>Р.Ильясов</th>\n",
       "      <td>0.700000</td>\n",
       "    </tr>\n",
       "    <tr>\n",
       "      <th>И.Шурховецкий</th>\n",
       "      <td>0.699982</td>\n",
       "    </tr>\n",
       "    <tr>\n",
       "      <th>Ф.Абрютин</th>\n",
       "      <td>0.697674</td>\n",
       "    </tr>\n",
       "    <tr>\n",
       "      <th>М.Свешников</th>\n",
       "      <td>0.694131</td>\n",
       "    </tr>\n",
       "    <tr>\n",
       "      <th>Е.Миндадзе (псевдоним Катя Шагалова)</th>\n",
       "      <td>0.690095</td>\n",
       "    </tr>\n",
       "    <tr>\n",
       "      <th>Т.Аленикова</th>\n",
       "      <td>0.689474</td>\n",
       "    </tr>\n",
       "  </tbody>\n",
       "</table>\n",
       "</div>"
      ],
      "text/plain": [
       "                                      gov_help_conv\n",
       "main_director                                      \n",
       "А.Соколов                                  0.700000\n",
       "Э.Архангельская                            0.700000\n",
       "А.Майовер                                  0.700000\n",
       "Максим Свешников                           0.700000\n",
       "Р.Ильясов                                  0.700000\n",
       "И.Шурховецкий                              0.699982\n",
       "Ф.Абрютин                                  0.697674\n",
       "М.Свешников                                0.694131\n",
       "Е.Миндадзе (псевдоним Катя Шагалова)       0.690095\n",
       "Т.Аленикова                                0.689474"
      ]
     },
     "execution_count": 557,
     "metadata": {},
     "output_type": "execute_result"
    }
   ],
   "source": [
    "df.pivot_table(index= 'main_director', values = ['gov_help_conv']).sort_values(by='gov_help_conv',ascending=False).head(10)"
   ]
  },
  {
   "cell_type": "markdown",
   "metadata": {},
   "source": [
    "По данным из таблицы, можно заметить, что на первых местах в рейтинге находятся режиссеры, которые получили государственную поддержку на уровне 70-71%"
   ]
  },
  {
   "cell_type": "code",
   "execution_count": 554,
   "metadata": {},
   "outputs": [
    {
     "data": {
      "text/html": [
       "<div>\n",
       "<style scoped>\n",
       "    .dataframe tbody tr th:only-of-type {\n",
       "        vertical-align: middle;\n",
       "    }\n",
       "\n",
       "    .dataframe tbody tr th {\n",
       "        vertical-align: top;\n",
       "    }\n",
       "\n",
       "    .dataframe thead th {\n",
       "        text-align: right;\n",
       "    }\n",
       "</style>\n",
       "<table border=\"1\" class=\"dataframe\">\n",
       "  <thead>\n",
       "    <tr style=\"text-align: right;\">\n",
       "      <th></th>\n",
       "      <th>box_office</th>\n",
       "      <th>budget</th>\n",
       "      <th>gov_help_conv</th>\n",
       "      <th>ratings</th>\n",
       "    </tr>\n",
       "    <tr>\n",
       "      <th>title</th>\n",
       "      <th></th>\n",
       "      <th></th>\n",
       "      <th></th>\n",
       "      <th></th>\n",
       "    </tr>\n",
       "  </thead>\n",
       "  <tbody>\n",
       "    <tr>\n",
       "      <th>О любви (2017)</th>\n",
       "      <td>1.133241e+07</td>\n",
       "      <td>70086439.0</td>\n",
       "      <td>0.784745</td>\n",
       "      <td>NaN</td>\n",
       "    </tr>\n",
       "    <tr>\n",
       "      <th>Наследники (2015)</th>\n",
       "      <td>1.947800e+05</td>\n",
       "      <td>50218741.0</td>\n",
       "      <td>0.700000</td>\n",
       "      <td>6.1</td>\n",
       "    </tr>\n",
       "    <tr>\n",
       "      <th>Экспириенс</th>\n",
       "      <td>3.655000e+04</td>\n",
       "      <td>37142857.0</td>\n",
       "      <td>0.700000</td>\n",
       "      <td>4.7</td>\n",
       "    </tr>\n",
       "    <tr>\n",
       "      <th>Бесславные придурки</th>\n",
       "      <td>2.814000e+04</td>\n",
       "      <td>37142857.0</td>\n",
       "      <td>0.700000</td>\n",
       "      <td>NaN</td>\n",
       "    </tr>\n",
       "    <tr>\n",
       "      <th>Преображение (2015)</th>\n",
       "      <td>5.680000e+04</td>\n",
       "      <td>37142857.0</td>\n",
       "      <td>0.700000</td>\n",
       "      <td>5.7</td>\n",
       "    </tr>\n",
       "    <tr>\n",
       "      <th>Елки Лохматые</th>\n",
       "      <td>1.212256e+08</td>\n",
       "      <td>80000000.0</td>\n",
       "      <td>0.700000</td>\n",
       "      <td>5.0</td>\n",
       "    </tr>\n",
       "    <tr>\n",
       "      <th>Завтра утром</th>\n",
       "      <td>5.122000e+04</td>\n",
       "      <td>50000000.0</td>\n",
       "      <td>0.700000</td>\n",
       "      <td>5.7</td>\n",
       "    </tr>\n",
       "    <tr>\n",
       "      <th>Ангелы Революции</th>\n",
       "      <td>8.691810e+05</td>\n",
       "      <td>40000000.0</td>\n",
       "      <td>0.700000</td>\n",
       "      <td>6.4</td>\n",
       "    </tr>\n",
       "    <tr>\n",
       "      <th>Память осени</th>\n",
       "      <td>5.850000e+04</td>\n",
       "      <td>70000000.0</td>\n",
       "      <td>0.700000</td>\n",
       "      <td>5.7</td>\n",
       "    </tr>\n",
       "    <tr>\n",
       "      <th>КЛЕТКА (по мотивам фантастического рассказа Ф.М.Достоевского \"Кроткая\")</th>\n",
       "      <td>9.559705e+05</td>\n",
       "      <td>35000000.0</td>\n",
       "      <td>0.700000</td>\n",
       "      <td>6.2</td>\n",
       "    </tr>\n",
       "    <tr>\n",
       "      <th>Частное пионерское-2</th>\n",
       "      <td>9.774800e+05</td>\n",
       "      <td>35714286.0</td>\n",
       "      <td>0.700000</td>\n",
       "      <td>7.3</td>\n",
       "    </tr>\n",
       "    <tr>\n",
       "      <th>Вакантна жизнь шеф-повара</th>\n",
       "      <td>1.572434e+06</td>\n",
       "      <td>28571429.0</td>\n",
       "      <td>0.700000</td>\n",
       "      <td>6.3</td>\n",
       "    </tr>\n",
       "    <tr>\n",
       "      <th>Ведьма .</th>\n",
       "      <td>5.190750e+04</td>\n",
       "      <td>48571430.0</td>\n",
       "      <td>0.700000</td>\n",
       "      <td>7.4</td>\n",
       "    </tr>\n",
       "    <tr>\n",
       "      <th>Легенда о Коловрате</th>\n",
       "      <td>5.904051e+08</td>\n",
       "      <td>500012729.0</td>\n",
       "      <td>0.699982</td>\n",
       "      <td>6.4</td>\n",
       "    </tr>\n",
       "    <tr>\n",
       "      <th>Про Петра и Павла</th>\n",
       "      <td>2.416200e+05</td>\n",
       "      <td>52860000.0</td>\n",
       "      <td>0.699962</td>\n",
       "      <td>6.1</td>\n",
       "    </tr>\n",
       "    <tr>\n",
       "      <th>Черновик</th>\n",
       "      <td>2.041584e+08</td>\n",
       "      <td>200067392.0</td>\n",
       "      <td>0.699764</td>\n",
       "      <td>4.9</td>\n",
       "    </tr>\n",
       "    <tr>\n",
       "      <th>Последний вагон. Весна</th>\n",
       "      <td>6.119300e+04</td>\n",
       "      <td>35760060.0</td>\n",
       "      <td>0.699104</td>\n",
       "      <td>5.1</td>\n",
       "    </tr>\n",
       "    <tr>\n",
       "      <th>Вдвоем на льдине.</th>\n",
       "      <td>4.450000e+03</td>\n",
       "      <td>37943652.0</td>\n",
       "      <td>0.698404</td>\n",
       "      <td>6.6</td>\n",
       "    </tr>\n",
       "    <tr>\n",
       "      <th>Вурдалаки</th>\n",
       "      <td>4.293348e+07</td>\n",
       "      <td>113837339.0</td>\n",
       "      <td>0.698365</td>\n",
       "      <td>4.5</td>\n",
       "    </tr>\n",
       "    <tr>\n",
       "      <th>Ледокол</th>\n",
       "      <td>3.370697e+08</td>\n",
       "      <td>430000000.0</td>\n",
       "      <td>0.697674</td>\n",
       "      <td>6.5</td>\n",
       "    </tr>\n",
       "  </tbody>\n",
       "</table>\n",
       "</div>"
      ],
      "text/plain": [
       "                                                      box_office       budget  \\\n",
       "title                                                                           \n",
       "О любви (2017)                                      1.133241e+07   70086439.0   \n",
       "Наследники (2015)                                   1.947800e+05   50218741.0   \n",
       "Экспириенс                                          3.655000e+04   37142857.0   \n",
       "Бесславные придурки                                 2.814000e+04   37142857.0   \n",
       "Преображение (2015)                                 5.680000e+04   37142857.0   \n",
       "Елки Лохматые                                       1.212256e+08   80000000.0   \n",
       "Завтра утром                                        5.122000e+04   50000000.0   \n",
       "Ангелы Революции                                    8.691810e+05   40000000.0   \n",
       "Память осени                                        5.850000e+04   70000000.0   \n",
       "КЛЕТКА (по мотивам фантастического рассказа Ф.М...  9.559705e+05   35000000.0   \n",
       "Частное пионерское-2                                9.774800e+05   35714286.0   \n",
       "Вакантна жизнь шеф-повара                           1.572434e+06   28571429.0   \n",
       "Ведьма .                                            5.190750e+04   48571430.0   \n",
       "Легенда о Коловрате                                 5.904051e+08  500012729.0   \n",
       "Про Петра и Павла                                   2.416200e+05   52860000.0   \n",
       "Черновик                                            2.041584e+08  200067392.0   \n",
       "Последний вагон. Весна                              6.119300e+04   35760060.0   \n",
       "Вдвоем на льдине.                                   4.450000e+03   37943652.0   \n",
       "Вурдалаки                                           4.293348e+07  113837339.0   \n",
       "Ледокол                                             3.370697e+08  430000000.0   \n",
       "\n",
       "                                                    gov_help_conv  ratings  \n",
       "title                                                                       \n",
       "О любви (2017)                                           0.784745      NaN  \n",
       "Наследники (2015)                                        0.700000      6.1  \n",
       "Экспириенс                                               0.700000      4.7  \n",
       "Бесславные придурки                                      0.700000      NaN  \n",
       "Преображение (2015)                                      0.700000      5.7  \n",
       "Елки Лохматые                                            0.700000      5.0  \n",
       "Завтра утром                                             0.700000      5.7  \n",
       "Ангелы Революции                                         0.700000      6.4  \n",
       "Память осени                                             0.700000      5.7  \n",
       "КЛЕТКА (по мотивам фантастического рассказа Ф.М...       0.700000      6.2  \n",
       "Частное пионерское-2                                     0.700000      7.3  \n",
       "Вакантна жизнь шеф-повара                                0.700000      6.3  \n",
       "Ведьма .                                                 0.700000      7.4  \n",
       "Легенда о Коловрате                                      0.699982      6.4  \n",
       "Про Петра и Павла                                        0.699962      6.1  \n",
       "Черновик                                                 0.699764      4.9  \n",
       "Последний вагон. Весна                                   0.699104      5.1  \n",
       "Вдвоем на льдине.                                        0.698404      6.6  \n",
       "Вурдалаки                                                0.698365      4.5  \n",
       "Ледокол                                                  0.697674      6.5  "
      ]
     },
     "execution_count": 554,
     "metadata": {},
     "output_type": "execute_result"
    }
   ],
   "source": [
    "df.pivot_table(index= 'title', values = ['ratings','gov_help_conv','box_office','budget']).sort_values(by='gov_help_conv',ascending=False).head(20)"
   ]
  },
  {
   "cell_type": "markdown",
   "metadata": {},
   "source": [
    "Вывод по фильмам с гос.поддержкой\n",
    "\n",
    "Среди топ-20 фильмов зафиксированы как известные киноленты (например, \"Ледокол\"), так и менее известные фильмы. На первом месте находится фильм \"О любви\" (2017), на который было выделено наибольшее количество государственной поддержки. Однако, данный фильм не получил ожидаемых оценок и был воспринят аудиторией холодно."
   ]
  },
  {
   "cell_type": "markdown",
   "metadata": {},
   "source": [
    "<div class=\"alert alert-warning\">\n",
    "<h2> Комментарий ревьюера V1<a class=\"tocSkip\"> </h2>\n",
    "\n",
    "<b>Некоторые замечания и рекомендации💡:</b> Супер, отлично проанализировала фильмы с гос. поддержкой! Молодец, что подробно и со всех сторон проводишь исследование.\n",
    "    \n",
    "Нужно выводы скорректировать на правильных данных, единственная ошибка."
   ]
  },
  {
   "cell_type": "markdown",
   "metadata": {},
   "source": [
    "# Общий вывод #"
   ]
  },
  {
   "cell_type": "markdown",
   "metadata": {},
   "source": [
    "Анализ данных российского кинопроката выявил ряд интересных зависимостей относительно количества фильмов, кассовых сборов, возрастной категории, государственной поддержки и жанров.\n",
    "\n",
    "Мы соблюдали аккуратность и внимательность при анализе данных, чтобы не переоценить значимость некоторых показателей.\n",
    "\n",
    "Рассмотрели возможность использования таких параметров, как возрастная категория и государственная поддержка фильмов, при анализе рыночной ситуации в индустрии кинопроката.\n",
    "\n",
    "Использовали аналитический подход для выявления наиболее успешных фильмов и жанров, а также для определения наиболее популярных режиссеров, возможно, для использования в будущих проектах.\n",
    "\n",
    "Полученные результаты и выводы о кинопрокате могут стать базой для дальнейшего анализа и наблюдения за индустрией в целом, а также для прогнозирования изменений и трендов на рынке.\n",
    "\n",
    "- В целом, в прокат выходит около 670-680 фильмов ежегодно. \n",
    "\n",
    "- С учетом роста цен на билеты, ежегодно объем кассовых сборов растет. Максимальная сумма кассовых сборов была достигнута в 2018 году (201,8 трлн руб).\n",
    "\n",
    "- Однако некоторые показатели, связанные с кассовыми сборами, выглядят неправдоподобно низкими, возможно, связано с ошибками или неточностями в данных. \n",
    "\n",
    "- Наблюдается определенная закономерность между возрастной категорией и кассовыми сборами: фильмы категорий 6+/12+/16+ почти всегда производят больше сборов, чем категория 18+. \n",
    "\n",
    "- Самыми успешными фильмами являются художественные фильмы, за исключением мультфильмов. \n",
    "\n",
    "- Режиссеры, такие как К. Нолан, П. Джексон и Г. Ричи оказались наиболее популярными. \n",
    "\n",
    "- Количество фильмов, снятых с участием государства составляет около 5% от всех фильмов. Фильмы без государственной поддержки оказываются более успешными с точки зрения кассовых сборов, несмотря на то, что фильмы с господдержкой имеют небольшие преимущества по показателям среднего бюджета и общей сумме сборов. \n",
    "\n",
    "- Наиболее распространенной возрастной категорией является категория 16+. \n",
    "\n",
    "- Фильмы, снятые с участием государства в являются художественными и мультфильмами.\n",
    "\n",
    "Если нужно дать рекомендации для бизнеса, то:\n",
    "\n",
    "- Если бизнес работает в индустрии кинопроката, нужно следить за изменениями в количестве и составе выходящих в прокат фильмов, чтобы понимать, какие фильмы могут быть наиболее успешными в ближайшее время.\n",
    "\n",
    "- Нужно учитывать рост цен на билеты при формировании ценовой политики, чтобы сбалансировать спрос и предложение.\n",
    "\n",
    "- При использовании данных о кассовых сборах для анализа рынка, нужно учитывать возможные ошибки или неточности, чтобы не делать неверные выводы.\n",
    "\n",
    "- Нужно ориентироваться на фильмы, созданные для категорий 6+, 12+ и 16+, которые в среднем обеспечивают больше кассовых сборов, чем фильмы категории 18+.\n",
    "\n",
    "- Лучше всего снимать художественные фильмы или мультфильмы для семейного просмотра.\n"
   ]
  },
  {
   "cell_type": "markdown",
   "metadata": {},
   "source": [
    "<div class=\"alert alert-warning\">\n",
    "<h2> Комментарий ревьюера V1<a class=\"tocSkip\"> </h2>\n",
    "\n",
    "<b>Некоторые замечания и рекомендации💡:</b> В итоговом выводе нужно достаточно подробно написать основные пункты выявленных зависимостей. Стоит доработать вывод с учетом моих комментариев по ходу работы. В итоговом выводе также старайся оставлять рекомендации для последующих шагов. Например рекомендации, что можно обработать и проанализировать другие признаки, на что твоим коллегам стоить обратить внимание."
   ]
  },
  {
   "cell_type": "markdown",
   "metadata": {},
   "source": [
    "<div class=\"alert alert-success\">\n",
    "<h2> Комментарий ревьюера V2<a class=\"tocSkip\"> </h2>\n",
    "\n",
    "<b>Все отлично!👍:</b> Отличный вывод, все четко, понятно и структурировано. Вывод в полной мере отражает существующие зависимости, и по нему можно принимать дальнейшие решения.\n",
    "</div>"
   ]
  },
  {
   "cell_type": "markdown",
   "metadata": {},
   "source": [
    "<div style=\"border:solid Chocolate 2px; padding: 40px\">\n",
    "\n",
    "**Общий вывод по проекту**\n",
    "\n",
    "Спасибо за твой проект! Я уверен, что ты приложила все усилия, чтобы сделать этот проект. Это видно по твоей работе, а сформулированные выводы отражают, насколько успешно ты осваиваешь материал.\n",
    "\n",
    "**Отмечу отдельные положительные моменты проекта🙂**:\n",
    "\n",
    "* Ты полностью следовала всем этапам выполнения задания и справилась почти со всем. Хорошая работа!\n",
    "* Отдельно выделю некоторые выводы, которые ты смогла сформулировать абсолютно точно!\n",
    "* У тебя опрятный и читаемый код. Возможно это звучит банально, однако при работе с чужим кодом это крайне важно)\n",
    "\n",
    "\n",
    "**На что стоит обратить внимание🤓**:\n",
    "\n",
    "* Важно доработать итоговый вывод.\n",
    "* Нужно корректно обработать пропуски.\n",
    "* Скорректируй вывод по ходу проекта по новым значениям.\n",
    "* Остальные рекомендации ты найдешь в моих комментариях!\n",
    "\n",
    "\n",
    "**Желаю удачи и жду твой проект на повторное ревью!**😉"
   ]
  },
  {
   "cell_type": "markdown",
   "metadata": {},
   "source": [
    "<div style=\"border:solid Chocolate 2px; padding: 40px\">\n",
    "\n",
    "Ты отлично справилась с данной работой! Видно, как ты успешно осваиваешь материал, применяешь полученные знания на практике. Мне было очень приятно проверять твою работу, надеюсь, мои комментарии и советы были для тебя полезными.\n",
    "\n",
    "**Желаю удачи в последующем обучении и исследованиях!**😉"
   ]
  },
  {
   "cell_type": "code",
   "execution_count": null,
   "metadata": {},
   "outputs": [],
   "source": []
  }
 ],
 "metadata": {
  "ExecuteTimeLog": [
   {
    "duration": 537,
    "start_time": "2021-07-07T10:12:08.634Z"
   },
   {
    "duration": 206,
    "start_time": "2021-07-07T10:12:30.191Z"
   },
   {
    "duration": 227,
    "start_time": "2021-07-07T10:12:33.078Z"
   },
   {
    "duration": 153,
    "start_time": "2021-07-07T10:13:42.146Z"
   },
   {
    "duration": 233,
    "start_time": "2021-07-07T10:30:09.252Z"
   },
   {
    "duration": 19,
    "start_time": "2021-07-07T10:30:15.577Z"
   },
   {
    "duration": 18,
    "start_time": "2021-07-07T10:30:57.348Z"
   },
   {
    "duration": 19,
    "start_time": "2021-07-07T10:31:17.452Z"
   },
   {
    "duration": 21,
    "start_time": "2021-07-07T10:31:32.227Z"
   },
   {
    "duration": 27,
    "start_time": "2021-07-07T10:32:06.588Z"
   },
   {
    "duration": 23,
    "start_time": "2021-07-07T10:32:43.645Z"
   },
   {
    "duration": 24,
    "start_time": "2021-07-07T10:33:06.948Z"
   },
   {
    "duration": 7,
    "start_time": "2021-07-07T10:33:28.558Z"
   },
   {
    "duration": 23,
    "start_time": "2021-07-07T10:33:43.761Z"
   },
   {
    "duration": 28,
    "start_time": "2021-07-07T10:34:13.466Z"
   },
   {
    "duration": 23,
    "start_time": "2021-07-07T10:35:56.187Z"
   },
   {
    "duration": 6,
    "start_time": "2021-07-07T10:36:48.182Z"
   },
   {
    "duration": 14,
    "start_time": "2021-07-07T10:37:49.641Z"
   },
   {
    "duration": 6,
    "start_time": "2021-07-07T10:38:06.694Z"
   },
   {
    "duration": 6,
    "start_time": "2021-07-07T10:38:13.493Z"
   },
   {
    "duration": 19,
    "start_time": "2021-07-07T10:38:44.056Z"
   },
   {
    "duration": 186,
    "start_time": "2021-07-07T10:48:35.618Z"
   },
   {
    "duration": 24,
    "start_time": "2021-07-07T10:48:51.498Z"
   },
   {
    "duration": 20,
    "start_time": "2021-07-07T10:48:59.415Z"
   },
   {
    "duration": 20,
    "start_time": "2021-07-07T10:53:02.195Z"
   },
   {
    "duration": 188,
    "start_time": "2021-07-07T10:54:40.486Z"
   },
   {
    "duration": 115,
    "start_time": "2021-07-07T10:54:52.552Z"
   },
   {
    "duration": 214,
    "start_time": "2021-07-07T10:54:56.354Z"
   },
   {
    "duration": 47,
    "start_time": "2021-07-07T10:54:58.282Z"
   },
   {
    "duration": 217,
    "start_time": "2021-07-07T10:59:16.075Z"
   },
   {
    "duration": 51,
    "start_time": "2021-07-07T10:59:16.243Z"
   },
   {
    "duration": 578,
    "start_time": "2021-07-07T10:59:18.774Z"
   },
   {
    "duration": 161,
    "start_time": "2021-07-07T10:59:21.238Z"
   },
   {
    "duration": 59,
    "start_time": "2021-07-07T10:59:21.453Z"
   },
   {
    "duration": 3,
    "start_time": "2021-07-07T11:02:10.786Z"
   },
   {
    "duration": 13,
    "start_time": "2021-07-07T11:07:07.722Z"
   },
   {
    "duration": 26,
    "start_time": "2021-07-07T11:07:17.958Z"
   },
   {
    "duration": 22,
    "start_time": "2021-07-07T11:08:17.939Z"
   },
   {
    "duration": 212,
    "start_time": "2021-07-07T11:08:19.665Z"
   },
   {
    "duration": 21,
    "start_time": "2021-07-07T11:08:29.945Z"
   },
   {
    "duration": 31,
    "start_time": "2021-07-07T11:08:38.899Z"
   },
   {
    "duration": 23,
    "start_time": "2021-07-07T11:08:54.527Z"
   },
   {
    "duration": 8,
    "start_time": "2021-07-07T11:18:55.974Z"
   },
   {
    "duration": 7,
    "start_time": "2021-07-07T11:19:03.639Z"
   },
   {
    "duration": 7,
    "start_time": "2021-07-07T11:19:06.444Z"
   },
   {
    "duration": 578,
    "start_time": "2021-07-07T12:09:59.576Z"
   },
   {
    "duration": 195,
    "start_time": "2021-07-07T12:10:00.156Z"
   },
   {
    "duration": 115,
    "start_time": "2021-07-07T12:10:00.353Z"
   },
   {
    "duration": 3,
    "start_time": "2021-07-07T12:10:00.470Z"
   },
   {
    "duration": 32,
    "start_time": "2021-07-07T12:10:00.474Z"
   },
   {
    "duration": 23,
    "start_time": "2021-07-07T12:10:00.508Z"
   },
   {
    "duration": 19,
    "start_time": "2021-07-07T12:10:00.533Z"
   },
   {
    "duration": 44,
    "start_time": "2021-07-07T12:10:00.553Z"
   },
   {
    "duration": 7,
    "start_time": "2021-07-07T12:10:00.600Z"
   },
   {
    "duration": 7,
    "start_time": "2021-07-07T12:19:45.761Z"
   },
   {
    "duration": 21,
    "start_time": "2021-07-07T12:21:35.482Z"
   },
   {
    "duration": 21,
    "start_time": "2021-07-07T12:29:23.569Z"
   },
   {
    "duration": 525,
    "start_time": "2021-07-07T12:29:44.542Z"
   },
   {
    "duration": 214,
    "start_time": "2021-07-07T12:29:45.069Z"
   },
   {
    "duration": 92,
    "start_time": "2021-07-07T12:29:45.285Z"
   },
   {
    "duration": 3,
    "start_time": "2021-07-07T12:29:45.379Z"
   },
   {
    "duration": 28,
    "start_time": "2021-07-07T12:29:45.384Z"
   },
   {
    "duration": 23,
    "start_time": "2021-07-07T12:29:45.413Z"
   },
   {
    "duration": 21,
    "start_time": "2021-07-07T12:29:45.437Z"
   },
   {
    "duration": 41,
    "start_time": "2021-07-07T12:29:45.460Z"
   },
   {
    "duration": 7,
    "start_time": "2021-07-07T12:29:45.502Z"
   },
   {
    "duration": 20,
    "start_time": "2021-07-07T12:29:45.511Z"
   },
   {
    "duration": 12,
    "start_time": "2021-07-07T12:34:02.800Z"
   },
   {
    "duration": 7,
    "start_time": "2021-07-07T12:35:10.479Z"
   },
   {
    "duration": 8,
    "start_time": "2021-07-07T12:35:22.440Z"
   },
   {
    "duration": 6,
    "start_time": "2021-07-07T12:35:35.649Z"
   },
   {
    "duration": 6,
    "start_time": "2021-07-07T12:35:43.107Z"
   },
   {
    "duration": 22,
    "start_time": "2021-07-07T12:38:03.029Z"
   },
   {
    "duration": 10,
    "start_time": "2021-07-07T12:38:06.592Z"
   },
   {
    "duration": 563,
    "start_time": "2021-07-07T12:38:46.493Z"
   },
   {
    "duration": 265,
    "start_time": "2021-07-07T12:38:47.058Z"
   },
   {
    "duration": 94,
    "start_time": "2021-07-07T12:38:47.325Z"
   },
   {
    "duration": 3,
    "start_time": "2021-07-07T12:38:47.422Z"
   },
   {
    "duration": 30,
    "start_time": "2021-07-07T12:38:47.427Z"
   },
   {
    "duration": 16,
    "start_time": "2021-07-07T12:38:53.305Z"
   },
   {
    "duration": 10,
    "start_time": "2021-07-07T12:38:53.499Z"
   },
   {
    "duration": 8,
    "start_time": "2021-07-07T12:39:48.161Z"
   },
   {
    "duration": 27,
    "start_time": "2021-07-07T12:41:17.629Z"
   },
   {
    "duration": 17,
    "start_time": "2021-07-07T12:41:17.867Z"
   },
   {
    "duration": 21,
    "start_time": "2021-07-07T12:41:19.310Z"
   },
   {
    "duration": 7,
    "start_time": "2021-07-07T12:41:19.544Z"
   },
   {
    "duration": 20,
    "start_time": "2021-07-07T12:41:20.504Z"
   },
   {
    "duration": 554,
    "start_time": "2021-07-07T12:56:23.696Z"
   },
   {
    "duration": 200,
    "start_time": "2021-07-07T12:56:25.234Z"
   },
   {
    "duration": 119,
    "start_time": "2021-07-07T12:56:25.480Z"
   },
   {
    "duration": 4,
    "start_time": "2021-07-07T12:56:25.762Z"
   },
   {
    "duration": 26,
    "start_time": "2021-07-07T12:56:27.172Z"
   },
   {
    "duration": 12,
    "start_time": "2021-07-07T12:56:29.051Z"
   },
   {
    "duration": 10,
    "start_time": "2021-07-07T12:56:29.291Z"
   },
   {
    "duration": 8,
    "start_time": "2021-07-07T12:56:29.623Z"
   },
   {
    "duration": 28,
    "start_time": "2021-07-07T12:56:32.137Z"
   },
   {
    "duration": 19,
    "start_time": "2021-07-07T12:56:39.785Z"
   },
   {
    "duration": 20,
    "start_time": "2021-07-07T12:56:44.297Z"
   },
   {
    "duration": 7,
    "start_time": "2021-07-07T12:56:45.392Z"
   },
   {
    "duration": 23,
    "start_time": "2021-07-07T12:56:46.615Z"
   },
   {
    "duration": 4,
    "start_time": "2021-07-07T12:57:06.625Z"
   },
   {
    "duration": 32,
    "start_time": "2021-07-07T12:57:36.690Z"
   },
   {
    "duration": 18,
    "start_time": "2021-07-07T12:58:00.149Z"
   },
   {
    "duration": 15,
    "start_time": "2021-07-07T12:59:16.793Z"
   },
   {
    "duration": 7,
    "start_time": "2021-07-07T13:19:22.624Z"
   },
   {
    "duration": 6,
    "start_time": "2021-07-07T14:17:33.527Z"
   },
   {
    "duration": 9,
    "start_time": "2021-07-07T14:17:48.409Z"
   },
   {
    "duration": 8,
    "start_time": "2021-07-07T14:20:13.060Z"
   },
   {
    "duration": 8,
    "start_time": "2021-07-07T14:20:37.957Z"
   },
   {
    "duration": 8,
    "start_time": "2021-07-07T14:20:47.470Z"
   },
   {
    "duration": 9,
    "start_time": "2021-07-07T14:20:54.503Z"
   },
   {
    "duration": 10,
    "start_time": "2021-07-07T14:28:57.763Z"
   },
   {
    "duration": 3,
    "start_time": "2021-07-07T14:30:23.377Z"
   },
   {
    "duration": 3,
    "start_time": "2021-07-07T14:30:36.489Z"
   },
   {
    "duration": 103,
    "start_time": "2021-07-07T14:30:52.351Z"
   },
   {
    "duration": 8,
    "start_time": "2021-07-07T14:30:54.763Z"
   },
   {
    "duration": 8,
    "start_time": "2021-07-07T14:31:29.301Z"
   },
   {
    "duration": 13,
    "start_time": "2021-07-07T14:31:44.516Z"
   },
   {
    "duration": 7,
    "start_time": "2021-07-07T14:33:10.972Z"
   },
   {
    "duration": 11,
    "start_time": "2021-07-07T14:33:27.780Z"
   },
   {
    "duration": 8,
    "start_time": "2021-07-07T14:34:44.588Z"
   },
   {
    "duration": 57,
    "start_time": "2021-07-07T14:35:59.042Z"
   },
   {
    "duration": 3,
    "start_time": "2021-07-07T14:36:28.168Z"
   },
   {
    "duration": 5,
    "start_time": "2021-07-07T14:36:46.254Z"
   },
   {
    "duration": 4,
    "start_time": "2021-07-07T14:36:52.714Z"
   },
   {
    "duration": 3,
    "start_time": "2021-07-07T14:36:56.612Z"
   },
   {
    "duration": 4,
    "start_time": "2021-07-07T14:36:57.049Z"
   },
   {
    "duration": 3,
    "start_time": "2021-07-07T14:39:21.214Z"
   },
   {
    "duration": 7,
    "start_time": "2021-07-07T14:39:52.406Z"
   },
   {
    "duration": 11,
    "start_time": "2021-07-07T14:39:58.576Z"
   },
   {
    "duration": 9,
    "start_time": "2021-07-07T14:40:26.301Z"
   },
   {
    "duration": 10,
    "start_time": "2021-07-07T14:40:31.704Z"
   },
   {
    "duration": 11,
    "start_time": "2021-07-07T14:40:36.249Z"
   },
   {
    "duration": 10,
    "start_time": "2021-07-07T14:40:39.783Z"
   },
   {
    "duration": 9,
    "start_time": "2021-07-07T14:40:48.558Z"
   },
   {
    "duration": 10,
    "start_time": "2021-07-07T14:40:57.143Z"
   },
   {
    "duration": 9,
    "start_time": "2021-07-07T14:41:06.074Z"
   },
   {
    "duration": 4324,
    "start_time": "2021-07-07T14:41:22.004Z"
   },
   {
    "duration": 11,
    "start_time": "2021-07-07T14:41:33.392Z"
   },
   {
    "duration": 9,
    "start_time": "2021-07-07T14:41:39.288Z"
   },
   {
    "duration": 569,
    "start_time": "2021-07-07T14:42:14.387Z"
   },
   {
    "duration": 197,
    "start_time": "2021-07-07T14:42:14.959Z"
   },
   {
    "duration": 84,
    "start_time": "2021-07-07T14:42:16.052Z"
   },
   {
    "duration": 4,
    "start_time": "2021-07-07T14:42:16.900Z"
   },
   {
    "duration": 27,
    "start_time": "2021-07-07T14:42:19.898Z"
   },
   {
    "duration": 12,
    "start_time": "2021-07-07T14:42:21.577Z"
   },
   {
    "duration": 9,
    "start_time": "2021-07-07T14:42:21.813Z"
   },
   {
    "duration": 9,
    "start_time": "2021-07-07T14:42:22.569Z"
   },
   {
    "duration": 29,
    "start_time": "2021-07-07T14:42:25.837Z"
   },
   {
    "duration": 20,
    "start_time": "2021-07-07T14:42:27.003Z"
   },
   {
    "duration": 21,
    "start_time": "2021-07-07T14:42:28.767Z"
   },
   {
    "duration": 7,
    "start_time": "2021-07-07T14:42:29.838Z"
   },
   {
    "duration": 4,
    "start_time": "2021-07-07T14:43:25.493Z"
   },
   {
    "duration": 7,
    "start_time": "2021-07-07T14:43:26.573Z"
   },
   {
    "duration": 10,
    "start_time": "2021-07-07T14:43:31.639Z"
   },
   {
    "duration": 9,
    "start_time": "2021-07-07T14:43:32.046Z"
   },
   {
    "duration": 10,
    "start_time": "2021-07-07T14:43:33.301Z"
   },
   {
    "duration": 12,
    "start_time": "2021-07-07T14:43:33.658Z"
   },
   {
    "duration": 8,
    "start_time": "2021-07-07T14:43:34.552Z"
   },
   {
    "duration": 9,
    "start_time": "2021-07-07T14:43:35.058Z"
   },
   {
    "duration": 12,
    "start_time": "2021-07-07T14:43:35.914Z"
   },
   {
    "duration": 17,
    "start_time": "2021-07-07T14:45:34.368Z"
   },
   {
    "duration": 512,
    "start_time": "2021-07-07T14:51:58.236Z"
   },
   {
    "duration": 223,
    "start_time": "2021-07-07T14:51:58.750Z"
   },
   {
    "duration": 93,
    "start_time": "2021-07-07T14:51:58.977Z"
   },
   {
    "duration": 4,
    "start_time": "2021-07-07T14:51:59.071Z"
   },
   {
    "duration": 37,
    "start_time": "2021-07-07T14:51:59.077Z"
   },
   {
    "duration": 18,
    "start_time": "2021-07-07T14:51:59.116Z"
   },
   {
    "duration": 10,
    "start_time": "2021-07-07T14:51:59.137Z"
   },
   {
    "duration": 8,
    "start_time": "2021-07-07T14:51:59.149Z"
   },
   {
    "duration": 54,
    "start_time": "2021-07-07T14:51:59.158Z"
   },
   {
    "duration": 18,
    "start_time": "2021-07-07T14:51:59.213Z"
   },
   {
    "duration": 22,
    "start_time": "2021-07-07T14:51:59.232Z"
   },
   {
    "duration": 36,
    "start_time": "2021-07-07T14:51:59.255Z"
   },
   {
    "duration": 7,
    "start_time": "2021-07-07T14:51:59.293Z"
   },
   {
    "duration": 10,
    "start_time": "2021-07-07T14:51:59.302Z"
   },
   {
    "duration": 9,
    "start_time": "2021-07-07T14:51:59.313Z"
   },
   {
    "duration": 11,
    "start_time": "2021-07-07T14:51:59.324Z"
   },
   {
    "duration": 8,
    "start_time": "2021-07-07T14:51:59.337Z"
   },
   {
    "duration": 46,
    "start_time": "2021-07-07T14:51:59.347Z"
   },
   {
    "duration": 22,
    "start_time": "2021-07-07T14:51:59.395Z"
   },
   {
    "duration": 24,
    "start_time": "2021-07-07T14:57:32.911Z"
   },
   {
    "duration": 7,
    "start_time": "2021-07-07T14:58:22.070Z"
   },
   {
    "duration": 4,
    "start_time": "2021-07-07T14:59:11.239Z"
   },
   {
    "duration": 25,
    "start_time": "2021-07-07T15:07:22.208Z"
   },
   {
    "duration": 16,
    "start_time": "2021-07-07T15:08:25.560Z"
   },
   {
    "duration": 15,
    "start_time": "2021-07-07T15:08:40.647Z"
   },
   {
    "duration": 14,
    "start_time": "2021-07-07T15:08:46.669Z"
   },
   {
    "duration": 533,
    "start_time": "2021-07-07T15:18:07.440Z"
   },
   {
    "duration": 173,
    "start_time": "2021-07-07T15:18:07.974Z"
   },
   {
    "duration": 84,
    "start_time": "2021-07-07T15:18:08.149Z"
   },
   {
    "duration": 3,
    "start_time": "2021-07-07T15:18:08.235Z"
   },
   {
    "duration": 30,
    "start_time": "2021-07-07T15:18:08.240Z"
   },
   {
    "duration": 22,
    "start_time": "2021-07-07T15:18:08.272Z"
   },
   {
    "duration": 11,
    "start_time": "2021-07-07T15:18:08.295Z"
   },
   {
    "duration": 11,
    "start_time": "2021-07-07T15:18:08.309Z"
   },
   {
    "duration": 40,
    "start_time": "2021-07-07T15:18:08.322Z"
   },
   {
    "duration": 42,
    "start_time": "2021-07-07T15:18:08.364Z"
   },
   {
    "duration": 22,
    "start_time": "2021-07-07T15:18:08.408Z"
   },
   {
    "duration": 5,
    "start_time": "2021-07-07T15:18:08.432Z"
   },
   {
    "duration": 13,
    "start_time": "2021-07-07T15:18:08.439Z"
   },
   {
    "duration": 9,
    "start_time": "2021-07-07T15:18:08.454Z"
   },
   {
    "duration": 32,
    "start_time": "2021-07-07T15:18:08.465Z"
   },
   {
    "duration": 10,
    "start_time": "2021-07-07T15:18:08.501Z"
   },
   {
    "duration": 7,
    "start_time": "2021-07-07T15:18:08.513Z"
   },
   {
    "duration": 11,
    "start_time": "2021-07-07T15:18:08.521Z"
   },
   {
    "duration": 17,
    "start_time": "2021-07-07T15:18:08.534Z"
   },
   {
    "duration": 44,
    "start_time": "2021-07-07T15:18:08.553Z"
   },
   {
    "duration": 22,
    "start_time": "2021-07-07T15:18:08.599Z"
   },
   {
    "duration": 61,
    "start_time": "2021-07-07T15:18:08.622Z"
   },
   {
    "duration": 7,
    "start_time": "2021-07-07T15:18:39.457Z"
   },
   {
    "duration": 5,
    "start_time": "2021-07-07T16:05:17.020Z"
   },
   {
    "duration": 5,
    "start_time": "2021-07-07T16:51:28.794Z"
   },
   {
    "duration": 546,
    "start_time": "2021-07-07T16:52:26.306Z"
   },
   {
    "duration": 203,
    "start_time": "2021-07-07T16:52:27.523Z"
   },
   {
    "duration": 85,
    "start_time": "2021-07-07T16:52:27.736Z"
   },
   {
    "duration": 4,
    "start_time": "2021-07-07T16:52:27.899Z"
   },
   {
    "duration": 25,
    "start_time": "2021-07-07T16:52:28.674Z"
   },
   {
    "duration": 8,
    "start_time": "2021-07-07T16:52:32.956Z"
   },
   {
    "duration": 18,
    "start_time": "2021-07-07T16:52:35.616Z"
   },
   {
    "duration": 6,
    "start_time": "2021-07-07T16:52:36.913Z"
   },
   {
    "duration": 11,
    "start_time": "2021-07-07T16:52:40.258Z"
   },
   {
    "duration": 10,
    "start_time": "2021-07-07T16:52:46.251Z"
   },
   {
    "duration": 8,
    "start_time": "2021-07-07T16:52:47.182Z"
   },
   {
    "duration": 27,
    "start_time": "2021-07-07T16:53:20.391Z"
   },
   {
    "duration": 20,
    "start_time": "2021-07-07T16:53:22.022Z"
   },
   {
    "duration": 23,
    "start_time": "2021-07-07T16:53:23.690Z"
   },
   {
    "duration": 8,
    "start_time": "2021-07-07T16:53:24.261Z"
   },
   {
    "duration": 4,
    "start_time": "2021-07-07T16:53:38.733Z"
   },
   {
    "duration": 7,
    "start_time": "2021-07-07T16:53:40.445Z"
   },
   {
    "duration": 11,
    "start_time": "2021-07-07T16:53:41.348Z"
   },
   {
    "duration": 13,
    "start_time": "2021-07-07T16:53:45.250Z"
   },
   {
    "duration": 12,
    "start_time": "2021-07-07T16:53:45.467Z"
   },
   {
    "duration": 4,
    "start_time": "2021-07-07T16:55:32.704Z"
   },
   {
    "duration": 12,
    "start_time": "2021-07-07T16:55:49.012Z"
   },
   {
    "duration": 18,
    "start_time": "2021-07-07T16:55:49.547Z"
   },
   {
    "duration": 611,
    "start_time": "2021-07-07T16:58:35.156Z"
   },
   {
    "duration": 200,
    "start_time": "2021-07-07T16:58:35.770Z"
   },
   {
    "duration": 86,
    "start_time": "2021-07-07T16:58:35.972Z"
   },
   {
    "duration": 3,
    "start_time": "2021-07-07T16:58:36.060Z"
   },
   {
    "duration": 27,
    "start_time": "2021-07-07T16:58:36.065Z"
   },
   {
    "duration": 8,
    "start_time": "2021-07-07T16:58:36.094Z"
   },
   {
    "duration": 17,
    "start_time": "2021-07-07T16:58:36.103Z"
   },
   {
    "duration": 5,
    "start_time": "2021-07-07T16:58:36.123Z"
   },
   {
    "duration": 11,
    "start_time": "2021-07-07T16:58:36.130Z"
   },
   {
    "duration": 7,
    "start_time": "2021-07-07T16:58:36.143Z"
   },
   {
    "duration": 37,
    "start_time": "2021-07-07T16:58:36.152Z"
   },
   {
    "duration": 27,
    "start_time": "2021-07-07T16:58:36.191Z"
   },
   {
    "duration": 19,
    "start_time": "2021-07-07T16:58:36.219Z"
   },
   {
    "duration": 49,
    "start_time": "2021-07-07T16:58:36.240Z"
   },
   {
    "duration": 6,
    "start_time": "2021-07-07T16:58:36.291Z"
   },
   {
    "duration": 3,
    "start_time": "2021-07-07T16:58:36.299Z"
   },
   {
    "duration": 13,
    "start_time": "2021-07-07T16:58:36.304Z"
   },
   {
    "duration": 10,
    "start_time": "2021-07-07T16:58:36.319Z"
   },
   {
    "duration": 10,
    "start_time": "2021-07-07T16:58:36.331Z"
   },
   {
    "duration": 44,
    "start_time": "2021-07-07T16:58:36.343Z"
   },
   {
    "duration": 4,
    "start_time": "2021-07-07T16:58:36.388Z"
   },
   {
    "duration": 13,
    "start_time": "2021-07-07T16:58:36.394Z"
   },
   {
    "duration": 16,
    "start_time": "2021-07-07T16:58:36.410Z"
   },
   {
    "duration": 8,
    "start_time": "2021-07-07T17:02:31.629Z"
   },
   {
    "duration": 8,
    "start_time": "2021-07-07T17:02:34.308Z"
   },
   {
    "duration": 6,
    "start_time": "2021-07-07T17:05:13.483Z"
   },
   {
    "duration": 17,
    "start_time": "2021-07-07T17:05:20.606Z"
   },
   {
    "duration": 7,
    "start_time": "2021-07-07T17:05:34.638Z"
   },
   {
    "duration": 3,
    "start_time": "2021-07-07T17:06:31.883Z"
   },
   {
    "duration": 570,
    "start_time": "2021-07-07T17:06:37.165Z"
   },
   {
    "duration": 174,
    "start_time": "2021-07-07T17:06:37.737Z"
   },
   {
    "duration": 47,
    "start_time": "2021-07-07T17:06:37.913Z"
   },
   {
    "duration": 3,
    "start_time": "2021-07-07T17:06:37.962Z"
   },
   {
    "duration": 27,
    "start_time": "2021-07-07T17:06:37.967Z"
   },
   {
    "duration": 7,
    "start_time": "2021-07-07T17:06:37.996Z"
   },
   {
    "duration": 16,
    "start_time": "2021-07-07T17:06:38.005Z"
   },
   {
    "duration": 6,
    "start_time": "2021-07-07T17:06:38.024Z"
   },
   {
    "duration": 12,
    "start_time": "2021-07-07T17:06:38.031Z"
   },
   {
    "duration": 41,
    "start_time": "2021-07-07T17:06:38.045Z"
   },
   {
    "duration": 8,
    "start_time": "2021-07-07T17:06:38.088Z"
   },
   {
    "duration": 26,
    "start_time": "2021-07-07T17:06:38.098Z"
   },
   {
    "duration": 17,
    "start_time": "2021-07-07T17:06:38.126Z"
   },
   {
    "duration": 43,
    "start_time": "2021-07-07T17:06:38.144Z"
   },
   {
    "duration": 6,
    "start_time": "2021-07-07T17:06:38.188Z"
   },
   {
    "duration": 5,
    "start_time": "2021-07-07T17:06:38.195Z"
   },
   {
    "duration": 9,
    "start_time": "2021-07-07T17:06:38.201Z"
   },
   {
    "duration": 12,
    "start_time": "2021-07-07T17:06:38.212Z"
   },
   {
    "duration": 11,
    "start_time": "2021-07-07T17:06:38.226Z"
   },
   {
    "duration": 47,
    "start_time": "2021-07-07T17:06:38.239Z"
   },
   {
    "duration": 4,
    "start_time": "2021-07-07T17:06:38.288Z"
   },
   {
    "duration": 13,
    "start_time": "2021-07-07T17:06:38.293Z"
   },
   {
    "duration": 5,
    "start_time": "2021-07-07T17:06:38.309Z"
   },
   {
    "duration": 18,
    "start_time": "2021-07-07T17:06:38.325Z"
   },
   {
    "duration": 20,
    "start_time": "2021-07-07T17:07:02.805Z"
   },
   {
    "duration": 19,
    "start_time": "2021-07-07T17:07:08.527Z"
   },
   {
    "duration": 19,
    "start_time": "2021-07-07T17:07:12.758Z"
   },
   {
    "duration": 22,
    "start_time": "2021-07-07T17:07:17.497Z"
   },
   {
    "duration": 19,
    "start_time": "2021-07-07T17:07:19.645Z"
   },
   {
    "duration": 10,
    "start_time": "2021-07-07T17:07:34.239Z"
   },
   {
    "duration": 17,
    "start_time": "2021-07-07T17:07:54.144Z"
   },
   {
    "duration": 14,
    "start_time": "2021-07-07T17:08:14.357Z"
   },
   {
    "duration": 616,
    "start_time": "2021-07-07T17:08:45.254Z"
   },
   {
    "duration": 178,
    "start_time": "2021-07-07T17:08:45.872Z"
   },
   {
    "duration": 60,
    "start_time": "2021-07-07T17:08:46.054Z"
   },
   {
    "duration": 3,
    "start_time": "2021-07-07T17:08:46.116Z"
   },
   {
    "duration": 26,
    "start_time": "2021-07-07T17:08:46.121Z"
   },
   {
    "duration": 7,
    "start_time": "2021-07-07T17:08:46.149Z"
   },
   {
    "duration": 17,
    "start_time": "2021-07-07T17:08:46.158Z"
   },
   {
    "duration": 14,
    "start_time": "2021-07-07T17:08:46.176Z"
   },
   {
    "duration": 17,
    "start_time": "2021-07-07T17:08:46.193Z"
   },
   {
    "duration": 9,
    "start_time": "2021-07-07T17:08:46.211Z"
   },
   {
    "duration": 21,
    "start_time": "2021-07-07T17:08:46.221Z"
   },
   {
    "duration": 49,
    "start_time": "2021-07-07T17:08:46.244Z"
   },
   {
    "duration": 24,
    "start_time": "2021-07-07T17:08:46.295Z"
   },
   {
    "duration": 22,
    "start_time": "2021-07-07T17:08:46.321Z"
   },
   {
    "duration": 6,
    "start_time": "2021-07-07T17:08:46.345Z"
   },
   {
    "duration": 5,
    "start_time": "2021-07-07T17:08:46.353Z"
   },
   {
    "duration": 13,
    "start_time": "2021-07-07T17:08:46.386Z"
   },
   {
    "duration": 12,
    "start_time": "2021-07-07T17:08:46.402Z"
   },
   {
    "duration": 10,
    "start_time": "2021-07-07T17:08:46.415Z"
   },
   {
    "duration": 7,
    "start_time": "2021-07-07T17:08:46.427Z"
   },
   {
    "duration": 8,
    "start_time": "2021-07-07T17:08:46.435Z"
   },
   {
    "duration": 68,
    "start_time": "2021-07-07T17:08:46.446Z"
   },
   {
    "duration": 13,
    "start_time": "2021-07-07T17:08:46.516Z"
   },
   {
    "duration": 78,
    "start_time": "2021-07-07T17:08:46.530Z"
   },
   {
    "duration": 40,
    "start_time": "2021-07-07T17:09:08.185Z"
   },
   {
    "duration": 16,
    "start_time": "2021-07-07T17:09:19.324Z"
   },
   {
    "duration": 21,
    "start_time": "2021-07-07T17:09:23.290Z"
   },
   {
    "duration": 13,
    "start_time": "2021-07-07T17:09:54.812Z"
   },
   {
    "duration": 13,
    "start_time": "2021-07-07T17:10:02.039Z"
   },
   {
    "duration": 10,
    "start_time": "2021-07-07T17:10:29.632Z"
   },
   {
    "duration": 13,
    "start_time": "2021-07-07T17:10:52.372Z"
   },
   {
    "duration": 13,
    "start_time": "2021-07-07T17:11:17.270Z"
   },
   {
    "duration": 13,
    "start_time": "2021-07-07T17:14:59.284Z"
   },
   {
    "duration": 547,
    "start_time": "2021-07-07T17:18:52.403Z"
   },
   {
    "duration": 163,
    "start_time": "2021-07-07T17:18:52.952Z"
   },
   {
    "duration": 44,
    "start_time": "2021-07-07T17:18:53.117Z"
   },
   {
    "duration": 3,
    "start_time": "2021-07-07T17:18:53.162Z"
   },
   {
    "duration": 26,
    "start_time": "2021-07-07T17:18:53.167Z"
   },
   {
    "duration": 6,
    "start_time": "2021-07-07T17:18:53.195Z"
   },
   {
    "duration": 15,
    "start_time": "2021-07-07T17:18:53.203Z"
   },
   {
    "duration": 5,
    "start_time": "2021-07-07T17:18:53.220Z"
   },
   {
    "duration": 11,
    "start_time": "2021-07-07T17:18:53.228Z"
   },
   {
    "duration": 9,
    "start_time": "2021-07-07T17:18:53.241Z"
   },
   {
    "duration": 41,
    "start_time": "2021-07-07T17:18:53.252Z"
   },
   {
    "duration": 33,
    "start_time": "2021-07-07T17:18:53.295Z"
   },
   {
    "duration": 19,
    "start_time": "2021-07-07T17:18:53.330Z"
   },
   {
    "duration": 49,
    "start_time": "2021-07-07T17:18:53.350Z"
   },
   {
    "duration": 5,
    "start_time": "2021-07-07T17:18:53.401Z"
   },
   {
    "duration": 5,
    "start_time": "2021-07-07T17:18:53.408Z"
   },
   {
    "duration": 11,
    "start_time": "2021-07-07T17:18:53.414Z"
   },
   {
    "duration": 9,
    "start_time": "2021-07-07T17:18:53.427Z"
   },
   {
    "duration": 10,
    "start_time": "2021-07-07T17:18:53.437Z"
   },
   {
    "duration": 39,
    "start_time": "2021-07-07T17:18:53.448Z"
   },
   {
    "duration": 26,
    "start_time": "2021-07-07T17:18:55.799Z"
   },
   {
    "duration": 598,
    "start_time": "2021-07-07T17:20:17.862Z"
   },
   {
    "duration": 161,
    "start_time": "2021-07-07T17:20:18.462Z"
   },
   {
    "duration": 45,
    "start_time": "2021-07-07T17:20:18.626Z"
   },
   {
    "duration": 4,
    "start_time": "2021-07-07T17:20:18.673Z"
   },
   {
    "duration": 38,
    "start_time": "2021-07-07T17:20:26.877Z"
   },
   {
    "duration": 7,
    "start_time": "2021-07-07T17:20:37.405Z"
   },
   {
    "duration": 19,
    "start_time": "2021-07-07T17:20:51.534Z"
   },
   {
    "duration": 5,
    "start_time": "2021-07-07T17:20:57.228Z"
   },
   {
    "duration": 7,
    "start_time": "2021-07-07T17:21:08.235Z"
   },
   {
    "duration": 19,
    "start_time": "2021-07-07T17:21:42.158Z"
   },
   {
    "duration": 14,
    "start_time": "2021-07-07T17:21:50.225Z"
   },
   {
    "duration": 22,
    "start_time": "2021-07-07T17:22:54.104Z"
   },
   {
    "duration": 5,
    "start_time": "2021-07-07T17:22:56.371Z"
   },
   {
    "duration": 14,
    "start_time": "2021-07-07T17:22:58.316Z"
   },
   {
    "duration": 5,
    "start_time": "2021-07-07T17:22:58.493Z"
   },
   {
    "duration": 35,
    "start_time": "2021-07-07T17:22:59.666Z"
   },
   {
    "duration": 6,
    "start_time": "2021-07-07T17:23:02.410Z"
   },
   {
    "duration": 611,
    "start_time": "2021-07-07T17:24:59.664Z"
   },
   {
    "duration": 178,
    "start_time": "2021-07-07T17:25:01.945Z"
   },
   {
    "duration": 47,
    "start_time": "2021-07-07T17:25:02.125Z"
   },
   {
    "duration": 2,
    "start_time": "2021-07-07T17:25:07.903Z"
   },
   {
    "duration": 254,
    "start_time": "2021-07-07T17:25:08.232Z"
   },
   {
    "duration": 182,
    "start_time": "2021-07-07T17:25:08.671Z"
   },
   {
    "duration": 6,
    "start_time": "2021-07-07T17:25:13.104Z"
   },
   {
    "duration": 36,
    "start_time": "2021-07-07T17:25:13.662Z"
   },
   {
    "duration": 7,
    "start_time": "2021-07-07T17:25:14.528Z"
   },
   {
    "duration": 24,
    "start_time": "2021-07-07T17:25:27.982Z"
   },
   {
    "duration": 3,
    "start_time": "2021-07-07T17:25:48.982Z"
   },
   {
    "duration": 165,
    "start_time": "2021-07-07T17:25:48.987Z"
   },
   {
    "duration": 50,
    "start_time": "2021-07-07T17:25:49.154Z"
   },
   {
    "duration": 4,
    "start_time": "2021-07-07T17:25:49.206Z"
   },
   {
    "duration": 26,
    "start_time": "2021-07-07T17:25:49.212Z"
   },
   {
    "duration": 7,
    "start_time": "2021-07-07T17:25:49.240Z"
   },
   {
    "duration": 16,
    "start_time": "2021-07-07T17:25:49.249Z"
   },
   {
    "duration": 22,
    "start_time": "2021-07-07T17:25:49.266Z"
   },
   {
    "duration": 16,
    "start_time": "2021-07-07T17:25:49.291Z"
   },
   {
    "duration": 9,
    "start_time": "2021-07-07T17:25:49.309Z"
   },
   {
    "duration": 7,
    "start_time": "2021-07-07T17:25:49.319Z"
   },
   {
    "duration": 28,
    "start_time": "2021-07-07T17:25:49.328Z"
   },
   {
    "duration": 44,
    "start_time": "2021-07-07T17:25:49.357Z"
   },
   {
    "duration": 22,
    "start_time": "2021-07-07T17:25:49.403Z"
   },
   {
    "duration": 7,
    "start_time": "2021-07-07T17:25:49.427Z"
   },
   {
    "duration": 3,
    "start_time": "2021-07-07T17:25:49.436Z"
   },
   {
    "duration": 44,
    "start_time": "2021-07-07T17:25:49.441Z"
   },
   {
    "duration": 12,
    "start_time": "2021-07-07T17:25:49.488Z"
   },
   {
    "duration": 13,
    "start_time": "2021-07-07T17:25:49.502Z"
   },
   {
    "duration": 10,
    "start_time": "2021-07-07T17:25:49.516Z"
   },
   {
    "duration": 62,
    "start_time": "2021-07-07T17:25:49.527Z"
   },
   {
    "duration": 26,
    "start_time": "2021-07-07T17:26:51.809Z"
   },
   {
    "duration": 26,
    "start_time": "2021-07-07T17:26:55.759Z"
   },
   {
    "duration": 26,
    "start_time": "2021-07-07T17:27:04.501Z"
   },
   {
    "duration": 25,
    "start_time": "2021-07-07T17:28:24.859Z"
   },
   {
    "duration": 21,
    "start_time": "2021-07-07T17:28:55.250Z"
   },
   {
    "duration": 21,
    "start_time": "2021-07-07T17:28:58.885Z"
   },
   {
    "duration": 7,
    "start_time": "2021-07-07T17:45:40.972Z"
   },
   {
    "duration": 13,
    "start_time": "2021-07-07T17:45:42.529Z"
   },
   {
    "duration": 27,
    "start_time": "2021-07-07T17:45:51.026Z"
   },
   {
    "duration": 518,
    "start_time": "2021-07-07T17:46:15.532Z"
   },
   {
    "duration": 235,
    "start_time": "2021-07-07T17:46:16.053Z"
   },
   {
    "duration": 80,
    "start_time": "2021-07-07T17:46:16.292Z"
   },
   {
    "duration": 5,
    "start_time": "2021-07-07T17:46:16.373Z"
   },
   {
    "duration": 26,
    "start_time": "2021-07-07T17:46:16.380Z"
   },
   {
    "duration": 7,
    "start_time": "2021-07-07T17:46:16.408Z"
   },
   {
    "duration": 16,
    "start_time": "2021-07-07T17:46:16.418Z"
   },
   {
    "duration": 5,
    "start_time": "2021-07-07T17:46:16.436Z"
   },
   {
    "duration": 13,
    "start_time": "2021-07-07T17:46:16.442Z"
   },
   {
    "duration": 35,
    "start_time": "2021-07-07T17:46:16.456Z"
   },
   {
    "duration": 8,
    "start_time": "2021-07-07T17:46:16.493Z"
   },
   {
    "duration": 28,
    "start_time": "2021-07-07T17:46:16.502Z"
   },
   {
    "duration": 17,
    "start_time": "2021-07-07T17:46:16.532Z"
   },
   {
    "duration": 44,
    "start_time": "2021-07-07T17:46:16.551Z"
   },
   {
    "duration": 6,
    "start_time": "2021-07-07T17:46:16.597Z"
   },
   {
    "duration": 4,
    "start_time": "2021-07-07T17:46:16.605Z"
   },
   {
    "duration": 9,
    "start_time": "2021-07-07T17:46:16.610Z"
   },
   {
    "duration": 9,
    "start_time": "2021-07-07T17:46:16.621Z"
   },
   {
    "duration": 10,
    "start_time": "2021-07-07T17:46:16.632Z"
   },
   {
    "duration": 43,
    "start_time": "2021-07-07T17:46:16.644Z"
   },
   {
    "duration": 26,
    "start_time": "2021-07-07T17:46:16.689Z"
   },
   {
    "duration": 19,
    "start_time": "2021-07-07T17:46:16.718Z"
   },
   {
    "duration": 8,
    "start_time": "2021-07-07T17:46:16.738Z"
   },
   {
    "duration": 43,
    "start_time": "2021-07-07T17:46:16.747Z"
   },
   {
    "duration": 19,
    "start_time": "2021-07-07T17:46:16.791Z"
   },
   {
    "duration": 9,
    "start_time": "2021-07-07T17:46:16.812Z"
   },
   {
    "duration": 60,
    "start_time": "2021-07-07T17:46:16.822Z"
   },
   {
    "duration": -8,
    "start_time": "2021-07-07T17:46:16.892Z"
   },
   {
    "duration": 12,
    "start_time": "2021-07-07T17:48:47.707Z"
   },
   {
    "duration": 553,
    "start_time": "2021-07-07T18:10:09.350Z"
   },
   {
    "duration": 230,
    "start_time": "2021-07-07T18:10:09.905Z"
   },
   {
    "duration": 97,
    "start_time": "2021-07-07T18:10:10.137Z"
   },
   {
    "duration": 5,
    "start_time": "2021-07-07T18:10:10.236Z"
   },
   {
    "duration": 29,
    "start_time": "2021-07-07T18:10:10.242Z"
   },
   {
    "duration": 7,
    "start_time": "2021-07-07T18:10:10.272Z"
   },
   {
    "duration": 15,
    "start_time": "2021-07-07T18:10:10.281Z"
   },
   {
    "duration": 4,
    "start_time": "2021-07-07T18:10:10.299Z"
   },
   {
    "duration": 14,
    "start_time": "2021-07-07T18:10:10.305Z"
   },
   {
    "duration": 8,
    "start_time": "2021-07-07T18:10:10.321Z"
   },
   {
    "duration": 8,
    "start_time": "2021-07-07T18:10:10.331Z"
   },
   {
    "duration": 56,
    "start_time": "2021-07-07T18:10:10.341Z"
   },
   {
    "duration": 19,
    "start_time": "2021-07-07T18:10:10.399Z"
   },
   {
    "duration": 23,
    "start_time": "2021-07-07T18:10:10.419Z"
   },
   {
    "duration": 6,
    "start_time": "2021-07-07T18:10:10.444Z"
   },
   {
    "duration": 9,
    "start_time": "2021-07-07T18:10:10.451Z"
   },
   {
    "duration": 30,
    "start_time": "2021-07-07T18:10:10.462Z"
   },
   {
    "duration": 9,
    "start_time": "2021-07-07T18:10:10.494Z"
   },
   {
    "duration": 14,
    "start_time": "2021-07-07T18:10:10.505Z"
   },
   {
    "duration": 7,
    "start_time": "2021-07-07T18:10:10.521Z"
   },
   {
    "duration": 26,
    "start_time": "2021-07-07T18:10:10.530Z"
   },
   {
    "duration": 44,
    "start_time": "2021-07-07T18:10:10.558Z"
   },
   {
    "duration": 7,
    "start_time": "2021-07-07T18:10:10.605Z"
   },
   {
    "duration": 11,
    "start_time": "2021-07-07T18:10:10.614Z"
   },
   {
    "duration": 19,
    "start_time": "2021-07-07T18:10:10.626Z"
   },
   {
    "duration": 44,
    "start_time": "2021-07-07T18:10:10.646Z"
   },
   {
    "duration": 516,
    "start_time": "2021-07-07T18:14:00.826Z"
   },
   {
    "duration": 230,
    "start_time": "2021-07-07T18:14:01.344Z"
   },
   {
    "duration": 105,
    "start_time": "2021-07-07T18:14:01.576Z"
   },
   {
    "duration": 5,
    "start_time": "2021-07-07T18:14:01.683Z"
   },
   {
    "duration": 46,
    "start_time": "2021-07-07T18:14:01.690Z"
   },
   {
    "duration": 7,
    "start_time": "2021-07-07T18:14:01.738Z"
   },
   {
    "duration": 20,
    "start_time": "2021-07-07T18:14:01.747Z"
   },
   {
    "duration": 16,
    "start_time": "2021-07-07T18:14:01.769Z"
   },
   {
    "duration": 14,
    "start_time": "2021-07-07T18:14:01.787Z"
   },
   {
    "duration": 15,
    "start_time": "2021-07-07T18:14:01.803Z"
   },
   {
    "duration": 12,
    "start_time": "2021-07-07T18:14:01.820Z"
   },
   {
    "duration": 35,
    "start_time": "2021-07-07T18:14:01.833Z"
   },
   {
    "duration": 31,
    "start_time": "2021-07-07T18:14:01.869Z"
   },
   {
    "duration": 37,
    "start_time": "2021-07-07T18:14:01.902Z"
   },
   {
    "duration": 8,
    "start_time": "2021-07-07T18:14:01.942Z"
   },
   {
    "duration": 16,
    "start_time": "2021-07-07T18:14:01.952Z"
   },
   {
    "duration": 13,
    "start_time": "2021-07-07T18:14:01.970Z"
   },
   {
    "duration": 32,
    "start_time": "2021-07-07T18:14:01.985Z"
   },
   {
    "duration": 11,
    "start_time": "2021-07-07T18:14:02.019Z"
   },
   {
    "duration": 22,
    "start_time": "2021-07-07T18:14:02.031Z"
   },
   {
    "duration": 27,
    "start_time": "2021-07-07T18:14:02.055Z"
   },
   {
    "duration": 18,
    "start_time": "2021-07-07T18:14:02.084Z"
   },
   {
    "duration": 18,
    "start_time": "2021-07-07T18:14:02.106Z"
   },
   {
    "duration": 11,
    "start_time": "2021-07-07T18:14:02.126Z"
   },
   {
    "duration": 21,
    "start_time": "2021-07-07T18:14:02.138Z"
   },
   {
    "duration": 32,
    "start_time": "2021-07-07T18:14:02.161Z"
   },
   {
    "duration": 28,
    "start_time": "2021-07-07T18:14:44.295Z"
   },
   {
    "duration": 6,
    "start_time": "2021-07-07T18:15:05.834Z"
   },
   {
    "duration": 511,
    "start_time": "2021-07-07T18:15:41.541Z"
   },
   {
    "duration": 183,
    "start_time": "2021-07-07T18:15:42.054Z"
   },
   {
    "duration": 50,
    "start_time": "2021-07-07T18:15:42.239Z"
   },
   {
    "duration": 5,
    "start_time": "2021-07-07T18:15:42.291Z"
   },
   {
    "duration": 48,
    "start_time": "2021-07-07T18:15:42.297Z"
   },
   {
    "duration": 8,
    "start_time": "2021-07-07T18:15:42.346Z"
   },
   {
    "duration": 17,
    "start_time": "2021-07-07T18:15:42.356Z"
   },
   {
    "duration": 15,
    "start_time": "2021-07-07T18:15:42.375Z"
   },
   {
    "duration": 12,
    "start_time": "2021-07-07T18:15:42.392Z"
   },
   {
    "duration": 7,
    "start_time": "2021-07-07T18:15:42.406Z"
   },
   {
    "duration": 7,
    "start_time": "2021-07-07T18:15:42.415Z"
   },
   {
    "duration": 29,
    "start_time": "2021-07-07T18:15:42.423Z"
   },
   {
    "duration": 43,
    "start_time": "2021-07-07T18:15:42.453Z"
   },
   {
    "duration": 18,
    "start_time": "2021-07-07T18:15:42.497Z"
   },
   {
    "duration": 6,
    "start_time": "2021-07-07T18:15:42.516Z"
   },
   {
    "duration": 3,
    "start_time": "2021-07-07T18:15:42.523Z"
   },
   {
    "duration": 18,
    "start_time": "2021-07-07T18:15:42.528Z"
   },
   {
    "duration": 10,
    "start_time": "2021-07-07T18:15:42.547Z"
   },
   {
    "duration": 36,
    "start_time": "2021-07-07T18:15:42.559Z"
   },
   {
    "duration": 8,
    "start_time": "2021-07-07T18:15:42.597Z"
   },
   {
    "duration": 28,
    "start_time": "2021-07-07T18:15:42.606Z"
   },
   {
    "duration": 52,
    "start_time": "2021-07-07T18:15:42.635Z"
   },
   {
    "duration": 7,
    "start_time": "2021-07-07T18:15:42.690Z"
   },
   {
    "duration": 10,
    "start_time": "2021-07-07T18:15:42.699Z"
   },
   {
    "duration": 19,
    "start_time": "2021-07-07T18:15:42.711Z"
   },
   {
    "duration": 9,
    "start_time": "2021-07-07T18:15:42.732Z"
   },
   {
    "duration": 5,
    "start_time": "2021-07-07T18:15:42.743Z"
   },
   {
    "duration": 1450,
    "start_time": "2021-07-07T18:15:51.984Z"
   },
   {
    "duration": 161,
    "start_time": "2021-07-07T18:15:53.435Z"
   },
   {
    "duration": 124,
    "start_time": "2021-07-07T18:15:53.598Z"
   },
   {
    "duration": 5,
    "start_time": "2021-07-07T18:15:53.724Z"
   },
   {
    "duration": 34,
    "start_time": "2021-07-07T18:15:53.730Z"
   },
   {
    "duration": 7,
    "start_time": "2021-07-07T18:15:53.765Z"
   },
   {
    "duration": 15,
    "start_time": "2021-07-07T18:15:53.773Z"
   },
   {
    "duration": 5,
    "start_time": "2021-07-07T18:15:53.791Z"
   },
   {
    "duration": 19,
    "start_time": "2021-07-07T18:15:53.798Z"
   },
   {
    "duration": 9,
    "start_time": "2021-07-07T18:15:53.818Z"
   },
   {
    "duration": 19,
    "start_time": "2021-07-07T18:15:53.828Z"
   },
   {
    "duration": 27,
    "start_time": "2021-07-07T18:15:53.848Z"
   },
   {
    "duration": 16,
    "start_time": "2021-07-07T18:15:53.884Z"
   },
   {
    "duration": 29,
    "start_time": "2021-07-07T18:15:53.901Z"
   },
   {
    "duration": 5,
    "start_time": "2021-07-07T18:15:53.932Z"
   },
   {
    "duration": 15,
    "start_time": "2021-07-07T18:15:53.939Z"
   },
   {
    "duration": 13,
    "start_time": "2021-07-07T18:15:53.956Z"
   },
   {
    "duration": 20,
    "start_time": "2021-07-07T18:15:53.971Z"
   },
   {
    "duration": 14,
    "start_time": "2021-07-07T18:15:53.992Z"
   },
   {
    "duration": 9,
    "start_time": "2021-07-07T18:15:54.009Z"
   },
   {
    "duration": 28,
    "start_time": "2021-07-07T18:15:54.020Z"
   },
   {
    "duration": 50,
    "start_time": "2021-07-07T18:15:54.051Z"
   },
   {
    "duration": 8,
    "start_time": "2021-07-07T18:15:54.105Z"
   },
   {
    "duration": 11,
    "start_time": "2021-07-07T18:15:54.115Z"
   },
   {
    "duration": 20,
    "start_time": "2021-07-07T18:15:54.128Z"
   },
   {
    "duration": 13,
    "start_time": "2021-07-07T18:15:54.184Z"
   },
   {
    "duration": 7,
    "start_time": "2021-07-07T18:15:54.199Z"
   },
   {
    "duration": 7,
    "start_time": "2021-07-07T18:17:08.042Z"
   },
   {
    "duration": 8,
    "start_time": "2021-07-07T18:17:21.008Z"
   },
   {
    "duration": 7,
    "start_time": "2021-07-07T18:17:29.003Z"
   },
   {
    "duration": 8,
    "start_time": "2021-07-07T18:17:32.492Z"
   },
   {
    "duration": 9,
    "start_time": "2021-07-07T18:17:41.758Z"
   },
   {
    "duration": 255,
    "start_time": "2021-07-07T18:20:20.897Z"
   },
   {
    "duration": 173,
    "start_time": "2021-07-07T18:20:26.636Z"
   },
   {
    "duration": 7,
    "start_time": "2021-07-07T18:21:47.164Z"
   },
   {
    "duration": 254,
    "start_time": "2021-07-07T18:23:08.703Z"
   },
   {
    "duration": 21,
    "start_time": "2021-07-07T18:23:22.506Z"
   },
   {
    "duration": 315,
    "start_time": "2021-07-07T18:25:54.801Z"
   },
   {
    "duration": 34,
    "start_time": "2021-07-07T18:26:51.817Z"
   },
   {
    "duration": 327,
    "start_time": "2021-07-07T18:26:56.147Z"
   },
   {
    "duration": 342,
    "start_time": "2021-07-07T18:27:15.887Z"
   },
   {
    "duration": 302,
    "start_time": "2021-07-07T18:28:18.569Z"
   },
   {
    "duration": 226,
    "start_time": "2021-07-07T18:29:20.879Z"
   },
   {
    "duration": 207,
    "start_time": "2021-07-07T18:29:58.114Z"
   },
   {
    "duration": 140,
    "start_time": "2021-07-07T18:32:04.372Z"
   },
   {
    "duration": 158,
    "start_time": "2021-07-07T18:32:32.508Z"
   },
   {
    "duration": 145,
    "start_time": "2021-07-07T18:32:41.365Z"
   },
   {
    "duration": 132,
    "start_time": "2021-07-07T18:32:45.199Z"
   },
   {
    "duration": 11,
    "start_time": "2021-07-07T18:35:24.679Z"
   },
   {
    "duration": 268,
    "start_time": "2021-07-07T18:36:16.145Z"
   },
   {
    "duration": 227,
    "start_time": "2021-07-07T18:37:04.918Z"
   },
   {
    "duration": 3,
    "start_time": "2021-07-07T18:37:33.012Z"
   },
   {
    "duration": 671,
    "start_time": "2021-07-07T18:37:38.295Z"
   },
   {
    "duration": 54,
    "start_time": "2021-07-07T18:37:53.406Z"
   },
   {
    "duration": 631,
    "start_time": "2021-07-07T18:37:56.463Z"
   },
   {
    "duration": 19,
    "start_time": "2021-07-07T18:39:40.535Z"
   },
   {
    "duration": 20,
    "start_time": "2021-07-07T18:40:12.236Z"
   },
   {
    "duration": 633,
    "start_time": "2021-07-07T18:42:00.398Z"
   },
   {
    "duration": 218,
    "start_time": "2021-07-07T18:42:01.033Z"
   },
   {
    "duration": 49,
    "start_time": "2021-07-07T18:42:01.253Z"
   },
   {
    "duration": 5,
    "start_time": "2021-07-07T18:42:01.303Z"
   },
   {
    "duration": 27,
    "start_time": "2021-07-07T18:42:01.310Z"
   },
   {
    "duration": 8,
    "start_time": "2021-07-07T18:42:01.339Z"
   },
   {
    "duration": 20,
    "start_time": "2021-07-07T18:42:01.348Z"
   },
   {
    "duration": 6,
    "start_time": "2021-07-07T18:42:01.386Z"
   },
   {
    "duration": 16,
    "start_time": "2021-07-07T18:42:01.394Z"
   },
   {
    "duration": 9,
    "start_time": "2021-07-07T18:42:01.411Z"
   },
   {
    "duration": 11,
    "start_time": "2021-07-07T18:42:01.421Z"
   },
   {
    "duration": 31,
    "start_time": "2021-07-07T18:42:01.434Z"
   },
   {
    "duration": 18,
    "start_time": "2021-07-07T18:42:01.485Z"
   },
   {
    "duration": 23,
    "start_time": "2021-07-07T18:42:01.505Z"
   },
   {
    "duration": 6,
    "start_time": "2021-07-07T18:42:01.530Z"
   },
   {
    "duration": 10,
    "start_time": "2021-07-07T18:42:01.538Z"
   },
   {
    "duration": 13,
    "start_time": "2021-07-07T18:42:01.550Z"
   },
   {
    "duration": 24,
    "start_time": "2021-07-07T18:42:01.564Z"
   },
   {
    "duration": 20,
    "start_time": "2021-07-07T18:42:01.590Z"
   },
   {
    "duration": 8,
    "start_time": "2021-07-07T18:42:01.611Z"
   },
   {
    "duration": 31,
    "start_time": "2021-07-07T18:42:01.620Z"
   },
   {
    "duration": 39,
    "start_time": "2021-07-07T18:42:01.653Z"
   },
   {
    "duration": 8,
    "start_time": "2021-07-07T18:42:01.696Z"
   },
   {
    "duration": 13,
    "start_time": "2021-07-07T18:42:01.705Z"
   },
   {
    "duration": 20,
    "start_time": "2021-07-07T18:42:01.720Z"
   },
   {
    "duration": 12,
    "start_time": "2021-07-07T18:42:01.741Z"
   },
   {
    "duration": 35,
    "start_time": "2021-07-07T18:42:01.755Z"
   },
   {
    "duration": 14,
    "start_time": "2021-07-07T18:42:01.792Z"
   },
   {
    "duration": 188,
    "start_time": "2021-07-07T18:42:01.808Z"
   },
   {
    "duration": 19,
    "start_time": "2021-07-07T18:42:01.998Z"
   },
   {
    "duration": 175,
    "start_time": "2021-07-07T18:42:02.019Z"
   },
   {
    "duration": 134,
    "start_time": "2021-07-07T18:42:02.196Z"
   },
   {
    "duration": 10,
    "start_time": "2021-07-07T18:42:02.331Z"
   },
   {
    "duration": 19,
    "start_time": "2021-07-07T18:42:02.343Z"
   },
   {
    "duration": 628,
    "start_time": "2021-07-07T18:46:30.701Z"
   },
   {
    "duration": 183,
    "start_time": "2021-07-07T18:46:31.331Z"
   },
   {
    "duration": 48,
    "start_time": "2021-07-07T18:46:31.516Z"
   },
   {
    "duration": 5,
    "start_time": "2021-07-07T18:46:31.566Z"
   },
   {
    "duration": 28,
    "start_time": "2021-07-07T18:46:31.572Z"
   },
   {
    "duration": 8,
    "start_time": "2021-07-07T18:46:31.602Z"
   },
   {
    "duration": 19,
    "start_time": "2021-07-07T18:46:31.611Z"
   },
   {
    "duration": 6,
    "start_time": "2021-07-07T18:46:31.633Z"
   },
   {
    "duration": 17,
    "start_time": "2021-07-07T18:46:31.642Z"
   },
   {
    "duration": 10,
    "start_time": "2021-07-07T18:46:31.684Z"
   },
   {
    "duration": 9,
    "start_time": "2021-07-07T18:46:31.695Z"
   },
   {
    "duration": 28,
    "start_time": "2021-07-07T18:46:31.705Z"
   },
   {
    "duration": 18,
    "start_time": "2021-07-07T18:46:31.735Z"
   },
   {
    "duration": 48,
    "start_time": "2021-07-07T18:46:31.755Z"
   },
   {
    "duration": 6,
    "start_time": "2021-07-07T18:46:31.804Z"
   },
   {
    "duration": 4,
    "start_time": "2021-07-07T18:46:31.812Z"
   },
   {
    "duration": 9,
    "start_time": "2021-07-07T18:46:31.817Z"
   },
   {
    "duration": 10,
    "start_time": "2021-07-07T18:46:31.827Z"
   },
   {
    "duration": 12,
    "start_time": "2021-07-07T18:46:31.838Z"
   },
   {
    "duration": 39,
    "start_time": "2021-07-07T18:46:31.851Z"
   },
   {
    "duration": 24,
    "start_time": "2021-07-07T18:46:31.892Z"
   },
   {
    "duration": 15,
    "start_time": "2021-07-07T18:46:31.918Z"
   },
   {
    "duration": 7,
    "start_time": "2021-07-07T18:46:31.936Z"
   },
   {
    "duration": 8,
    "start_time": "2021-07-07T18:46:31.944Z"
   },
   {
    "duration": 19,
    "start_time": "2021-07-07T18:46:31.984Z"
   },
   {
    "duration": 10,
    "start_time": "2021-07-07T18:46:32.004Z"
   },
   {
    "duration": 5,
    "start_time": "2021-07-07T18:46:32.016Z"
   },
   {
    "duration": 9,
    "start_time": "2021-07-07T18:46:32.023Z"
   },
   {
    "duration": 199,
    "start_time": "2021-07-07T18:46:32.033Z"
   },
   {
    "duration": 19,
    "start_time": "2021-07-07T18:46:32.234Z"
   },
   {
    "duration": 159,
    "start_time": "2021-07-07T18:46:32.255Z"
   },
   {
    "duration": 134,
    "start_time": "2021-07-07T18:46:32.416Z"
   },
   {
    "duration": 10,
    "start_time": "2021-07-07T18:46:32.552Z"
   },
   {
    "duration": 34,
    "start_time": "2021-07-07T18:46:32.563Z"
   },
   {
    "duration": 1039,
    "start_time": "2021-07-08T08:41:09.419Z"
   },
   {
    "duration": 333,
    "start_time": "2021-07-08T08:41:10.459Z"
   },
   {
    "duration": 173,
    "start_time": "2021-07-08T08:41:10.794Z"
   },
   {
    "duration": 5,
    "start_time": "2021-07-08T08:41:10.968Z"
   },
   {
    "duration": 25,
    "start_time": "2021-07-08T08:41:10.975Z"
   },
   {
    "duration": 9,
    "start_time": "2021-07-08T08:41:11.002Z"
   },
   {
    "duration": 18,
    "start_time": "2021-07-08T08:41:11.013Z"
   },
   {
    "duration": 6,
    "start_time": "2021-07-08T08:41:11.033Z"
   },
   {
    "duration": 44,
    "start_time": "2021-07-08T08:41:11.042Z"
   },
   {
    "duration": 10,
    "start_time": "2021-07-08T08:41:11.088Z"
   },
   {
    "duration": 9,
    "start_time": "2021-07-08T08:41:11.100Z"
   },
   {
    "duration": 27,
    "start_time": "2021-07-08T08:41:11.111Z"
   },
   {
    "duration": 46,
    "start_time": "2021-07-08T08:41:11.140Z"
   },
   {
    "duration": 17,
    "start_time": "2021-07-08T08:41:11.187Z"
   },
   {
    "duration": 6,
    "start_time": "2021-07-08T08:41:11.206Z"
   },
   {
    "duration": 5,
    "start_time": "2021-07-08T08:41:11.213Z"
   },
   {
    "duration": 10,
    "start_time": "2021-07-08T08:41:11.219Z"
   },
   {
    "duration": 9,
    "start_time": "2021-07-08T08:41:11.230Z"
   },
   {
    "duration": 45,
    "start_time": "2021-07-08T08:41:11.241Z"
   },
   {
    "duration": 7,
    "start_time": "2021-07-08T08:41:11.287Z"
   },
   {
    "duration": 24,
    "start_time": "2021-07-08T08:41:11.296Z"
   },
   {
    "duration": 16,
    "start_time": "2021-07-08T08:41:11.322Z"
   },
   {
    "duration": 7,
    "start_time": "2021-07-08T08:41:11.341Z"
   },
   {
    "duration": 41,
    "start_time": "2021-07-08T08:41:11.349Z"
   },
   {
    "duration": 17,
    "start_time": "2021-07-08T08:41:11.391Z"
   },
   {
    "duration": 9,
    "start_time": "2021-07-08T08:41:11.410Z"
   },
   {
    "duration": 5,
    "start_time": "2021-07-08T08:41:11.421Z"
   },
   {
    "duration": 6,
    "start_time": "2021-07-08T08:41:11.428Z"
   },
   {
    "duration": 198,
    "start_time": "2021-07-08T08:41:11.435Z"
   },
   {
    "duration": 18,
    "start_time": "2021-07-08T08:41:11.635Z"
   },
   {
    "duration": 155,
    "start_time": "2021-07-08T08:41:11.655Z"
   },
   {
    "duration": 138,
    "start_time": "2021-07-08T08:41:11.811Z"
   },
   {
    "duration": 10,
    "start_time": "2021-07-08T08:41:11.950Z"
   },
   {
    "duration": 29,
    "start_time": "2021-07-08T08:41:11.961Z"
   },
   {
    "duration": 171,
    "start_time": "2021-07-08T08:47:44.522Z"
   },
   {
    "duration": 124,
    "start_time": "2021-07-08T08:47:46.872Z"
   },
   {
    "duration": 191,
    "start_time": "2021-07-08T08:47:58.148Z"
   },
   {
    "duration": 191,
    "start_time": "2021-07-08T08:48:07.412Z"
   },
   {
    "duration": 261,
    "start_time": "2021-07-08T08:48:10.385Z"
   },
   {
    "duration": 255,
    "start_time": "2021-07-08T08:48:14.494Z"
   },
   {
    "duration": 219,
    "start_time": "2021-07-08T08:48:22.752Z"
   },
   {
    "duration": 173,
    "start_time": "2021-07-08T08:49:06.395Z"
   },
   {
    "duration": 180,
    "start_time": "2021-07-08T08:49:21.011Z"
   },
   {
    "duration": 6,
    "start_time": "2021-07-08T08:50:31.697Z"
   },
   {
    "duration": 10,
    "start_time": "2021-07-08T08:50:47.394Z"
   },
   {
    "duration": 11,
    "start_time": "2021-07-08T08:53:49.332Z"
   },
   {
    "duration": 171,
    "start_time": "2021-07-08T08:54:28.408Z"
   },
   {
    "duration": 636,
    "start_time": "2021-07-08T09:02:48.385Z"
   },
   {
    "duration": 227,
    "start_time": "2021-07-08T09:02:49.023Z"
   },
   {
    "duration": 104,
    "start_time": "2021-07-08T09:02:49.252Z"
   },
   {
    "duration": 5,
    "start_time": "2021-07-08T09:02:49.358Z"
   },
   {
    "duration": 27,
    "start_time": "2021-07-08T09:02:49.365Z"
   },
   {
    "duration": 8,
    "start_time": "2021-07-08T09:02:49.394Z"
   },
   {
    "duration": 18,
    "start_time": "2021-07-08T09:02:49.404Z"
   },
   {
    "duration": 6,
    "start_time": "2021-07-08T09:02:49.424Z"
   },
   {
    "duration": 11,
    "start_time": "2021-07-08T09:02:49.433Z"
   },
   {
    "duration": 13,
    "start_time": "2021-07-08T09:02:49.485Z"
   },
   {
    "duration": 9,
    "start_time": "2021-07-08T09:02:49.500Z"
   },
   {
    "duration": 38,
    "start_time": "2021-07-08T09:02:49.511Z"
   },
   {
    "duration": 42,
    "start_time": "2021-07-08T09:02:49.551Z"
   },
   {
    "duration": 21,
    "start_time": "2021-07-08T09:02:49.594Z"
   },
   {
    "duration": 6,
    "start_time": "2021-07-08T09:02:49.616Z"
   },
   {
    "duration": 3,
    "start_time": "2021-07-08T09:02:49.623Z"
   },
   {
    "duration": 9,
    "start_time": "2021-07-08T09:02:49.628Z"
   },
   {
    "duration": 52,
    "start_time": "2021-07-08T09:02:49.638Z"
   },
   {
    "duration": 11,
    "start_time": "2021-07-08T09:02:49.692Z"
   },
   {
    "duration": 8,
    "start_time": "2021-07-08T09:02:49.704Z"
   },
   {
    "duration": 27,
    "start_time": "2021-07-08T09:02:49.713Z"
   },
   {
    "duration": 59,
    "start_time": "2021-07-08T09:02:49.741Z"
   },
   {
    "duration": 8,
    "start_time": "2021-07-08T09:02:49.803Z"
   },
   {
    "duration": 14,
    "start_time": "2021-07-08T09:02:49.813Z"
   },
   {
    "duration": 20,
    "start_time": "2021-07-08T09:02:49.829Z"
   },
   {
    "duration": 44,
    "start_time": "2021-07-08T09:02:49.851Z"
   },
   {
    "duration": 14,
    "start_time": "2021-07-08T09:02:49.896Z"
   },
   {
    "duration": 221,
    "start_time": "2021-07-08T09:02:49.912Z"
   },
   {
    "duration": 6,
    "start_time": "2021-07-08T09:02:50.134Z"
   },
   {
    "duration": 206,
    "start_time": "2021-07-08T09:02:50.142Z"
   },
   {
    "duration": 19,
    "start_time": "2021-07-08T09:02:50.350Z"
   },
   {
    "duration": 21,
    "start_time": "2021-07-08T09:02:50.370Z"
   },
   {
    "duration": 20,
    "start_time": "2021-07-08T09:02:50.393Z"
   },
   {
    "duration": 5,
    "start_time": "2021-07-08T09:02:50.414Z"
   },
   {
    "duration": 5,
    "start_time": "2021-07-08T09:03:34.173Z"
   },
   {
    "duration": 6,
    "start_time": "2021-07-08T09:04:49.062Z"
   },
   {
    "duration": 9,
    "start_time": "2021-07-08T09:04:50.118Z"
   },
   {
    "duration": 14,
    "start_time": "2021-07-08T09:04:58.512Z"
   },
   {
    "duration": 9,
    "start_time": "2021-07-08T09:05:10.988Z"
   },
   {
    "duration": 11,
    "start_time": "2021-07-08T09:05:11.743Z"
   },
   {
    "duration": 7,
    "start_time": "2021-07-08T09:05:25.677Z"
   },
   {
    "duration": 13,
    "start_time": "2021-07-08T09:05:47.189Z"
   },
   {
    "duration": 13,
    "start_time": "2021-07-08T09:05:54.755Z"
   },
   {
    "duration": 4,
    "start_time": "2021-07-08T09:06:29.189Z"
   },
   {
    "duration": 244,
    "start_time": "2021-07-08T09:06:29.195Z"
   },
   {
    "duration": 91,
    "start_time": "2021-07-08T09:06:29.441Z"
   },
   {
    "duration": 4,
    "start_time": "2021-07-08T09:06:29.534Z"
   },
   {
    "duration": 28,
    "start_time": "2021-07-08T09:06:29.540Z"
   },
   {
    "duration": 6,
    "start_time": "2021-07-08T09:06:29.570Z"
   },
   {
    "duration": 18,
    "start_time": "2021-07-08T09:06:29.578Z"
   },
   {
    "duration": 5,
    "start_time": "2021-07-08T09:06:29.597Z"
   },
   {
    "duration": 13,
    "start_time": "2021-07-08T09:06:29.605Z"
   },
   {
    "duration": 8,
    "start_time": "2021-07-08T09:06:29.620Z"
   },
   {
    "duration": 7,
    "start_time": "2021-07-08T09:06:29.630Z"
   },
   {
    "duration": 63,
    "start_time": "2021-07-08T09:06:29.639Z"
   },
   {
    "duration": 17,
    "start_time": "2021-07-08T09:06:29.704Z"
   },
   {
    "duration": 20,
    "start_time": "2021-07-08T09:06:29.723Z"
   },
   {
    "duration": 6,
    "start_time": "2021-07-08T09:06:29.745Z"
   },
   {
    "duration": 3,
    "start_time": "2021-07-08T09:06:29.752Z"
   },
   {
    "duration": 7,
    "start_time": "2021-07-08T09:06:29.785Z"
   },
   {
    "duration": 11,
    "start_time": "2021-07-08T09:06:29.794Z"
   },
   {
    "duration": 15,
    "start_time": "2021-07-08T09:06:29.807Z"
   },
   {
    "duration": 8,
    "start_time": "2021-07-08T09:06:29.823Z"
   },
   {
    "duration": 70,
    "start_time": "2021-07-08T09:06:29.832Z"
   },
   {
    "duration": 17,
    "start_time": "2021-07-08T09:06:29.903Z"
   },
   {
    "duration": 9,
    "start_time": "2021-07-08T09:06:29.921Z"
   },
   {
    "duration": 9,
    "start_time": "2021-07-08T09:06:29.932Z"
   },
   {
    "duration": 57,
    "start_time": "2021-07-08T09:06:29.942Z"
   },
   {
    "duration": 11,
    "start_time": "2021-07-08T09:06:30.001Z"
   },
   {
    "duration": 19,
    "start_time": "2021-07-08T09:06:30.016Z"
   },
   {
    "duration": 217,
    "start_time": "2021-07-08T09:06:30.037Z"
   },
   {
    "duration": 6,
    "start_time": "2021-07-08T09:06:30.255Z"
   },
   {
    "duration": 205,
    "start_time": "2021-07-08T09:06:30.263Z"
   },
   {
    "duration": 27,
    "start_time": "2021-07-08T09:06:30.470Z"
   },
   {
    "duration": 11,
    "start_time": "2021-07-08T09:06:30.500Z"
   },
   {
    "duration": 31,
    "start_time": "2021-07-08T09:06:30.513Z"
   },
   {
    "duration": 18,
    "start_time": "2021-07-08T09:06:30.546Z"
   },
   {
    "duration": 11,
    "start_time": "2021-07-08T09:06:30.566Z"
   },
   {
    "duration": 19,
    "start_time": "2021-07-08T09:06:30.579Z"
   },
   {
    "duration": 20,
    "start_time": "2021-07-08T09:06:49.466Z"
   },
   {
    "duration": 9,
    "start_time": "2021-07-08T09:06:51.994Z"
   },
   {
    "duration": 20,
    "start_time": "2021-07-08T09:06:52.273Z"
   },
   {
    "duration": 246,
    "start_time": "2021-07-08T09:10:21.272Z"
   },
   {
    "duration": 84,
    "start_time": "2021-07-08T09:10:21.436Z"
   },
   {
    "duration": 7,
    "start_time": "2021-07-08T09:10:37.608Z"
   },
   {
    "duration": 189,
    "start_time": "2021-07-08T09:10:38.573Z"
   },
   {
    "duration": 185,
    "start_time": "2021-07-08T09:10:53.181Z"
   },
   {
    "duration": 11,
    "start_time": "2021-07-08T09:10:59.549Z"
   },
   {
    "duration": 42,
    "start_time": "2021-07-08T09:10:59.709Z"
   },
   {
    "duration": 12,
    "start_time": "2021-07-08T09:11:02.857Z"
   },
   {
    "duration": 28,
    "start_time": "2021-07-08T09:11:10.062Z"
   },
   {
    "duration": 249,
    "start_time": "2021-07-08T09:11:37.388Z"
   },
   {
    "duration": 232,
    "start_time": "2021-07-08T09:11:49.485Z"
   },
   {
    "duration": 453,
    "start_time": "2021-07-08T09:12:01.546Z"
   },
   {
    "duration": 440,
    "start_time": "2021-07-08T09:12:12.347Z"
   },
   {
    "duration": 213,
    "start_time": "2021-07-08T09:13:32.196Z"
   },
   {
    "duration": 172,
    "start_time": "2021-07-08T09:14:07.400Z"
   },
   {
    "duration": 185,
    "start_time": "2021-07-08T09:14:14.905Z"
   },
   {
    "duration": 209,
    "start_time": "2021-07-08T09:14:40.109Z"
   },
   {
    "duration": 201,
    "start_time": "2021-07-08T09:14:54.506Z"
   },
   {
    "duration": 622,
    "start_time": "2021-07-08T09:18:14.497Z"
   },
   {
    "duration": 220,
    "start_time": "2021-07-08T09:18:15.121Z"
   },
   {
    "duration": 79,
    "start_time": "2021-07-08T09:18:15.343Z"
   },
   {
    "duration": 4,
    "start_time": "2021-07-08T09:18:15.425Z"
   },
   {
    "duration": 24,
    "start_time": "2021-07-08T09:18:15.431Z"
   },
   {
    "duration": 8,
    "start_time": "2021-07-08T09:18:15.457Z"
   },
   {
    "duration": 16,
    "start_time": "2021-07-08T09:18:15.466Z"
   },
   {
    "duration": 5,
    "start_time": "2021-07-08T09:18:15.484Z"
   },
   {
    "duration": 10,
    "start_time": "2021-07-08T09:18:15.493Z"
   },
   {
    "duration": 8,
    "start_time": "2021-07-08T09:18:15.504Z"
   },
   {
    "duration": 7,
    "start_time": "2021-07-08T09:18:15.513Z"
   },
   {
    "duration": 26,
    "start_time": "2021-07-08T09:18:15.522Z"
   },
   {
    "duration": 49,
    "start_time": "2021-07-08T09:18:15.550Z"
   },
   {
    "duration": 21,
    "start_time": "2021-07-08T09:18:15.601Z"
   },
   {
    "duration": 8,
    "start_time": "2021-07-08T09:18:15.624Z"
   },
   {
    "duration": 3,
    "start_time": "2021-07-08T09:18:15.634Z"
   },
   {
    "duration": 8,
    "start_time": "2021-07-08T09:18:15.639Z"
   },
   {
    "duration": 45,
    "start_time": "2021-07-08T09:18:15.649Z"
   },
   {
    "duration": 13,
    "start_time": "2021-07-08T09:18:15.696Z"
   },
   {
    "duration": 10,
    "start_time": "2021-07-08T09:18:15.711Z"
   },
   {
    "duration": 64,
    "start_time": "2021-07-08T09:18:15.722Z"
   },
   {
    "duration": 19,
    "start_time": "2021-07-08T09:18:15.788Z"
   },
   {
    "duration": 9,
    "start_time": "2021-07-08T09:18:15.809Z"
   },
   {
    "duration": 9,
    "start_time": "2021-07-08T09:18:15.820Z"
   },
   {
    "duration": 18,
    "start_time": "2021-07-08T09:18:15.831Z"
   },
   {
    "duration": 43,
    "start_time": "2021-07-08T09:18:15.851Z"
   },
   {
    "duration": 12,
    "start_time": "2021-07-08T09:18:15.897Z"
   },
   {
    "duration": 219,
    "start_time": "2021-07-08T09:18:15.911Z"
   },
   {
    "duration": 8,
    "start_time": "2021-07-08T09:18:16.132Z"
   },
   {
    "duration": 199,
    "start_time": "2021-07-08T09:18:16.141Z"
   },
   {
    "duration": 18,
    "start_time": "2021-07-08T09:18:16.341Z"
   },
   {
    "duration": 24,
    "start_time": "2021-07-08T09:18:16.361Z"
   },
   {
    "duration": 24,
    "start_time": "2021-07-08T09:18:16.387Z"
   },
   {
    "duration": 211,
    "start_time": "2021-07-08T09:18:16.413Z"
   },
   {
    "duration": 18,
    "start_time": "2021-07-08T09:18:16.626Z"
   },
   {
    "duration": 596,
    "start_time": "2021-07-08T10:06:33.623Z"
   },
   {
    "duration": 181,
    "start_time": "2021-07-08T10:06:34.221Z"
   },
   {
    "duration": 176,
    "start_time": "2021-07-08T10:06:34.635Z"
   },
   {
    "duration": 239,
    "start_time": "2021-07-08T10:06:55.572Z"
   },
   {
    "duration": 6,
    "start_time": "2021-07-08T10:06:57.687Z"
   },
   {
    "duration": 4,
    "start_time": "2021-07-08T10:07:03.956Z"
   },
   {
    "duration": 4,
    "start_time": "2021-07-08T10:07:10.376Z"
   },
   {
    "duration": 4,
    "start_time": "2021-07-08T10:17:19.889Z"
   },
   {
    "duration": 3,
    "start_time": "2021-07-08T10:19:19.407Z"
   },
   {
    "duration": 197,
    "start_time": "2021-07-08T10:19:19.412Z"
   },
   {
    "duration": 127,
    "start_time": "2021-07-08T10:19:19.611Z"
   },
   {
    "duration": 4,
    "start_time": "2021-07-08T10:19:19.740Z"
   },
   {
    "duration": 27,
    "start_time": "2021-07-08T10:19:19.746Z"
   },
   {
    "duration": 7,
    "start_time": "2021-07-08T10:19:19.775Z"
   },
   {
    "duration": 30,
    "start_time": "2021-07-08T10:19:19.784Z"
   },
   {
    "duration": 7,
    "start_time": "2021-07-08T10:19:19.817Z"
   },
   {
    "duration": 26,
    "start_time": "2021-07-08T10:19:19.826Z"
   },
   {
    "duration": 18,
    "start_time": "2021-07-08T10:19:19.854Z"
   },
   {
    "duration": 14,
    "start_time": "2021-07-08T10:19:19.874Z"
   },
   {
    "duration": 48,
    "start_time": "2021-07-08T10:19:19.890Z"
   },
   {
    "duration": 17,
    "start_time": "2021-07-08T10:19:19.940Z"
   },
   {
    "duration": 38,
    "start_time": "2021-07-08T10:19:19.959Z"
   },
   {
    "duration": 8,
    "start_time": "2021-07-08T10:19:19.999Z"
   },
   {
    "duration": 15,
    "start_time": "2021-07-08T10:19:20.009Z"
   },
   {
    "duration": 22,
    "start_time": "2021-07-08T10:19:20.026Z"
   },
   {
    "duration": 10,
    "start_time": "2021-07-08T10:19:20.050Z"
   },
   {
    "duration": 10,
    "start_time": "2021-07-08T10:19:20.062Z"
   },
   {
    "duration": 20,
    "start_time": "2021-07-08T10:19:20.073Z"
   },
   {
    "duration": 29,
    "start_time": "2021-07-08T10:19:20.095Z"
   },
   {
    "duration": 17,
    "start_time": "2021-07-08T10:19:20.126Z"
   },
   {
    "duration": 40,
    "start_time": "2021-07-08T10:19:20.146Z"
   },
   {
    "duration": 15,
    "start_time": "2021-07-08T10:19:20.189Z"
   },
   {
    "duration": 19,
    "start_time": "2021-07-08T10:19:20.206Z"
   },
   {
    "duration": 10,
    "start_time": "2021-07-08T10:19:20.226Z"
   },
   {
    "duration": 11,
    "start_time": "2021-07-08T10:19:20.238Z"
   },
   {
    "duration": 297,
    "start_time": "2021-07-08T10:19:20.250Z"
   },
   {
    "duration": 6,
    "start_time": "2021-07-08T10:19:20.549Z"
   },
   {
    "duration": 191,
    "start_time": "2021-07-08T10:19:20.557Z"
   },
   {
    "duration": 19,
    "start_time": "2021-07-08T10:19:20.750Z"
   },
   {
    "duration": 20,
    "start_time": "2021-07-08T10:19:20.771Z"
   },
   {
    "duration": 15,
    "start_time": "2021-07-08T10:19:20.793Z"
   },
   {
    "duration": 222,
    "start_time": "2021-07-08T10:19:20.809Z"
   },
   {
    "duration": 20,
    "start_time": "2021-07-08T10:19:21.033Z"
   },
   {
    "duration": 27,
    "start_time": "2021-07-08T10:45:04.055Z"
   },
   {
    "duration": 8,
    "start_time": "2021-07-08T10:45:08.478Z"
   },
   {
    "duration": 8,
    "start_time": "2021-07-08T10:45:31.982Z"
   },
   {
    "duration": 10,
    "start_time": "2021-07-08T10:46:01.221Z"
   },
   {
    "duration": 17,
    "start_time": "2021-07-08T10:46:40.011Z"
   },
   {
    "duration": 193,
    "start_time": "2021-07-08T10:48:19.471Z"
   },
   {
    "duration": 225,
    "start_time": "2021-07-08T10:49:26.480Z"
   },
   {
    "duration": 204,
    "start_time": "2021-07-08T10:49:59.992Z"
   },
   {
    "duration": 435,
    "start_time": "2021-07-08T10:50:06.779Z"
   },
   {
    "duration": 199,
    "start_time": "2021-07-08T10:50:14.891Z"
   },
   {
    "duration": 204,
    "start_time": "2021-07-08T10:50:18.501Z"
   },
   {
    "duration": 244,
    "start_time": "2021-07-08T10:50:23.359Z"
   },
   {
    "duration": 192,
    "start_time": "2021-07-08T10:50:29.135Z"
   },
   {
    "duration": 218,
    "start_time": "2021-07-08T10:50:33.092Z"
   },
   {
    "duration": 207,
    "start_time": "2021-07-08T10:52:45.381Z"
   },
   {
    "duration": 5,
    "start_time": "2021-07-08T10:53:34.641Z"
   },
   {
    "duration": 196,
    "start_time": "2021-07-08T10:53:41.478Z"
   },
   {
    "duration": 43,
    "start_time": "2021-07-08T10:53:50.335Z"
   },
   {
    "duration": 32,
    "start_time": "2021-07-08T10:53:55.294Z"
   },
   {
    "duration": 55,
    "start_time": "2021-07-08T10:54:09.675Z"
   },
   {
    "duration": 16,
    "start_time": "2021-07-08T10:54:12.260Z"
   },
   {
    "duration": 15,
    "start_time": "2021-07-08T10:54:49.150Z"
   },
   {
    "duration": 20,
    "start_time": "2021-07-08T10:56:07.596Z"
   },
   {
    "duration": 16,
    "start_time": "2021-07-08T10:58:26.276Z"
   },
   {
    "duration": 22,
    "start_time": "2021-07-08T10:59:00.486Z"
   },
   {
    "duration": 18,
    "start_time": "2021-07-08T11:02:09.653Z"
   },
   {
    "duration": 10,
    "start_time": "2021-07-08T11:03:44.331Z"
   },
   {
    "duration": 10,
    "start_time": "2021-07-08T11:03:54.055Z"
   },
   {
    "duration": 12,
    "start_time": "2021-07-08T11:04:41.967Z"
   },
   {
    "duration": 24,
    "start_time": "2021-07-08T11:07:30.732Z"
   },
   {
    "duration": 6,
    "start_time": "2021-07-08T11:07:37.364Z"
   },
   {
    "duration": 16,
    "start_time": "2021-07-08T11:08:01.819Z"
   },
   {
    "duration": 17,
    "start_time": "2021-07-08T11:09:47.488Z"
   },
   {
    "duration": 246,
    "start_time": "2021-07-08T11:10:00.830Z"
   },
   {
    "duration": 18,
    "start_time": "2021-07-08T11:13:55.195Z"
   },
   {
    "duration": 204,
    "start_time": "2021-07-08T11:14:04.951Z"
   },
   {
    "duration": 19,
    "start_time": "2021-07-08T11:15:10.613Z"
   },
   {
    "duration": 680,
    "start_time": "2021-07-08T11:16:25.793Z"
   },
   {
    "duration": 451,
    "start_time": "2021-07-08T11:16:40.313Z"
   },
   {
    "duration": 469,
    "start_time": "2021-07-08T11:17:21.286Z"
   },
   {
    "duration": 20,
    "start_time": "2021-07-08T11:19:12.554Z"
   },
   {
    "duration": 35,
    "start_time": "2021-07-08T11:20:05.484Z"
   },
   {
    "duration": 53,
    "start_time": "2021-07-08T11:21:40.050Z"
   },
   {
    "duration": 13,
    "start_time": "2021-07-08T11:22:26.059Z"
   },
   {
    "duration": 19,
    "start_time": "2021-07-08T11:22:47.419Z"
   },
   {
    "duration": 25,
    "start_time": "2021-07-08T11:23:19.958Z"
   },
   {
    "duration": 29,
    "start_time": "2021-07-08T11:23:25.415Z"
   },
   {
    "duration": 10,
    "start_time": "2021-07-08T11:24:45.138Z"
   },
   {
    "duration": 19,
    "start_time": "2021-07-08T11:24:54.498Z"
   },
   {
    "duration": 12,
    "start_time": "2021-07-08T11:25:32.225Z"
   },
   {
    "duration": 19,
    "start_time": "2021-07-08T11:25:37.092Z"
   },
   {
    "duration": 17,
    "start_time": "2021-07-08T11:25:58.116Z"
   },
   {
    "duration": 15,
    "start_time": "2021-07-08T11:26:02.258Z"
   },
   {
    "duration": 8,
    "start_time": "2021-07-08T11:26:59.682Z"
   },
   {
    "duration": 184,
    "start_time": "2021-07-08T11:27:21.894Z"
   },
   {
    "duration": 8,
    "start_time": "2021-07-08T11:27:23.824Z"
   },
   {
    "duration": 202,
    "start_time": "2021-07-08T11:27:23.962Z"
   },
   {
    "duration": 360,
    "start_time": "2021-07-08T11:28:33.215Z"
   },
   {
    "duration": 231,
    "start_time": "2021-07-08T11:32:05.542Z"
   },
   {
    "duration": 607,
    "start_time": "2021-07-08T11:36:27.854Z"
   },
   {
    "duration": 241,
    "start_time": "2021-07-08T11:36:28.463Z"
   },
   {
    "duration": 67,
    "start_time": "2021-07-08T11:36:28.709Z"
   },
   {
    "duration": 5,
    "start_time": "2021-07-08T11:36:28.778Z"
   },
   {
    "duration": 32,
    "start_time": "2021-07-08T11:36:28.784Z"
   },
   {
    "duration": 11,
    "start_time": "2021-07-08T11:36:28.819Z"
   },
   {
    "duration": 20,
    "start_time": "2021-07-08T11:36:28.834Z"
   },
   {
    "duration": 36,
    "start_time": "2021-07-08T11:36:28.857Z"
   },
   {
    "duration": 16,
    "start_time": "2021-07-08T11:36:28.895Z"
   },
   {
    "duration": 14,
    "start_time": "2021-07-08T11:36:28.913Z"
   },
   {
    "duration": 9,
    "start_time": "2021-07-08T11:36:28.930Z"
   },
   {
    "duration": 55,
    "start_time": "2021-07-08T11:36:28.941Z"
   },
   {
    "duration": 27,
    "start_time": "2021-07-08T11:36:28.999Z"
   },
   {
    "duration": 30,
    "start_time": "2021-07-08T11:36:29.028Z"
   },
   {
    "duration": 31,
    "start_time": "2021-07-08T11:36:29.060Z"
   },
   {
    "duration": 3,
    "start_time": "2021-07-08T11:36:29.093Z"
   },
   {
    "duration": 12,
    "start_time": "2021-07-08T11:36:29.099Z"
   },
   {
    "duration": 11,
    "start_time": "2021-07-08T11:36:29.112Z"
   },
   {
    "duration": 12,
    "start_time": "2021-07-08T11:36:29.125Z"
   },
   {
    "duration": 9,
    "start_time": "2021-07-08T11:36:29.139Z"
   },
   {
    "duration": 31,
    "start_time": "2021-07-08T11:36:29.191Z"
   },
   {
    "duration": 17,
    "start_time": "2021-07-08T11:36:29.226Z"
   },
   {
    "duration": 7,
    "start_time": "2021-07-08T11:36:29.245Z"
   },
   {
    "duration": 10,
    "start_time": "2021-07-08T11:36:29.254Z"
   },
   {
    "duration": 30,
    "start_time": "2021-07-08T11:36:29.292Z"
   },
   {
    "duration": 11,
    "start_time": "2021-07-08T11:36:29.324Z"
   },
   {
    "duration": 11,
    "start_time": "2021-07-08T11:36:29.337Z"
   },
   {
    "duration": 230,
    "start_time": "2021-07-08T11:36:29.349Z"
   },
   {
    "duration": 13,
    "start_time": "2021-07-08T11:36:29.588Z"
   },
   {
    "duration": 205,
    "start_time": "2021-07-08T11:36:29.603Z"
   },
   {
    "duration": 20,
    "start_time": "2021-07-08T11:36:29.810Z"
   },
   {
    "duration": 9,
    "start_time": "2021-07-08T11:36:29.832Z"
   },
   {
    "duration": 16,
    "start_time": "2021-07-08T11:36:29.843Z"
   },
   {
    "duration": 283,
    "start_time": "2021-07-08T11:36:29.861Z"
   },
   {
    "duration": 50,
    "start_time": "2021-07-08T11:36:30.146Z"
   },
   {
    "duration": 14,
    "start_time": "2021-07-08T11:36:30.198Z"
   },
   {
    "duration": 11,
    "start_time": "2021-07-08T11:36:30.214Z"
   },
   {
    "duration": 245,
    "start_time": "2021-07-08T11:36:30.227Z"
   },
   {
    "duration": 439,
    "start_time": "2021-07-08T11:36:30.474Z"
   },
   {
    "duration": 210,
    "start_time": "2021-07-08T11:36:30.915Z"
   },
   {
    "duration": 15,
    "start_time": "2021-07-08T11:36:31.127Z"
   },
   {
    "duration": 17,
    "start_time": "2021-07-08T11:38:20.451Z"
   },
   {
    "duration": 642,
    "start_time": "2021-07-08T11:46:17.881Z"
   },
   {
    "duration": 210,
    "start_time": "2021-07-08T11:46:18.525Z"
   },
   {
    "duration": 104,
    "start_time": "2021-07-08T11:46:18.741Z"
   },
   {
    "duration": 8,
    "start_time": "2021-07-08T11:46:18.847Z"
   },
   {
    "duration": 25,
    "start_time": "2021-07-08T11:46:18.857Z"
   },
   {
    "duration": 14,
    "start_time": "2021-07-08T11:46:18.884Z"
   },
   {
    "duration": 22,
    "start_time": "2021-07-08T11:46:18.900Z"
   },
   {
    "duration": 5,
    "start_time": "2021-07-08T11:46:18.924Z"
   },
   {
    "duration": 13,
    "start_time": "2021-07-08T11:46:18.931Z"
   },
   {
    "duration": 45,
    "start_time": "2021-07-08T11:46:18.946Z"
   },
   {
    "duration": 12,
    "start_time": "2021-07-08T11:46:18.993Z"
   },
   {
    "duration": 38,
    "start_time": "2021-07-08T11:46:19.006Z"
   },
   {
    "duration": 50,
    "start_time": "2021-07-08T11:46:19.046Z"
   },
   {
    "duration": 29,
    "start_time": "2021-07-08T11:46:19.099Z"
   },
   {
    "duration": 7,
    "start_time": "2021-07-08T11:46:19.130Z"
   },
   {
    "duration": 3,
    "start_time": "2021-07-08T11:46:19.139Z"
   },
   {
    "duration": 11,
    "start_time": "2021-07-08T11:46:19.144Z"
   },
   {
    "duration": 40,
    "start_time": "2021-07-08T11:46:19.157Z"
   },
   {
    "duration": 15,
    "start_time": "2021-07-08T11:46:19.199Z"
   },
   {
    "duration": 10,
    "start_time": "2021-07-08T11:46:19.217Z"
   },
   {
    "duration": 68,
    "start_time": "2021-07-08T11:46:19.230Z"
   },
   {
    "duration": 17,
    "start_time": "2021-07-08T11:46:19.301Z"
   },
   {
    "duration": 7,
    "start_time": "2021-07-08T11:46:19.321Z"
   },
   {
    "duration": 11,
    "start_time": "2021-07-08T11:46:19.330Z"
   },
   {
    "duration": 59,
    "start_time": "2021-07-08T11:46:19.343Z"
   },
   {
    "duration": 17,
    "start_time": "2021-07-08T11:46:19.405Z"
   },
   {
    "duration": 16,
    "start_time": "2021-07-08T11:46:19.424Z"
   },
   {
    "duration": 252,
    "start_time": "2021-07-08T11:46:19.443Z"
   },
   {
    "duration": 9,
    "start_time": "2021-07-08T11:46:19.697Z"
   },
   {
    "duration": 224,
    "start_time": "2021-07-08T11:46:19.708Z"
   },
   {
    "duration": 21,
    "start_time": "2021-07-08T11:46:19.934Z"
   },
   {
    "duration": 9,
    "start_time": "2021-07-08T11:46:19.956Z"
   },
   {
    "duration": 32,
    "start_time": "2021-07-08T11:46:19.967Z"
   },
   {
    "duration": 288,
    "start_time": "2021-07-08T11:46:20.004Z"
   },
   {
    "duration": 23,
    "start_time": "2021-07-08T11:46:20.300Z"
   },
   {
    "duration": 11,
    "start_time": "2021-07-08T11:46:20.325Z"
   },
   {
    "duration": 11,
    "start_time": "2021-07-08T11:46:20.339Z"
   },
   {
    "duration": 259,
    "start_time": "2021-07-08T11:46:20.352Z"
   },
   {
    "duration": 438,
    "start_time": "2021-07-08T11:46:20.613Z"
   },
   {
    "duration": 207,
    "start_time": "2021-07-08T11:46:21.054Z"
   },
   {
    "duration": 27,
    "start_time": "2021-07-08T11:46:21.262Z"
   },
   {
    "duration": 19,
    "start_time": "2021-07-08T11:46:21.291Z"
   },
   {
    "duration": 820,
    "start_time": "2021-07-08T11:49:01.655Z"
   },
   {
    "duration": 372,
    "start_time": "2021-07-08T11:49:02.478Z"
   },
   {
    "duration": 98,
    "start_time": "2021-07-08T11:49:02.853Z"
   },
   {
    "duration": 6,
    "start_time": "2021-07-08T11:49:02.953Z"
   },
   {
    "duration": 39,
    "start_time": "2021-07-08T11:49:02.960Z"
   },
   {
    "duration": 9,
    "start_time": "2021-07-08T11:49:03.003Z"
   },
   {
    "duration": 23,
    "start_time": "2021-07-08T11:49:03.014Z"
   },
   {
    "duration": 6,
    "start_time": "2021-07-08T11:49:03.041Z"
   },
   {
    "duration": 20,
    "start_time": "2021-07-08T11:49:03.049Z"
   },
   {
    "duration": 18,
    "start_time": "2021-07-08T11:49:03.084Z"
   },
   {
    "duration": 14,
    "start_time": "2021-07-08T11:49:03.104Z"
   },
   {
    "duration": 39,
    "start_time": "2021-07-08T11:49:03.119Z"
   },
   {
    "duration": 38,
    "start_time": "2021-07-08T11:49:03.160Z"
   },
   {
    "duration": 26,
    "start_time": "2021-07-08T11:49:03.200Z"
   },
   {
    "duration": 7,
    "start_time": "2021-07-08T11:49:03.227Z"
   },
   {
    "duration": 4,
    "start_time": "2021-07-08T11:49:03.236Z"
   },
   {
    "duration": 15,
    "start_time": "2021-07-08T11:49:03.243Z"
   },
   {
    "duration": 21,
    "start_time": "2021-07-08T11:49:03.285Z"
   },
   {
    "duration": 17,
    "start_time": "2021-07-08T11:49:03.309Z"
   },
   {
    "duration": 10,
    "start_time": "2021-07-08T11:49:03.328Z"
   },
   {
    "duration": 65,
    "start_time": "2021-07-08T11:49:03.340Z"
   },
   {
    "duration": 18,
    "start_time": "2021-07-08T11:49:03.407Z"
   },
   {
    "duration": 8,
    "start_time": "2021-07-08T11:49:03.428Z"
   },
   {
    "duration": 15,
    "start_time": "2021-07-08T11:49:03.438Z"
   },
   {
    "duration": 40,
    "start_time": "2021-07-08T11:49:03.455Z"
   },
   {
    "duration": 12,
    "start_time": "2021-07-08T11:49:03.497Z"
   },
   {
    "duration": 29,
    "start_time": "2021-07-08T11:49:03.511Z"
   },
   {
    "duration": 285,
    "start_time": "2021-07-08T11:49:03.542Z"
   },
   {
    "duration": 8,
    "start_time": "2021-07-08T11:49:03.829Z"
   },
   {
    "duration": 227,
    "start_time": "2021-07-08T11:49:03.838Z"
   },
   {
    "duration": 40,
    "start_time": "2021-07-08T11:49:04.066Z"
   },
   {
    "duration": 10,
    "start_time": "2021-07-08T11:49:04.108Z"
   },
   {
    "duration": 26,
    "start_time": "2021-07-08T11:49:04.121Z"
   },
   {
    "duration": 290,
    "start_time": "2021-07-08T11:49:04.149Z"
   },
   {
    "duration": 26,
    "start_time": "2021-07-08T11:49:04.441Z"
   },
   {
    "duration": 31,
    "start_time": "2021-07-08T11:49:04.470Z"
   },
   {
    "duration": 14,
    "start_time": "2021-07-08T11:49:04.503Z"
   },
   {
    "duration": 259,
    "start_time": "2021-07-08T11:49:04.521Z"
   },
   {
    "duration": 480,
    "start_time": "2021-07-08T11:49:04.782Z"
   },
   {
    "duration": 225,
    "start_time": "2021-07-08T11:49:05.264Z"
   },
   {
    "duration": 22,
    "start_time": "2021-07-08T11:49:05.491Z"
   },
   {
    "duration": 24,
    "start_time": "2021-07-08T11:49:05.515Z"
   },
   {
    "duration": 634,
    "start_time": "2021-07-08T11:52:24.960Z"
   },
   {
    "duration": 199,
    "start_time": "2021-07-08T11:52:25.599Z"
   },
   {
    "duration": 106,
    "start_time": "2021-07-08T11:52:25.803Z"
   },
   {
    "duration": 7,
    "start_time": "2021-07-08T11:52:25.911Z"
   },
   {
    "duration": 29,
    "start_time": "2021-07-08T11:52:25.920Z"
   },
   {
    "duration": 7,
    "start_time": "2021-07-08T11:52:25.951Z"
   },
   {
    "duration": 26,
    "start_time": "2021-07-08T11:52:25.961Z"
   },
   {
    "duration": 11,
    "start_time": "2021-07-08T11:52:25.990Z"
   },
   {
    "duration": 29,
    "start_time": "2021-07-08T11:52:26.005Z"
   },
   {
    "duration": 9,
    "start_time": "2021-07-08T11:52:26.036Z"
   },
   {
    "duration": 8,
    "start_time": "2021-07-08T11:52:26.047Z"
   },
   {
    "duration": 63,
    "start_time": "2021-07-08T11:52:26.057Z"
   },
   {
    "duration": 17,
    "start_time": "2021-07-08T11:52:26.122Z"
   },
   {
    "duration": 43,
    "start_time": "2021-07-08T11:52:26.142Z"
   },
   {
    "duration": 17,
    "start_time": "2021-07-08T11:52:26.187Z"
   },
   {
    "duration": 5,
    "start_time": "2021-07-08T11:52:26.206Z"
   },
   {
    "duration": 12,
    "start_time": "2021-07-08T11:52:26.212Z"
   },
   {
    "duration": 11,
    "start_time": "2021-07-08T11:52:26.226Z"
   },
   {
    "duration": 12,
    "start_time": "2021-07-08T11:52:26.238Z"
   },
   {
    "duration": 38,
    "start_time": "2021-07-08T11:52:26.252Z"
   },
   {
    "duration": 40,
    "start_time": "2021-07-08T11:52:26.292Z"
   },
   {
    "duration": 17,
    "start_time": "2021-07-08T11:52:26.336Z"
   },
   {
    "duration": 39,
    "start_time": "2021-07-08T11:52:26.355Z"
   },
   {
    "duration": 11,
    "start_time": "2021-07-08T11:52:26.395Z"
   },
   {
    "duration": 23,
    "start_time": "2021-07-08T11:52:26.408Z"
   },
   {
    "duration": 12,
    "start_time": "2021-07-08T11:52:26.432Z"
   },
   {
    "duration": 41,
    "start_time": "2021-07-08T11:52:26.446Z"
   },
   {
    "duration": 215,
    "start_time": "2021-07-08T11:52:26.493Z"
   },
   {
    "duration": 8,
    "start_time": "2021-07-08T11:52:26.710Z"
   },
   {
    "duration": 228,
    "start_time": "2021-07-08T11:52:26.720Z"
   },
   {
    "duration": 18,
    "start_time": "2021-07-08T11:52:26.950Z"
   },
   {
    "duration": 35,
    "start_time": "2021-07-08T11:52:26.969Z"
   },
   {
    "duration": 23,
    "start_time": "2021-07-08T11:52:27.006Z"
   },
   {
    "duration": 258,
    "start_time": "2021-07-08T11:52:27.030Z"
   },
   {
    "duration": 24,
    "start_time": "2021-07-08T11:52:27.290Z"
   },
   {
    "duration": 12,
    "start_time": "2021-07-08T11:52:27.316Z"
   },
   {
    "duration": 10,
    "start_time": "2021-07-08T11:52:27.329Z"
   },
   {
    "duration": 298,
    "start_time": "2021-07-08T11:52:27.341Z"
   },
   {
    "duration": 436,
    "start_time": "2021-07-08T11:52:27.641Z"
   },
   {
    "duration": 216,
    "start_time": "2021-07-08T11:52:28.079Z"
   },
   {
    "duration": 20,
    "start_time": "2021-07-08T11:52:28.297Z"
   },
   {
    "duration": 17,
    "start_time": "2021-07-08T11:52:28.319Z"
   },
   {
    "duration": 832,
    "start_time": "2023-05-10T18:56:12.322Z"
   },
   {
    "duration": 84,
    "start_time": "2023-05-10T18:57:53.793Z"
   },
   {
    "duration": 129,
    "start_time": "2023-05-10T19:00:28.510Z"
   },
   {
    "duration": 806,
    "start_time": "2023-05-10T19:01:32.697Z"
   },
   {
    "duration": 142,
    "start_time": "2023-05-10T19:03:18.387Z"
   },
   {
    "duration": 135,
    "start_time": "2023-05-10T19:03:20.922Z"
   },
   {
    "duration": 11,
    "start_time": "2023-05-10T19:03:40.114Z"
   },
   {
    "duration": 338,
    "start_time": "2023-05-10T19:05:40.415Z"
   },
   {
    "duration": 19,
    "start_time": "2023-05-10T19:08:33.675Z"
   },
   {
    "duration": 69,
    "start_time": "2023-05-10T19:08:59.028Z"
   },
   {
    "duration": 123,
    "start_time": "2023-05-10T19:09:46.825Z"
   },
   {
    "duration": 159,
    "start_time": "2023-05-10T19:09:53.720Z"
   },
   {
    "duration": 173,
    "start_time": "2023-05-10T19:12:28.476Z"
   },
   {
    "duration": 1255,
    "start_time": "2023-05-10T19:12:45.540Z"
   },
   {
    "duration": 156,
    "start_time": "2023-05-10T19:19:58.673Z"
   },
   {
    "duration": 159,
    "start_time": "2023-05-10T19:20:24.413Z"
   },
   {
    "duration": 2731,
    "start_time": "2023-05-10T19:44:03.489Z"
   },
   {
    "duration": 1422,
    "start_time": "2023-05-10T19:51:25.963Z"
   },
   {
    "duration": 125,
    "start_time": "2023-05-10T19:56:00.136Z"
   },
   {
    "duration": 218,
    "start_time": "2023-05-10T19:56:14.808Z"
   },
   {
    "duration": 193,
    "start_time": "2023-05-10T19:58:05.376Z"
   },
   {
    "duration": 10,
    "start_time": "2023-05-10T20:08:35.918Z"
   },
   {
    "duration": 34,
    "start_time": "2023-05-10T20:19:50.532Z"
   },
   {
    "duration": 17,
    "start_time": "2023-05-10T20:24:11.638Z"
   },
   {
    "duration": 4,
    "start_time": "2023-05-10T20:35:13.966Z"
   },
   {
    "duration": 4,
    "start_time": "2023-05-10T20:44:15.151Z"
   },
   {
    "duration": 4,
    "start_time": "2023-05-10T20:44:15.583Z"
   },
   {
    "duration": 15,
    "start_time": "2023-05-10T20:44:16.041Z"
   },
   {
    "duration": 65,
    "start_time": "2023-05-10T20:51:44.746Z"
   },
   {
    "duration": 4,
    "start_time": "2023-05-10T20:51:57.411Z"
   },
   {
    "duration": 18,
    "start_time": "2023-05-10T20:52:51.966Z"
   },
   {
    "duration": 11,
    "start_time": "2023-05-10T20:54:05.077Z"
   },
   {
    "duration": 163,
    "start_time": "2023-05-10T20:54:22.412Z"
   },
   {
    "duration": 140,
    "start_time": "2023-05-10T21:02:33.943Z"
   },
   {
    "duration": 31,
    "start_time": "2023-05-10T21:02:36.190Z"
   },
   {
    "duration": 5,
    "start_time": "2023-05-10T21:02:37.782Z"
   },
   {
    "duration": 4,
    "start_time": "2023-05-10T21:02:38.235Z"
   },
   {
    "duration": 19,
    "start_time": "2023-05-10T21:02:38.670Z"
   },
   {
    "duration": 17,
    "start_time": "2023-05-10T21:02:39.842Z"
   },
   {
    "duration": 22,
    "start_time": "2023-05-10T21:03:04.547Z"
   },
   {
    "duration": 17,
    "start_time": "2023-05-10T21:10:31.718Z"
   },
   {
    "duration": 11,
    "start_time": "2023-05-10T21:15:08.059Z"
   },
   {
    "duration": 18,
    "start_time": "2023-05-10T21:15:18.113Z"
   },
   {
    "duration": 14,
    "start_time": "2023-05-10T21:16:00.706Z"
   },
   {
    "duration": 29,
    "start_time": "2023-05-10T21:16:13.729Z"
   },
   {
    "duration": 15,
    "start_time": "2023-05-10T21:16:40.864Z"
   },
   {
    "duration": 12,
    "start_time": "2023-05-10T21:16:43.621Z"
   },
   {
    "duration": 15,
    "start_time": "2023-05-10T21:16:44.024Z"
   },
   {
    "duration": 76,
    "start_time": "2023-05-10T21:39:23.805Z"
   },
   {
    "duration": 144,
    "start_time": "2023-05-10T21:39:36.575Z"
   },
   {
    "duration": 9,
    "start_time": "2023-05-10T21:53:00.420Z"
   },
   {
    "duration": 23,
    "start_time": "2023-05-10T21:57:15.653Z"
   },
   {
    "duration": 14,
    "start_time": "2023-05-10T22:35:08.558Z"
   },
   {
    "duration": 83,
    "start_time": "2023-05-10T22:37:43.931Z"
   },
   {
    "duration": 12,
    "start_time": "2023-05-10T22:40:14.114Z"
   },
   {
    "duration": 11,
    "start_time": "2023-05-10T22:43:04.538Z"
   },
   {
    "duration": 133,
    "start_time": "2023-05-10T22:43:27.722Z"
   },
   {
    "duration": 14,
    "start_time": "2023-05-10T22:43:28.626Z"
   },
   {
    "duration": 4,
    "start_time": "2023-05-10T22:43:30.737Z"
   },
   {
    "duration": 4,
    "start_time": "2023-05-10T22:43:31.416Z"
   },
   {
    "duration": 15,
    "start_time": "2023-05-10T22:43:32.074Z"
   },
   {
    "duration": 30,
    "start_time": "2023-05-10T22:43:33.490Z"
   },
   {
    "duration": 15,
    "start_time": "2023-05-10T22:43:35.650Z"
   },
   {
    "duration": 12,
    "start_time": "2023-05-10T22:43:36.916Z"
   },
   {
    "duration": 16,
    "start_time": "2023-05-10T22:43:37.523Z"
   },
   {
    "duration": 11,
    "start_time": "2023-05-10T22:43:39.522Z"
   },
   {
    "duration": 37,
    "start_time": "2023-05-10T22:43:40.890Z"
   },
   {
    "duration": 15,
    "start_time": "2023-05-10T22:43:42.217Z"
   },
   {
    "duration": 139,
    "start_time": "2023-05-10T22:43:43.442Z"
   },
   {
    "duration": 14,
    "start_time": "2023-05-10T22:43:44.712Z"
   },
   {
    "duration": 7,
    "start_time": "2023-05-10T22:43:45.979Z"
   },
   {
    "duration": 9,
    "start_time": "2023-05-10T22:46:21.219Z"
   },
   {
    "duration": 105,
    "start_time": "2023-05-11T11:54:31.017Z"
   },
   {
    "duration": 3439,
    "start_time": "2023-05-11T11:54:43.625Z"
   },
   {
    "duration": 136,
    "start_time": "2023-05-11T11:54:47.071Z"
   },
   {
    "duration": 0,
    "start_time": "2023-05-11T11:54:47.214Z"
   },
   {
    "duration": 0,
    "start_time": "2023-05-11T11:54:47.221Z"
   },
   {
    "duration": 11,
    "start_time": "2023-05-11T11:54:48.614Z"
   },
   {
    "duration": 379,
    "start_time": "2023-05-11T11:54:57.055Z"
   },
   {
    "duration": 25,
    "start_time": "2023-05-11T11:54:57.869Z"
   },
   {
    "duration": 21,
    "start_time": "2023-05-11T11:55:03.377Z"
   },
   {
    "duration": 26,
    "start_time": "2023-05-11T11:55:03.940Z"
   },
   {
    "duration": 38,
    "start_time": "2023-05-11T11:55:04.464Z"
   },
   {
    "duration": 338,
    "start_time": "2023-05-11T11:55:27.344Z"
   },
   {
    "duration": 24,
    "start_time": "2023-05-11T11:55:28.574Z"
   },
   {
    "duration": 267,
    "start_time": "2023-05-11T11:55:43.530Z"
   },
   {
    "duration": 15,
    "start_time": "2023-05-11T11:55:44.856Z"
   },
   {
    "duration": 23,
    "start_time": "2023-05-11T11:55:48.823Z"
   },
   {
    "duration": 12,
    "start_time": "2023-05-11T11:55:49.849Z"
   },
   {
    "duration": 29,
    "start_time": "2023-05-11T11:55:50.758Z"
   },
   {
    "duration": 40,
    "start_time": "2023-05-11T11:55:51.834Z"
   },
   {
    "duration": 11,
    "start_time": "2023-05-11T11:55:53.561Z"
   },
   {
    "duration": 9,
    "start_time": "2023-05-11T11:57:29.248Z"
   },
   {
    "duration": 315,
    "start_time": "2023-05-11T11:58:04.723Z"
   },
   {
    "duration": 24,
    "start_time": "2023-05-11T11:58:06.174Z"
   },
   {
    "duration": 41,
    "start_time": "2023-05-11T11:59:36.665Z"
   },
   {
    "duration": 26,
    "start_time": "2023-05-11T12:00:01.712Z"
   },
   {
    "duration": 35,
    "start_time": "2023-05-11T12:00:06.950Z"
   },
   {
    "duration": 7,
    "start_time": "2023-05-11T12:00:15.742Z"
   },
   {
    "duration": 22,
    "start_time": "2023-05-11T12:00:24.319Z"
   },
   {
    "duration": 47,
    "start_time": "2023-05-11T12:00:34.229Z"
   },
   {
    "duration": 55,
    "start_time": "2023-05-11T12:00:39.425Z"
   },
   {
    "duration": 49,
    "start_time": "2023-05-11T12:00:42.876Z"
   },
   {
    "duration": 65,
    "start_time": "2023-05-11T12:00:44.393Z"
   },
   {
    "duration": 14,
    "start_time": "2023-05-11T12:00:48.669Z"
   },
   {
    "duration": 79,
    "start_time": "2023-05-11T12:00:50.023Z"
   },
   {
    "duration": 51,
    "start_time": "2023-05-11T12:00:51.447Z"
   },
   {
    "duration": 209,
    "start_time": "2023-05-11T12:00:52.969Z"
   },
   {
    "duration": 53,
    "start_time": "2023-05-11T12:00:55.417Z"
   },
   {
    "duration": 25,
    "start_time": "2023-05-11T12:00:56.799Z"
   },
   {
    "duration": 31,
    "start_time": "2023-05-11T12:00:57.963Z"
   },
   {
    "duration": 14,
    "start_time": "2023-05-11T12:01:00.404Z"
   },
   {
    "duration": 4,
    "start_time": "2023-05-11T12:02:14.182Z"
   },
   {
    "duration": 72,
    "start_time": "2023-05-11T12:02:30.215Z"
   },
   {
    "duration": 38,
    "start_time": "2023-05-11T12:07:09.864Z"
   },
   {
    "duration": 0,
    "start_time": "2023-05-11T12:16:23.771Z"
   },
   {
    "duration": 32,
    "start_time": "2023-05-11T12:16:26.180Z"
   },
   {
    "duration": 5773,
    "start_time": "2023-05-11T12:16:27.221Z"
   },
   {
    "duration": 6505,
    "start_time": "2023-05-11T12:16:40.525Z"
   },
   {
    "duration": 36,
    "start_time": "2023-05-11T12:17:23.216Z"
   },
   {
    "duration": 26,
    "start_time": "2023-05-11T12:17:26.725Z"
   },
   {
    "duration": 35,
    "start_time": "2023-05-11T12:17:27.678Z"
   },
   {
    "duration": 22,
    "start_time": "2023-05-11T12:17:28.213Z"
   },
   {
    "duration": 13,
    "start_time": "2023-05-11T12:17:30.116Z"
   },
   {
    "duration": 74,
    "start_time": "2023-05-11T12:17:31.443Z"
   },
   {
    "duration": 17,
    "start_time": "2023-05-11T12:17:31.913Z"
   },
   {
    "duration": 132,
    "start_time": "2023-05-11T12:17:32.773Z"
   },
   {
    "duration": 21,
    "start_time": "2023-05-11T12:17:33.968Z"
   },
   {
    "duration": 34,
    "start_time": "2023-05-11T12:17:34.967Z"
   },
   {
    "duration": 12,
    "start_time": "2023-05-11T12:17:39.730Z"
   },
   {
    "duration": 37,
    "start_time": "2023-05-11T12:17:42.180Z"
   },
   {
    "duration": 5383,
    "start_time": "2023-05-11T12:17:43.140Z"
   },
   {
    "duration": 5557,
    "start_time": "2023-05-11T12:18:26.264Z"
   },
   {
    "duration": 201,
    "start_time": "2023-05-11T12:18:50.680Z"
   },
   {
    "duration": 18,
    "start_time": "2023-05-11T12:18:52.321Z"
   },
   {
    "duration": 18,
    "start_time": "2023-05-11T12:18:56.760Z"
   },
   {
    "duration": 4,
    "start_time": "2023-05-11T12:18:57.765Z"
   },
   {
    "duration": 16,
    "start_time": "2023-05-11T12:18:58.924Z"
   },
   {
    "duration": 25,
    "start_time": "2023-05-11T12:19:00.904Z"
   },
   {
    "duration": 17,
    "start_time": "2023-05-11T12:19:05.424Z"
   },
   {
    "duration": 16,
    "start_time": "2023-05-11T12:19:07.010Z"
   },
   {
    "duration": 23,
    "start_time": "2023-05-11T12:19:09.072Z"
   },
   {
    "duration": 15,
    "start_time": "2023-05-11T12:19:11.803Z"
   },
   {
    "duration": 31,
    "start_time": "2023-05-11T12:19:13.409Z"
   },
   {
    "duration": 27,
    "start_time": "2023-05-11T12:19:15.088Z"
   },
   {
    "duration": 118,
    "start_time": "2023-05-11T12:19:16.526Z"
   },
   {
    "duration": 18,
    "start_time": "2023-05-11T12:19:19.657Z"
   },
   {
    "duration": 6,
    "start_time": "2023-05-11T12:19:21.512Z"
   },
   {
    "duration": 12,
    "start_time": "2023-05-11T12:19:27.491Z"
   },
   {
    "duration": 24,
    "start_time": "2023-05-11T12:19:30.004Z"
   },
   {
    "duration": 7255,
    "start_time": "2023-05-11T12:19:31.172Z"
   },
   {
    "duration": 287,
    "start_time": "2023-05-11T12:23:16.337Z"
   },
   {
    "duration": 26,
    "start_time": "2023-05-11T12:23:22.706Z"
   },
   {
    "duration": 26,
    "start_time": "2023-05-11T12:23:26.101Z"
   },
   {
    "duration": 20,
    "start_time": "2023-05-11T12:23:27.920Z"
   },
   {
    "duration": 12,
    "start_time": "2023-05-11T12:23:29.207Z"
   },
   {
    "duration": 22,
    "start_time": "2023-05-11T12:23:29.908Z"
   },
   {
    "duration": 12,
    "start_time": "2023-05-11T12:23:31.824Z"
   },
   {
    "duration": 47,
    "start_time": "2023-05-11T12:23:33.102Z"
   },
   {
    "duration": 17,
    "start_time": "2023-05-11T12:23:34.520Z"
   },
   {
    "duration": 124,
    "start_time": "2023-05-11T12:23:35.780Z"
   },
   {
    "duration": 13,
    "start_time": "2023-05-11T12:23:37.008Z"
   },
   {
    "duration": 16,
    "start_time": "2023-05-11T12:23:38.232Z"
   },
   {
    "duration": 20,
    "start_time": "2023-05-11T12:23:43.672Z"
   },
   {
    "duration": 20,
    "start_time": "2023-05-11T12:23:49.366Z"
   },
   {
    "duration": 21,
    "start_time": "2023-05-11T12:23:51.404Z"
   },
   {
    "duration": 7,
    "start_time": "2023-05-11T12:23:52.807Z"
   },
   {
    "duration": 17,
    "start_time": "2023-05-11T12:25:55.904Z"
   },
   {
    "duration": 20,
    "start_time": "2023-05-11T12:26:10.602Z"
   },
   {
    "duration": 19,
    "start_time": "2023-05-11T12:30:55.419Z"
   },
   {
    "duration": 23,
    "start_time": "2023-05-11T12:33:07.035Z"
   },
   {
    "duration": 305,
    "start_time": "2023-05-11T12:33:27.825Z"
   },
   {
    "duration": 20,
    "start_time": "2023-05-11T12:33:29.321Z"
   },
   {
    "duration": 17,
    "start_time": "2023-05-11T12:33:32.608Z"
   },
   {
    "duration": 6,
    "start_time": "2023-05-11T12:33:33.772Z"
   },
   {
    "duration": 15,
    "start_time": "2023-05-11T12:33:34.921Z"
   },
   {
    "duration": 33,
    "start_time": "2023-05-11T12:33:37.033Z"
   },
   {
    "duration": 26,
    "start_time": "2023-05-11T12:33:39.990Z"
   },
   {
    "duration": 5003,
    "start_time": "2023-05-11T12:33:41.876Z"
   },
   {
    "duration": 0,
    "start_time": "2023-05-11T12:33:46.886Z"
   },
   {
    "duration": 58,
    "start_time": "2023-05-11T12:33:58.539Z"
   },
   {
    "duration": 33,
    "start_time": "2023-05-11T12:34:00.884Z"
   },
   {
    "duration": 5084,
    "start_time": "2023-05-11T12:34:02.189Z"
   },
   {
    "duration": 219,
    "start_time": "2023-05-11T12:41:48.984Z"
   },
   {
    "duration": 39,
    "start_time": "2023-05-11T12:41:50.365Z"
   },
   {
    "duration": 27,
    "start_time": "2023-05-11T12:41:53.530Z"
   },
   {
    "duration": 6,
    "start_time": "2023-05-11T12:41:54.169Z"
   },
   {
    "duration": 22,
    "start_time": "2023-05-11T12:41:54.753Z"
   },
   {
    "duration": 34,
    "start_time": "2023-05-11T12:41:57.119Z"
   },
   {
    "duration": 28,
    "start_time": "2023-05-11T12:41:59.473Z"
   },
   {
    "duration": 6845,
    "start_time": "2023-05-11T12:42:02.682Z"
   },
   {
    "duration": 0,
    "start_time": "2023-05-11T12:42:09.530Z"
   },
   {
    "duration": 1,
    "start_time": "2023-05-11T12:42:09.531Z"
   },
   {
    "duration": 0,
    "start_time": "2023-05-11T12:42:09.533Z"
   },
   {
    "duration": 295,
    "start_time": "2023-05-11T12:53:07.307Z"
   },
   {
    "duration": 39,
    "start_time": "2023-05-11T12:53:07.604Z"
   },
   {
    "duration": 140,
    "start_time": "2023-05-11T12:53:07.645Z"
   },
   {
    "duration": 104,
    "start_time": "2023-05-11T12:53:07.792Z"
   },
   {
    "duration": 120,
    "start_time": "2023-05-11T12:53:07.904Z"
   },
   {
    "duration": 130,
    "start_time": "2023-05-11T12:53:08.032Z"
   },
   {
    "duration": 95,
    "start_time": "2023-05-11T12:53:08.169Z"
   },
   {
    "duration": 4459,
    "start_time": "2023-05-11T12:53:08.269Z"
   },
   {
    "duration": 0,
    "start_time": "2023-05-11T12:53:12.740Z"
   },
   {
    "duration": 0,
    "start_time": "2023-05-11T12:53:12.749Z"
   },
   {
    "duration": 0,
    "start_time": "2023-05-11T12:53:12.759Z"
   },
   {
    "duration": 0,
    "start_time": "2023-05-11T12:53:12.764Z"
   },
   {
    "duration": 0,
    "start_time": "2023-05-11T12:53:12.768Z"
   },
   {
    "duration": 0,
    "start_time": "2023-05-11T12:53:12.778Z"
   },
   {
    "duration": 0,
    "start_time": "2023-05-11T12:53:12.789Z"
   },
   {
    "duration": 0,
    "start_time": "2023-05-11T12:53:12.791Z"
   },
   {
    "duration": 0,
    "start_time": "2023-05-11T12:53:12.797Z"
   },
   {
    "duration": 0,
    "start_time": "2023-05-11T12:53:12.799Z"
   },
   {
    "duration": 280,
    "start_time": "2023-05-11T12:53:52.660Z"
   },
   {
    "duration": 65,
    "start_time": "2023-05-11T12:53:52.942Z"
   },
   {
    "duration": 127,
    "start_time": "2023-05-11T12:53:53.009Z"
   },
   {
    "duration": 152,
    "start_time": "2023-05-11T12:53:53.138Z"
   },
   {
    "duration": 133,
    "start_time": "2023-05-11T12:53:53.294Z"
   },
   {
    "duration": 125,
    "start_time": "2023-05-11T12:53:53.429Z"
   },
   {
    "duration": 117,
    "start_time": "2023-05-11T12:53:53.557Z"
   },
   {
    "duration": 7564,
    "start_time": "2023-05-11T12:53:53.679Z"
   },
   {
    "duration": 0,
    "start_time": "2023-05-11T12:54:01.245Z"
   },
   {
    "duration": 0,
    "start_time": "2023-05-11T12:54:01.246Z"
   },
   {
    "duration": 0,
    "start_time": "2023-05-11T12:54:01.251Z"
   },
   {
    "duration": 0,
    "start_time": "2023-05-11T12:54:01.253Z"
   },
   {
    "duration": 0,
    "start_time": "2023-05-11T12:54:01.254Z"
   },
   {
    "duration": 0,
    "start_time": "2023-05-11T12:54:01.256Z"
   },
   {
    "duration": 0,
    "start_time": "2023-05-11T12:54:01.261Z"
   },
   {
    "duration": 0,
    "start_time": "2023-05-11T12:54:01.262Z"
   },
   {
    "duration": 0,
    "start_time": "2023-05-11T12:54:01.264Z"
   },
   {
    "duration": 0,
    "start_time": "2023-05-11T12:54:01.265Z"
   },
   {
    "duration": 297,
    "start_time": "2023-05-11T12:54:06.129Z"
   },
   {
    "duration": 56,
    "start_time": "2023-05-11T12:54:07.242Z"
   },
   {
    "duration": 12,
    "start_time": "2023-05-11T12:54:10.014Z"
   },
   {
    "duration": 3,
    "start_time": "2023-05-11T12:54:10.536Z"
   },
   {
    "duration": 22,
    "start_time": "2023-05-11T12:54:11.017Z"
   },
   {
    "duration": 44,
    "start_time": "2023-05-11T12:54:12.472Z"
   },
   {
    "duration": 29,
    "start_time": "2023-05-11T12:54:14.334Z"
   },
   {
    "duration": 6957,
    "start_time": "2023-05-11T12:54:15.570Z"
   },
   {
    "duration": 0,
    "start_time": "2023-05-11T12:54:22.533Z"
   },
   {
    "duration": 298,
    "start_time": "2023-05-11T12:54:27.885Z"
   },
   {
    "duration": 32,
    "start_time": "2023-05-11T12:54:28.186Z"
   },
   {
    "duration": 106,
    "start_time": "2023-05-11T12:54:28.220Z"
   },
   {
    "duration": 69,
    "start_time": "2023-05-11T12:54:28.328Z"
   },
   {
    "duration": 142,
    "start_time": "2023-05-11T12:54:28.403Z"
   },
   {
    "duration": 100,
    "start_time": "2023-05-11T12:54:28.564Z"
   },
   {
    "duration": 103,
    "start_time": "2023-05-11T12:54:28.669Z"
   },
   {
    "duration": 5896,
    "start_time": "2023-05-11T12:54:28.774Z"
   },
   {
    "duration": 0,
    "start_time": "2023-05-11T12:54:34.682Z"
   },
   {
    "duration": 0,
    "start_time": "2023-05-11T12:54:34.687Z"
   },
   {
    "duration": 0,
    "start_time": "2023-05-11T12:54:34.689Z"
   },
   {
    "duration": 0,
    "start_time": "2023-05-11T12:54:34.690Z"
   },
   {
    "duration": 0,
    "start_time": "2023-05-11T12:54:34.692Z"
   },
   {
    "duration": 0,
    "start_time": "2023-05-11T12:54:34.693Z"
   },
   {
    "duration": 0,
    "start_time": "2023-05-11T12:54:34.703Z"
   },
   {
    "duration": 0,
    "start_time": "2023-05-11T12:54:34.704Z"
   },
   {
    "duration": 0,
    "start_time": "2023-05-11T12:54:34.705Z"
   },
   {
    "duration": 0,
    "start_time": "2023-05-11T12:54:34.707Z"
   },
   {
    "duration": 277,
    "start_time": "2023-05-11T13:03:11.083Z"
   },
   {
    "duration": 50,
    "start_time": "2023-05-11T13:03:12.870Z"
   },
   {
    "duration": 11,
    "start_time": "2023-05-11T13:03:19.634Z"
   },
   {
    "duration": 7,
    "start_time": "2023-05-11T13:03:23.090Z"
   },
   {
    "duration": 62,
    "start_time": "2023-05-11T13:03:23.396Z"
   },
   {
    "duration": 23,
    "start_time": "2023-05-11T13:03:46.416Z"
   },
   {
    "duration": 27,
    "start_time": "2023-05-11T13:03:52.124Z"
   },
   {
    "duration": 4790,
    "start_time": "2023-05-11T13:03:56.425Z"
   },
   {
    "duration": 6967,
    "start_time": "2023-05-11T13:04:43.067Z"
   },
   {
    "duration": 65,
    "start_time": "2023-05-11T13:05:04.465Z"
   },
   {
    "duration": 32,
    "start_time": "2023-05-11T13:05:21.826Z"
   },
   {
    "duration": 38,
    "start_time": "2023-05-11T13:05:36.489Z"
   },
   {
    "duration": 24,
    "start_time": "2023-05-11T13:05:41.228Z"
   },
   {
    "duration": 60,
    "start_time": "2023-05-11T13:05:43.048Z"
   },
   {
    "duration": 24,
    "start_time": "2023-05-11T13:05:48.284Z"
   },
   {
    "duration": 33,
    "start_time": "2023-05-11T13:05:48.873Z"
   },
   {
    "duration": 29,
    "start_time": "2023-05-11T13:05:50.837Z"
   },
   {
    "duration": 77,
    "start_time": "2023-05-11T13:05:52.235Z"
   },
   {
    "duration": 55,
    "start_time": "2023-05-11T13:05:53.627Z"
   },
   {
    "duration": 158,
    "start_time": "2023-05-11T13:05:55.297Z"
   },
   {
    "duration": 41,
    "start_time": "2023-05-11T13:06:05.769Z"
   },
   {
    "duration": 27,
    "start_time": "2023-05-11T13:06:07.469Z"
   },
   {
    "duration": 5853,
    "start_time": "2023-05-11T13:15:29.126Z"
   },
   {
    "duration": 0,
    "start_time": "2023-05-11T13:15:34.987Z"
   },
   {
    "duration": 0,
    "start_time": "2023-05-11T13:15:34.988Z"
   },
   {
    "duration": 39,
    "start_time": "2023-05-11T13:15:37.765Z"
   },
   {
    "duration": 6323,
    "start_time": "2023-05-11T13:15:58.672Z"
   },
   {
    "duration": 300,
    "start_time": "2023-05-11T13:16:11.410Z"
   },
   {
    "duration": 39,
    "start_time": "2023-05-11T13:16:12.477Z"
   },
   {
    "duration": 22,
    "start_time": "2023-05-11T13:16:15.321Z"
   },
   {
    "duration": 268,
    "start_time": "2023-05-11T13:16:31.294Z"
   },
   {
    "duration": 33,
    "start_time": "2023-05-11T13:16:32.430Z"
   },
   {
    "duration": 8,
    "start_time": "2023-05-11T13:16:38.936Z"
   },
   {
    "duration": 19,
    "start_time": "2023-05-11T13:16:41.059Z"
   },
   {
    "duration": 57,
    "start_time": "2023-05-11T13:16:41.423Z"
   },
   {
    "duration": 11,
    "start_time": "2023-05-11T13:18:17.623Z"
   },
   {
    "duration": 35,
    "start_time": "2023-05-11T13:18:48.372Z"
   },
   {
    "duration": 28,
    "start_time": "2023-05-11T13:19:16.942Z"
   },
   {
    "duration": 22,
    "start_time": "2023-05-11T13:19:24.244Z"
   },
   {
    "duration": 29,
    "start_time": "2023-05-11T13:19:25.297Z"
   },
   {
    "duration": 22,
    "start_time": "2023-05-11T13:23:37.207Z"
   },
   {
    "duration": 41,
    "start_time": "2023-05-11T13:23:42.941Z"
   },
   {
    "duration": 24,
    "start_time": "2023-05-11T13:25:24.557Z"
   },
   {
    "duration": 5,
    "start_time": "2023-05-11T13:25:26.283Z"
   },
   {
    "duration": 32,
    "start_time": "2023-05-11T13:25:32.746Z"
   },
   {
    "duration": 24,
    "start_time": "2023-05-11T13:26:35.579Z"
   },
   {
    "duration": 28,
    "start_time": "2023-05-11T13:26:37.930Z"
   },
   {
    "duration": 58,
    "start_time": "2023-05-11T13:27:25.267Z"
   },
   {
    "duration": 44,
    "start_time": "2023-05-11T13:27:27.975Z"
   },
   {
    "duration": 26,
    "start_time": "2023-05-11T13:27:30.998Z"
   },
   {
    "duration": 17,
    "start_time": "2023-05-11T13:27:31.927Z"
   },
   {
    "duration": 11,
    "start_time": "2023-05-11T13:27:36.226Z"
   },
   {
    "duration": 26,
    "start_time": "2023-05-11T13:29:02.744Z"
   },
   {
    "duration": 34,
    "start_time": "2023-05-11T13:29:03.532Z"
   },
   {
    "duration": 20,
    "start_time": "2023-05-11T13:29:06.691Z"
   },
   {
    "duration": 51,
    "start_time": "2023-05-11T13:29:07.811Z"
   },
   {
    "duration": 29,
    "start_time": "2023-05-11T13:29:09.036Z"
   },
   {
    "duration": 145,
    "start_time": "2023-05-11T13:29:11.377Z"
   },
   {
    "duration": 27,
    "start_time": "2023-05-11T13:29:14.208Z"
   },
   {
    "duration": 31,
    "start_time": "2023-05-11T13:29:16.075Z"
   },
   {
    "duration": 17,
    "start_time": "2023-05-11T13:45:43.108Z"
   },
   {
    "duration": 303,
    "start_time": "2023-05-11T13:45:56.435Z"
   },
   {
    "duration": 48,
    "start_time": "2023-05-11T13:46:03.490Z"
   },
   {
    "duration": 28,
    "start_time": "2023-05-11T13:46:05.810Z"
   },
   {
    "duration": 5,
    "start_time": "2023-05-11T13:46:06.285Z"
   },
   {
    "duration": 51,
    "start_time": "2023-05-11T13:46:06.771Z"
   },
   {
    "duration": 37,
    "start_time": "2023-05-11T13:46:07.990Z"
   },
   {
    "duration": 42,
    "start_time": "2023-05-11T13:46:09.760Z"
   },
   {
    "duration": 34,
    "start_time": "2023-05-11T13:46:10.816Z"
   },
   {
    "duration": 32,
    "start_time": "2023-05-11T13:46:11.611Z"
   },
   {
    "duration": 35,
    "start_time": "2023-05-11T13:46:32.247Z"
   },
   {
    "duration": 61,
    "start_time": "2023-05-11T13:46:33.772Z"
   },
   {
    "duration": 46,
    "start_time": "2023-05-11T13:46:35.235Z"
   },
   {
    "duration": 215,
    "start_time": "2023-05-11T13:46:38.747Z"
   },
   {
    "duration": 24,
    "start_time": "2023-05-11T13:46:40.410Z"
   },
   {
    "duration": 28,
    "start_time": "2023-05-11T13:46:42.648Z"
   },
   {
    "duration": 58,
    "start_time": "2023-05-11T13:49:41.703Z"
   },
   {
    "duration": 6245,
    "start_time": "2023-05-11T13:49:43.301Z"
   },
   {
    "duration": 11,
    "start_time": "2023-05-11T13:50:10.123Z"
   },
   {
    "duration": 6,
    "start_time": "2023-05-11T14:26:34.986Z"
   },
   {
    "duration": 20,
    "start_time": "2023-05-11T15:16:37.603Z"
   },
   {
    "duration": 38,
    "start_time": "2023-05-11T15:16:47.297Z"
   },
   {
    "duration": 6,
    "start_time": "2023-05-11T15:24:40.619Z"
   },
   {
    "duration": 36,
    "start_time": "2023-05-11T15:25:28.095Z"
   },
   {
    "duration": 21,
    "start_time": "2023-05-11T15:25:43.514Z"
   },
   {
    "duration": 19,
    "start_time": "2023-05-11T15:36:31.058Z"
   },
   {
    "duration": 8,
    "start_time": "2023-05-11T15:38:48.183Z"
   },
   {
    "duration": 10,
    "start_time": "2023-05-11T15:41:41.423Z"
   },
   {
    "duration": 90,
    "start_time": "2023-05-11T15:42:23.141Z"
   },
   {
    "duration": 15,
    "start_time": "2023-05-11T15:43:35.220Z"
   },
   {
    "duration": 25,
    "start_time": "2023-05-11T15:44:37.518Z"
   },
   {
    "duration": 293,
    "start_time": "2023-05-11T15:44:47.135Z"
   },
   {
    "duration": 29,
    "start_time": "2023-05-11T15:44:47.431Z"
   },
   {
    "duration": 68,
    "start_time": "2023-05-11T15:44:47.462Z"
   },
   {
    "duration": 10,
    "start_time": "2023-05-11T15:44:47.532Z"
   },
   {
    "duration": 95,
    "start_time": "2023-05-11T15:44:47.545Z"
   },
   {
    "duration": 72,
    "start_time": "2023-05-11T15:44:47.642Z"
   },
   {
    "duration": 35,
    "start_time": "2023-05-11T15:44:47.723Z"
   },
   {
    "duration": 77,
    "start_time": "2023-05-11T15:44:47.766Z"
   },
   {
    "duration": 113,
    "start_time": "2023-05-11T15:44:47.846Z"
   },
   {
    "duration": 132,
    "start_time": "2023-05-11T15:44:47.964Z"
   },
   {
    "duration": 68,
    "start_time": "2023-05-11T15:44:48.102Z"
   },
   {
    "duration": 216,
    "start_time": "2023-05-11T15:44:48.178Z"
   },
   {
    "duration": 338,
    "start_time": "2023-05-11T15:44:48.401Z"
   },
   {
    "duration": 30,
    "start_time": "2023-05-11T15:44:48.749Z"
   },
   {
    "duration": 42,
    "start_time": "2023-05-11T15:44:48.791Z"
   },
   {
    "duration": 108,
    "start_time": "2023-05-11T15:44:48.836Z"
   },
   {
    "duration": 6,
    "start_time": "2023-05-11T15:44:48.946Z"
   },
   {
    "duration": 104,
    "start_time": "2023-05-11T15:44:48.954Z"
   },
   {
    "duration": 127,
    "start_time": "2023-05-11T15:44:49.061Z"
   },
   {
    "duration": 244,
    "start_time": "2023-05-11T15:44:49.190Z"
   },
   {
    "duration": 51,
    "start_time": "2023-05-11T15:44:49.436Z"
   },
   {
    "duration": 50,
    "start_time": "2023-05-11T15:44:49.490Z"
   },
   {
    "duration": 178,
    "start_time": "2023-05-11T15:44:49.548Z"
   },
   {
    "duration": 130,
    "start_time": "2023-05-11T15:44:49.732Z"
   },
   {
    "duration": 8,
    "start_time": "2023-05-11T20:50:16.014Z"
   },
   {
    "duration": 30,
    "start_time": "2023-05-11T20:58:13.434Z"
   },
   {
    "duration": 169,
    "start_time": "2023-05-11T20:58:22.981Z"
   },
   {
    "duration": 15,
    "start_time": "2023-05-11T20:58:23.152Z"
   },
   {
    "duration": 22,
    "start_time": "2023-05-11T20:58:23.169Z"
   },
   {
    "duration": 12,
    "start_time": "2023-05-11T20:58:23.193Z"
   },
   {
    "duration": 15,
    "start_time": "2023-05-11T20:58:23.207Z"
   },
   {
    "duration": 23,
    "start_time": "2023-05-11T20:58:23.224Z"
   },
   {
    "duration": 21,
    "start_time": "2023-05-11T20:58:23.248Z"
   },
   {
    "duration": 13,
    "start_time": "2023-05-11T20:58:23.271Z"
   },
   {
    "duration": 14,
    "start_time": "2023-05-11T20:58:23.286Z"
   },
   {
    "duration": 13,
    "start_time": "2023-05-11T20:58:23.302Z"
   },
   {
    "duration": 49,
    "start_time": "2023-05-11T20:58:23.317Z"
   },
   {
    "duration": 17,
    "start_time": "2023-05-11T20:58:23.368Z"
   },
   {
    "duration": 96,
    "start_time": "2023-05-11T20:58:23.386Z"
   },
   {
    "duration": 11,
    "start_time": "2023-05-11T20:58:23.485Z"
   },
   {
    "duration": 21,
    "start_time": "2023-05-11T20:58:23.497Z"
   },
   {
    "duration": 36,
    "start_time": "2023-05-11T20:58:23.520Z"
   },
   {
    "duration": 4,
    "start_time": "2023-05-11T20:58:23.558Z"
   },
   {
    "duration": 61,
    "start_time": "2023-05-11T20:58:23.563Z"
   },
   {
    "duration": 13,
    "start_time": "2023-05-11T20:58:23.626Z"
   },
   {
    "duration": 16,
    "start_time": "2023-05-11T20:58:23.640Z"
   },
   {
    "duration": 11,
    "start_time": "2023-05-11T20:58:23.658Z"
   },
   {
    "duration": 27,
    "start_time": "2023-05-11T20:58:23.671Z"
   },
   {
    "duration": 55,
    "start_time": "2023-05-11T20:58:23.700Z"
   },
   {
    "duration": 49,
    "start_time": "2023-05-11T20:58:23.757Z"
   },
   {
    "duration": 58,
    "start_time": "2023-05-11T20:58:23.808Z"
   },
   {
    "duration": 30,
    "start_time": "2023-05-11T21:05:48.338Z"
   },
   {
    "duration": 10,
    "start_time": "2023-05-11T21:09:20.606Z"
   },
   {
    "duration": 6,
    "start_time": "2023-05-11T21:09:39.271Z"
   },
   {
    "duration": 9,
    "start_time": "2023-05-11T21:11:57.715Z"
   },
   {
    "duration": 8,
    "start_time": "2023-05-11T21:16:37.285Z"
   },
   {
    "duration": 9,
    "start_time": "2023-05-11T21:17:31.635Z"
   },
   {
    "duration": 7,
    "start_time": "2023-05-11T21:27:47.118Z"
   },
   {
    "duration": 7,
    "start_time": "2023-05-11T21:29:04.975Z"
   },
   {
    "duration": 15,
    "start_time": "2023-05-11T21:29:05.633Z"
   },
   {
    "duration": 18,
    "start_time": "2023-05-11T21:29:05.986Z"
   },
   {
    "duration": 27,
    "start_time": "2023-05-11T21:29:07.724Z"
   },
   {
    "duration": 7,
    "start_time": "2023-05-11T21:29:08.699Z"
   },
   {
    "duration": 9,
    "start_time": "2023-05-11T21:29:09.515Z"
   },
   {
    "duration": 7,
    "start_time": "2023-05-11T21:29:10.283Z"
   },
   {
    "duration": 4,
    "start_time": "2023-05-11T21:30:42.618Z"
   },
   {
    "duration": 19,
    "start_time": "2023-05-11T21:32:53.871Z"
   },
   {
    "duration": 2,
    "start_time": "2023-05-11T21:36:53.817Z"
   },
   {
    "duration": 20,
    "start_time": "2023-05-11T21:37:13.275Z"
   },
   {
    "duration": 22,
    "start_time": "2023-05-11T21:39:05.501Z"
   },
   {
    "duration": 3,
    "start_time": "2023-05-11T21:39:42.269Z"
   },
   {
    "duration": 3,
    "start_time": "2023-05-11T21:40:58.490Z"
   },
   {
    "duration": 12,
    "start_time": "2023-05-11T21:41:00.291Z"
   },
   {
    "duration": 13,
    "start_time": "2023-05-11T21:41:00.668Z"
   },
   {
    "duration": 2,
    "start_time": "2023-05-11T21:41:05.972Z"
   },
   {
    "duration": 11,
    "start_time": "2023-05-11T21:43:46.095Z"
   },
   {
    "duration": 15,
    "start_time": "2023-05-11T21:44:27.694Z"
   },
   {
    "duration": 6,
    "start_time": "2023-05-11T21:48:15.673Z"
   },
   {
    "duration": 4,
    "start_time": "2023-05-11T21:49:14.335Z"
   },
   {
    "duration": 4,
    "start_time": "2023-05-11T21:49:41.719Z"
   },
   {
    "duration": 776,
    "start_time": "2023-05-11T22:27:06.747Z"
   },
   {
    "duration": 136,
    "start_time": "2023-05-11T22:27:54.369Z"
   },
   {
    "duration": 2770,
    "start_time": "2023-05-11T22:30:53.251Z"
   },
   {
    "duration": 135,
    "start_time": "2023-05-11T22:33:09.281Z"
   },
   {
    "duration": 142,
    "start_time": "2023-05-11T22:34:14.637Z"
   },
   {
    "duration": 18,
    "start_time": "2023-05-11T22:34:32.503Z"
   },
   {
    "duration": 153,
    "start_time": "2023-05-11T22:52:36.293Z"
   },
   {
    "duration": 4,
    "start_time": "2023-05-11T22:52:54.051Z"
   },
   {
    "duration": 139,
    "start_time": "2023-05-11T22:53:59.779Z"
   },
   {
    "duration": 364,
    "start_time": "2023-05-11T22:54:55.349Z"
   },
   {
    "duration": 137,
    "start_time": "2023-05-11T22:55:05.505Z"
   },
   {
    "duration": 5,
    "start_time": "2023-05-11T22:56:47.548Z"
   },
   {
    "duration": 139,
    "start_time": "2023-05-11T22:57:07.609Z"
   },
   {
    "duration": 18,
    "start_time": "2023-05-11T23:01:07.520Z"
   },
   {
    "duration": 11,
    "start_time": "2023-05-11T23:03:12.397Z"
   },
   {
    "duration": 11,
    "start_time": "2023-05-11T23:03:56.244Z"
   },
   {
    "duration": 10,
    "start_time": "2023-05-11T23:07:18.842Z"
   },
   {
    "duration": 11,
    "start_time": "2023-05-11T23:07:28.871Z"
   },
   {
    "duration": 11,
    "start_time": "2023-05-11T23:07:34.047Z"
   },
   {
    "duration": 12,
    "start_time": "2023-05-11T23:07:39.686Z"
   },
   {
    "duration": 15,
    "start_time": "2023-05-11T23:11:47.481Z"
   },
   {
    "duration": 4,
    "start_time": "2023-05-11T23:12:32.864Z"
   },
   {
    "duration": 9,
    "start_time": "2023-05-11T23:14:08.941Z"
   },
   {
    "duration": 151,
    "start_time": "2023-05-11T23:14:21.845Z"
   },
   {
    "duration": 138,
    "start_time": "2023-05-11T23:15:33.715Z"
   },
   {
    "duration": 152,
    "start_time": "2023-05-11T23:16:22.243Z"
   },
   {
    "duration": 146,
    "start_time": "2023-05-11T23:17:54.545Z"
   },
   {
    "duration": 9,
    "start_time": "2023-05-11T23:19:03.759Z"
   },
   {
    "duration": 431,
    "start_time": "2023-05-11T23:19:23.040Z"
   },
   {
    "duration": 360,
    "start_time": "2023-05-11T23:19:31.054Z"
   },
   {
    "duration": 28,
    "start_time": "2023-05-11T23:20:14.005Z"
   },
   {
    "duration": 388,
    "start_time": "2023-05-11T23:20:19.309Z"
   },
   {
    "duration": 144,
    "start_time": "2023-05-11T23:20:37.989Z"
   },
   {
    "duration": 230,
    "start_time": "2023-05-11T23:22:06.035Z"
   },
   {
    "duration": 356,
    "start_time": "2023-05-11T23:22:14.458Z"
   },
   {
    "duration": 132,
    "start_time": "2023-05-11T23:22:43.682Z"
   },
   {
    "duration": 140,
    "start_time": "2023-05-11T23:22:49.554Z"
   },
   {
    "duration": 168,
    "start_time": "2023-05-11T23:28:05.018Z"
   },
   {
    "duration": 140,
    "start_time": "2023-05-11T23:30:41.318Z"
   },
   {
    "duration": 137,
    "start_time": "2023-05-11T23:31:17.280Z"
   },
   {
    "duration": 150,
    "start_time": "2023-05-11T23:33:16.611Z"
   },
   {
    "duration": 135,
    "start_time": "2023-05-11T23:33:55.734Z"
   },
   {
    "duration": 128,
    "start_time": "2023-05-11T23:34:04.866Z"
   },
   {
    "duration": 144,
    "start_time": "2023-05-11T23:34:08.649Z"
   },
   {
    "duration": 15,
    "start_time": "2023-05-11T23:34:08.795Z"
   },
   {
    "duration": 47,
    "start_time": "2023-05-11T23:34:08.812Z"
   },
   {
    "duration": 50,
    "start_time": "2023-05-11T23:34:08.860Z"
   },
   {
    "duration": 46,
    "start_time": "2023-05-11T23:34:08.913Z"
   },
   {
    "duration": 47,
    "start_time": "2023-05-11T23:34:08.962Z"
   },
   {
    "duration": 23,
    "start_time": "2023-05-11T23:34:09.011Z"
   },
   {
    "duration": 19,
    "start_time": "2023-05-11T23:34:09.035Z"
   },
   {
    "duration": 26,
    "start_time": "2023-05-11T23:34:09.055Z"
   },
   {
    "duration": 14,
    "start_time": "2023-05-11T23:34:09.083Z"
   },
   {
    "duration": 48,
    "start_time": "2023-05-11T23:34:09.099Z"
   },
   {
    "duration": 15,
    "start_time": "2023-05-11T23:34:09.149Z"
   },
   {
    "duration": 161,
    "start_time": "2023-05-11T23:34:09.166Z"
   },
   {
    "duration": 16,
    "start_time": "2023-05-11T23:34:09.330Z"
   },
   {
    "duration": 22,
    "start_time": "2023-05-11T23:34:09.348Z"
   },
   {
    "duration": 36,
    "start_time": "2023-05-11T23:34:09.372Z"
   },
   {
    "duration": 5,
    "start_time": "2023-05-11T23:34:09.410Z"
   },
   {
    "duration": 39,
    "start_time": "2023-05-11T23:34:09.417Z"
   },
   {
    "duration": 21,
    "start_time": "2023-05-11T23:34:09.459Z"
   },
   {
    "duration": 10,
    "start_time": "2023-05-11T23:34:09.482Z"
   },
   {
    "duration": 31,
    "start_time": "2023-05-11T23:34:09.493Z"
   },
   {
    "duration": 39,
    "start_time": "2023-05-11T23:34:09.526Z"
   },
   {
    "duration": 47,
    "start_time": "2023-05-11T23:34:09.567Z"
   },
   {
    "duration": 51,
    "start_time": "2023-05-11T23:34:09.616Z"
   },
   {
    "duration": 53,
    "start_time": "2023-05-11T23:34:09.669Z"
   },
   {
    "duration": 6,
    "start_time": "2023-05-11T23:34:09.724Z"
   },
   {
    "duration": 45,
    "start_time": "2023-05-11T23:34:09.731Z"
   },
   {
    "duration": 28,
    "start_time": "2023-05-11T23:34:09.777Z"
   },
   {
    "duration": 14,
    "start_time": "2023-05-11T23:34:09.806Z"
   },
   {
    "duration": 25,
    "start_time": "2023-05-11T23:34:09.821Z"
   },
   {
    "duration": 34,
    "start_time": "2023-05-11T23:34:09.847Z"
   },
   {
    "duration": 24,
    "start_time": "2023-05-11T23:34:09.882Z"
   },
   {
    "duration": 14,
    "start_time": "2023-05-11T23:34:09.908Z"
   },
   {
    "duration": 27,
    "start_time": "2023-05-11T23:34:09.924Z"
   },
   {
    "duration": 17,
    "start_time": "2023-05-11T23:34:09.953Z"
   },
   {
    "duration": 29,
    "start_time": "2023-05-11T23:34:09.972Z"
   },
   {
    "duration": 31,
    "start_time": "2023-05-11T23:34:10.003Z"
   },
   {
    "duration": 142,
    "start_time": "2023-05-11T23:34:10.036Z"
   },
   {
    "duration": 15,
    "start_time": "2023-05-11T23:34:10.180Z"
   },
   {
    "duration": 155,
    "start_time": "2023-05-11T23:34:10.196Z"
   },
   {
    "duration": 4,
    "start_time": "2023-05-11T23:34:10.355Z"
   },
   {
    "duration": 18,
    "start_time": "2023-05-11T23:34:10.361Z"
   },
   {
    "duration": 169,
    "start_time": "2023-05-11T23:34:10.381Z"
   },
   {
    "duration": 363,
    "start_time": "2023-05-11T23:34:10.552Z"
   },
   {
    "duration": 160,
    "start_time": "2023-05-11T23:34:10.918Z"
   },
   {
    "duration": 143,
    "start_time": "2023-05-11T23:34:11.080Z"
   },
   {
    "duration": 9,
    "start_time": "2023-05-11T23:39:08.619Z"
   },
   {
    "duration": 12,
    "start_time": "2023-05-11T23:41:21.944Z"
   },
   {
    "duration": 866,
    "start_time": "2023-05-11T23:41:36.335Z"
   },
   {
    "duration": 923,
    "start_time": "2023-05-11T23:42:20.087Z"
   },
   {
    "duration": 148,
    "start_time": "2023-05-11T23:42:24.972Z"
   },
   {
    "duration": 17,
    "start_time": "2023-05-11T23:42:25.122Z"
   },
   {
    "duration": 28,
    "start_time": "2023-05-11T23:42:25.140Z"
   },
   {
    "duration": 10,
    "start_time": "2023-05-11T23:42:25.170Z"
   },
   {
    "duration": 21,
    "start_time": "2023-05-11T23:42:25.182Z"
   },
   {
    "duration": 17,
    "start_time": "2023-05-11T23:42:25.205Z"
   },
   {
    "duration": 23,
    "start_time": "2023-05-11T23:42:25.224Z"
   },
   {
    "duration": 11,
    "start_time": "2023-05-11T23:42:25.248Z"
   },
   {
    "duration": 32,
    "start_time": "2023-05-11T23:42:25.260Z"
   },
   {
    "duration": 26,
    "start_time": "2023-05-11T23:42:25.294Z"
   },
   {
    "duration": 30,
    "start_time": "2023-05-11T23:42:25.321Z"
   },
   {
    "duration": 16,
    "start_time": "2023-05-11T23:42:25.353Z"
   },
   {
    "duration": 83,
    "start_time": "2023-05-11T23:42:25.370Z"
   },
   {
    "duration": 11,
    "start_time": "2023-05-11T23:42:25.456Z"
   },
   {
    "duration": 31,
    "start_time": "2023-05-11T23:42:25.469Z"
   },
   {
    "duration": 48,
    "start_time": "2023-05-11T23:42:25.502Z"
   },
   {
    "duration": 5,
    "start_time": "2023-05-11T23:42:25.552Z"
   },
   {
    "duration": 32,
    "start_time": "2023-05-11T23:42:25.558Z"
   },
   {
    "duration": 9,
    "start_time": "2023-05-11T23:42:25.592Z"
   },
   {
    "duration": 6,
    "start_time": "2023-05-11T23:42:25.603Z"
   },
   {
    "duration": 20,
    "start_time": "2023-05-11T23:42:25.611Z"
   },
   {
    "duration": 19,
    "start_time": "2023-05-11T23:42:25.632Z"
   },
   {
    "duration": 28,
    "start_time": "2023-05-11T23:42:25.653Z"
   },
   {
    "duration": 33,
    "start_time": "2023-05-11T23:42:25.682Z"
   },
   {
    "duration": 33,
    "start_time": "2023-05-11T23:42:25.717Z"
   },
   {
    "duration": 5,
    "start_time": "2023-05-11T23:42:25.752Z"
   },
   {
    "duration": 14,
    "start_time": "2023-05-11T23:42:25.759Z"
   },
   {
    "duration": 8,
    "start_time": "2023-05-11T23:42:25.774Z"
   },
   {
    "duration": 9,
    "start_time": "2023-05-11T23:42:25.784Z"
   },
   {
    "duration": 11,
    "start_time": "2023-05-11T23:42:25.794Z"
   },
   {
    "duration": 102,
    "start_time": "2023-05-11T23:42:25.807Z"
   },
   {
    "duration": 21,
    "start_time": "2023-05-11T23:42:25.910Z"
   },
   {
    "duration": 18,
    "start_time": "2023-05-11T23:42:25.933Z"
   },
   {
    "duration": 21,
    "start_time": "2023-05-11T23:42:25.953Z"
   },
   {
    "duration": 28,
    "start_time": "2023-05-11T23:42:25.976Z"
   },
   {
    "duration": 12,
    "start_time": "2023-05-11T23:42:26.006Z"
   },
   {
    "duration": 33,
    "start_time": "2023-05-11T23:42:26.020Z"
   },
   {
    "duration": 144,
    "start_time": "2023-05-11T23:42:26.054Z"
   },
   {
    "duration": 15,
    "start_time": "2023-05-11T23:42:26.200Z"
   },
   {
    "duration": 163,
    "start_time": "2023-05-11T23:42:26.216Z"
   },
   {
    "duration": 4,
    "start_time": "2023-05-11T23:42:26.383Z"
   },
   {
    "duration": 26,
    "start_time": "2023-05-11T23:42:26.389Z"
   },
   {
    "duration": 156,
    "start_time": "2023-05-11T23:42:26.417Z"
   },
   {
    "duration": 375,
    "start_time": "2023-05-11T23:42:26.575Z"
   },
   {
    "duration": 161,
    "start_time": "2023-05-11T23:42:26.952Z"
   },
   {
    "duration": 148,
    "start_time": "2023-05-11T23:42:27.115Z"
   },
   {
    "duration": 358,
    "start_time": "2023-05-11T23:43:41.940Z"
   },
   {
    "duration": 236,
    "start_time": "2023-05-11T23:44:39.987Z"
   },
   {
    "duration": 140,
    "start_time": "2023-05-11T23:44:53.746Z"
   },
   {
    "duration": 10,
    "start_time": "2023-05-11T23:46:01.904Z"
   },
   {
    "duration": 24,
    "start_time": "2023-05-11T23:47:08.175Z"
   },
   {
    "duration": 857,
    "start_time": "2023-05-11T23:47:10.767Z"
   },
   {
    "duration": 786,
    "start_time": "2023-05-11T23:47:23.198Z"
   },
   {
    "duration": 139,
    "start_time": "2023-05-11T23:47:29.341Z"
   },
   {
    "duration": 15,
    "start_time": "2023-05-11T23:47:29.482Z"
   },
   {
    "duration": 16,
    "start_time": "2023-05-11T23:47:29.499Z"
   },
   {
    "duration": 9,
    "start_time": "2023-05-11T23:47:29.517Z"
   },
   {
    "duration": 18,
    "start_time": "2023-05-11T23:47:29.528Z"
   },
   {
    "duration": 107,
    "start_time": "2023-05-11T23:47:29.548Z"
   },
   {
    "duration": 17,
    "start_time": "2023-05-11T23:47:29.657Z"
   },
   {
    "duration": 10,
    "start_time": "2023-05-11T23:47:29.676Z"
   },
   {
    "duration": 22,
    "start_time": "2023-05-11T23:47:29.688Z"
   },
   {
    "duration": 10,
    "start_time": "2023-05-11T23:47:29.712Z"
   },
   {
    "duration": 49,
    "start_time": "2023-05-11T23:47:29.723Z"
   },
   {
    "duration": 16,
    "start_time": "2023-05-11T23:47:29.774Z"
   },
   {
    "duration": 93,
    "start_time": "2023-05-11T23:47:29.791Z"
   },
   {
    "duration": 12,
    "start_time": "2023-05-11T23:47:29.888Z"
   },
   {
    "duration": 22,
    "start_time": "2023-05-11T23:47:29.902Z"
   },
   {
    "duration": 33,
    "start_time": "2023-05-11T23:47:29.926Z"
   },
   {
    "duration": 5,
    "start_time": "2023-05-11T23:47:29.960Z"
   },
   {
    "duration": 29,
    "start_time": "2023-05-11T23:47:29.966Z"
   },
   {
    "duration": 9,
    "start_time": "2023-05-11T23:47:29.996Z"
   },
   {
    "duration": 19,
    "start_time": "2023-05-11T23:47:30.006Z"
   },
   {
    "duration": 33,
    "start_time": "2023-05-11T23:47:30.027Z"
   },
   {
    "duration": 57,
    "start_time": "2023-05-11T23:47:30.062Z"
   },
   {
    "duration": 68,
    "start_time": "2023-05-11T23:47:30.120Z"
   },
   {
    "duration": 70,
    "start_time": "2023-05-11T23:47:30.189Z"
   },
   {
    "duration": 76,
    "start_time": "2023-05-11T23:47:30.262Z"
   },
   {
    "duration": 34,
    "start_time": "2023-05-11T23:47:30.341Z"
   },
   {
    "duration": 52,
    "start_time": "2023-05-11T23:47:30.377Z"
   },
   {
    "duration": 43,
    "start_time": "2023-05-11T23:47:30.431Z"
   },
   {
    "duration": 42,
    "start_time": "2023-05-11T23:47:30.475Z"
   },
   {
    "duration": 48,
    "start_time": "2023-05-11T23:47:30.519Z"
   },
   {
    "duration": 72,
    "start_time": "2023-05-11T23:47:30.568Z"
   },
   {
    "duration": 48,
    "start_time": "2023-05-11T23:47:30.642Z"
   },
   {
    "duration": 43,
    "start_time": "2023-05-11T23:47:30.691Z"
   },
   {
    "duration": 59,
    "start_time": "2023-05-11T23:47:30.736Z"
   },
   {
    "duration": 59,
    "start_time": "2023-05-11T23:47:30.796Z"
   },
   {
    "duration": 28,
    "start_time": "2023-05-11T23:47:30.857Z"
   },
   {
    "duration": 37,
    "start_time": "2023-05-11T23:47:30.886Z"
   },
   {
    "duration": 155,
    "start_time": "2023-05-11T23:47:30.925Z"
   },
   {
    "duration": 14,
    "start_time": "2023-05-11T23:47:31.082Z"
   },
   {
    "duration": 187,
    "start_time": "2023-05-11T23:47:31.098Z"
   },
   {
    "duration": 4,
    "start_time": "2023-05-11T23:47:31.289Z"
   },
   {
    "duration": 52,
    "start_time": "2023-05-11T23:47:31.295Z"
   },
   {
    "duration": 162,
    "start_time": "2023-05-11T23:47:31.349Z"
   },
   {
    "duration": 391,
    "start_time": "2023-05-11T23:47:31.513Z"
   },
   {
    "duration": 263,
    "start_time": "2023-05-11T23:47:31.906Z"
   },
   {
    "duration": 22,
    "start_time": "2023-05-11T23:47:50.734Z"
   },
   {
    "duration": 244,
    "start_time": "2023-05-11T23:55:49.018Z"
   },
   {
    "duration": 2,
    "start_time": "2023-05-12T00:31:14.582Z"
   },
   {
    "duration": 32,
    "start_time": "2023-05-12T00:31:26.887Z"
   },
   {
    "duration": 129,
    "start_time": "2023-05-12T00:33:26.123Z"
   },
   {
    "duration": 134,
    "start_time": "2023-05-12T00:33:47.979Z"
   },
   {
    "duration": 236,
    "start_time": "2023-05-12T00:34:14.219Z"
   },
   {
    "duration": 126,
    "start_time": "2023-05-12T00:34:32.786Z"
   },
   {
    "duration": 216,
    "start_time": "2023-05-12T00:36:42.479Z"
   },
   {
    "duration": 7,
    "start_time": "2023-05-12T00:42:26.030Z"
   },
   {
    "duration": 7,
    "start_time": "2023-05-12T00:43:07.628Z"
   },
   {
    "duration": 6,
    "start_time": "2023-05-12T00:44:23.443Z"
   },
   {
    "duration": 740,
    "start_time": "2023-05-12T00:47:31.639Z"
   },
   {
    "duration": 134,
    "start_time": "2023-05-12T00:48:20.743Z"
   },
   {
    "duration": 118,
    "start_time": "2023-05-12T00:48:58.365Z"
   },
   {
    "duration": 128,
    "start_time": "2023-05-12T00:50:13.379Z"
   },
   {
    "duration": 4,
    "start_time": "2023-05-12T00:57:03.762Z"
   },
   {
    "duration": 754,
    "start_time": "2023-05-12T00:58:44.375Z"
   },
   {
    "duration": 148,
    "start_time": "2023-05-12T00:58:54.398Z"
   },
   {
    "duration": 15,
    "start_time": "2023-05-12T00:58:54.548Z"
   },
   {
    "duration": 16,
    "start_time": "2023-05-12T00:58:54.565Z"
   },
   {
    "duration": 37,
    "start_time": "2023-05-12T00:58:54.583Z"
   },
   {
    "duration": 36,
    "start_time": "2023-05-12T00:58:54.623Z"
   },
   {
    "duration": 25,
    "start_time": "2023-05-12T00:58:54.661Z"
   },
   {
    "duration": 45,
    "start_time": "2023-05-12T00:58:54.687Z"
   },
   {
    "duration": 20,
    "start_time": "2023-05-12T00:58:54.734Z"
   },
   {
    "duration": 23,
    "start_time": "2023-05-12T00:58:54.756Z"
   },
   {
    "duration": 11,
    "start_time": "2023-05-12T00:58:54.782Z"
   },
   {
    "duration": 35,
    "start_time": "2023-05-12T00:58:54.795Z"
   },
   {
    "duration": 22,
    "start_time": "2023-05-12T00:58:54.832Z"
   },
   {
    "duration": 110,
    "start_time": "2023-05-12T00:58:54.855Z"
   },
   {
    "duration": 11,
    "start_time": "2023-05-12T00:58:54.967Z"
   },
   {
    "duration": 33,
    "start_time": "2023-05-12T00:58:54.980Z"
   },
   {
    "duration": 51,
    "start_time": "2023-05-12T00:58:55.014Z"
   },
   {
    "duration": 15,
    "start_time": "2023-05-12T00:58:55.066Z"
   },
   {
    "duration": 45,
    "start_time": "2023-05-12T00:58:55.083Z"
   },
   {
    "duration": 15,
    "start_time": "2023-05-12T00:58:55.130Z"
   },
   {
    "duration": 31,
    "start_time": "2023-05-12T00:58:55.147Z"
   },
   {
    "duration": 23,
    "start_time": "2023-05-12T00:58:55.180Z"
   },
   {
    "duration": 18,
    "start_time": "2023-05-12T00:58:55.205Z"
   },
   {
    "duration": 30,
    "start_time": "2023-05-12T00:58:55.225Z"
   },
   {
    "duration": 25,
    "start_time": "2023-05-12T00:58:55.258Z"
   },
   {
    "duration": 42,
    "start_time": "2023-05-12T00:58:55.285Z"
   },
   {
    "duration": 6,
    "start_time": "2023-05-12T00:58:55.329Z"
   },
   {
    "duration": 22,
    "start_time": "2023-05-12T00:58:55.345Z"
   },
   {
    "duration": 18,
    "start_time": "2023-05-12T00:58:55.371Z"
   },
   {
    "duration": 32,
    "start_time": "2023-05-12T00:58:55.390Z"
   },
   {
    "duration": 34,
    "start_time": "2023-05-12T00:58:55.424Z"
   },
   {
    "duration": 45,
    "start_time": "2023-05-12T00:58:55.460Z"
   },
   {
    "duration": 31,
    "start_time": "2023-05-12T00:58:55.507Z"
   },
   {
    "duration": 44,
    "start_time": "2023-05-12T00:58:55.540Z"
   },
   {
    "duration": 22,
    "start_time": "2023-05-12T00:58:55.586Z"
   },
   {
    "duration": 14,
    "start_time": "2023-05-12T00:58:55.609Z"
   },
   {
    "duration": 15,
    "start_time": "2023-05-12T00:58:55.625Z"
   },
   {
    "duration": 23,
    "start_time": "2023-05-12T00:58:55.641Z"
   },
   {
    "duration": 135,
    "start_time": "2023-05-12T00:58:55.666Z"
   },
   {
    "duration": 15,
    "start_time": "2023-05-12T00:58:55.803Z"
   },
   {
    "duration": 155,
    "start_time": "2023-05-12T00:58:55.820Z"
   },
   {
    "duration": 4,
    "start_time": "2023-05-12T00:58:55.978Z"
   },
   {
    "duration": 29,
    "start_time": "2023-05-12T00:58:55.983Z"
   },
   {
    "duration": 234,
    "start_time": "2023-05-12T00:58:56.014Z"
   },
   {
    "duration": 359,
    "start_time": "2023-05-12T00:58:56.250Z"
   },
   {
    "duration": 259,
    "start_time": "2023-05-12T00:58:56.611Z"
   },
   {
    "duration": 36,
    "start_time": "2023-05-12T00:58:56.872Z"
   },
   {
    "duration": 8,
    "start_time": "2023-05-12T00:58:56.910Z"
   },
   {
    "duration": 704,
    "start_time": "2023-05-12T00:58:56.919Z"
   },
   {
    "duration": 4,
    "start_time": "2023-05-12T00:59:44.616Z"
   },
   {
    "duration": 4,
    "start_time": "2023-05-12T00:59:48.612Z"
   },
   {
    "duration": 852,
    "start_time": "2023-05-12T01:00:49.524Z"
   },
   {
    "duration": 8,
    "start_time": "2023-05-12T01:01:09.500Z"
   },
   {
    "duration": 7,
    "start_time": "2023-05-12T01:02:03.346Z"
   },
   {
    "duration": 5,
    "start_time": "2023-05-12T01:04:05.048Z"
   },
   {
    "duration": 11,
    "start_time": "2023-05-12T01:06:20.469Z"
   },
   {
    "duration": 8,
    "start_time": "2023-05-12T01:06:52.715Z"
   },
   {
    "duration": 146,
    "start_time": "2023-05-12T01:07:00.210Z"
   },
   {
    "duration": 15,
    "start_time": "2023-05-12T01:07:00.358Z"
   },
   {
    "duration": 76,
    "start_time": "2023-05-12T01:07:00.375Z"
   },
   {
    "duration": 43,
    "start_time": "2023-05-12T01:07:00.453Z"
   },
   {
    "duration": 61,
    "start_time": "2023-05-12T01:07:00.498Z"
   },
   {
    "duration": 51,
    "start_time": "2023-05-12T01:07:00.561Z"
   },
   {
    "duration": 71,
    "start_time": "2023-05-12T01:07:00.614Z"
   },
   {
    "duration": 65,
    "start_time": "2023-05-12T01:07:00.687Z"
   },
   {
    "duration": 38,
    "start_time": "2023-05-12T01:07:00.754Z"
   },
   {
    "duration": 72,
    "start_time": "2023-05-12T01:07:00.795Z"
   },
   {
    "duration": 66,
    "start_time": "2023-05-12T01:07:00.868Z"
   },
   {
    "duration": 28,
    "start_time": "2023-05-12T01:07:00.936Z"
   },
   {
    "duration": 135,
    "start_time": "2023-05-12T01:07:00.966Z"
   },
   {
    "duration": 11,
    "start_time": "2023-05-12T01:07:01.103Z"
   },
   {
    "duration": 131,
    "start_time": "2023-05-12T01:07:01.115Z"
   },
   {
    "duration": 83,
    "start_time": "2023-05-12T01:07:01.248Z"
   },
   {
    "duration": 11,
    "start_time": "2023-05-12T01:07:01.333Z"
   },
   {
    "duration": 77,
    "start_time": "2023-05-12T01:07:01.347Z"
   },
   {
    "duration": 41,
    "start_time": "2023-05-12T01:07:01.426Z"
   },
   {
    "duration": 94,
    "start_time": "2023-05-12T01:07:01.468Z"
   },
   {
    "duration": 62,
    "start_time": "2023-05-12T01:07:01.564Z"
   },
   {
    "duration": 93,
    "start_time": "2023-05-12T01:07:01.628Z"
   },
   {
    "duration": 63,
    "start_time": "2023-05-12T01:07:01.723Z"
   },
   {
    "duration": 44,
    "start_time": "2023-05-12T01:07:01.787Z"
   },
   {
    "duration": 81,
    "start_time": "2023-05-12T01:07:01.833Z"
   },
   {
    "duration": 38,
    "start_time": "2023-05-12T01:07:01.916Z"
   },
   {
    "duration": 37,
    "start_time": "2023-05-12T01:07:01.956Z"
   },
   {
    "duration": 16,
    "start_time": "2023-05-12T01:07:01.997Z"
   },
   {
    "duration": 43,
    "start_time": "2023-05-12T01:07:02.014Z"
   },
   {
    "duration": 71,
    "start_time": "2023-05-12T01:07:02.059Z"
   },
   {
    "duration": 34,
    "start_time": "2023-05-12T01:07:02.132Z"
   },
   {
    "duration": 31,
    "start_time": "2023-05-12T01:07:02.168Z"
   },
   {
    "duration": 38,
    "start_time": "2023-05-12T01:07:02.200Z"
   },
   {
    "duration": 52,
    "start_time": "2023-05-12T01:07:02.239Z"
   },
   {
    "duration": 45,
    "start_time": "2023-05-12T01:07:02.293Z"
   },
   {
    "duration": 21,
    "start_time": "2023-05-12T01:07:02.339Z"
   },
   {
    "duration": 23,
    "start_time": "2023-05-12T01:07:02.362Z"
   },
   {
    "duration": 168,
    "start_time": "2023-05-12T01:07:02.387Z"
   },
   {
    "duration": 18,
    "start_time": "2023-05-12T01:07:02.557Z"
   },
   {
    "duration": 153,
    "start_time": "2023-05-12T01:07:02.577Z"
   },
   {
    "duration": 5,
    "start_time": "2023-05-12T01:07:02.731Z"
   },
   {
    "duration": 29,
    "start_time": "2023-05-12T01:07:02.737Z"
   },
   {
    "duration": 147,
    "start_time": "2023-05-12T01:07:02.767Z"
   },
   {
    "duration": 376,
    "start_time": "2023-05-12T01:07:02.916Z"
   },
   {
    "duration": 322,
    "start_time": "2023-05-12T01:07:03.294Z"
   },
   {
    "duration": 40,
    "start_time": "2023-05-12T01:07:03.617Z"
   },
   {
    "duration": 7,
    "start_time": "2023-05-12T01:07:03.658Z"
   },
   {
    "duration": 28,
    "start_time": "2023-05-12T01:07:03.666Z"
   },
   {
    "duration": 9,
    "start_time": "2023-05-12T01:10:29.143Z"
   },
   {
    "duration": 6,
    "start_time": "2023-05-12T01:11:00.030Z"
   },
   {
    "duration": 160,
    "start_time": "2023-05-12T01:12:07.499Z"
   },
   {
    "duration": 16,
    "start_time": "2023-05-12T01:12:07.660Z"
   },
   {
    "duration": 33,
    "start_time": "2023-05-12T01:12:07.677Z"
   },
   {
    "duration": 57,
    "start_time": "2023-05-12T01:12:07.712Z"
   },
   {
    "duration": 42,
    "start_time": "2023-05-12T01:12:07.770Z"
   },
   {
    "duration": 51,
    "start_time": "2023-05-12T01:12:07.814Z"
   },
   {
    "duration": 54,
    "start_time": "2023-05-12T01:12:07.867Z"
   },
   {
    "duration": 26,
    "start_time": "2023-05-12T01:12:07.923Z"
   },
   {
    "duration": 55,
    "start_time": "2023-05-12T01:12:07.951Z"
   },
   {
    "duration": 23,
    "start_time": "2023-05-12T01:12:08.010Z"
   },
   {
    "duration": 51,
    "start_time": "2023-05-12T01:12:08.035Z"
   },
   {
    "duration": 39,
    "start_time": "2023-05-12T01:12:08.088Z"
   },
   {
    "duration": 105,
    "start_time": "2023-05-12T01:12:08.129Z"
   },
   {
    "duration": 12,
    "start_time": "2023-05-12T01:12:08.236Z"
   },
   {
    "duration": 44,
    "start_time": "2023-05-12T01:12:08.250Z"
   },
   {
    "duration": 68,
    "start_time": "2023-05-12T01:12:08.296Z"
   },
   {
    "duration": 16,
    "start_time": "2023-05-12T01:12:08.366Z"
   },
   {
    "duration": 60,
    "start_time": "2023-05-12T01:12:08.384Z"
   },
   {
    "duration": 18,
    "start_time": "2023-05-12T01:12:08.446Z"
   },
   {
    "duration": 23,
    "start_time": "2023-05-12T01:12:08.466Z"
   },
   {
    "duration": 18,
    "start_time": "2023-05-12T01:12:08.491Z"
   },
   {
    "duration": 45,
    "start_time": "2023-05-12T01:12:08.511Z"
   },
   {
    "duration": 39,
    "start_time": "2023-05-12T01:12:08.558Z"
   },
   {
    "duration": 42,
    "start_time": "2023-05-12T01:12:08.599Z"
   },
   {
    "duration": 44,
    "start_time": "2023-05-12T01:12:08.643Z"
   },
   {
    "duration": 12,
    "start_time": "2023-05-12T01:12:08.689Z"
   },
   {
    "duration": 47,
    "start_time": "2023-05-12T01:12:08.703Z"
   },
   {
    "duration": 40,
    "start_time": "2023-05-12T01:12:08.754Z"
   },
   {
    "duration": 40,
    "start_time": "2023-05-12T01:12:08.796Z"
   },
   {
    "duration": 74,
    "start_time": "2023-05-12T01:12:08.838Z"
   },
   {
    "duration": 30,
    "start_time": "2023-05-12T01:12:08.913Z"
   },
   {
    "duration": 35,
    "start_time": "2023-05-12T01:12:08.945Z"
   },
   {
    "duration": 19,
    "start_time": "2023-05-12T01:12:08.982Z"
   },
   {
    "duration": 30,
    "start_time": "2023-05-12T01:12:09.003Z"
   },
   {
    "duration": 24,
    "start_time": "2023-05-12T01:12:09.035Z"
   },
   {
    "duration": 29,
    "start_time": "2023-05-12T01:12:09.061Z"
   },
   {
    "duration": 24,
    "start_time": "2023-05-12T01:12:09.092Z"
   },
   {
    "duration": 154,
    "start_time": "2023-05-12T01:12:09.118Z"
   },
   {
    "duration": 16,
    "start_time": "2023-05-12T01:12:09.273Z"
   },
   {
    "duration": 158,
    "start_time": "2023-05-12T01:12:09.291Z"
   },
   {
    "duration": 4,
    "start_time": "2023-05-12T01:12:09.451Z"
   },
   {
    "duration": 23,
    "start_time": "2023-05-12T01:12:09.457Z"
   },
   {
    "duration": 160,
    "start_time": "2023-05-12T01:12:09.482Z"
   },
   {
    "duration": 355,
    "start_time": "2023-05-12T01:12:09.644Z"
   },
   {
    "duration": 248,
    "start_time": "2023-05-12T01:12:10.001Z"
   },
   {
    "duration": 32,
    "start_time": "2023-05-12T01:12:10.251Z"
   },
   {
    "duration": 6,
    "start_time": "2023-05-12T01:12:10.285Z"
   },
   {
    "duration": 21,
    "start_time": "2023-05-12T01:12:10.293Z"
   },
   {
    "duration": 6,
    "start_time": "2023-05-12T01:15:12.960Z"
   },
   {
    "duration": 7,
    "start_time": "2023-05-12T01:15:53.140Z"
   },
   {
    "duration": 191,
    "start_time": "2023-05-12T01:16:01.621Z"
   },
   {
    "duration": 16,
    "start_time": "2023-05-12T01:16:01.814Z"
   },
   {
    "duration": 38,
    "start_time": "2023-05-12T01:16:01.832Z"
   },
   {
    "duration": 70,
    "start_time": "2023-05-12T01:16:01.872Z"
   },
   {
    "duration": 40,
    "start_time": "2023-05-12T01:16:01.943Z"
   },
   {
    "duration": 47,
    "start_time": "2023-05-12T01:16:01.985Z"
   },
   {
    "duration": 53,
    "start_time": "2023-05-12T01:16:02.034Z"
   },
   {
    "duration": 82,
    "start_time": "2023-05-12T01:16:02.089Z"
   },
   {
    "duration": 46,
    "start_time": "2023-05-12T01:16:02.173Z"
   },
   {
    "duration": 37,
    "start_time": "2023-05-12T01:16:02.222Z"
   },
   {
    "duration": 56,
    "start_time": "2023-05-12T01:16:02.261Z"
   },
   {
    "duration": 16,
    "start_time": "2023-05-12T01:16:02.319Z"
   },
   {
    "duration": 164,
    "start_time": "2023-05-12T01:16:02.337Z"
   },
   {
    "duration": 16,
    "start_time": "2023-05-12T01:16:02.503Z"
   },
   {
    "duration": 36,
    "start_time": "2023-05-12T01:16:02.520Z"
   },
   {
    "duration": 69,
    "start_time": "2023-05-12T01:16:02.558Z"
   },
   {
    "duration": 4,
    "start_time": "2023-05-12T01:16:02.629Z"
   },
   {
    "duration": 36,
    "start_time": "2023-05-12T01:16:02.635Z"
   },
   {
    "duration": 15,
    "start_time": "2023-05-12T01:16:02.673Z"
   },
   {
    "duration": 13,
    "start_time": "2023-05-12T01:16:02.690Z"
   },
   {
    "duration": 20,
    "start_time": "2023-05-12T01:16:02.705Z"
   },
   {
    "duration": 34,
    "start_time": "2023-05-12T01:16:02.726Z"
   },
   {
    "duration": 45,
    "start_time": "2023-05-12T01:16:02.762Z"
   },
   {
    "duration": 31,
    "start_time": "2023-05-12T01:16:02.809Z"
   },
   {
    "duration": 48,
    "start_time": "2023-05-12T01:16:02.842Z"
   },
   {
    "duration": 9,
    "start_time": "2023-05-12T01:16:02.892Z"
   },
   {
    "duration": 20,
    "start_time": "2023-05-12T01:16:02.903Z"
   },
   {
    "duration": 16,
    "start_time": "2023-05-12T01:16:02.927Z"
   },
   {
    "duration": 17,
    "start_time": "2023-05-12T01:16:02.945Z"
   },
   {
    "duration": 17,
    "start_time": "2023-05-12T01:16:02.964Z"
   },
   {
    "duration": 47,
    "start_time": "2023-05-12T01:16:02.983Z"
   },
   {
    "duration": 43,
    "start_time": "2023-05-12T01:16:03.032Z"
   },
   {
    "duration": 36,
    "start_time": "2023-05-12T01:16:03.078Z"
   },
   {
    "duration": 35,
    "start_time": "2023-05-12T01:16:03.116Z"
   },
   {
    "duration": 31,
    "start_time": "2023-05-12T01:16:03.153Z"
   },
   {
    "duration": 33,
    "start_time": "2023-05-12T01:16:03.186Z"
   },
   {
    "duration": 26,
    "start_time": "2023-05-12T01:16:03.221Z"
   },
   {
    "duration": 149,
    "start_time": "2023-05-12T01:16:03.249Z"
   },
   {
    "duration": 14,
    "start_time": "2023-05-12T01:16:03.400Z"
   },
   {
    "duration": 159,
    "start_time": "2023-05-12T01:16:03.416Z"
   },
   {
    "duration": 5,
    "start_time": "2023-05-12T01:16:03.576Z"
   },
   {
    "duration": 35,
    "start_time": "2023-05-12T01:16:03.582Z"
   },
   {
    "duration": 141,
    "start_time": "2023-05-12T01:16:03.618Z"
   },
   {
    "duration": 325,
    "start_time": "2023-05-12T01:16:03.761Z"
   },
   {
    "duration": 233,
    "start_time": "2023-05-12T01:16:04.088Z"
   },
   {
    "duration": 39,
    "start_time": "2023-05-12T01:16:04.322Z"
   },
   {
    "duration": 7,
    "start_time": "2023-05-12T01:16:04.362Z"
   },
   {
    "duration": 10,
    "start_time": "2023-05-12T01:16:04.371Z"
   },
   {
    "duration": 7,
    "start_time": "2023-05-12T01:17:18.043Z"
   },
   {
    "duration": 7,
    "start_time": "2023-05-12T01:17:52.851Z"
   },
   {
    "duration": 5,
    "start_time": "2023-05-12T01:23:05.203Z"
   },
   {
    "duration": 4,
    "start_time": "2023-05-12T01:23:12.483Z"
   },
   {
    "duration": 4,
    "start_time": "2023-05-12T01:23:19.795Z"
   },
   {
    "duration": 10,
    "start_time": "2023-05-12T01:23:45.274Z"
   },
   {
    "duration": 9,
    "start_time": "2023-05-12T01:28:04.148Z"
   },
   {
    "duration": 152,
    "start_time": "2023-05-12T01:46:13.690Z"
   },
   {
    "duration": 17,
    "start_time": "2023-05-12T01:46:13.844Z"
   },
   {
    "duration": 18,
    "start_time": "2023-05-12T01:46:13.862Z"
   },
   {
    "duration": 22,
    "start_time": "2023-05-12T01:46:13.882Z"
   },
   {
    "duration": 24,
    "start_time": "2023-05-12T01:46:13.905Z"
   },
   {
    "duration": 19,
    "start_time": "2023-05-12T01:46:13.931Z"
   },
   {
    "duration": 25,
    "start_time": "2023-05-12T01:46:13.951Z"
   },
   {
    "duration": 10,
    "start_time": "2023-05-12T01:46:13.978Z"
   },
   {
    "duration": 19,
    "start_time": "2023-05-12T01:46:13.990Z"
   },
   {
    "duration": 11,
    "start_time": "2023-05-12T01:46:14.012Z"
   },
   {
    "duration": 40,
    "start_time": "2023-05-12T01:46:14.024Z"
   },
   {
    "duration": 19,
    "start_time": "2023-05-12T01:46:14.065Z"
   },
   {
    "duration": 89,
    "start_time": "2023-05-12T01:46:14.086Z"
   },
   {
    "duration": 11,
    "start_time": "2023-05-12T01:46:14.176Z"
   },
   {
    "duration": 28,
    "start_time": "2023-05-12T01:46:14.189Z"
   },
   {
    "duration": 55,
    "start_time": "2023-05-12T01:46:14.218Z"
   },
   {
    "duration": 12,
    "start_time": "2023-05-12T01:46:14.274Z"
   },
   {
    "duration": 44,
    "start_time": "2023-05-12T01:46:14.287Z"
   },
   {
    "duration": 24,
    "start_time": "2023-05-12T01:46:14.333Z"
   },
   {
    "duration": 18,
    "start_time": "2023-05-12T01:46:14.358Z"
   },
   {
    "duration": 29,
    "start_time": "2023-05-12T01:46:14.378Z"
   },
   {
    "duration": 34,
    "start_time": "2023-05-12T01:46:14.409Z"
   },
   {
    "duration": 49,
    "start_time": "2023-05-12T01:46:14.445Z"
   },
   {
    "duration": 39,
    "start_time": "2023-05-12T01:46:14.496Z"
   },
   {
    "duration": 51,
    "start_time": "2023-05-12T01:46:14.536Z"
   },
   {
    "duration": 20,
    "start_time": "2023-05-12T01:46:14.589Z"
   },
   {
    "duration": 37,
    "start_time": "2023-05-12T01:46:14.611Z"
   },
   {
    "duration": 24,
    "start_time": "2023-05-12T01:46:14.651Z"
   },
   {
    "duration": 11,
    "start_time": "2023-05-12T01:46:14.677Z"
   },
   {
    "duration": 16,
    "start_time": "2023-05-12T01:46:14.690Z"
   },
   {
    "duration": 45,
    "start_time": "2023-05-12T01:46:14.708Z"
   },
   {
    "duration": 126,
    "start_time": "2023-05-12T01:46:14.755Z"
   },
   {
    "duration": 24,
    "start_time": "2023-05-12T01:46:14.883Z"
   },
   {
    "duration": 29,
    "start_time": "2023-05-12T01:46:14.909Z"
   },
   {
    "duration": 24,
    "start_time": "2023-05-12T01:46:14.940Z"
   },
   {
    "duration": 27,
    "start_time": "2023-05-12T01:46:14.966Z"
   },
   {
    "duration": 36,
    "start_time": "2023-05-12T01:46:14.995Z"
   },
   {
    "duration": 176,
    "start_time": "2023-05-12T01:46:15.032Z"
   },
   {
    "duration": 14,
    "start_time": "2023-05-12T01:46:15.210Z"
   },
   {
    "duration": 148,
    "start_time": "2023-05-12T01:46:15.225Z"
   },
   {
    "duration": 4,
    "start_time": "2023-05-12T01:46:15.375Z"
   },
   {
    "duration": 24,
    "start_time": "2023-05-12T01:46:15.381Z"
   },
   {
    "duration": 154,
    "start_time": "2023-05-12T01:46:15.407Z"
   },
   {
    "duration": 329,
    "start_time": "2023-05-12T01:46:15.563Z"
   },
   {
    "duration": 236,
    "start_time": "2023-05-12T01:46:15.893Z"
   },
   {
    "duration": 38,
    "start_time": "2023-05-12T01:46:16.131Z"
   },
   {
    "duration": 6,
    "start_time": "2023-05-12T01:46:16.171Z"
   },
   {
    "duration": 17,
    "start_time": "2023-05-12T01:46:16.179Z"
   },
   {
    "duration": 0,
    "start_time": "2023-05-12T01:46:16.197Z"
   },
   {
    "duration": 0,
    "start_time": "2023-05-12T01:46:16.199Z"
   },
   {
    "duration": 775,
    "start_time": "2023-05-12T01:46:26.945Z"
   },
   {
    "duration": 731,
    "start_time": "2023-05-12T01:47:43.689Z"
   },
   {
    "duration": 5,
    "start_time": "2023-05-12T01:48:12.855Z"
   },
   {
    "duration": 5,
    "start_time": "2023-05-12T01:48:17.686Z"
   },
   {
    "duration": 9,
    "start_time": "2023-05-12T01:49:42.816Z"
   },
   {
    "duration": 7,
    "start_time": "2023-05-12T01:50:03.769Z"
   },
   {
    "duration": 17,
    "start_time": "2023-05-12T01:53:33.807Z"
   },
   {
    "duration": 5,
    "start_time": "2023-05-12T01:55:54.660Z"
   },
   {
    "duration": 4,
    "start_time": "2023-05-12T01:55:59.540Z"
   },
   {
    "duration": 6,
    "start_time": "2023-05-12T01:57:19.522Z"
   },
   {
    "duration": 5,
    "start_time": "2023-05-12T01:57:25.313Z"
   },
   {
    "duration": 6,
    "start_time": "2023-05-12T01:57:27.401Z"
   },
   {
    "duration": 4,
    "start_time": "2023-05-12T01:57:46.873Z"
   },
   {
    "duration": 7,
    "start_time": "2023-05-12T01:59:16.071Z"
   },
   {
    "duration": 7,
    "start_time": "2023-05-12T01:59:49.912Z"
   },
   {
    "duration": 20,
    "start_time": "2023-05-12T02:01:00.253Z"
   },
   {
    "duration": 7,
    "start_time": "2023-05-12T02:01:09.436Z"
   },
   {
    "duration": 7,
    "start_time": "2023-05-12T02:03:22.840Z"
   },
   {
    "duration": 8,
    "start_time": "2023-05-12T02:03:30.697Z"
   },
   {
    "duration": 11,
    "start_time": "2023-05-12T02:04:23.760Z"
   },
   {
    "duration": 185,
    "start_time": "2023-05-12T02:04:51.271Z"
   },
   {
    "duration": 148,
    "start_time": "2023-05-12T02:05:45.469Z"
   },
   {
    "duration": 260,
    "start_time": "2023-05-12T02:05:52.725Z"
   },
   {
    "duration": 391,
    "start_time": "2023-05-12T02:08:34.529Z"
   },
   {
    "duration": 12,
    "start_time": "2023-05-12T02:14:31.978Z"
   },
   {
    "duration": 11,
    "start_time": "2023-05-12T02:15:03.393Z"
   },
   {
    "duration": 7,
    "start_time": "2023-05-12T02:16:06.047Z"
   },
   {
    "duration": 229,
    "start_time": "2023-05-12T02:17:32.470Z"
   },
   {
    "duration": 12,
    "start_time": "2023-05-12T02:21:34.447Z"
   },
   {
    "duration": 199,
    "start_time": "2023-05-12T02:22:07.536Z"
   },
   {
    "duration": 204,
    "start_time": "2023-05-12T02:23:55.047Z"
   },
   {
    "duration": 10,
    "start_time": "2023-05-12T02:26:32.327Z"
   },
   {
    "duration": 10,
    "start_time": "2023-05-12T02:26:59.703Z"
   },
   {
    "duration": 10,
    "start_time": "2023-05-12T02:28:52.005Z"
   },
   {
    "duration": 0,
    "start_time": "2023-05-12T02:36:46.153Z"
   },
   {
    "duration": 0,
    "start_time": "2023-05-12T02:36:46.154Z"
   },
   {
    "duration": 0,
    "start_time": "2023-05-12T02:36:46.156Z"
   },
   {
    "duration": 0,
    "start_time": "2023-05-12T02:36:46.157Z"
   },
   {
    "duration": 0,
    "start_time": "2023-05-12T02:36:46.158Z"
   },
   {
    "duration": 0,
    "start_time": "2023-05-12T02:36:46.159Z"
   },
   {
    "duration": 0,
    "start_time": "2023-05-12T02:36:46.159Z"
   },
   {
    "duration": 0,
    "start_time": "2023-05-12T02:36:46.161Z"
   },
   {
    "duration": 0,
    "start_time": "2023-05-12T02:36:46.162Z"
   },
   {
    "duration": 0,
    "start_time": "2023-05-12T02:36:46.163Z"
   },
   {
    "duration": 0,
    "start_time": "2023-05-12T02:36:46.164Z"
   },
   {
    "duration": 0,
    "start_time": "2023-05-12T02:36:46.165Z"
   },
   {
    "duration": 0,
    "start_time": "2023-05-12T02:36:46.166Z"
   },
   {
    "duration": 0,
    "start_time": "2023-05-12T02:36:46.167Z"
   },
   {
    "duration": 0,
    "start_time": "2023-05-12T02:36:46.168Z"
   },
   {
    "duration": 0,
    "start_time": "2023-05-12T02:36:46.169Z"
   },
   {
    "duration": 0,
    "start_time": "2023-05-12T02:36:46.170Z"
   },
   {
    "duration": 0,
    "start_time": "2023-05-12T02:36:46.171Z"
   },
   {
    "duration": 0,
    "start_time": "2023-05-12T02:36:46.172Z"
   },
   {
    "duration": 0,
    "start_time": "2023-05-12T02:36:46.173Z"
   },
   {
    "duration": 0,
    "start_time": "2023-05-12T02:36:46.174Z"
   },
   {
    "duration": 0,
    "start_time": "2023-05-12T02:36:46.175Z"
   },
   {
    "duration": 0,
    "start_time": "2023-05-12T02:36:46.176Z"
   },
   {
    "duration": 0,
    "start_time": "2023-05-12T02:36:46.177Z"
   },
   {
    "duration": 0,
    "start_time": "2023-05-12T02:36:46.178Z"
   },
   {
    "duration": 0,
    "start_time": "2023-05-12T02:36:46.179Z"
   },
   {
    "duration": 0,
    "start_time": "2023-05-12T02:36:46.180Z"
   },
   {
    "duration": 0,
    "start_time": "2023-05-12T02:36:46.181Z"
   },
   {
    "duration": 0,
    "start_time": "2023-05-12T02:36:46.182Z"
   },
   {
    "duration": 0,
    "start_time": "2023-05-12T02:36:46.246Z"
   },
   {
    "duration": 0,
    "start_time": "2023-05-12T02:36:46.248Z"
   },
   {
    "duration": 0,
    "start_time": "2023-05-12T02:36:46.248Z"
   },
   {
    "duration": 0,
    "start_time": "2023-05-12T02:36:46.250Z"
   },
   {
    "duration": 0,
    "start_time": "2023-05-12T02:36:46.251Z"
   },
   {
    "duration": 0,
    "start_time": "2023-05-12T02:36:46.252Z"
   },
   {
    "duration": 0,
    "start_time": "2023-05-12T02:36:46.253Z"
   },
   {
    "duration": 0,
    "start_time": "2023-05-12T02:36:46.254Z"
   },
   {
    "duration": 0,
    "start_time": "2023-05-12T02:36:46.256Z"
   },
   {
    "duration": 0,
    "start_time": "2023-05-12T02:36:46.256Z"
   },
   {
    "duration": 0,
    "start_time": "2023-05-12T02:36:46.257Z"
   },
   {
    "duration": 0,
    "start_time": "2023-05-12T02:36:46.258Z"
   },
   {
    "duration": 0,
    "start_time": "2023-05-12T02:36:46.260Z"
   },
   {
    "duration": 0,
    "start_time": "2023-05-12T02:36:46.261Z"
   },
   {
    "duration": 0,
    "start_time": "2023-05-12T02:36:46.262Z"
   },
   {
    "duration": 0,
    "start_time": "2023-05-12T02:36:46.263Z"
   },
   {
    "duration": 0,
    "start_time": "2023-05-12T02:36:46.264Z"
   },
   {
    "duration": 0,
    "start_time": "2023-05-12T02:36:46.265Z"
   },
   {
    "duration": 0,
    "start_time": "2023-05-12T02:36:46.266Z"
   },
   {
    "duration": 0,
    "start_time": "2023-05-12T02:36:46.267Z"
   },
   {
    "duration": 0,
    "start_time": "2023-05-12T02:36:46.268Z"
   },
   {
    "duration": 0,
    "start_time": "2023-05-12T02:36:46.270Z"
   },
   {
    "duration": 0,
    "start_time": "2023-05-12T02:36:46.270Z"
   },
   {
    "duration": 0,
    "start_time": "2023-05-12T02:36:46.272Z"
   },
   {
    "duration": 0,
    "start_time": "2023-05-12T02:36:46.273Z"
   },
   {
    "duration": 143,
    "start_time": "2023-05-12T02:37:09.800Z"
   },
   {
    "duration": 17,
    "start_time": "2023-05-12T02:37:10.936Z"
   },
   {
    "duration": 9,
    "start_time": "2023-05-12T02:37:13.832Z"
   },
   {
    "duration": 4,
    "start_time": "2023-05-12T02:37:15.160Z"
   },
   {
    "duration": 17,
    "start_time": "2023-05-12T02:37:16.296Z"
   },
   {
    "duration": 16,
    "start_time": "2023-05-12T02:37:18.200Z"
   },
   {
    "duration": 16,
    "start_time": "2023-05-12T02:37:21.496Z"
   },
   {
    "duration": 11,
    "start_time": "2023-05-12T02:37:23.408Z"
   },
   {
    "duration": 16,
    "start_time": "2023-05-12T02:37:24.568Z"
   },
   {
    "duration": 13,
    "start_time": "2023-05-12T02:37:28.528Z"
   },
   {
    "duration": 27,
    "start_time": "2023-05-12T02:37:33.216Z"
   },
   {
    "duration": 15,
    "start_time": "2023-05-12T02:37:35.656Z"
   },
   {
    "duration": 72,
    "start_time": "2023-05-12T02:37:38.871Z"
   },
   {
    "duration": 14,
    "start_time": "2023-05-12T02:37:41.839Z"
   },
   {
    "duration": 10,
    "start_time": "2023-05-12T02:37:43.775Z"
   },
   {
    "duration": 27,
    "start_time": "2023-05-12T02:37:47.639Z"
   },
   {
    "duration": 5,
    "start_time": "2023-05-12T02:37:48.791Z"
   },
   {
    "duration": 20,
    "start_time": "2023-05-12T02:37:50.519Z"
   },
   {
    "duration": 10,
    "start_time": "2023-05-12T02:37:51.823Z"
   },
   {
    "duration": 7,
    "start_time": "2023-05-12T02:37:54.519Z"
   },
   {
    "duration": 4,
    "start_time": "2023-05-12T02:37:55.095Z"
   },
   {
    "duration": 7,
    "start_time": "2023-05-12T02:37:57.127Z"
   },
   {
    "duration": 25,
    "start_time": "2023-05-12T02:37:58.735Z"
   },
   {
    "duration": 19,
    "start_time": "2023-05-12T02:37:59.175Z"
   },
   {
    "duration": 26,
    "start_time": "2023-05-12T02:38:00.928Z"
   },
   {
    "duration": 7,
    "start_time": "2023-05-12T02:38:02.079Z"
   },
   {
    "duration": 8,
    "start_time": "2023-05-12T02:38:03.583Z"
   },
   {
    "duration": 7,
    "start_time": "2023-05-12T02:38:04.471Z"
   },
   {
    "duration": 4,
    "start_time": "2023-05-12T02:38:06.958Z"
   },
   {
    "duration": 3,
    "start_time": "2023-05-12T02:38:07.919Z"
   },
   {
    "duration": 12,
    "start_time": "2023-05-12T02:38:09.479Z"
   },
   {
    "duration": 13,
    "start_time": "2023-05-12T02:38:10.535Z"
   },
   {
    "duration": 12,
    "start_time": "2023-05-12T02:38:11.111Z"
   },
   {
    "duration": 26,
    "start_time": "2023-05-12T02:38:12.447Z"
   },
   {
    "duration": 7,
    "start_time": "2023-05-12T02:38:13.175Z"
   },
   {
    "duration": 4,
    "start_time": "2023-05-12T02:38:14.055Z"
   },
   {
    "duration": 3,
    "start_time": "2023-05-12T02:38:14.615Z"
   },
   {
    "duration": 166,
    "start_time": "2023-05-12T02:38:18.382Z"
   },
   {
    "duration": 15,
    "start_time": "2023-05-12T02:38:19.359Z"
   },
   {
    "duration": 173,
    "start_time": "2023-05-12T02:38:21.694Z"
   },
   {
    "duration": 4,
    "start_time": "2023-05-12T02:38:22.558Z"
   },
   {
    "duration": 11,
    "start_time": "2023-05-12T02:38:24.469Z"
   },
   {
    "duration": 160,
    "start_time": "2023-05-12T02:38:26.647Z"
   },
   {
    "duration": 308,
    "start_time": "2023-05-12T02:38:27.679Z"
   },
   {
    "duration": 321,
    "start_time": "2023-05-12T02:38:28.303Z"
   },
   {
    "duration": 43,
    "start_time": "2023-05-12T02:38:31.142Z"
   },
   {
    "duration": 7,
    "start_time": "2023-05-12T02:38:32.591Z"
   },
   {
    "duration": 17,
    "start_time": "2023-05-12T02:38:34.302Z"
   },
   {
    "duration": 7,
    "start_time": "2023-05-12T02:38:35.622Z"
   },
   {
    "duration": 6,
    "start_time": "2023-05-12T02:38:37.326Z"
   },
   {
    "duration": 297,
    "start_time": "2023-05-12T02:38:38.518Z"
   },
   {
    "duration": 222,
    "start_time": "2023-05-12T02:38:40.302Z"
   },
   {
    "duration": 188,
    "start_time": "2023-05-12T02:38:41.566Z"
   },
   {
    "duration": 86179,
    "start_time": "2023-05-12T02:38:43.239Z"
   },
   {
    "duration": 238,
    "start_time": "2023-05-12T02:40:55.892Z"
   },
   {
    "duration": 250,
    "start_time": "2023-05-12T02:42:03.018Z"
   },
   {
    "duration": 12,
    "start_time": "2023-05-12T02:45:56.516Z"
   },
   {
    "duration": 20,
    "start_time": "2023-05-12T02:46:42.155Z"
   },
   {
    "duration": 47,
    "start_time": "2023-05-12T02:47:21.609Z"
   },
   {
    "duration": 15,
    "start_time": "2023-05-12T02:48:32.816Z"
   },
   {
    "duration": 40,
    "start_time": "2023-05-12T02:49:42.775Z"
   },
   {
    "duration": 5,
    "start_time": "2023-05-12T03:22:00.647Z"
   },
   {
    "duration": 50,
    "start_time": "2023-05-14T08:30:41.333Z"
   },
   {
    "duration": 1685,
    "start_time": "2023-05-14T08:30:48.818Z"
   },
   {
    "duration": 22,
    "start_time": "2023-05-14T08:30:50.506Z"
   },
   {
    "duration": 12,
    "start_time": "2023-05-14T08:30:50.530Z"
   },
   {
    "duration": 27,
    "start_time": "2023-05-14T08:30:50.543Z"
   },
   {
    "duration": 24,
    "start_time": "2023-05-14T08:30:50.573Z"
   },
   {
    "duration": 34,
    "start_time": "2023-05-14T08:30:50.599Z"
   },
   {
    "duration": 25,
    "start_time": "2023-05-14T08:30:50.635Z"
   },
   {
    "duration": 11,
    "start_time": "2023-05-14T08:30:50.662Z"
   },
   {
    "duration": 29,
    "start_time": "2023-05-14T08:30:50.674Z"
   },
   {
    "duration": 7,
    "start_time": "2023-05-14T08:30:50.705Z"
   },
   {
    "duration": 29,
    "start_time": "2023-05-14T08:30:50.713Z"
   },
   {
    "duration": 26,
    "start_time": "2023-05-14T08:30:50.744Z"
   },
   {
    "duration": 24,
    "start_time": "2023-05-14T08:30:50.772Z"
   },
   {
    "duration": 98,
    "start_time": "2023-05-14T08:30:50.800Z"
   },
   {
    "duration": 27,
    "start_time": "2023-05-14T08:30:50.901Z"
   },
   {
    "duration": 21,
    "start_time": "2023-05-14T08:30:50.930Z"
   },
   {
    "duration": 28,
    "start_time": "2023-05-14T08:30:50.953Z"
   },
   {
    "duration": 5,
    "start_time": "2023-05-14T08:30:50.982Z"
   },
   {
    "duration": 19,
    "start_time": "2023-05-14T08:30:50.989Z"
   },
   {
    "duration": 23,
    "start_time": "2023-05-14T08:30:51.010Z"
   },
   {
    "duration": 7,
    "start_time": "2023-05-14T08:30:51.034Z"
   },
   {
    "duration": 10,
    "start_time": "2023-05-14T08:30:51.042Z"
   },
   {
    "duration": 11,
    "start_time": "2023-05-14T08:30:51.054Z"
   },
   {
    "duration": 34,
    "start_time": "2023-05-14T08:30:51.067Z"
   },
   {
    "duration": 15,
    "start_time": "2023-05-14T08:30:51.102Z"
   },
   {
    "duration": 39,
    "start_time": "2023-05-14T08:30:51.119Z"
   },
   {
    "duration": 6,
    "start_time": "2023-05-14T08:30:51.159Z"
   },
   {
    "duration": 12,
    "start_time": "2023-05-14T08:30:51.166Z"
   },
   {
    "duration": 7,
    "start_time": "2023-05-14T08:30:51.180Z"
   },
   {
    "duration": 9,
    "start_time": "2023-05-14T08:30:51.188Z"
   },
   {
    "duration": 12,
    "start_time": "2023-05-14T08:30:51.198Z"
   },
   {
    "duration": 30,
    "start_time": "2023-05-14T08:30:51.212Z"
   },
   {
    "duration": 20,
    "start_time": "2023-05-14T08:30:51.243Z"
   },
   {
    "duration": 33,
    "start_time": "2023-05-14T08:30:51.264Z"
   },
   {
    "duration": 30,
    "start_time": "2023-05-14T08:30:51.299Z"
   },
   {
    "duration": 16,
    "start_time": "2023-05-14T08:30:51.331Z"
   },
   {
    "duration": 10,
    "start_time": "2023-05-14T08:30:51.348Z"
   },
   {
    "duration": 19,
    "start_time": "2023-05-14T08:30:51.359Z"
   },
   {
    "duration": 151,
    "start_time": "2023-05-14T08:30:51.380Z"
   },
   {
    "duration": 14,
    "start_time": "2023-05-14T08:30:51.533Z"
   },
   {
    "duration": 147,
    "start_time": "2023-05-14T08:30:51.551Z"
   },
   {
    "duration": 4,
    "start_time": "2023-05-14T08:30:51.699Z"
   },
   {
    "duration": 26,
    "start_time": "2023-05-14T08:30:51.705Z"
   },
   {
    "duration": 138,
    "start_time": "2023-05-14T08:30:51.732Z"
   },
   {
    "duration": 406,
    "start_time": "2023-05-14T08:30:51.871Z"
   },
   {
    "duration": 211,
    "start_time": "2023-05-14T08:30:52.279Z"
   },
   {
    "duration": 46,
    "start_time": "2023-05-14T08:30:52.492Z"
   },
   {
    "duration": 6,
    "start_time": "2023-05-14T08:30:52.539Z"
   },
   {
    "duration": 16,
    "start_time": "2023-05-14T08:30:52.547Z"
   },
   {
    "duration": 4,
    "start_time": "2023-05-14T08:30:52.565Z"
   },
   {
    "duration": 243,
    "start_time": "2023-05-14T08:30:52.571Z"
   },
   {
    "duration": 17,
    "start_time": "2023-05-14T08:30:52.816Z"
   },
   {
    "duration": 11,
    "start_time": "2023-05-14T08:30:52.835Z"
   },
   {
    "duration": 282,
    "start_time": "2023-05-14T08:30:52.848Z"
   },
   {
    "duration": 207,
    "start_time": "2023-05-14T08:30:53.131Z"
   },
   {
    "duration": 191,
    "start_time": "2023-05-14T08:30:53.340Z"
   },
   {
    "duration": 254,
    "start_time": "2023-05-14T08:30:53.533Z"
   },
   {
    "duration": 20,
    "start_time": "2023-05-14T08:30:53.789Z"
   },
   {
    "duration": 29,
    "start_time": "2023-05-14T08:30:53.825Z"
   },
   {
    "duration": 5,
    "start_time": "2023-05-14T08:37:56.289Z"
   },
   {
    "duration": 6,
    "start_time": "2023-05-14T08:38:44.171Z"
   },
   {
    "duration": 10,
    "start_time": "2023-05-14T08:39:52.151Z"
   },
   {
    "duration": 10,
    "start_time": "2023-05-14T08:40:39.789Z"
   },
   {
    "duration": 6,
    "start_time": "2023-05-14T08:41:29.467Z"
   },
   {
    "duration": 6,
    "start_time": "2023-05-14T08:42:51.255Z"
   },
   {
    "duration": 6,
    "start_time": "2023-05-14T08:43:13.538Z"
   },
   {
    "duration": 6,
    "start_time": "2023-05-14T08:46:01.406Z"
   },
   {
    "duration": 73,
    "start_time": "2023-05-14T08:49:17.590Z"
   },
   {
    "duration": 141,
    "start_time": "2023-05-14T08:50:44.849Z"
   },
   {
    "duration": 17,
    "start_time": "2023-05-14T08:50:44.992Z"
   },
   {
    "duration": 30,
    "start_time": "2023-05-14T08:50:45.011Z"
   },
   {
    "duration": 8,
    "start_time": "2023-05-14T08:50:45.042Z"
   },
   {
    "duration": 29,
    "start_time": "2023-05-14T08:50:45.052Z"
   },
   {
    "duration": 15,
    "start_time": "2023-05-14T08:50:45.082Z"
   },
   {
    "duration": 17,
    "start_time": "2023-05-14T08:50:45.099Z"
   },
   {
    "duration": 15,
    "start_time": "2023-05-14T08:50:45.120Z"
   },
   {
    "duration": 17,
    "start_time": "2023-05-14T08:50:45.136Z"
   },
   {
    "duration": 5,
    "start_time": "2023-05-14T08:50:45.155Z"
   },
   {
    "duration": 124,
    "start_time": "2023-05-14T08:50:45.162Z"
   },
   {
    "duration": 4,
    "start_time": "2023-05-14T08:50:45.288Z"
   },
   {
    "duration": 109,
    "start_time": "2023-05-14T08:50:45.294Z"
   },
   {
    "duration": 12,
    "start_time": "2023-05-14T08:50:45.407Z"
   },
   {
    "duration": 19,
    "start_time": "2023-05-14T08:50:45.424Z"
   },
   {
    "duration": 8,
    "start_time": "2023-05-14T08:50:45.445Z"
   },
   {
    "duration": 8,
    "start_time": "2023-05-14T08:50:45.455Z"
   },
   {
    "duration": 6,
    "start_time": "2023-05-14T08:50:45.465Z"
   },
   {
    "duration": 14,
    "start_time": "2023-05-14T08:50:45.473Z"
   },
   {
    "duration": 53,
    "start_time": "2023-05-14T08:50:45.489Z"
   },
   {
    "duration": 98,
    "start_time": "2023-05-14T08:50:45.544Z"
   },
   {
    "duration": 87,
    "start_time": "2023-05-14T08:50:45.644Z"
   },
   {
    "duration": 16,
    "start_time": "2023-05-14T08:50:45.733Z"
   },
   {
    "duration": 22,
    "start_time": "2023-05-14T08:50:45.751Z"
   },
   {
    "duration": 25,
    "start_time": "2023-05-14T08:50:45.775Z"
   },
   {
    "duration": 24,
    "start_time": "2023-05-14T08:50:45.802Z"
   },
   {
    "duration": 34,
    "start_time": "2023-05-14T08:50:45.828Z"
   },
   {
    "duration": 12,
    "start_time": "2023-05-14T08:50:45.863Z"
   },
   {
    "duration": 8,
    "start_time": "2023-05-14T08:50:45.877Z"
   },
   {
    "duration": 9,
    "start_time": "2023-05-14T08:50:45.888Z"
   },
   {
    "duration": 32,
    "start_time": "2023-05-14T08:50:45.898Z"
   },
   {
    "duration": 26,
    "start_time": "2023-05-14T08:50:45.932Z"
   },
   {
    "duration": 19,
    "start_time": "2023-05-14T08:50:45.960Z"
   },
   {
    "duration": 24,
    "start_time": "2023-05-14T08:50:45.981Z"
   },
   {
    "duration": 9,
    "start_time": "2023-05-14T08:50:46.017Z"
   },
   {
    "duration": 24,
    "start_time": "2023-05-14T08:50:46.028Z"
   },
   {
    "duration": 7,
    "start_time": "2023-05-14T08:50:46.054Z"
   },
   {
    "duration": 8,
    "start_time": "2023-05-14T08:50:46.063Z"
   },
   {
    "duration": 4,
    "start_time": "2023-05-14T08:50:46.072Z"
   },
   {
    "duration": 21,
    "start_time": "2023-05-14T08:50:46.078Z"
   },
   {
    "duration": 41,
    "start_time": "2023-05-14T08:50:46.104Z"
   },
   {
    "duration": 17,
    "start_time": "2023-05-14T08:50:46.147Z"
   },
   {
    "duration": 23,
    "start_time": "2023-05-14T08:50:46.166Z"
   },
   {
    "duration": 7,
    "start_time": "2023-05-14T08:50:46.191Z"
   },
   {
    "duration": 24,
    "start_time": "2023-05-14T08:50:46.200Z"
   },
   {
    "duration": 11,
    "start_time": "2023-05-14T08:50:46.226Z"
   },
   {
    "duration": 175,
    "start_time": "2023-05-14T08:50:46.239Z"
   },
   {
    "duration": 21,
    "start_time": "2023-05-14T08:50:46.416Z"
   },
   {
    "duration": 170,
    "start_time": "2023-05-14T08:50:46.439Z"
   },
   {
    "duration": 8,
    "start_time": "2023-05-14T08:50:46.611Z"
   },
   {
    "duration": 16,
    "start_time": "2023-05-14T08:50:46.621Z"
   },
   {
    "duration": 177,
    "start_time": "2023-05-14T08:50:46.639Z"
   },
   {
    "duration": 338,
    "start_time": "2023-05-14T08:50:46.818Z"
   },
   {
    "duration": 273,
    "start_time": "2023-05-14T08:50:47.157Z"
   },
   {
    "duration": 49,
    "start_time": "2023-05-14T08:50:47.432Z"
   },
   {
    "duration": 8,
    "start_time": "2023-05-14T08:50:47.483Z"
   },
   {
    "duration": 47,
    "start_time": "2023-05-14T08:50:47.493Z"
   },
   {
    "duration": 7,
    "start_time": "2023-05-14T08:50:47.542Z"
   },
   {
    "duration": 241,
    "start_time": "2023-05-14T08:50:47.551Z"
   },
   {
    "duration": 8,
    "start_time": "2023-05-14T08:50:47.794Z"
   },
   {
    "duration": 27,
    "start_time": "2023-05-14T08:50:47.804Z"
   },
   {
    "duration": 299,
    "start_time": "2023-05-14T08:50:47.832Z"
   },
   {
    "duration": 328,
    "start_time": "2023-05-14T08:50:48.135Z"
   },
   {
    "duration": 241,
    "start_time": "2023-05-14T08:50:48.465Z"
   },
   {
    "duration": 249,
    "start_time": "2023-05-14T08:50:48.708Z"
   },
   {
    "duration": 22,
    "start_time": "2023-05-14T08:50:48.958Z"
   },
   {
    "duration": 60,
    "start_time": "2023-05-14T08:50:48.981Z"
   },
   {
    "duration": 14,
    "start_time": "2023-05-14T08:52:58.950Z"
   },
   {
    "duration": 5,
    "start_time": "2023-05-14T08:53:38.398Z"
   },
   {
    "duration": 7,
    "start_time": "2023-05-14T08:55:13.938Z"
   },
   {
    "duration": 7,
    "start_time": "2023-05-14T08:57:06.963Z"
   },
   {
    "duration": 4,
    "start_time": "2023-05-14T08:57:08.385Z"
   },
   {
    "duration": 5,
    "start_time": "2023-05-14T08:57:09.357Z"
   },
   {
    "duration": 130,
    "start_time": "2023-05-14T08:58:07.117Z"
   },
   {
    "duration": 13,
    "start_time": "2023-05-14T08:58:07.249Z"
   },
   {
    "duration": 11,
    "start_time": "2023-05-14T08:58:07.264Z"
   },
   {
    "duration": 15,
    "start_time": "2023-05-14T08:58:07.277Z"
   },
   {
    "duration": 37,
    "start_time": "2023-05-14T08:58:07.294Z"
   },
   {
    "duration": 20,
    "start_time": "2023-05-14T08:58:07.333Z"
   },
   {
    "duration": 36,
    "start_time": "2023-05-14T08:58:07.354Z"
   },
   {
    "duration": 21,
    "start_time": "2023-05-14T08:58:07.392Z"
   },
   {
    "duration": 12,
    "start_time": "2023-05-14T08:58:07.414Z"
   },
   {
    "duration": 13,
    "start_time": "2023-05-14T08:58:07.428Z"
   },
   {
    "duration": 100,
    "start_time": "2023-05-14T08:58:07.442Z"
   },
   {
    "duration": 4,
    "start_time": "2023-05-14T08:58:07.544Z"
   },
   {
    "duration": 15,
    "start_time": "2023-05-14T08:58:07.549Z"
   },
   {
    "duration": 10,
    "start_time": "2023-05-14T08:58:07.566Z"
   },
   {
    "duration": 7,
    "start_time": "2023-05-14T08:58:07.577Z"
   },
   {
    "duration": 9,
    "start_time": "2023-05-14T08:58:07.585Z"
   },
   {
    "duration": 7,
    "start_time": "2023-05-14T08:58:07.595Z"
   },
   {
    "duration": 20,
    "start_time": "2023-05-14T08:58:07.603Z"
   },
   {
    "duration": 23,
    "start_time": "2023-05-14T08:58:07.624Z"
   },
   {
    "duration": 15,
    "start_time": "2023-05-14T08:58:07.648Z"
   },
   {
    "duration": 98,
    "start_time": "2023-05-14T08:58:07.664Z"
   },
   {
    "duration": 11,
    "start_time": "2023-05-14T08:58:07.764Z"
   },
   {
    "duration": 29,
    "start_time": "2023-05-14T08:58:07.777Z"
   },
   {
    "duration": 52,
    "start_time": "2023-05-14T08:58:07.807Z"
   },
   {
    "duration": 4,
    "start_time": "2023-05-14T08:58:07.861Z"
   },
   {
    "duration": 26,
    "start_time": "2023-05-14T08:58:07.867Z"
   },
   {
    "duration": 8,
    "start_time": "2023-05-14T08:58:07.895Z"
   },
   {
    "duration": 6,
    "start_time": "2023-05-14T08:58:07.904Z"
   },
   {
    "duration": 17,
    "start_time": "2023-05-14T08:58:07.911Z"
   },
   {
    "duration": 25,
    "start_time": "2023-05-14T08:58:07.930Z"
   },
   {
    "duration": 26,
    "start_time": "2023-05-14T08:58:07.957Z"
   },
   {
    "duration": 16,
    "start_time": "2023-05-14T08:58:07.985Z"
   },
   {
    "duration": 23,
    "start_time": "2023-05-14T08:58:08.003Z"
   },
   {
    "duration": 5,
    "start_time": "2023-05-14T08:58:08.028Z"
   },
   {
    "duration": 9,
    "start_time": "2023-05-14T08:58:08.035Z"
   },
   {
    "duration": 6,
    "start_time": "2023-05-14T08:58:08.046Z"
   },
   {
    "duration": 16,
    "start_time": "2023-05-14T08:58:08.054Z"
   },
   {
    "duration": 10,
    "start_time": "2023-05-14T08:58:08.072Z"
   },
   {
    "duration": 21,
    "start_time": "2023-05-14T08:58:08.083Z"
   },
   {
    "duration": 26,
    "start_time": "2023-05-14T08:58:08.106Z"
   },
   {
    "duration": 16,
    "start_time": "2023-05-14T08:58:08.137Z"
   },
   {
    "duration": 20,
    "start_time": "2023-05-14T08:58:08.154Z"
   },
   {
    "duration": 11,
    "start_time": "2023-05-14T08:58:08.176Z"
   },
   {
    "duration": 5,
    "start_time": "2023-05-14T08:58:08.188Z"
   },
   {
    "duration": 5,
    "start_time": "2023-05-14T08:58:08.194Z"
   },
   {
    "duration": 164,
    "start_time": "2023-05-14T08:58:08.200Z"
   },
   {
    "duration": 16,
    "start_time": "2023-05-14T08:58:08.365Z"
   },
   {
    "duration": 175,
    "start_time": "2023-05-14T08:58:08.382Z"
   },
   {
    "duration": 3,
    "start_time": "2023-05-14T08:58:08.559Z"
   },
   {
    "duration": 15,
    "start_time": "2023-05-14T08:58:08.564Z"
   },
   {
    "duration": 213,
    "start_time": "2023-05-14T08:58:08.581Z"
   },
   {
    "duration": 354,
    "start_time": "2023-05-14T08:58:08.795Z"
   },
   {
    "duration": 234,
    "start_time": "2023-05-14T08:58:09.150Z"
   },
   {
    "duration": 51,
    "start_time": "2023-05-14T08:58:09.386Z"
   },
   {
    "duration": 7,
    "start_time": "2023-05-14T08:58:09.439Z"
   },
   {
    "duration": 54,
    "start_time": "2023-05-14T08:58:09.448Z"
   },
   {
    "duration": 6,
    "start_time": "2023-05-14T08:58:09.504Z"
   },
   {
    "duration": 224,
    "start_time": "2023-05-14T08:58:09.512Z"
   },
   {
    "duration": 7,
    "start_time": "2023-05-14T08:58:09.738Z"
   },
   {
    "duration": 17,
    "start_time": "2023-05-14T08:58:09.746Z"
   },
   {
    "duration": 277,
    "start_time": "2023-05-14T08:58:09.764Z"
   },
   {
    "duration": 214,
    "start_time": "2023-05-14T08:58:10.043Z"
   },
   {
    "duration": 189,
    "start_time": "2023-05-14T08:58:10.259Z"
   },
   {
    "duration": 217,
    "start_time": "2023-05-14T08:58:10.450Z"
   },
   {
    "duration": 17,
    "start_time": "2023-05-14T08:58:10.669Z"
   },
   {
    "duration": 40,
    "start_time": "2023-05-14T08:58:10.687Z"
   },
   {
    "duration": 11,
    "start_time": "2023-05-14T08:58:59.094Z"
   },
   {
    "duration": 34,
    "start_time": "2023-05-14T09:55:34.109Z"
   },
   {
    "duration": 11,
    "start_time": "2023-05-14T10:00:06.959Z"
   },
   {
    "duration": 10,
    "start_time": "2023-05-14T10:00:21.021Z"
   },
   {
    "duration": 11,
    "start_time": "2023-05-14T10:00:26.518Z"
   },
   {
    "duration": 141,
    "start_time": "2023-05-14T10:01:39.505Z"
   },
   {
    "duration": 21,
    "start_time": "2023-05-14T10:01:39.648Z"
   },
   {
    "duration": 9,
    "start_time": "2023-05-14T10:01:39.671Z"
   },
   {
    "duration": 11,
    "start_time": "2023-05-14T10:01:39.681Z"
   },
   {
    "duration": 32,
    "start_time": "2023-05-14T10:01:39.694Z"
   },
   {
    "duration": 20,
    "start_time": "2023-05-14T10:01:39.727Z"
   },
   {
    "duration": 14,
    "start_time": "2023-05-14T10:01:39.749Z"
   },
   {
    "duration": 10,
    "start_time": "2023-05-14T10:01:39.765Z"
   },
   {
    "duration": 41,
    "start_time": "2023-05-14T10:01:39.776Z"
   },
   {
    "duration": 4,
    "start_time": "2023-05-14T10:01:39.819Z"
   },
   {
    "duration": 139,
    "start_time": "2023-05-14T10:01:39.825Z"
   },
   {
    "duration": 5,
    "start_time": "2023-05-14T10:01:39.966Z"
   },
   {
    "duration": 15,
    "start_time": "2023-05-14T10:01:39.973Z"
   },
   {
    "duration": 25,
    "start_time": "2023-05-14T10:01:39.992Z"
   },
   {
    "duration": 20,
    "start_time": "2023-05-14T10:01:40.020Z"
   },
   {
    "duration": 19,
    "start_time": "2023-05-14T10:01:40.042Z"
   },
   {
    "duration": 17,
    "start_time": "2023-05-14T10:01:40.063Z"
   },
   {
    "duration": 18,
    "start_time": "2023-05-14T10:01:40.081Z"
   },
   {
    "duration": 30,
    "start_time": "2023-05-14T10:01:40.101Z"
   },
   {
    "duration": 113,
    "start_time": "2023-05-14T10:01:40.133Z"
   },
   {
    "duration": 76,
    "start_time": "2023-05-14T10:01:40.248Z"
   },
   {
    "duration": 10,
    "start_time": "2023-05-14T10:01:40.325Z"
   },
   {
    "duration": 43,
    "start_time": "2023-05-14T10:01:40.337Z"
   },
   {
    "duration": 35,
    "start_time": "2023-05-14T10:01:40.381Z"
   },
   {
    "duration": 4,
    "start_time": "2023-05-14T10:01:40.418Z"
   },
   {
    "duration": 31,
    "start_time": "2023-05-14T10:01:40.423Z"
   },
   {
    "duration": 16,
    "start_time": "2023-05-14T10:01:40.455Z"
   },
   {
    "duration": 12,
    "start_time": "2023-05-14T10:01:40.472Z"
   },
   {
    "duration": 34,
    "start_time": "2023-05-14T10:01:40.485Z"
   },
   {
    "duration": 29,
    "start_time": "2023-05-14T10:01:40.521Z"
   },
   {
    "duration": 38,
    "start_time": "2023-05-14T10:01:40.552Z"
   },
   {
    "duration": 35,
    "start_time": "2023-05-14T10:01:40.591Z"
   },
   {
    "duration": 28,
    "start_time": "2023-05-14T10:01:40.628Z"
   },
   {
    "duration": 6,
    "start_time": "2023-05-14T10:01:40.657Z"
   },
   {
    "duration": 9,
    "start_time": "2023-05-14T10:01:40.665Z"
   },
   {
    "duration": 7,
    "start_time": "2023-05-14T10:01:40.677Z"
   },
   {
    "duration": 13,
    "start_time": "2023-05-14T10:01:40.686Z"
   },
   {
    "duration": 3,
    "start_time": "2023-05-14T10:01:40.717Z"
   },
   {
    "duration": 21,
    "start_time": "2023-05-14T10:01:40.722Z"
   },
   {
    "duration": 16,
    "start_time": "2023-05-14T10:01:40.745Z"
   },
   {
    "duration": 21,
    "start_time": "2023-05-14T10:01:40.765Z"
   },
   {
    "duration": 34,
    "start_time": "2023-05-14T10:01:40.790Z"
   },
   {
    "duration": 10,
    "start_time": "2023-05-14T10:01:40.826Z"
   },
   {
    "duration": 14,
    "start_time": "2023-05-14T10:01:40.838Z"
   },
   {
    "duration": 18,
    "start_time": "2023-05-14T10:01:40.853Z"
   },
   {
    "duration": 173,
    "start_time": "2023-05-14T10:01:40.873Z"
   },
   {
    "duration": 16,
    "start_time": "2023-05-14T10:01:41.048Z"
   },
   {
    "duration": 189,
    "start_time": "2023-05-14T10:01:41.065Z"
   },
   {
    "duration": 3,
    "start_time": "2023-05-14T10:01:41.256Z"
   },
   {
    "duration": 14,
    "start_time": "2023-05-14T10:01:41.261Z"
   },
   {
    "duration": 180,
    "start_time": "2023-05-14T10:01:41.277Z"
   },
   {
    "duration": 321,
    "start_time": "2023-05-14T10:01:41.459Z"
   },
   {
    "duration": 237,
    "start_time": "2023-05-14T10:01:41.782Z"
   },
   {
    "duration": 30,
    "start_time": "2023-05-14T10:01:42.021Z"
   },
   {
    "duration": 6,
    "start_time": "2023-05-14T10:01:42.052Z"
   },
   {
    "duration": 22,
    "start_time": "2023-05-14T10:01:42.060Z"
   },
   {
    "duration": 35,
    "start_time": "2023-05-14T10:01:42.084Z"
   },
   {
    "duration": 219,
    "start_time": "2023-05-14T10:01:42.121Z"
   },
   {
    "duration": 6,
    "start_time": "2023-05-14T10:01:42.342Z"
   },
   {
    "duration": 34,
    "start_time": "2023-05-14T10:01:42.350Z"
   },
   {
    "duration": 335,
    "start_time": "2023-05-14T10:01:42.386Z"
   },
   {
    "duration": 209,
    "start_time": "2023-05-14T10:01:42.723Z"
   },
   {
    "duration": 193,
    "start_time": "2023-05-14T10:01:42.934Z"
   },
   {
    "duration": 235,
    "start_time": "2023-05-14T10:01:43.129Z"
   },
   {
    "duration": 29,
    "start_time": "2023-05-14T10:01:43.366Z"
   },
   {
    "duration": 56,
    "start_time": "2023-05-14T10:01:43.397Z"
   },
   {
    "duration": 140,
    "start_time": "2023-05-14T10:03:18.086Z"
   },
   {
    "duration": 19,
    "start_time": "2023-05-14T10:03:18.229Z"
   },
   {
    "duration": 13,
    "start_time": "2023-05-14T10:03:18.250Z"
   },
   {
    "duration": 8,
    "start_time": "2023-05-14T10:03:18.265Z"
   },
   {
    "duration": 19,
    "start_time": "2023-05-14T10:03:18.276Z"
   },
   {
    "duration": 23,
    "start_time": "2023-05-14T10:03:18.318Z"
   },
   {
    "duration": 21,
    "start_time": "2023-05-14T10:03:18.343Z"
   },
   {
    "duration": 16,
    "start_time": "2023-05-14T10:03:18.367Z"
   },
   {
    "duration": 42,
    "start_time": "2023-05-14T10:03:18.385Z"
   },
   {
    "duration": 6,
    "start_time": "2023-05-14T10:03:18.429Z"
   },
   {
    "duration": 126,
    "start_time": "2023-05-14T10:03:18.437Z"
   },
   {
    "duration": 6,
    "start_time": "2023-05-14T10:03:18.565Z"
   },
   {
    "duration": 27,
    "start_time": "2023-05-14T10:03:18.572Z"
   },
   {
    "duration": 16,
    "start_time": "2023-05-14T10:03:18.603Z"
   },
   {
    "duration": 20,
    "start_time": "2023-05-14T10:03:18.621Z"
   },
   {
    "duration": 8,
    "start_time": "2023-05-14T10:03:18.642Z"
   },
   {
    "duration": 14,
    "start_time": "2023-05-14T10:03:18.651Z"
   },
   {
    "duration": 29,
    "start_time": "2023-05-14T10:03:18.667Z"
   },
   {
    "duration": 10,
    "start_time": "2023-05-14T10:03:18.698Z"
   },
   {
    "duration": 26,
    "start_time": "2023-05-14T10:03:18.710Z"
   },
   {
    "duration": 116,
    "start_time": "2023-05-14T10:03:18.738Z"
   },
   {
    "duration": 9,
    "start_time": "2023-05-14T10:03:18.855Z"
   },
   {
    "duration": 35,
    "start_time": "2023-05-14T10:03:18.867Z"
   },
   {
    "duration": 5,
    "start_time": "2023-05-14T10:03:18.918Z"
   },
   {
    "duration": 28,
    "start_time": "2023-05-14T10:03:18.925Z"
   },
   {
    "duration": 9,
    "start_time": "2023-05-14T10:03:18.955Z"
   },
   {
    "duration": 9,
    "start_time": "2023-05-14T10:03:18.965Z"
   },
   {
    "duration": 12,
    "start_time": "2023-05-14T10:03:18.976Z"
   },
   {
    "duration": 29,
    "start_time": "2023-05-14T10:03:18.990Z"
   },
   {
    "duration": 29,
    "start_time": "2023-05-14T10:03:19.021Z"
   },
   {
    "duration": 22,
    "start_time": "2023-05-14T10:03:19.051Z"
   },
   {
    "duration": 27,
    "start_time": "2023-05-14T10:03:19.075Z"
   },
   {
    "duration": 7,
    "start_time": "2023-05-14T10:03:19.117Z"
   },
   {
    "duration": 11,
    "start_time": "2023-05-14T10:03:19.126Z"
   },
   {
    "duration": 13,
    "start_time": "2023-05-14T10:03:19.138Z"
   },
   {
    "duration": 14,
    "start_time": "2023-05-14T10:03:19.154Z"
   },
   {
    "duration": 3,
    "start_time": "2023-05-14T10:03:19.170Z"
   },
   {
    "duration": 46,
    "start_time": "2023-05-14T10:03:19.175Z"
   },
   {
    "duration": 21,
    "start_time": "2023-05-14T10:03:19.223Z"
   },
   {
    "duration": 16,
    "start_time": "2023-05-14T10:03:19.246Z"
   },
   {
    "duration": 47,
    "start_time": "2023-05-14T10:03:19.269Z"
   },
   {
    "duration": 6,
    "start_time": "2023-05-14T10:03:19.319Z"
   },
   {
    "duration": 14,
    "start_time": "2023-05-14T10:03:19.327Z"
   },
   {
    "duration": 4,
    "start_time": "2023-05-14T10:03:19.343Z"
   },
   {
    "duration": 168,
    "start_time": "2023-05-14T10:03:19.349Z"
   },
   {
    "duration": 15,
    "start_time": "2023-05-14T10:03:19.519Z"
   },
   {
    "duration": 244,
    "start_time": "2023-05-14T10:03:19.535Z"
   },
   {
    "duration": 5,
    "start_time": "2023-05-14T10:03:19.781Z"
   },
   {
    "duration": 29,
    "start_time": "2023-05-14T10:03:19.788Z"
   },
   {
    "duration": 225,
    "start_time": "2023-05-14T10:03:19.819Z"
   },
   {
    "duration": 302,
    "start_time": "2023-05-14T10:03:20.046Z"
   },
   {
    "duration": 225,
    "start_time": "2023-05-14T10:03:20.350Z"
   },
   {
    "duration": 45,
    "start_time": "2023-05-14T10:03:20.577Z"
   },
   {
    "duration": 8,
    "start_time": "2023-05-14T10:03:20.624Z"
   },
   {
    "duration": 24,
    "start_time": "2023-05-14T10:03:20.634Z"
   },
   {
    "duration": 5,
    "start_time": "2023-05-14T10:03:20.660Z"
   },
   {
    "duration": 243,
    "start_time": "2023-05-14T10:03:20.666Z"
   },
   {
    "duration": 11,
    "start_time": "2023-05-14T10:03:20.910Z"
   },
   {
    "duration": 23,
    "start_time": "2023-05-14T10:03:20.923Z"
   },
   {
    "duration": 282,
    "start_time": "2023-05-14T10:03:20.947Z"
   },
   {
    "duration": 202,
    "start_time": "2023-05-14T10:03:21.230Z"
   },
   {
    "duration": 189,
    "start_time": "2023-05-14T10:03:21.433Z"
   },
   {
    "duration": 222,
    "start_time": "2023-05-14T10:03:21.623Z"
   },
   {
    "duration": 19,
    "start_time": "2023-05-14T10:03:21.847Z"
   },
   {
    "duration": 57,
    "start_time": "2023-05-14T10:03:21.868Z"
   },
   {
    "duration": 37,
    "start_time": "2023-05-14T10:13:21.147Z"
   },
   {
    "duration": 136,
    "start_time": "2023-05-14T10:21:57.183Z"
   },
   {
    "duration": 15,
    "start_time": "2023-05-14T10:21:57.321Z"
   },
   {
    "duration": 28,
    "start_time": "2023-05-14T10:21:57.338Z"
   },
   {
    "duration": 12,
    "start_time": "2023-05-14T10:21:57.368Z"
   },
   {
    "duration": 34,
    "start_time": "2023-05-14T10:21:57.382Z"
   },
   {
    "duration": 16,
    "start_time": "2023-05-14T10:21:57.417Z"
   },
   {
    "duration": 29,
    "start_time": "2023-05-14T10:21:57.435Z"
   },
   {
    "duration": 11,
    "start_time": "2023-05-14T10:21:57.465Z"
   },
   {
    "duration": 13,
    "start_time": "2023-05-14T10:21:57.477Z"
   },
   {
    "duration": 12,
    "start_time": "2023-05-14T10:21:57.491Z"
   },
   {
    "duration": 105,
    "start_time": "2023-05-14T10:21:57.504Z"
   },
   {
    "duration": 5,
    "start_time": "2023-05-14T10:21:57.618Z"
   },
   {
    "duration": 9,
    "start_time": "2023-05-14T10:21:57.625Z"
   },
   {
    "duration": 100,
    "start_time": "2023-05-14T10:21:57.638Z"
   },
   {
    "duration": 22,
    "start_time": "2023-05-14T10:21:57.740Z"
   },
   {
    "duration": 13,
    "start_time": "2023-05-14T10:21:57.764Z"
   },
   {
    "duration": 43,
    "start_time": "2023-05-14T10:21:57.779Z"
   },
   {
    "duration": 50,
    "start_time": "2023-05-14T10:21:57.824Z"
   },
   {
    "duration": 10,
    "start_time": "2023-05-14T10:21:57.877Z"
   },
   {
    "duration": 46,
    "start_time": "2023-05-14T10:21:57.889Z"
   },
   {
    "duration": 90,
    "start_time": "2023-05-14T10:21:57.938Z"
   },
   {
    "duration": 12,
    "start_time": "2023-05-14T10:21:58.030Z"
   },
   {
    "duration": 35,
    "start_time": "2023-05-14T10:21:58.044Z"
   },
   {
    "duration": 5,
    "start_time": "2023-05-14T10:21:58.081Z"
   },
   {
    "duration": 40,
    "start_time": "2023-05-14T10:21:58.088Z"
   },
   {
    "duration": 11,
    "start_time": "2023-05-14T10:21:58.130Z"
   },
   {
    "duration": 32,
    "start_time": "2023-05-14T10:21:58.143Z"
   },
   {
    "duration": 6,
    "start_time": "2023-05-14T10:21:58.177Z"
   },
   {
    "duration": 33,
    "start_time": "2023-05-14T10:21:58.185Z"
   },
   {
    "duration": 24,
    "start_time": "2023-05-14T10:21:58.220Z"
   },
   {
    "duration": 51,
    "start_time": "2023-05-14T10:21:58.246Z"
   },
   {
    "duration": 24,
    "start_time": "2023-05-14T10:21:58.299Z"
   },
   {
    "duration": 36,
    "start_time": "2023-05-14T10:21:58.325Z"
   },
   {
    "duration": 7,
    "start_time": "2023-05-14T10:21:58.362Z"
   },
   {
    "duration": 14,
    "start_time": "2023-05-14T10:21:58.370Z"
   },
   {
    "duration": 9,
    "start_time": "2023-05-14T10:21:58.386Z"
   },
   {
    "duration": 6,
    "start_time": "2023-05-14T10:21:58.418Z"
   },
   {
    "duration": 2,
    "start_time": "2023-05-14T10:21:58.427Z"
   },
   {
    "duration": 14,
    "start_time": "2023-05-14T10:21:58.431Z"
   },
   {
    "duration": 24,
    "start_time": "2023-05-14T10:21:58.446Z"
   },
   {
    "duration": 13,
    "start_time": "2023-05-14T10:21:58.474Z"
   },
   {
    "duration": 53,
    "start_time": "2023-05-14T10:21:58.490Z"
   },
   {
    "duration": 7,
    "start_time": "2023-05-14T10:21:58.545Z"
   },
   {
    "duration": 16,
    "start_time": "2023-05-14T10:21:58.554Z"
   },
   {
    "duration": 7,
    "start_time": "2023-05-14T10:21:58.571Z"
   },
   {
    "duration": 172,
    "start_time": "2023-05-14T10:21:58.579Z"
   },
   {
    "duration": 21,
    "start_time": "2023-05-14T10:21:58.754Z"
   },
   {
    "duration": 230,
    "start_time": "2023-05-14T10:21:58.777Z"
   },
   {
    "duration": 13,
    "start_time": "2023-05-14T10:21:59.009Z"
   },
   {
    "duration": 32,
    "start_time": "2023-05-14T10:21:59.024Z"
   },
   {
    "duration": 180,
    "start_time": "2023-05-14T10:21:59.058Z"
   },
   {
    "duration": 310,
    "start_time": "2023-05-14T10:21:59.240Z"
   },
   {
    "duration": 228,
    "start_time": "2023-05-14T10:21:59.552Z"
   },
   {
    "duration": 41,
    "start_time": "2023-05-14T10:21:59.782Z"
   },
   {
    "duration": 7,
    "start_time": "2023-05-14T10:21:59.825Z"
   },
   {
    "duration": 32,
    "start_time": "2023-05-14T10:21:59.833Z"
   },
   {
    "duration": 6,
    "start_time": "2023-05-14T10:21:59.867Z"
   },
   {
    "duration": 228,
    "start_time": "2023-05-14T10:21:59.875Z"
   },
   {
    "duration": 16,
    "start_time": "2023-05-14T10:22:00.106Z"
   },
   {
    "duration": 55,
    "start_time": "2023-05-14T10:22:00.124Z"
   },
   {
    "duration": 372,
    "start_time": "2023-05-14T10:22:00.181Z"
   },
   {
    "duration": 217,
    "start_time": "2023-05-14T10:22:00.555Z"
   },
   {
    "duration": 275,
    "start_time": "2023-05-14T10:22:00.773Z"
   },
   {
    "duration": 239,
    "start_time": "2023-05-14T10:22:01.050Z"
   },
   {
    "duration": 29,
    "start_time": "2023-05-14T10:22:01.291Z"
   },
   {
    "duration": 43,
    "start_time": "2023-05-14T10:22:01.322Z"
   },
   {
    "duration": 179,
    "start_time": "2023-05-14T10:28:21.652Z"
   },
   {
    "duration": 29,
    "start_time": "2023-05-14T10:28:34.172Z"
   },
   {
    "duration": 41,
    "start_time": "2023-05-14T10:35:21.882Z"
   },
   {
    "duration": 4,
    "start_time": "2023-05-14T10:35:47.315Z"
   },
   {
    "duration": 44,
    "start_time": "2023-05-14T10:35:50.984Z"
   },
   {
    "duration": 176,
    "start_time": "2023-05-14T10:36:02.012Z"
   },
   {
    "duration": 20,
    "start_time": "2023-05-14T10:36:02.191Z"
   },
   {
    "duration": 33,
    "start_time": "2023-05-14T10:36:02.214Z"
   },
   {
    "duration": 35,
    "start_time": "2023-05-14T10:36:02.250Z"
   },
   {
    "duration": 35,
    "start_time": "2023-05-14T10:36:02.288Z"
   },
   {
    "duration": 62,
    "start_time": "2023-05-14T10:36:02.325Z"
   },
   {
    "duration": 42,
    "start_time": "2023-05-14T10:36:02.389Z"
   },
   {
    "duration": 28,
    "start_time": "2023-05-14T10:36:02.433Z"
   },
   {
    "duration": 66,
    "start_time": "2023-05-14T10:36:02.462Z"
   },
   {
    "duration": 23,
    "start_time": "2023-05-14T10:36:02.530Z"
   },
   {
    "duration": 128,
    "start_time": "2023-05-14T10:36:02.555Z"
   },
   {
    "duration": 5,
    "start_time": "2023-05-14T10:36:02.684Z"
   },
   {
    "duration": 22,
    "start_time": "2023-05-14T10:36:02.691Z"
   },
   {
    "duration": 50,
    "start_time": "2023-05-14T10:36:02.717Z"
   },
   {
    "duration": 23,
    "start_time": "2023-05-14T10:36:02.769Z"
   },
   {
    "duration": 63,
    "start_time": "2023-05-14T10:36:02.793Z"
   },
   {
    "duration": 31,
    "start_time": "2023-05-14T10:36:02.858Z"
   },
   {
    "duration": 39,
    "start_time": "2023-05-14T10:36:02.891Z"
   },
   {
    "duration": 25,
    "start_time": "2023-05-14T10:36:02.932Z"
   },
   {
    "duration": 45,
    "start_time": "2023-05-14T10:36:02.958Z"
   },
   {
    "duration": 93,
    "start_time": "2023-05-14T10:36:03.005Z"
   },
   {
    "duration": 9,
    "start_time": "2023-05-14T10:36:03.100Z"
   },
   {
    "duration": 70,
    "start_time": "2023-05-14T10:36:03.111Z"
   },
   {
    "duration": 5,
    "start_time": "2023-05-14T10:36:03.183Z"
   },
   {
    "duration": 40,
    "start_time": "2023-05-14T10:36:03.190Z"
   },
   {
    "duration": 14,
    "start_time": "2023-05-14T10:36:03.232Z"
   },
   {
    "duration": 58,
    "start_time": "2023-05-14T10:36:03.248Z"
   },
   {
    "duration": 15,
    "start_time": "2023-05-14T10:36:03.308Z"
   },
   {
    "duration": 48,
    "start_time": "2023-05-14T10:36:03.325Z"
   },
   {
    "duration": 16,
    "start_time": "2023-05-14T10:36:03.376Z"
   },
   {
    "duration": 48,
    "start_time": "2023-05-14T10:36:03.393Z"
   },
   {
    "duration": 3,
    "start_time": "2023-05-14T10:36:03.443Z"
   },
   {
    "duration": 32,
    "start_time": "2023-05-14T10:36:03.448Z"
   },
   {
    "duration": 40,
    "start_time": "2023-05-14T10:36:03.482Z"
   },
   {
    "duration": 8,
    "start_time": "2023-05-14T10:36:03.524Z"
   },
   {
    "duration": 30,
    "start_time": "2023-05-14T10:36:03.534Z"
   },
   {
    "duration": 10,
    "start_time": "2023-05-14T10:36:03.565Z"
   },
   {
    "duration": 15,
    "start_time": "2023-05-14T10:36:03.576Z"
   },
   {
    "duration": 14,
    "start_time": "2023-05-14T10:36:03.592Z"
   },
   {
    "duration": 44,
    "start_time": "2023-05-14T10:36:03.608Z"
   },
   {
    "duration": 117,
    "start_time": "2023-05-14T10:36:03.656Z"
   },
   {
    "duration": 24,
    "start_time": "2023-05-14T10:36:03.774Z"
   },
   {
    "duration": 38,
    "start_time": "2023-05-14T10:36:03.800Z"
   },
   {
    "duration": 8,
    "start_time": "2023-05-14T10:36:03.840Z"
   },
   {
    "duration": 8,
    "start_time": "2023-05-14T10:36:03.851Z"
   },
   {
    "duration": 12,
    "start_time": "2023-05-14T10:36:03.861Z"
   },
   {
    "duration": 155,
    "start_time": "2023-05-14T10:36:03.875Z"
   },
   {
    "duration": 15,
    "start_time": "2023-05-14T10:36:04.032Z"
   },
   {
    "duration": 188,
    "start_time": "2023-05-14T10:36:04.049Z"
   },
   {
    "duration": 4,
    "start_time": "2023-05-14T10:36:04.239Z"
   },
   {
    "duration": 28,
    "start_time": "2023-05-14T10:36:04.245Z"
   },
   {
    "duration": 171,
    "start_time": "2023-05-14T10:36:04.274Z"
   },
   {
    "duration": 348,
    "start_time": "2023-05-14T10:36:04.447Z"
   },
   {
    "duration": 255,
    "start_time": "2023-05-14T10:36:04.797Z"
   },
   {
    "duration": 30,
    "start_time": "2023-05-14T10:36:05.054Z"
   },
   {
    "duration": 8,
    "start_time": "2023-05-14T10:36:05.086Z"
   },
   {
    "duration": 52,
    "start_time": "2023-05-14T10:36:05.095Z"
   },
   {
    "duration": 9,
    "start_time": "2023-05-14T10:36:05.149Z"
   },
   {
    "duration": 251,
    "start_time": "2023-05-14T10:36:05.160Z"
   },
   {
    "duration": 7,
    "start_time": "2023-05-14T10:36:05.414Z"
   },
   {
    "duration": 12,
    "start_time": "2023-05-14T10:36:05.423Z"
   },
   {
    "duration": 289,
    "start_time": "2023-05-14T10:36:05.437Z"
   },
   {
    "duration": 203,
    "start_time": "2023-05-14T10:36:05.727Z"
   },
   {
    "duration": 184,
    "start_time": "2023-05-14T10:36:05.932Z"
   },
   {
    "duration": 232,
    "start_time": "2023-05-14T10:36:06.118Z"
   },
   {
    "duration": 19,
    "start_time": "2023-05-14T10:36:06.352Z"
   },
   {
    "duration": 53,
    "start_time": "2023-05-14T10:36:06.373Z"
   },
   {
    "duration": 321,
    "start_time": "2023-05-14T10:44:01.853Z"
   },
   {
    "duration": 447,
    "start_time": "2023-05-14T10:44:03.991Z"
   },
   {
    "duration": 350,
    "start_time": "2023-05-14T10:44:04.549Z"
   },
   {
    "duration": 35,
    "start_time": "2023-05-14T11:06:40.978Z"
   },
   {
    "duration": 171,
    "start_time": "2023-05-14T11:06:43.765Z"
   },
   {
    "duration": 19,
    "start_time": "2023-05-14T11:06:43.939Z"
   },
   {
    "duration": 12,
    "start_time": "2023-05-14T11:06:43.960Z"
   },
   {
    "duration": 7,
    "start_time": "2023-05-14T11:06:43.974Z"
   },
   {
    "duration": 43,
    "start_time": "2023-05-14T11:06:43.984Z"
   },
   {
    "duration": 16,
    "start_time": "2023-05-14T11:06:44.029Z"
   },
   {
    "duration": 23,
    "start_time": "2023-05-14T11:06:44.046Z"
   },
   {
    "duration": 17,
    "start_time": "2023-05-14T11:06:44.071Z"
   },
   {
    "duration": 42,
    "start_time": "2023-05-14T11:06:44.089Z"
   },
   {
    "duration": 6,
    "start_time": "2023-05-14T11:06:44.132Z"
   },
   {
    "duration": 116,
    "start_time": "2023-05-14T11:06:44.140Z"
   },
   {
    "duration": 5,
    "start_time": "2023-05-14T11:06:44.258Z"
   },
   {
    "duration": 11,
    "start_time": "2023-05-14T11:06:44.265Z"
   },
   {
    "duration": 13,
    "start_time": "2023-05-14T11:06:44.281Z"
   },
   {
    "duration": 24,
    "start_time": "2023-05-14T11:06:44.296Z"
   },
   {
    "duration": 8,
    "start_time": "2023-05-14T11:06:44.323Z"
   },
   {
    "duration": 30,
    "start_time": "2023-05-14T11:06:44.333Z"
   },
   {
    "duration": 25,
    "start_time": "2023-05-14T11:06:44.365Z"
   },
   {
    "duration": 11,
    "start_time": "2023-05-14T11:06:44.392Z"
   },
   {
    "duration": 30,
    "start_time": "2023-05-14T11:06:44.404Z"
   },
   {
    "duration": 123,
    "start_time": "2023-05-14T11:06:44.436Z"
   },
   {
    "duration": 13,
    "start_time": "2023-05-14T11:06:44.562Z"
   },
   {
    "duration": 69,
    "start_time": "2023-05-14T11:06:44.577Z"
   },
   {
    "duration": 5,
    "start_time": "2023-05-14T11:06:44.649Z"
   },
   {
    "duration": 69,
    "start_time": "2023-05-14T11:06:44.656Z"
   },
   {
    "duration": 14,
    "start_time": "2023-05-14T11:06:44.727Z"
   },
   {
    "duration": 69,
    "start_time": "2023-05-14T11:06:44.743Z"
   },
   {
    "duration": 8,
    "start_time": "2023-05-14T11:06:44.814Z"
   },
   {
    "duration": 57,
    "start_time": "2023-05-14T11:06:44.824Z"
   },
   {
    "duration": 25,
    "start_time": "2023-05-14T11:06:44.883Z"
   },
   {
    "duration": 38,
    "start_time": "2023-05-14T11:06:44.910Z"
   },
   {
    "duration": 12,
    "start_time": "2023-05-14T11:06:44.950Z"
   },
   {
    "duration": 20,
    "start_time": "2023-05-14T11:06:44.963Z"
   },
   {
    "duration": 46,
    "start_time": "2023-05-14T11:06:44.984Z"
   },
   {
    "duration": 10,
    "start_time": "2023-05-14T11:06:45.032Z"
   },
   {
    "duration": 10,
    "start_time": "2023-05-14T11:06:45.044Z"
   },
   {
    "duration": 16,
    "start_time": "2023-05-14T11:06:45.057Z"
   },
   {
    "duration": 9,
    "start_time": "2023-05-14T11:06:45.074Z"
   },
   {
    "duration": 14,
    "start_time": "2023-05-14T11:06:45.084Z"
   },
   {
    "duration": 26,
    "start_time": "2023-05-14T11:06:45.099Z"
   },
   {
    "duration": 13,
    "start_time": "2023-05-14T11:06:45.129Z"
   },
   {
    "duration": 26,
    "start_time": "2023-05-14T11:06:45.144Z"
   },
   {
    "duration": 32,
    "start_time": "2023-05-14T11:06:45.172Z"
   },
   {
    "duration": 9,
    "start_time": "2023-05-14T11:06:45.218Z"
   },
   {
    "duration": 9,
    "start_time": "2023-05-14T11:06:45.229Z"
   },
   {
    "duration": 9,
    "start_time": "2023-05-14T11:06:45.240Z"
   },
   {
    "duration": 177,
    "start_time": "2023-05-14T11:06:45.251Z"
   },
   {
    "duration": 18,
    "start_time": "2023-05-14T11:06:45.430Z"
   },
   {
    "duration": 179,
    "start_time": "2023-05-14T11:06:45.449Z"
   },
   {
    "duration": 6,
    "start_time": "2023-05-14T11:06:45.630Z"
   },
   {
    "duration": 22,
    "start_time": "2023-05-14T11:06:45.638Z"
   },
   {
    "duration": 258,
    "start_time": "2023-05-14T11:06:45.662Z"
   },
   {
    "duration": 341,
    "start_time": "2023-05-14T11:06:45.922Z"
   },
   {
    "duration": 255,
    "start_time": "2023-05-14T11:06:46.265Z"
   },
   {
    "duration": 30,
    "start_time": "2023-05-14T11:06:46.522Z"
   },
   {
    "duration": 9,
    "start_time": "2023-05-14T11:06:46.554Z"
   },
   {
    "duration": 51,
    "start_time": "2023-05-14T11:06:46.565Z"
   },
   {
    "duration": 20,
    "start_time": "2023-05-14T11:06:46.618Z"
   },
   {
    "duration": 245,
    "start_time": "2023-05-14T11:06:46.640Z"
   },
   {
    "duration": 7,
    "start_time": "2023-05-14T11:06:46.887Z"
   },
   {
    "duration": 17,
    "start_time": "2023-05-14T11:06:46.895Z"
   },
   {
    "duration": 289,
    "start_time": "2023-05-14T11:06:46.918Z"
   },
   {
    "duration": 216,
    "start_time": "2023-05-14T11:06:47.209Z"
   },
   {
    "duration": 195,
    "start_time": "2023-05-14T11:06:47.427Z"
   },
   {
    "duration": 266,
    "start_time": "2023-05-14T11:06:47.624Z"
   },
   {
    "duration": 35,
    "start_time": "2023-05-14T11:06:47.892Z"
   },
   {
    "duration": 36,
    "start_time": "2023-05-14T11:06:47.929Z"
   },
   {
    "duration": 7,
    "start_time": "2023-05-14T11:08:03.546Z"
   },
   {
    "duration": 212,
    "start_time": "2023-05-14T11:21:26.582Z"
   },
   {
    "duration": 19,
    "start_time": "2023-05-14T11:22:42.250Z"
   }
  ],
  "colab": {
   "name": "DA+. Сборный проект 1. Шаблон (1).ipynb",
   "provenance": []
  },
  "kernelspec": {
   "display_name": "Python 3 (ipykernel)",
   "language": "python",
   "name": "python3"
  },
  "language_info": {
   "codemirror_mode": {
    "name": "ipython",
    "version": 3
   },
   "file_extension": ".py",
   "mimetype": "text/x-python",
   "name": "python",
   "nbconvert_exporter": "python",
   "pygments_lexer": "ipython3",
   "version": "3.9.5"
  },
  "toc": {
   "base_numbering": 1,
   "nav_menu": {},
   "number_sections": true,
   "sideBar": true,
   "skip_h1_title": true,
   "title_cell": "Table of Contents",
   "title_sidebar": "Contents",
   "toc_cell": false,
   "toc_position": {
    "height": "calc(100% - 180px)",
    "left": "10px",
    "top": "150px",
    "width": "375.391px"
   },
   "toc_section_display": true,
   "toc_window_display": false
  }
 },
 "nbformat": 4,
 "nbformat_minor": 1
}
